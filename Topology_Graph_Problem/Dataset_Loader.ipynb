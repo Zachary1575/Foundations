{
 "cells": [
  {
   "cell_type": "markdown",
   "id": "96bab614-b6bd-48cd-85be-73af77a2c411",
   "metadata": {},
   "source": [
    "## Data Loader for various Benchmark Dataset"
   ]
  },
  {
   "cell_type": "markdown",
   "id": "64f55d6d-b08b-43b8-8c6a-1522df710137",
   "metadata": {},
   "source": [
    "Credit to Chau (BU from Prof.Chin Lab who is at Dartmouth now)"
   ]
  },
  {
   "cell_type": "code",
   "execution_count": null,
   "id": "b69db4ee-de52-4afc-b240-c3f8d8347d72",
   "metadata": {},
   "outputs": [],
   "source": []
  },
  {
   "cell_type": "code",
   "execution_count": null,
   "id": "a58b761e-eb8f-4833-b081-3fa072d08a84",
   "metadata": {},
   "outputs": [],
   "source": [
    "PD_Diagrams = {}"
   ]
  },
  {
   "cell_type": "code",
   "execution_count": null,
   "id": "b9123fbc-6ac5-48da-82b6-928476410153",
   "metadata": {},
   "outputs": [],
   "source": []
  },
  {
   "cell_type": "code",
   "execution_count": null,
   "id": "48e78958-8438-4d84-adac-0592401470f2",
   "metadata": {},
   "outputs": [],
   "source": []
  },
  {
   "cell_type": "code",
   "execution_count": null,
   "id": "ab7791b0-f3fa-4955-95da-b1a666742ee7",
   "metadata": {},
   "outputs": [],
   "source": []
  },
  {
   "cell_type": "code",
   "execution_count": null,
   "id": "48f60cc0-73f6-46d6-ba80-a0d6295eee34",
   "metadata": {},
   "outputs": [],
   "source": []
  },
  {
   "cell_type": "code",
   "execution_count": null,
   "id": "d452186d-27a2-430b-acfa-79e554ec9e00",
   "metadata": {},
   "outputs": [],
   "source": []
  },
  {
   "cell_type": "code",
   "execution_count": null,
   "id": "eb6fdb25-7af6-4a12-a65a-27e805b90f1a",
   "metadata": {},
   "outputs": [],
   "source": []
  },
  {
   "cell_type": "code",
   "execution_count": null,
   "id": "547600f1-5000-4a2a-baec-5972473bcc75",
   "metadata": {},
   "outputs": [],
   "source": []
  },
  {
   "cell_type": "code",
   "execution_count": null,
   "id": "60117a12-e995-4ef1-9e11-a31d4ac28a7e",
   "metadata": {},
   "outputs": [],
   "source": []
  },
  {
   "cell_type": "code",
   "execution_count": null,
   "id": "f23c8f7e-0f6b-403d-b8f1-38e4d808ac4c",
   "metadata": {},
   "outputs": [],
   "source": []
  },
  {
   "cell_type": "code",
   "execution_count": null,
   "id": "20eda4b5-8566-45fa-9a6f-120ea32a2573",
   "metadata": {},
   "outputs": [],
   "source": []
  }
 ],
 "metadata": {
  "kernelspec": {
   "display_name": "Python 3 (ipykernel)",
   "language": "python",
   "name": "python3"
  },
  "language_info": {
   "codemirror_mode": {
    "name": "ipython",
    "version": 3
   },
   "file_extension": ".py",
   "mimetype": "text/x-python",
   "name": "python",
   "nbconvert_exporter": "python",
   "pygments_lexer": "ipython3",
   "version": "3.9.18"
  }
 },
 "nbformat": 4,
 "nbformat_minor": 5
}
