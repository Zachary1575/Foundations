{
 "cells": [
  {
   "cell_type": "code",
   "execution_count": 1,
   "id": "7a053241",
   "metadata": {},
   "outputs": [],
   "source": [
    "# Regular Funcs\n",
    "import os\n",
    "import cv2\n",
    "import glob\n",
    "import shutil\n",
    "import random\n",
    "\n",
    "import pandas as pd\n",
    "import pathlib\n",
    "import numpy as np\n",
    "import matplotlib.pyplot as plt\n",
    "from PIL import Image as ImagePIL\n",
    "import plotly.express as px\n",
    "import plotly.graph_objects as go\n",
    "\n",
    "from numpy.random import randint\n",
    "from sklearn.model_selection import train_test_split"
   ]
  },
  {
   "cell_type": "code",
   "execution_count": 2,
   "id": "3e1d2047",
   "metadata": {},
   "outputs": [],
   "source": [
    "# Statistics\n",
    "from scipy import stats\n",
    "from scipy import integrate"
   ]
  },
  {
   "cell_type": "code",
   "execution_count": 3,
   "id": "1165b6c6",
   "metadata": {},
   "outputs": [],
   "source": [
    "# Custom Funcs\n",
    "from Unpack_Scaffold_Data import readAndOutputDataset, curveVisualization"
   ]
  },
  {
   "cell_type": "code",
   "execution_count": 4,
   "id": "ef6c8ab1",
   "metadata": {},
   "outputs": [
    {
     "name": "stderr",
     "output_type": "stream",
     "text": [
      "/Users/zacharyg/miniconda3/envs/research/lib/python3.8/site-packages/tqdm/auto.py:21: TqdmWarning: IProgress not found. Please update jupyter and ipywidgets. See https://ipywidgets.readthedocs.io/en/stable/user_install.html\n",
      "  from .autonotebook import tqdm as notebook_tqdm\n"
     ]
    }
   ],
   "source": [
    "# Here we use CT-GAN\n",
    "from ctgan import CTGAN"
   ]
  },
  {
   "cell_type": "markdown",
   "id": "f0f6b507-f8c2-4a92-acd3-28a2dde4bb81",
   "metadata": {},
   "source": [
    "# Data Read Utility [Deprecated]"
   ]
  },
  {
   "cell_type": "code",
   "execution_count": 5,
   "id": "524b036a",
   "metadata": {},
   "outputs": [],
   "source": [
    "# curve_path = \"/Users/zacharyg/Documents/GitHub/fundemental-neural-nets/GANS/Scaffold_GAN/scaffold_dataset_WU_LAB/Prints\"\n",
    "modulus_path = \"/Users/zacharyg/Documents/GitHub/fundemental-neural-nets/GANS/Scaffold_GAN/scaffold_dataset_WU_LAB/Prints/modulus_data_types.csv\""
   ]
  },
  {
   "cell_type": "code",
   "execution_count": 7,
   "id": "33c6312e",
   "metadata": {},
   "outputs": [],
   "source": [
    "# X, y, y_df, file_order = readAndOutputDataset(curve_path, modulus_path, reverse=True);"
   ]
  },
  {
   "cell_type": "code",
   "execution_count": 8,
   "id": "d8816dd6",
   "metadata": {},
   "outputs": [],
   "source": [
    "# # Sanity Check\n",
    "# X = X[:675]\n",
    "# print(\"X SHAPE:\", X.shape);\n",
    "# print(\"y SHAPE:\", y.shape);\n",
    "# print()"
   ]
  },
  {
   "cell_type": "markdown",
   "id": "f7d55474-1efb-494a-93fc-4d3b489f2ed9",
   "metadata": {},
   "source": [
    "# Data Read Utility"
   ]
  },
  {
   "cell_type": "code",
   "execution_count": 9,
   "id": "4b77a883",
   "metadata": {},
   "outputs": [],
   "source": [
    "df = pd.read_csv(modulus_path)"
   ]
  },
  {
   "cell_type": "code",
   "execution_count": 11,
   "id": "e0da44b3-d7bc-47c9-afa7-de2565035480",
   "metadata": {},
   "outputs": [
    {
     "data": {
      "text/plain": [
       "#                int64\n",
       "Spacing        float64\n",
       "Infill           int64\n",
       "Height         float64\n",
       "Speed            int64\n",
       "Temperature      int64\n",
       "Mass           float64\n",
       "Porosity       float64\n",
       "modulus        float64\n",
       "energy         float64\n",
       "dtype: object"
      ]
     },
     "execution_count": 11,
     "metadata": {},
     "output_type": "execute_result"
    }
   ],
   "source": [
    "df.dtypes"
   ]
  },
  {
   "cell_type": "code",
   "execution_count": 10,
   "id": "fc396299-b858-4b8e-b5a8-009c091d8e9a",
   "metadata": {},
   "outputs": [
    {
     "data": {
      "text/html": [
       "<div>\n",
       "<style scoped>\n",
       "    .dataframe tbody tr th:only-of-type {\n",
       "        vertical-align: middle;\n",
       "    }\n",
       "\n",
       "    .dataframe tbody tr th {\n",
       "        vertical-align: top;\n",
       "    }\n",
       "\n",
       "    .dataframe thead th {\n",
       "        text-align: right;\n",
       "    }\n",
       "</style>\n",
       "<table border=\"1\" class=\"dataframe\">\n",
       "  <thead>\n",
       "    <tr style=\"text-align: right;\">\n",
       "      <th></th>\n",
       "      <th>#</th>\n",
       "      <th>Spacing</th>\n",
       "      <th>Infill</th>\n",
       "      <th>Height</th>\n",
       "      <th>Speed</th>\n",
       "      <th>Temperature</th>\n",
       "      <th>Mass</th>\n",
       "      <th>Porosity</th>\n",
       "      <th>modulus</th>\n",
       "      <th>energy</th>\n",
       "    </tr>\n",
       "  </thead>\n",
       "  <tbody>\n",
       "    <tr>\n",
       "      <th>0</th>\n",
       "      <td>1</td>\n",
       "      <td>0.8</td>\n",
       "      <td>1</td>\n",
       "      <td>0.1</td>\n",
       "      <td>30</td>\n",
       "      <td>190</td>\n",
       "      <td>0.394</td>\n",
       "      <td>0.6848</td>\n",
       "      <td>352.618</td>\n",
       "      <td>6.508</td>\n",
       "    </tr>\n",
       "    <tr>\n",
       "      <th>1</th>\n",
       "      <td>2</td>\n",
       "      <td>0.9</td>\n",
       "      <td>1</td>\n",
       "      <td>0.1</td>\n",
       "      <td>30</td>\n",
       "      <td>190</td>\n",
       "      <td>0.334</td>\n",
       "      <td>0.7328</td>\n",
       "      <td>293.703</td>\n",
       "      <td>4.389</td>\n",
       "    </tr>\n",
       "    <tr>\n",
       "      <th>2</th>\n",
       "      <td>3</td>\n",
       "      <td>1.0</td>\n",
       "      <td>1</td>\n",
       "      <td>0.1</td>\n",
       "      <td>30</td>\n",
       "      <td>190</td>\n",
       "      <td>0.308</td>\n",
       "      <td>0.7536</td>\n",
       "      <td>289.218</td>\n",
       "      <td>2.777</td>\n",
       "    </tr>\n",
       "    <tr>\n",
       "      <th>3</th>\n",
       "      <td>4</td>\n",
       "      <td>1.1</td>\n",
       "      <td>1</td>\n",
       "      <td>0.1</td>\n",
       "      <td>30</td>\n",
       "      <td>190</td>\n",
       "      <td>0.286</td>\n",
       "      <td>0.7712</td>\n",
       "      <td>250.046</td>\n",
       "      <td>2.426</td>\n",
       "    </tr>\n",
       "    <tr>\n",
       "      <th>4</th>\n",
       "      <td>5</td>\n",
       "      <td>1.2</td>\n",
       "      <td>1</td>\n",
       "      <td>0.1</td>\n",
       "      <td>30</td>\n",
       "      <td>190</td>\n",
       "      <td>0.259</td>\n",
       "      <td>0.7928</td>\n",
       "      <td>220.376</td>\n",
       "      <td>2.489</td>\n",
       "    </tr>\n",
       "    <tr>\n",
       "      <th>...</th>\n",
       "      <td>...</td>\n",
       "      <td>...</td>\n",
       "      <td>...</td>\n",
       "      <td>...</td>\n",
       "      <td>...</td>\n",
       "      <td>...</td>\n",
       "      <td>...</td>\n",
       "      <td>...</td>\n",
       "      <td>...</td>\n",
       "      <td>...</td>\n",
       "    </tr>\n",
       "    <tr>\n",
       "      <th>670</th>\n",
       "      <td>671</td>\n",
       "      <td>0.8</td>\n",
       "      <td>3</td>\n",
       "      <td>0.2</td>\n",
       "      <td>50</td>\n",
       "      <td>230</td>\n",
       "      <td>0.428</td>\n",
       "      <td>0.6576</td>\n",
       "      <td>140.994</td>\n",
       "      <td>6.091</td>\n",
       "    </tr>\n",
       "    <tr>\n",
       "      <th>671</th>\n",
       "      <td>672</td>\n",
       "      <td>0.9</td>\n",
       "      <td>3</td>\n",
       "      <td>0.2</td>\n",
       "      <td>50</td>\n",
       "      <td>230</td>\n",
       "      <td>0.341</td>\n",
       "      <td>0.7272</td>\n",
       "      <td>82.783</td>\n",
       "      <td>3.632</td>\n",
       "    </tr>\n",
       "    <tr>\n",
       "      <th>672</th>\n",
       "      <td>673</td>\n",
       "      <td>1.0</td>\n",
       "      <td>3</td>\n",
       "      <td>0.2</td>\n",
       "      <td>50</td>\n",
       "      <td>230</td>\n",
       "      <td>0.290</td>\n",
       "      <td>0.7680</td>\n",
       "      <td>45.778</td>\n",
       "      <td>2.649</td>\n",
       "    </tr>\n",
       "    <tr>\n",
       "      <th>673</th>\n",
       "      <td>674</td>\n",
       "      <td>1.1</td>\n",
       "      <td>3</td>\n",
       "      <td>0.2</td>\n",
       "      <td>50</td>\n",
       "      <td>230</td>\n",
       "      <td>0.292</td>\n",
       "      <td>0.7664</td>\n",
       "      <td>65.640</td>\n",
       "      <td>2.521</td>\n",
       "    </tr>\n",
       "    <tr>\n",
       "      <th>674</th>\n",
       "      <td>675</td>\n",
       "      <td>1.2</td>\n",
       "      <td>3</td>\n",
       "      <td>0.2</td>\n",
       "      <td>50</td>\n",
       "      <td>230</td>\n",
       "      <td>0.244</td>\n",
       "      <td>0.8048</td>\n",
       "      <td>30.309</td>\n",
       "      <td>1.471</td>\n",
       "    </tr>\n",
       "  </tbody>\n",
       "</table>\n",
       "<p>675 rows × 10 columns</p>\n",
       "</div>"
      ],
      "text/plain": [
       "       #  Spacing  Infill  Height  Speed  Temperature   Mass  Porosity  \\\n",
       "0      1      0.8       1     0.1     30          190  0.394    0.6848   \n",
       "1      2      0.9       1     0.1     30          190  0.334    0.7328   \n",
       "2      3      1.0       1     0.1     30          190  0.308    0.7536   \n",
       "3      4      1.1       1     0.1     30          190  0.286    0.7712   \n",
       "4      5      1.2       1     0.1     30          190  0.259    0.7928   \n",
       "..   ...      ...     ...     ...    ...          ...    ...       ...   \n",
       "670  671      0.8       3     0.2     50          230  0.428    0.6576   \n",
       "671  672      0.9       3     0.2     50          230  0.341    0.7272   \n",
       "672  673      1.0       3     0.2     50          230  0.290    0.7680   \n",
       "673  674      1.1       3     0.2     50          230  0.292    0.7664   \n",
       "674  675      1.2       3     0.2     50          230  0.244    0.8048   \n",
       "\n",
       "     modulus  energy  \n",
       "0    352.618   6.508  \n",
       "1    293.703   4.389  \n",
       "2    289.218   2.777  \n",
       "3    250.046   2.426  \n",
       "4    220.376   2.489  \n",
       "..       ...     ...  \n",
       "670  140.994   6.091  \n",
       "671   82.783   3.632  \n",
       "672   45.778   2.649  \n",
       "673   65.640   2.521  \n",
       "674   30.309   1.471  \n",
       "\n",
       "[675 rows x 10 columns]"
      ]
     },
     "execution_count": 10,
     "metadata": {},
     "output_type": "execute_result"
    }
   ],
   "source": [
    "df"
   ]
  },
  {
   "cell_type": "markdown",
   "id": "d869e6d8-a173-4d11-8790-1a0c8073f1b4",
   "metadata": {},
   "source": [
    "# Data Cleaning & Split by Infill"
   ]
  },
  {
   "cell_type": "code",
   "execution_count": 12,
   "id": "aac21dc9-8c8c-4195-96f5-aa5e69002601",
   "metadata": {},
   "outputs": [],
   "source": [
    "df = df.drop(columns={'#'})"
   ]
  },
  {
   "cell_type": "code",
   "execution_count": 13,
   "id": "7bf046c3-d5ef-43f1-aab8-299de8b9f4ee",
   "metadata": {},
   "outputs": [
    {
     "data": {
      "text/html": [
       "<div>\n",
       "<style scoped>\n",
       "    .dataframe tbody tr th:only-of-type {\n",
       "        vertical-align: middle;\n",
       "    }\n",
       "\n",
       "    .dataframe tbody tr th {\n",
       "        vertical-align: top;\n",
       "    }\n",
       "\n",
       "    .dataframe thead th {\n",
       "        text-align: right;\n",
       "    }\n",
       "</style>\n",
       "<table border=\"1\" class=\"dataframe\">\n",
       "  <thead>\n",
       "    <tr style=\"text-align: right;\">\n",
       "      <th></th>\n",
       "      <th>Spacing</th>\n",
       "      <th>Infill</th>\n",
       "      <th>Height</th>\n",
       "      <th>Speed</th>\n",
       "      <th>Temperature</th>\n",
       "      <th>Mass</th>\n",
       "      <th>Porosity</th>\n",
       "      <th>modulus</th>\n",
       "      <th>energy</th>\n",
       "    </tr>\n",
       "  </thead>\n",
       "  <tbody>\n",
       "    <tr>\n",
       "      <th>0</th>\n",
       "      <td>0.8</td>\n",
       "      <td>1</td>\n",
       "      <td>0.1</td>\n",
       "      <td>30</td>\n",
       "      <td>190</td>\n",
       "      <td>0.394</td>\n",
       "      <td>0.6848</td>\n",
       "      <td>352.618</td>\n",
       "      <td>6.508</td>\n",
       "    </tr>\n",
       "    <tr>\n",
       "      <th>1</th>\n",
       "      <td>0.9</td>\n",
       "      <td>1</td>\n",
       "      <td>0.1</td>\n",
       "      <td>30</td>\n",
       "      <td>190</td>\n",
       "      <td>0.334</td>\n",
       "      <td>0.7328</td>\n",
       "      <td>293.703</td>\n",
       "      <td>4.389</td>\n",
       "    </tr>\n",
       "    <tr>\n",
       "      <th>2</th>\n",
       "      <td>1.0</td>\n",
       "      <td>1</td>\n",
       "      <td>0.1</td>\n",
       "      <td>30</td>\n",
       "      <td>190</td>\n",
       "      <td>0.308</td>\n",
       "      <td>0.7536</td>\n",
       "      <td>289.218</td>\n",
       "      <td>2.777</td>\n",
       "    </tr>\n",
       "    <tr>\n",
       "      <th>3</th>\n",
       "      <td>1.1</td>\n",
       "      <td>1</td>\n",
       "      <td>0.1</td>\n",
       "      <td>30</td>\n",
       "      <td>190</td>\n",
       "      <td>0.286</td>\n",
       "      <td>0.7712</td>\n",
       "      <td>250.046</td>\n",
       "      <td>2.426</td>\n",
       "    </tr>\n",
       "    <tr>\n",
       "      <th>4</th>\n",
       "      <td>1.2</td>\n",
       "      <td>1</td>\n",
       "      <td>0.1</td>\n",
       "      <td>30</td>\n",
       "      <td>190</td>\n",
       "      <td>0.259</td>\n",
       "      <td>0.7928</td>\n",
       "      <td>220.376</td>\n",
       "      <td>2.489</td>\n",
       "    </tr>\n",
       "    <tr>\n",
       "      <th>...</th>\n",
       "      <td>...</td>\n",
       "      <td>...</td>\n",
       "      <td>...</td>\n",
       "      <td>...</td>\n",
       "      <td>...</td>\n",
       "      <td>...</td>\n",
       "      <td>...</td>\n",
       "      <td>...</td>\n",
       "      <td>...</td>\n",
       "    </tr>\n",
       "    <tr>\n",
       "      <th>670</th>\n",
       "      <td>0.8</td>\n",
       "      <td>3</td>\n",
       "      <td>0.2</td>\n",
       "      <td>50</td>\n",
       "      <td>230</td>\n",
       "      <td>0.428</td>\n",
       "      <td>0.6576</td>\n",
       "      <td>140.994</td>\n",
       "      <td>6.091</td>\n",
       "    </tr>\n",
       "    <tr>\n",
       "      <th>671</th>\n",
       "      <td>0.9</td>\n",
       "      <td>3</td>\n",
       "      <td>0.2</td>\n",
       "      <td>50</td>\n",
       "      <td>230</td>\n",
       "      <td>0.341</td>\n",
       "      <td>0.7272</td>\n",
       "      <td>82.783</td>\n",
       "      <td>3.632</td>\n",
       "    </tr>\n",
       "    <tr>\n",
       "      <th>672</th>\n",
       "      <td>1.0</td>\n",
       "      <td>3</td>\n",
       "      <td>0.2</td>\n",
       "      <td>50</td>\n",
       "      <td>230</td>\n",
       "      <td>0.290</td>\n",
       "      <td>0.7680</td>\n",
       "      <td>45.778</td>\n",
       "      <td>2.649</td>\n",
       "    </tr>\n",
       "    <tr>\n",
       "      <th>673</th>\n",
       "      <td>1.1</td>\n",
       "      <td>3</td>\n",
       "      <td>0.2</td>\n",
       "      <td>50</td>\n",
       "      <td>230</td>\n",
       "      <td>0.292</td>\n",
       "      <td>0.7664</td>\n",
       "      <td>65.640</td>\n",
       "      <td>2.521</td>\n",
       "    </tr>\n",
       "    <tr>\n",
       "      <th>674</th>\n",
       "      <td>1.2</td>\n",
       "      <td>3</td>\n",
       "      <td>0.2</td>\n",
       "      <td>50</td>\n",
       "      <td>230</td>\n",
       "      <td>0.244</td>\n",
       "      <td>0.8048</td>\n",
       "      <td>30.309</td>\n",
       "      <td>1.471</td>\n",
       "    </tr>\n",
       "  </tbody>\n",
       "</table>\n",
       "<p>675 rows × 9 columns</p>\n",
       "</div>"
      ],
      "text/plain": [
       "     Spacing  Infill  Height  Speed  Temperature   Mass  Porosity  modulus  \\\n",
       "0        0.8       1     0.1     30          190  0.394    0.6848  352.618   \n",
       "1        0.9       1     0.1     30          190  0.334    0.7328  293.703   \n",
       "2        1.0       1     0.1     30          190  0.308    0.7536  289.218   \n",
       "3        1.1       1     0.1     30          190  0.286    0.7712  250.046   \n",
       "4        1.2       1     0.1     30          190  0.259    0.7928  220.376   \n",
       "..       ...     ...     ...    ...          ...    ...       ...      ...   \n",
       "670      0.8       3     0.2     50          230  0.428    0.6576  140.994   \n",
       "671      0.9       3     0.2     50          230  0.341    0.7272   82.783   \n",
       "672      1.0       3     0.2     50          230  0.290    0.7680   45.778   \n",
       "673      1.1       3     0.2     50          230  0.292    0.7664   65.640   \n",
       "674      1.2       3     0.2     50          230  0.244    0.8048   30.309   \n",
       "\n",
       "     energy  \n",
       "0     6.508  \n",
       "1     4.389  \n",
       "2     2.777  \n",
       "3     2.426  \n",
       "4     2.489  \n",
       "..      ...  \n",
       "670   6.091  \n",
       "671   3.632  \n",
       "672   2.649  \n",
       "673   2.521  \n",
       "674   1.471  \n",
       "\n",
       "[675 rows x 9 columns]"
      ]
     },
     "execution_count": 13,
     "metadata": {},
     "output_type": "execute_result"
    }
   ],
   "source": [
    "df"
   ]
  },
  {
   "cell_type": "code",
   "execution_count": 28,
   "id": "fbbb6c04-3432-4226-92ac-ea493ed28d4d",
   "metadata": {},
   "outputs": [],
   "source": [
    "Line_Data = df[df['Infill'] == 1]\n",
    "Cubic_Data = df[df['Infill'] == 2]\n",
    "Gyroid_Data = df[df['Infill'] == 3]"
   ]
  },
  {
   "cell_type": "code",
   "execution_count": 47,
   "id": "8f81d588-1620-42f3-b548-b4b2448104ff",
   "metadata": {},
   "outputs": [
    {
     "name": "stdout",
     "output_type": "stream",
     "text": [
      "     Spacing  Infill  Height  Speed  Temperature   Mass  Porosity  modulus  \\\n",
      "0        0.8       1     0.1     30          190  0.394    0.6848  352.618   \n",
      "1        0.9       1     0.1     30          190  0.334    0.7328  293.703   \n",
      "2        1.0       1     0.1     30          190  0.308    0.7536  289.218   \n",
      "3        1.1       1     0.1     30          190  0.286    0.7712  250.046   \n",
      "4        1.2       1     0.1     30          190  0.259    0.7928  220.376   \n",
      "..       ...     ...     ...    ...          ...    ...       ...      ...   \n",
      "660      0.8       1     0.2     50          230  0.411    0.6712  189.363   \n",
      "661      0.9       1     0.2     50          230  0.340    0.7280  145.936   \n",
      "662      1.0       1     0.2     50          230  0.323    0.7416  190.453   \n",
      "663      1.1       1     0.2     50          230  0.292    0.7664  116.739   \n",
      "664      1.2       1     0.2     50          230  0.259    0.7928   85.371   \n",
      "\n",
      "     energy  \n",
      "0     6.508  \n",
      "1     4.389  \n",
      "2     2.777  \n",
      "3     2.426  \n",
      "4     2.489  \n",
      "..      ...  \n",
      "660   4.916  \n",
      "661   2.784  \n",
      "662   2.834  \n",
      "663   1.923  \n",
      "664   1.391  \n",
      "\n",
      "[225 rows x 9 columns]\n"
     ]
    }
   ],
   "source": [
    "print(Line_Data)"
   ]
  },
  {
   "cell_type": "markdown",
   "id": "791e7aa1-b0c3-4e6f-b3ee-ce0fc446aaf3",
   "metadata": {},
   "source": [
    "# Data Division based on Infill Type"
   ]
  },
  {
   "cell_type": "code",
   "execution_count": 38,
   "id": "9b1c75f2-1120-43f8-9e7a-3dc4b61beed1",
   "metadata": {},
   "outputs": [
    {
     "name": "stdout",
     "output_type": "stream",
     "text": [
      "(225, 6)\n",
      "(225, 6)\n",
      "(225, 6)\n"
     ]
    }
   ],
   "source": [
    "def organizeParameters(df):\n",
    "    \"\"\"\n",
    "    Desc\n",
    "    \"\"\"\n",
    "    Spacing = df['Spacing'].to_numpy().reshape((-1, 1));\n",
    "    Height = df['Height'].to_numpy().reshape((-1, 1));\n",
    "    Speed = df['Speed'].to_numpy().reshape((-1, 1));\n",
    "    Temp = df['Temperature'].to_numpy().reshape((-1, 1));\n",
    "    Porosity = df['Porosity'].to_numpy().reshape((-1, 1));\n",
    "    Modulus = df['modulus'].to_numpy().reshape((-1, 1));\n",
    "    \n",
    "    cut_params = np.concatenate((\n",
    "        Spacing, \n",
    "        Height,\n",
    "        Speed,\n",
    "        Temp,\n",
    "        Porosity,\n",
    "        Modulus\n",
    "    ), axis=1);\n",
    "    \n",
    "    return cut_params;\n",
    "\n",
    "\n",
    "X_Line = organizeParameters(Line_Data);\n",
    "X_Cubic = organizeParameters(Cubic_Data);\n",
    "X_Gyroid = organizeParameters(Gyroid_Data);\n",
    "\n",
    "# Sanity Check\n",
    "print(X_Line.shape)\n",
    "print(X_Cubic.shape)\n",
    "print(X_Gyroid.shape)"
   ]
  },
  {
   "cell_type": "code",
   "execution_count": 46,
   "id": "b9a9427c-3860-440e-be4b-1224a81ab3fa",
   "metadata": {},
   "outputs": [
    {
     "name": "stdout",
     "output_type": "stream",
     "text": [
      "[[8.00000e-01 1.00000e-01 3.00000e+01 1.90000e+02 6.84800e-01 3.52618e+02]\n",
      " [9.00000e-01 1.00000e-01 3.00000e+01 1.90000e+02 7.32800e-01 2.93703e+02]\n",
      " [1.00000e+00 1.00000e-01 3.00000e+01 1.90000e+02 7.53600e-01 2.89218e+02]\n",
      " ...\n",
      " [1.00000e+00 2.00000e-01 5.00000e+01 2.30000e+02 7.41600e-01 1.90453e+02]\n",
      " [1.10000e+00 2.00000e-01 5.00000e+01 2.30000e+02 7.66400e-01 1.16739e+02]\n",
      " [1.20000e+00 2.00000e-01 5.00000e+01 2.30000e+02 7.92800e-01 8.53710e+01]]\n"
     ]
    }
   ],
   "source": [
    "print(X_Line)"
   ]
  },
  {
   "cell_type": "markdown",
   "id": "bf8d3231-a811-4b9f-861b-9656aa5cef6a",
   "metadata": {},
   "source": [
    "# Plotting Utility"
   ]
  },
  {
   "cell_type": "code",
   "execution_count": 40,
   "id": "83a9dfe3-607a-4e8e-b731-cb5d2f51f45b",
   "metadata": {},
   "outputs": [],
   "source": [
    "# 675 Stress-Strain Curve Domain\n",
    "feature_domain_675 = list(range(675 + 1));\n",
    "feature_domain_675.pop(0) \n",
    "feature_domain_675 = np.repeat(feature_domain_675, 4, axis=0) # Changed to 4"
   ]
  },
  {
   "cell_type": "code",
   "execution_count": 41,
   "id": "7026ef2e-bc83-41ab-816c-1b51bb253248",
   "metadata": {},
   "outputs": [],
   "source": [
    "feature_domain_8 = list(range(8 + 1));\n",
    "feature_domain_8.pop(0);\n",
    "feature_domain_8_rep = list(np.arange(1,9))*675"
   ]
  },
  {
   "cell_type": "code",
   "execution_count": 48,
   "id": "ab161b76-6a48-45f3-98b3-5c8802fd8cd0",
   "metadata": {},
   "outputs": [],
   "source": [
    "feature_domain_6 = list(range(6 + 1));\n",
    "feature_domain_6.pop(0);\n",
    "feature_domain_6_rep = list(np.arange(1,7))*675"
   ]
  },
  {
   "cell_type": "code",
   "execution_count": 49,
   "id": "12cff0de-3475-4077-97be-141408318ec0",
   "metadata": {},
   "outputs": [],
   "source": [
    "feature_domain_7 = list(range(7 + 1));\n",
    "feature_domain_7.pop(0);\n",
    "feature_domain_7_rep = list(np.arange(1,8))*675"
   ]
  },
  {
   "cell_type": "code",
   "execution_count": 50,
   "id": "2227ba07-9441-44e3-99a1-a7732763899f",
   "metadata": {},
   "outputs": [],
   "source": [
    "feature_domain_5 = list(range(5 + 1));\n",
    "feature_domain_5.pop(0);\n",
    "feature_domain_5_rep = list(np.arange(1,6)) * 675"
   ]
  },
  {
   "cell_type": "code",
   "execution_count": 51,
   "id": "22e8bd2f-f6b7-44b1-990b-700450facb38",
   "metadata": {},
   "outputs": [],
   "source": [
    "feature_domain_4 = list(range(4 + 1));\n",
    "feature_domain_4.pop(0);\n",
    "feature_domain_4_rep = list(np.arange(1,5)) * 675"
   ]
  },
  {
   "cell_type": "code",
   "execution_count": 52,
   "id": "c98fc7f3-f064-42ae-8340-fd2013e4322b",
   "metadata": {},
   "outputs": [],
   "source": [
    "feature_domain_2 = list(range(2 + 1));\n",
    "feature_domain_2.pop(0);\n",
    "feature_domain_2_rep = list(np.arange(1,3)) * 675"
   ]
  },
  {
   "cell_type": "markdown",
   "id": "31bb8cd1-cb28-4ffa-b59c-b820348f1a01",
   "metadata": {},
   "source": [
    "# Plotting"
   ]
  },
  {
   "cell_type": "markdown",
   "id": "27cf36d5-ffa7-4038-98cb-c1765f1bf769",
   "metadata": {},
   "source": [
    "$$\n",
    "d_n = \\{\\text{Print Spacing}, \\text{Print Height}, \\text{Print Speed}, \\text{Temperature}, \\text{Porosity}, \\text{Modulus}\\}\n",
    "$$"
   ]
  },
  {
   "cell_type": "code",
   "execution_count": 55,
   "id": "292b6852-8104-4ec0-beac-42fa8aa4c917",
   "metadata": {},
   "outputs": [],
   "source": [
    "# Single Lines Chart (DISTRIBUTION)\n",
    "fig_k = px.line(\n",
    "    x=feature_domain_6, \n",
    "    y=X_Line[200],\n",
    "    title=\"Single Parameter Curve\",\n",
    "    labels={\"x\": \"Parameters\", \"y\":\"Normalized values (Divided by Max)\"}\n",
    ")\n",
    "\n",
    "fig_k.show(renderer=\"browser\")\n",
    "\n",
    "\n",
    "# Multiple Lines Chart (DISTRIBUTION)\n",
    "fig = go.Figure()\n",
    "\n",
    "for line in range(len(X_Cubic)):\n",
    "    data = X_Line[line];\n",
    "    fig.add_trace(go.Scatter(x=feature_domain_6, y=data))\n",
    "\n",
    "fig.show(renderer=\"browser\")"
   ]
  },
  {
   "cell_type": "markdown",
   "id": "ef8187fe-51f5-4699-b290-e5ac24f5c80e",
   "metadata": {},
   "source": [
    "# CT-GAN"
   ]
  },
  {
   "cell_type": "code",
   "execution_count": 56,
   "id": "3fef8629-d050-436d-94ef-5424819a4edf",
   "metadata": {},
   "outputs": [],
   "source": [
    "from ctgan import CTGAN"
   ]
  },
  {
   "cell_type": "code",
   "execution_count": 57,
   "id": "37aab454-b822-4daa-9a0e-f7126f208b02",
   "metadata": {},
   "outputs": [
    {
     "name": "stdout",
     "output_type": "stream",
     "text": [
      "[[8.00000e-01 1.00000e-01 3.00000e+01 1.90000e+02 6.84800e-01 3.52618e+02]\n",
      " [9.00000e-01 1.00000e-01 3.00000e+01 1.90000e+02 7.32800e-01 2.93703e+02]\n",
      " [1.00000e+00 1.00000e-01 3.00000e+01 1.90000e+02 7.53600e-01 2.89218e+02]\n",
      " ...\n",
      " [1.00000e+00 2.00000e-01 5.00000e+01 2.30000e+02 7.41600e-01 1.90453e+02]\n",
      " [1.10000e+00 2.00000e-01 5.00000e+01 2.30000e+02 7.66400e-01 1.16739e+02]\n",
      " [1.20000e+00 2.00000e-01 5.00000e+01 2.30000e+02 7.92800e-01 8.53710e+01]]\n",
      "\n",
      "Cubic Data Shape: (225, 6)\n"
     ]
    }
   ],
   "source": [
    "print(X_Line)\n",
    "print()\n",
    "print(f\"Cubic Data Shape: {X_Line.shape}\")"
   ]
  },
  {
   "cell_type": "code",
   "execution_count": 105,
   "id": "fedd14f3-1517-4d58-852f-99ecd9f95ef6",
   "metadata": {},
   "outputs": [],
   "source": [
    "ctgan = CTGAN(epochs=3000)\n",
    "ctgan.fit(X_Line)"
   ]
  },
  {
   "cell_type": "code",
   "execution_count": 106,
   "id": "c1949be8-01b2-466a-bde0-e159b74b9567",
   "metadata": {},
   "outputs": [
    {
     "name": "stdout",
     "output_type": "stream",
     "text": [
      "[[  1.01584566   0.09711968  47.20473563 210.4711714    0.81247938\n",
      "  109.64446467]\n",
      " [  0.99676652   0.19636219  30.98799951 208.60043122   0.77598757\n",
      "  142.57913151]\n",
      " [  0.91269227   0.19873429  44.79128152 210.59396678   0.72977478\n",
      "  206.49374541]\n",
      " ...\n",
      " [  0.89323216   0.19772272  49.69868665 230.70998219   0.7424008\n",
      "   87.89866846]\n",
      " [  0.85122686   0.09811258  39.7735343  189.02359136   0.76373146\n",
      "  248.32588235]\n",
      " [  1.0952708    0.09807815  49.27103072 189.62038875   0.77127323\n",
      "  272.29094848]]\n"
     ]
    }
   ],
   "source": [
    "n = 10000\n",
    "synthetic_data = ctgan.sample(n)\n",
    "fig_k = go.Figure()\n",
    "\n",
    "for line in range(len(synthetic_data)):\n",
    "    data = synthetic_data[line];\n",
    "    fig_k.add_trace(go.Scatter(x=feature_domain_7, y=data))\n",
    "    \n",
    "fig_k.show(renderer=\"browser\")\n",
    "    \n",
    "print(synthetic_data)"
   ]
  },
  {
   "cell_type": "code",
   "execution_count": 107,
   "id": "051a6faf-e5c4-4ffd-841f-9101f26dbf34",
   "metadata": {},
   "outputs": [],
   "source": [
    "Infill_Type = \"Line\""
   ]
  },
  {
   "cell_type": "code",
   "execution_count": 108,
   "id": "cbf59bd3-c091-466f-8991-09471798ba01",
   "metadata": {},
   "outputs": [],
   "source": [
    "result = np.around(synthetic_data, decimals=2)"
   ]
  },
  {
   "cell_type": "code",
   "execution_count": 109,
   "id": "2b20ab23-8fae-4420-94fa-748f31ec90db",
   "metadata": {},
   "outputs": [],
   "source": [
    "np.set_printoptions(suppress=True)"
   ]
  },
  {
   "cell_type": "code",
   "execution_count": 110,
   "id": "d8fc26f4-6bb0-491a-8411-86c8fd90f470",
   "metadata": {},
   "outputs": [
    {
     "name": "stdout",
     "output_type": "stream",
     "text": [
      "[[  1.02   0.1   47.2  210.47   0.81 109.64]\n",
      " [  1.     0.2   30.99 208.6    0.78 142.58]\n",
      " [  0.91   0.2   44.79 210.59   0.73 206.49]\n",
      " ...\n",
      " [  0.89   0.2   49.7  230.71   0.74  87.9 ]\n",
      " [  0.85   0.1   39.77 189.02   0.76 248.33]\n",
      " [  1.1    0.1   49.27 189.62   0.77 272.29]]\n"
     ]
    }
   ],
   "source": [
    "print(result)"
   ]
  },
  {
   "cell_type": "markdown",
   "id": "58d3694c-a17d-441f-b797-3ee4d87e0bc5",
   "metadata": {},
   "source": [
    "$$\n",
    "d_n = \\{\\text{Print Spacing}, \\text{Print Height}, \\text{Print Speed}, \\text{Temperature}, \\text{Porosity}, \\text{Modulus}\\}\n",
    "$$"
   ]
  },
  {
   "cell_type": "code",
   "execution_count": 111,
   "id": "70dbcb0b-0c16-4716-ad5e-a2960f089b08",
   "metadata": {},
   "outputs": [
    {
     "data": {
      "text/html": [
       "<div>\n",
       "<style scoped>\n",
       "    .dataframe tbody tr th:only-of-type {\n",
       "        vertical-align: middle;\n",
       "    }\n",
       "\n",
       "    .dataframe tbody tr th {\n",
       "        vertical-align: top;\n",
       "    }\n",
       "\n",
       "    .dataframe thead th {\n",
       "        text-align: right;\n",
       "    }\n",
       "</style>\n",
       "<table border=\"1\" class=\"dataframe\">\n",
       "  <thead>\n",
       "    <tr style=\"text-align: right;\">\n",
       "      <th></th>\n",
       "      <th>Line_Distance</th>\n",
       "      <th>Line_Height</th>\n",
       "      <th>Print_Speed</th>\n",
       "      <th>Print_Temperature</th>\n",
       "      <th>Porosity</th>\n",
       "      <th>Modulus</th>\n",
       "      <th>Infill_Type</th>\n",
       "    </tr>\n",
       "  </thead>\n",
       "  <tbody>\n",
       "    <tr>\n",
       "      <th>0</th>\n",
       "      <td>1.02</td>\n",
       "      <td>0.10</td>\n",
       "      <td>47.20</td>\n",
       "      <td>210.47</td>\n",
       "      <td>0.81</td>\n",
       "      <td>109.64</td>\n",
       "      <td>Line</td>\n",
       "    </tr>\n",
       "    <tr>\n",
       "      <th>1</th>\n",
       "      <td>1.00</td>\n",
       "      <td>0.20</td>\n",
       "      <td>30.99</td>\n",
       "      <td>208.60</td>\n",
       "      <td>0.78</td>\n",
       "      <td>142.58</td>\n",
       "      <td>Line</td>\n",
       "    </tr>\n",
       "    <tr>\n",
       "      <th>2</th>\n",
       "      <td>0.91</td>\n",
       "      <td>0.20</td>\n",
       "      <td>44.79</td>\n",
       "      <td>210.59</td>\n",
       "      <td>0.73</td>\n",
       "      <td>206.49</td>\n",
       "      <td>Line</td>\n",
       "    </tr>\n",
       "    <tr>\n",
       "      <th>3</th>\n",
       "      <td>1.00</td>\n",
       "      <td>0.19</td>\n",
       "      <td>45.58</td>\n",
       "      <td>232.04</td>\n",
       "      <td>0.75</td>\n",
       "      <td>110.84</td>\n",
       "      <td>Line</td>\n",
       "    </tr>\n",
       "    <tr>\n",
       "      <th>4</th>\n",
       "      <td>1.15</td>\n",
       "      <td>0.19</td>\n",
       "      <td>50.12</td>\n",
       "      <td>209.71</td>\n",
       "      <td>0.84</td>\n",
       "      <td>109.40</td>\n",
       "      <td>Line</td>\n",
       "    </tr>\n",
       "    <tr>\n",
       "      <th>...</th>\n",
       "      <td>...</td>\n",
       "      <td>...</td>\n",
       "      <td>...</td>\n",
       "      <td>...</td>\n",
       "      <td>...</td>\n",
       "      <td>...</td>\n",
       "      <td>...</td>\n",
       "    </tr>\n",
       "    <tr>\n",
       "      <th>9995</th>\n",
       "      <td>1.15</td>\n",
       "      <td>0.20</td>\n",
       "      <td>49.96</td>\n",
       "      <td>230.97</td>\n",
       "      <td>0.74</td>\n",
       "      <td>119.67</td>\n",
       "      <td>Line</td>\n",
       "    </tr>\n",
       "    <tr>\n",
       "      <th>9996</th>\n",
       "      <td>1.19</td>\n",
       "      <td>0.20</td>\n",
       "      <td>30.37</td>\n",
       "      <td>230.38</td>\n",
       "      <td>0.79</td>\n",
       "      <td>55.79</td>\n",
       "      <td>Line</td>\n",
       "    </tr>\n",
       "    <tr>\n",
       "      <th>9997</th>\n",
       "      <td>0.89</td>\n",
       "      <td>0.20</td>\n",
       "      <td>49.70</td>\n",
       "      <td>230.71</td>\n",
       "      <td>0.74</td>\n",
       "      <td>87.90</td>\n",
       "      <td>Line</td>\n",
       "    </tr>\n",
       "    <tr>\n",
       "      <th>9998</th>\n",
       "      <td>0.85</td>\n",
       "      <td>0.10</td>\n",
       "      <td>39.77</td>\n",
       "      <td>189.02</td>\n",
       "      <td>0.76</td>\n",
       "      <td>248.33</td>\n",
       "      <td>Line</td>\n",
       "    </tr>\n",
       "    <tr>\n",
       "      <th>9999</th>\n",
       "      <td>1.10</td>\n",
       "      <td>0.10</td>\n",
       "      <td>49.27</td>\n",
       "      <td>189.62</td>\n",
       "      <td>0.77</td>\n",
       "      <td>272.29</td>\n",
       "      <td>Line</td>\n",
       "    </tr>\n",
       "  </tbody>\n",
       "</table>\n",
       "<p>10000 rows × 7 columns</p>\n",
       "</div>"
      ],
      "text/plain": [
       "      Line_Distance  Line_Height  Print_Speed  Print_Temperature  Porosity  \\\n",
       "0              1.02         0.10        47.20             210.47      0.81   \n",
       "1              1.00         0.20        30.99             208.60      0.78   \n",
       "2              0.91         0.20        44.79             210.59      0.73   \n",
       "3              1.00         0.19        45.58             232.04      0.75   \n",
       "4              1.15         0.19        50.12             209.71      0.84   \n",
       "...             ...          ...          ...                ...       ...   \n",
       "9995           1.15         0.20        49.96             230.97      0.74   \n",
       "9996           1.19         0.20        30.37             230.38      0.79   \n",
       "9997           0.89         0.20        49.70             230.71      0.74   \n",
       "9998           0.85         0.10        39.77             189.02      0.76   \n",
       "9999           1.10         0.10        49.27             189.62      0.77   \n",
       "\n",
       "      Modulus Infill_Type  \n",
       "0      109.64        Line  \n",
       "1      142.58        Line  \n",
       "2      206.49        Line  \n",
       "3      110.84        Line  \n",
       "4      109.40        Line  \n",
       "...       ...         ...  \n",
       "9995   119.67        Line  \n",
       "9996    55.79        Line  \n",
       "9997    87.90        Line  \n",
       "9998   248.33        Line  \n",
       "9999   272.29        Line  \n",
       "\n",
       "[10000 rows x 7 columns]"
      ]
     },
     "execution_count": 111,
     "metadata": {},
     "output_type": "execute_result"
    }
   ],
   "source": [
    "data = {\n",
    "    'Line_Distance': result.T[0],\n",
    "    'Line_Height': result.T[1],\n",
    "    'Print_Speed': result.T[2],\n",
    "    'Print_Temperature': result.T[3],\n",
    "    'Porosity' : result.T[4],\n",
    "    'Modulus' : result.T[5],\n",
    "    'Infill_Type': [f\"{Infill_Type}\"] * n\n",
    "}\n",
    "\n",
    "df = pd.DataFrame(data)\n",
    "\n",
    "df"
   ]
  },
  {
   "cell_type": "code",
   "execution_count": 112,
   "id": "7a70f458-af3b-4dad-a1cb-c1c7504ff1bd",
   "metadata": {},
   "outputs": [],
   "source": [
    "df.to_csv(f\"/Users/zacharyg/Documents/GitHub/fundemental-neural-nets/GANS/Scaffold_GAN/Synthetic_Data/{Infill_Type}.csv\")"
   ]
  },
  {
   "cell_type": "code",
   "execution_count": null,
   "id": "d8e8a470-f8c3-466c-bc0a-392d3f19f7a1",
   "metadata": {},
   "outputs": [],
   "source": []
  }
 ],
 "metadata": {
  "kernelspec": {
   "display_name": "Python 3 (ipykernel)",
   "language": "python",
   "name": "python3"
  },
  "language_info": {
   "codemirror_mode": {
    "name": "ipython",
    "version": 3
   },
   "file_extension": ".py",
   "mimetype": "text/x-python",
   "name": "python",
   "nbconvert_exporter": "python",
   "pygments_lexer": "ipython3",
   "version": "3.8.15"
  }
 },
 "nbformat": 4,
 "nbformat_minor": 5
}
