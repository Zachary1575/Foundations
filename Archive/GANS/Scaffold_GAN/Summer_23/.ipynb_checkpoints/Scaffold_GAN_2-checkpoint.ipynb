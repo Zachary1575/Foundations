{
 "cells": [
  {
   "cell_type": "code",
   "execution_count": 1,
   "id": "e2f6a9ca",
   "metadata": {},
   "outputs": [],
   "source": [
    "# Regular Funcs\n",
    "import os\n",
    "import cv2\n",
    "import glob\n",
    "import shutil\n",
    "import random\n",
    "\n",
    "import pandas as pd\n",
    "import pathlib\n",
    "import numpy as np\n",
    "import nibabel as nib\n",
    "import matplotlib.pyplot as plt\n",
    "from PIL import Image as ImagePIL\n",
    "import plotly.express as px\n",
    "import plotly.graph_objects as go\n",
    "\n",
    "from numpy.random import randint\n",
    "from sklearn.model_selection import train_test_split"
   ]
  },
  {
   "cell_type": "code",
   "execution_count": 2,
   "id": "623bd458",
   "metadata": {},
   "outputs": [],
   "source": [
    "# Statistics\n",
    "from scipy import stats\n",
    "from scipy import integrate"
   ]
  },
  {
   "cell_type": "code",
   "execution_count": 3,
   "id": "d98676dd",
   "metadata": {},
   "outputs": [
    {
     "name": "stderr",
     "output_type": "stream",
     "text": [
      "2023-07-25 11:40:23.416484: I tensorflow/core/platform/cpu_feature_guard.cc:193] This TensorFlow binary is optimized with oneAPI Deep Neural Network Library (oneDNN) to use the following CPU instructions in performance-critical operations:  SSE4.1 SSE4.2\n",
      "To enable them in other operations, rebuild TensorFlow with the appropriate compiler flags.\n"
     ]
    }
   ],
   "source": [
    "# Tensorflow\n",
    "import tensorflow as tf\n",
    "from tensorflow.keras.models import Sequential\n",
    "\n",
    "from keras.optimizers import Adam\n",
    "from keras.layers import Dense\n",
    "from keras.layers import Conv2D\n",
    "from keras.layers import Dropout\n",
    "from keras.layers import LeakyReLU\n",
    "from keras.utils.vis_utils import plot_model\n",
    "from keras.layers import Conv2DTranspose\n",
    "from keras.layers import Reshape\n",
    "from keras import backend\n",
    "\n",
    "from keras.layers import BatchNormalization\n",
    "from keras.initializers import RandomNormal\n",
    "from keras.constraints import Constraint"
   ]
  },
  {
   "cell_type": "code",
   "execution_count": 4,
   "id": "95c72792",
   "metadata": {},
   "outputs": [],
   "source": [
    "# Custom Funcs\n",
    "from Unpack_Scaffold_Data import readAndOutputDataset, curveVisualization"
   ]
  },
  {
   "cell_type": "markdown",
   "id": "37cc1aff",
   "metadata": {},
   "source": [
    "# Data Read Utility"
   ]
  },
  {
   "cell_type": "code",
   "execution_count": 5,
   "id": "96b4b33c",
   "metadata": {},
   "outputs": [],
   "source": [
    "curve_path = \"/Users/zacharyg/Documents/GitHub/fundemental-neural-nets/GANS/Scaffold_GAN/scaffold_dataset_WU_LAB/Prints\"\n",
    "modulus_path = \"/Users/zacharyg/Documents/GitHub/fundemental-neural-nets/GANS/Scaffold_GAN/scaffold_dataset_WU_LAB/Prints/modulus_data_types.csv\""
   ]
  },
  {
   "cell_type": "code",
   "execution_count": 6,
   "id": "08e90761",
   "metadata": {},
   "outputs": [
    {
     "name": "stdout",
     "output_type": "stream",
     "text": [
      "DOC COUNT: 675\n",
      "Operation Finished.\n",
      "\n",
      "     Index     Modulus  Spacing  Infill  Height  Speed  Temperature   Mass  \\\n",
      "0        1  358.528888      0.8       1     0.1     30          190  0.394   \n",
      "1        2  301.639039      0.9       1     0.1     30          190  0.334   \n",
      "2        3  292.501492      1.0       1     0.1     30          190  0.308   \n",
      "3        4  258.539802      1.1       1     0.1     30          190  0.286   \n",
      "4        5  238.213024      1.2       1     0.1     30          190  0.259   \n",
      "..     ...         ...      ...     ...     ...    ...          ...    ...   \n",
      "670    671  151.559731      0.8       3     0.2     50          230  0.428   \n",
      "671    672   85.074096      0.9       3     0.2     50          230  0.341   \n",
      "672    673   52.285252      1.0       3     0.2     50          230  0.290   \n",
      "673    674   70.811230      1.1       3     0.2     50          230  0.292   \n",
      "674    675   36.627466      1.2       3     0.2     50          230  0.244   \n",
      "\n",
      "     Porosity    Type  \n",
      "0      0.6848    Line  \n",
      "1      0.7328    Line  \n",
      "2      0.7536    Line  \n",
      "3      0.7712    Line  \n",
      "4      0.7928    Line  \n",
      "..        ...     ...  \n",
      "670    0.6576  Gyroid  \n",
      "671    0.7272  Gyroid  \n",
      "672    0.7680  Gyroid  \n",
      "673    0.7664  Gyroid  \n",
      "674    0.8048  Gyroid  \n",
      "\n",
      "[675 rows x 10 columns]\n",
      "Operation Finished.\n",
      "\n"
     ]
    }
   ],
   "source": [
    "X, y, y_df, file_order = readAndOutputDataset(curve_path, modulus_path, reverse=True);"
   ]
  },
  {
   "cell_type": "code",
   "execution_count": 7,
   "id": "d09eb474",
   "metadata": {},
   "outputs": [
    {
     "name": "stdout",
     "output_type": "stream",
     "text": [
      "X SHAPE: (675, 2, 1803)\n",
      "y SHAPE: (675, 10)\n",
      "\n"
     ]
    }
   ],
   "source": [
    "# Sanity Check\n",
    "print(\"X SHAPE:\", X.shape);\n",
    "print(\"y SHAPE:\", y.shape);\n",
    "print();\n",
    "\n",
    "\n",
    "# Visualization\n",
    "# curveVisualization(X, y, file_order);"
   ]
  },
  {
   "cell_type": "markdown",
   "id": "15e8ec86",
   "metadata": {},
   "source": [
    "# Utility"
   ]
  },
  {
   "cell_type": "code",
   "execution_count": 8,
   "id": "1c54a1d3",
   "metadata": {},
   "outputs": [],
   "source": [
    "def transposeStressData(X_Data):\n",
    "    X = [];\n",
    "    \n",
    "    for data in X_Data:\n",
    "        X.append(data.T);\n",
    "        \n",
    "    return np.array(X);\n",
    "\n",
    "def normalizeStressStrain(x):\n",
    "    for curve_index in range(len(x)):\n",
    "        curve = x[curve_index];\n",
    "        \n",
    "        max_stress_val = np.max(curve[0]);\n",
    "        max_strain_val = np.max(curve[1]);\n",
    "        \n",
    "        curve[0] = curve[0] / max_stress_val;\n",
    "        curve[1] = curve[1] / max_strain_val;\n",
    "        \n",
    "    return x;\n",
    "\n",
    "def normalize(x):\n",
    "    \"\"\"\n",
    "    Normalize a list of sample image data in the range of 0 to 1\n",
    "    \n",
    "    Parameters\n",
    "    -----------------\n",
    "    x: Array of Homogenous (RGB) values of input data \n",
    "    \n",
    "    Returns\n",
    "    -----------------\n",
    "    new_imgs: (numpy integer array) Numpy array of normalized data\n",
    "    \"\"\"\n",
    "    return np.array((x - np.min(x)) / (np.max(x) - np.min(x)))\n",
    "\n",
    "def stringtoCategorical(y):    \n",
    "    data = [];\n",
    "    \n",
    "    for type_index in range(len(y)):\n",
    "        wrd = y[type_index];\n",
    "        encoding = 0.0;\n",
    "        \n",
    "        if (wrd == \"Cubic\"):\n",
    "            encoding = 1.0;\n",
    "        elif (wrd == \"Gyroid\"):\n",
    "            encoding = 2.0;\n",
    "            \n",
    "        data.append([encoding]);\n",
    "        \n",
    "    return np.array(data);"
   ]
  },
  {
   "cell_type": "markdown",
   "id": "9addb4ab",
   "metadata": {},
   "source": [
    "# Process Parameter Stripping"
   ]
  },
  {
   "cell_type": "code",
   "execution_count": 9,
   "id": "87933ffa",
   "metadata": {},
   "outputs": [],
   "source": [
    "def parameterStrip(y):\n",
    "    y_t = y.T;\n",
    "    \n",
    "    Index = y_t[0];\n",
    "    Modulus = y_t[1];\n",
    "    Spacing = y_t[2];\n",
    "    Infill = y_t[3];\n",
    "    Height = y_t[4];\n",
    "    Speed = y_t[5];\n",
    "    Temp = y_t[6];\n",
    "    Mass = y_t[7];\n",
    "    Porosity = y_t[8];\n",
    "    Type = y_t[9];\n",
    "    return Index, Modulus, Spacing, Infill, Height, Speed, Temp, Mass, Porosity, Type\n",
    "\n",
    "Index, Modulus, Spacing, Infill, Height, Speed, Temp, Mass, Porosity, Type = parameterStrip(y);\n",
    "\n",
    "def parameterStripInfill(y):\n",
    "    y_t = y.T;\n",
    "    \n",
    "    Modulus = y_t[0];\n",
    "    Porosity = y_t[1];\n",
    "    Energy_Absorb = y_t[2];\n",
    "    Height = y_t[3];\n",
    "    Spacing = y_t[4];\n",
    "    Speed = y_t[5];\n",
    "    Temp = y_t[6];\n",
    "    \n",
    "    return Modulus, Porosity, Energy_Absorb, Height, Spacing, Speed, Temp    \n",
    "    "
   ]
  },
  {
   "cell_type": "markdown",
   "id": "648df538",
   "metadata": {},
   "source": [
    "# Energy Absorption Calculation"
   ]
  },
  {
   "cell_type": "code",
   "execution_count": 10,
   "id": "69af84e9",
   "metadata": {},
   "outputs": [
    {
     "name": "stdout",
     "output_type": "stream",
     "text": [
      "(675,)\n"
     ]
    }
   ],
   "source": [
    "Energy_Absorption = [];\n",
    "\n",
    "for curve in X:\n",
    "    interval_x = curve[0];\n",
    "    interval_y = curve[1];\n",
    "    \n",
    "    val = integrate.simpson(interval_y, interval_x);\n",
    "    Energy_Absorption.append(val);\n",
    "    \n",
    "Energy_Absorption = np.array(Energy_Absorption);\n",
    "\n",
    "# Sanity Check\n",
    "print(Energy_Absorption.shape);"
   ]
  },
  {
   "cell_type": "markdown",
   "id": "99cdc416",
   "metadata": {},
   "source": [
    "# Data Division based on Infill Type"
   ]
  },
  {
   "cell_type": "code",
   "execution_count": 11,
   "id": "1cf11d43",
   "metadata": {},
   "outputs": [
    {
     "name": "stdout",
     "output_type": "stream",
     "text": [
      "(225, 7)\n",
      "(225, 7)\n",
      "(225, 7)\n"
     ]
    }
   ],
   "source": [
    "def organizeParameters(_Data):\n",
    "    \"\"\"\n",
    "    Desc\n",
    "    \"\"\"\n",
    "    Modulus = _Data[:, 1:2];\n",
    "    Porosity = _Data[:, 8:9];\n",
    "    Energy_Abs = _Data[:, 10:11];\n",
    "    Spacing = _Data[:, 2:3];\n",
    "    printing_params = _Data[:, 4:7];\n",
    "\n",
    "    cut_params = np.concatenate((\n",
    "        Modulus, \n",
    "        Porosity,\n",
    "        Energy_Abs,\n",
    "        Spacing,\n",
    "        printing_params\n",
    "    ), axis=1);\n",
    "    \n",
    "    return cut_params;\n",
    "\n",
    "\n",
    "Line_Data = [];\n",
    "Cubic_Data = [];\n",
    "Gyroid_Data = [];\n",
    "\n",
    "_y = cut_params = np.concatenate((\n",
    "    y,\n",
    "    (np.reshape(Energy_Absorption, (675,1))),\n",
    "), axis=1);\n",
    "\n",
    "for curve in _y:\n",
    "    if ('Gyroid' in curve):\n",
    "        Gyroid_Data.append(curve);\n",
    "    elif ('Cubic' in curve):\n",
    "        Cubic_Data.append(curve);\n",
    "    elif ('Line' in curve):\n",
    "        Line_Data.append(curve);\n",
    "        \n",
    "Line_Data = np.array(Line_Data);\n",
    "Cubic_Data = np.array(Cubic_Data);\n",
    "Gyroid_Data = np.array(Gyroid_Data);\n",
    "\n",
    "\n",
    "X_Line = organizeParameters(Line_Data);\n",
    "X_Cubic = organizeParameters(Cubic_Data);\n",
    "X_Gyroid = organizeParameters(Gyroid_Data);\n",
    "\n",
    "# Sanity Check\n",
    "print(X_Line.shape)\n",
    "print(X_Cubic.shape)\n",
    "print(X_Gyroid.shape)"
   ]
  },
  {
   "cell_type": "markdown",
   "id": "5b2c3ffe",
   "metadata": {},
   "source": [
    "# Infill Parameter Stripping"
   ]
  },
  {
   "cell_type": "code",
   "execution_count": 12,
   "id": "d61fe9d3",
   "metadata": {},
   "outputs": [],
   "source": [
    "Modulus_Cubic, Porosity_Cubic, Energy_Absorb_Cubic, Height_Cubic, Spacing_Cubic, Speed_Cubic, Temp_Cubic = parameterStripInfill(X_Cubic);\n",
    "    "
   ]
  },
  {
   "cell_type": "markdown",
   "id": "bb82a42d",
   "metadata": {},
   "source": [
    "# Plotting Utility"
   ]
  },
  {
   "cell_type": "code",
   "execution_count": 13,
   "id": "3a901f1b",
   "metadata": {},
   "outputs": [],
   "source": [
    "# 675 Stress-Strain Curve Domain\n",
    "feature_domain_675 = list(range(675 + 1));\n",
    "feature_domain_675.pop(0) \n",
    "feature_domain_675 = np.repeat(feature_domain_675, 4, axis=0) # Changed to 4"
   ]
  },
  {
   "cell_type": "code",
   "execution_count": 14,
   "id": "31bd3128",
   "metadata": {},
   "outputs": [],
   "source": [
    "feature_domain_8 = list(range(8 + 1));\n",
    "feature_domain_8.pop(0);\n",
    "feature_domain_8_rep = list(np.arange(1,9))*675"
   ]
  },
  {
   "cell_type": "code",
   "execution_count": 15,
   "id": "493c2a4b",
   "metadata": {},
   "outputs": [],
   "source": [
    "feature_domain_7 = list(range(7 + 1));\n",
    "feature_domain_7.pop(0);\n",
    "feature_domain_7_rep = list(np.arange(1,8))*675"
   ]
  },
  {
   "cell_type": "code",
   "execution_count": 16,
   "id": "c2cf30a9",
   "metadata": {},
   "outputs": [],
   "source": [
    "feature_domain_5 = list(range(5 + 1));\n",
    "feature_domain_5.pop(0);\n",
    "feature_domain_5_rep = list(np.arange(1,6)) * 675"
   ]
  },
  {
   "cell_type": "code",
   "execution_count": 17,
   "id": "b1b08edc",
   "metadata": {},
   "outputs": [],
   "source": [
    "feature_domain_4 = list(range(4 + 1));\n",
    "feature_domain_4.pop(0);\n",
    "feature_domain_4_rep = list(np.arange(1,5)) * 675"
   ]
  },
  {
   "cell_type": "code",
   "execution_count": 18,
   "id": "f7d840ae",
   "metadata": {},
   "outputs": [],
   "source": [
    "feature_domain_2 = list(range(2 + 1));\n",
    "feature_domain_2.pop(0);\n",
    "feature_domain_2_rep = list(np.arange(1,3)) * 675"
   ]
  },
  {
   "cell_type": "markdown",
   "id": "2cf1f639",
   "metadata": {},
   "source": [
    "# Parameter Cutting [Fixiating on Cubic]"
   ]
  },
  {
   "cell_type": "markdown",
   "id": "1e696b54",
   "metadata": {},
   "source": [
    "Since temperature and Line Spacing has the heighest Spearman Correlation value, lets just fixiate on just these two values."
   ]
  },
  {
   "cell_type": "code",
   "execution_count": 31,
   "id": "40012ef5",
   "metadata": {},
   "outputs": [
    {
     "name": "stdout",
     "output_type": "stream",
     "text": [
      "[[524.6123617 0.3224 1935.3610593872165 ... 0.2 50 230]\n",
      " [546.6644154 0.2976 2092.8618420592306 ... 0.2 50 230]\n",
      " [579.4849398 0.268 2194.978811659142 ... 0.2 50 230]\n",
      " ...\n",
      " [630.3584337 0.2968 2255.0932625144205 ... 0.1 30 190]\n",
      " [691.018674 0.244 2266.351168475735 ... 0.1 30 190]\n",
      " [763.3644578 0.1808 2220.0751979865336 ... 0.1 30 190]]\n",
      "\n",
      "\n",
      "[[524.6123617 0.3224 1935.3610593872165 230 0.2]\n",
      " [546.6644154 0.2976 2092.8618420592306 230 0.2]\n",
      " [579.4849398 0.268 2194.978811659142 230 0.2]\n",
      " ...\n",
      " [630.3584337 0.2968 2255.0932625144205 190 0.1]\n",
      " [691.018674 0.244 2266.351168475735 190 0.1]\n",
      " [763.3644578 0.1808 2220.0751979865336 190 0.1]]\n",
      "\n",
      "[[524.6123617 322.40000000000003 193.53610593872165 ... 200.0 500 230]\n",
      " [546.6644154 297.59999999999997 209.28618420592306 ... 200.0 500 230]\n",
      " [579.4849398 268.0 219.4978811659142 ... 200.0 500 230]\n",
      " ...\n",
      " [630.3584337 296.8 225.50932625144205 ... 100.0 300 190]\n",
      " [691.018674 244.0 226.6351168475735 ... 100.0 300 190]\n",
      " [763.3644578 180.79999999999998 222.00751979865336 ... 100.0 300 190]]\n"
     ]
    }
   ],
   "source": [
    "print(X_Cubic)\n",
    "print()\n",
    "print()\n",
    "\n",
    "X_Cubic_Curve = X_Cubic[:, :3]\n",
    "X_Cubic_Printing_1 = X_Cubic[:, 6:]\n",
    "X_Cubic_Printing_2 = X_Cubic[:, 4:5]\n",
    "\n",
    "X_Cubic_Printing_ALL = X_Cubic[:, 3:7]\n",
    "\n",
    "X_Cubic_Data = np.concatenate((\n",
    "        X_Cubic_Curve, \n",
    "        X_Cubic_Printing_1,\n",
    "        X_Cubic_Printing_2,\n",
    "), axis=1);\n",
    "\n",
    "X_Cubic_Data_ALL = np.concatenate((\n",
    "        X_Cubic_Curve, \n",
    "        X_Cubic_Printing_ALL\n",
    "), axis=1);\n",
    "\n",
    "X_Cubic_Data_Reg = np.copy(X_Cubic_Data);\n",
    "\n",
    "# Incase we want to fixuate it on the same scale\n",
    "# for curve in X_Cubic_Data:\n",
    "#     curve[1] = curve[1] * 1000\n",
    "#     curve[2] = curve[2] / 10\n",
    "#     curve[4] = curve[4] * 1000\n",
    "    \n",
    "# Incase we want to fixuate it on the same scale\n",
    "for curve in X_Cubic_Data_ALL:\n",
    "    curve[1] = curve[1] * 1000\n",
    "    curve[2] = curve[2] / 10\n",
    "    curve[3] = curve[3] * 100\n",
    "    curve[4] = curve[4] * 1000\n",
    "    curve[5] = curve[5] * 10\n",
    "\n",
    "print(X_Cubic_Data)\n",
    "print()\n",
    "print(X_Cubic_Data_ALL)"
   ]
  },
  {
   "cell_type": "markdown",
   "id": "ae4290ea",
   "metadata": {},
   "source": [
    "# Plotting"
   ]
  },
  {
   "cell_type": "markdown",
   "id": "0e3522dd",
   "metadata": {},
   "source": [
    "$$\n",
    "d_n = \\{Modulus, Porosity, Energy Absorption, Temperature, Line Height\\}\n",
    "$$"
   ]
  },
  {
   "cell_type": "code",
   "execution_count": 32,
   "id": "486d6598",
   "metadata": {},
   "outputs": [
    {
     "data": {
      "application/vnd.plotly.v1+json": {
       "config": {
        "plotlyServerURL": "https://plot.ly"
       },
       "data": [
        {
         "hovertemplate": "Parameters=%{x}<br>Normalized values (Divided by Max)=%{y}<extra></extra>",
         "legendgroup": "",
         "line": {
          "color": "#636efa",
          "dash": "solid"
         },
         "marker": {
          "symbol": "circle"
         },
         "mode": "lines",
         "name": "",
         "orientation": "h",
         "showlegend": false,
         "type": "scatter",
         "x": [
          1,
          2,
          3,
          4,
          5
         ],
         "xaxis": "x",
         "y": [
          606.0168385,
          0.3224,
          2144.8351297460295,
          210,
          0.1
         ],
         "yaxis": "y"
        }
       ],
       "layout": {
        "legend": {
         "tracegroupgap": 0
        },
        "template": {
         "data": {
          "bar": [
           {
            "error_x": {
             "color": "#2a3f5f"
            },
            "error_y": {
             "color": "#2a3f5f"
            },
            "marker": {
             "line": {
              "color": "#E5ECF6",
              "width": 0.5
             },
             "pattern": {
              "fillmode": "overlay",
              "size": 10,
              "solidity": 0.2
             }
            },
            "type": "bar"
           }
          ],
          "barpolar": [
           {
            "marker": {
             "line": {
              "color": "#E5ECF6",
              "width": 0.5
             },
             "pattern": {
              "fillmode": "overlay",
              "size": 10,
              "solidity": 0.2
             }
            },
            "type": "barpolar"
           }
          ],
          "carpet": [
           {
            "aaxis": {
             "endlinecolor": "#2a3f5f",
             "gridcolor": "white",
             "linecolor": "white",
             "minorgridcolor": "white",
             "startlinecolor": "#2a3f5f"
            },
            "baxis": {
             "endlinecolor": "#2a3f5f",
             "gridcolor": "white",
             "linecolor": "white",
             "minorgridcolor": "white",
             "startlinecolor": "#2a3f5f"
            },
            "type": "carpet"
           }
          ],
          "choropleth": [
           {
            "colorbar": {
             "outlinewidth": 0,
             "ticks": ""
            },
            "type": "choropleth"
           }
          ],
          "contour": [
           {
            "colorbar": {
             "outlinewidth": 0,
             "ticks": ""
            },
            "colorscale": [
             [
              0,
              "#0d0887"
             ],
             [
              0.1111111111111111,
              "#46039f"
             ],
             [
              0.2222222222222222,
              "#7201a8"
             ],
             [
              0.3333333333333333,
              "#9c179e"
             ],
             [
              0.4444444444444444,
              "#bd3786"
             ],
             [
              0.5555555555555556,
              "#d8576b"
             ],
             [
              0.6666666666666666,
              "#ed7953"
             ],
             [
              0.7777777777777778,
              "#fb9f3a"
             ],
             [
              0.8888888888888888,
              "#fdca26"
             ],
             [
              1,
              "#f0f921"
             ]
            ],
            "type": "contour"
           }
          ],
          "contourcarpet": [
           {
            "colorbar": {
             "outlinewidth": 0,
             "ticks": ""
            },
            "type": "contourcarpet"
           }
          ],
          "heatmap": [
           {
            "colorbar": {
             "outlinewidth": 0,
             "ticks": ""
            },
            "colorscale": [
             [
              0,
              "#0d0887"
             ],
             [
              0.1111111111111111,
              "#46039f"
             ],
             [
              0.2222222222222222,
              "#7201a8"
             ],
             [
              0.3333333333333333,
              "#9c179e"
             ],
             [
              0.4444444444444444,
              "#bd3786"
             ],
             [
              0.5555555555555556,
              "#d8576b"
             ],
             [
              0.6666666666666666,
              "#ed7953"
             ],
             [
              0.7777777777777778,
              "#fb9f3a"
             ],
             [
              0.8888888888888888,
              "#fdca26"
             ],
             [
              1,
              "#f0f921"
             ]
            ],
            "type": "heatmap"
           }
          ],
          "heatmapgl": [
           {
            "colorbar": {
             "outlinewidth": 0,
             "ticks": ""
            },
            "colorscale": [
             [
              0,
              "#0d0887"
             ],
             [
              0.1111111111111111,
              "#46039f"
             ],
             [
              0.2222222222222222,
              "#7201a8"
             ],
             [
              0.3333333333333333,
              "#9c179e"
             ],
             [
              0.4444444444444444,
              "#bd3786"
             ],
             [
              0.5555555555555556,
              "#d8576b"
             ],
             [
              0.6666666666666666,
              "#ed7953"
             ],
             [
              0.7777777777777778,
              "#fb9f3a"
             ],
             [
              0.8888888888888888,
              "#fdca26"
             ],
             [
              1,
              "#f0f921"
             ]
            ],
            "type": "heatmapgl"
           }
          ],
          "histogram": [
           {
            "marker": {
             "pattern": {
              "fillmode": "overlay",
              "size": 10,
              "solidity": 0.2
             }
            },
            "type": "histogram"
           }
          ],
          "histogram2d": [
           {
            "colorbar": {
             "outlinewidth": 0,
             "ticks": ""
            },
            "colorscale": [
             [
              0,
              "#0d0887"
             ],
             [
              0.1111111111111111,
              "#46039f"
             ],
             [
              0.2222222222222222,
              "#7201a8"
             ],
             [
              0.3333333333333333,
              "#9c179e"
             ],
             [
              0.4444444444444444,
              "#bd3786"
             ],
             [
              0.5555555555555556,
              "#d8576b"
             ],
             [
              0.6666666666666666,
              "#ed7953"
             ],
             [
              0.7777777777777778,
              "#fb9f3a"
             ],
             [
              0.8888888888888888,
              "#fdca26"
             ],
             [
              1,
              "#f0f921"
             ]
            ],
            "type": "histogram2d"
           }
          ],
          "histogram2dcontour": [
           {
            "colorbar": {
             "outlinewidth": 0,
             "ticks": ""
            },
            "colorscale": [
             [
              0,
              "#0d0887"
             ],
             [
              0.1111111111111111,
              "#46039f"
             ],
             [
              0.2222222222222222,
              "#7201a8"
             ],
             [
              0.3333333333333333,
              "#9c179e"
             ],
             [
              0.4444444444444444,
              "#bd3786"
             ],
             [
              0.5555555555555556,
              "#d8576b"
             ],
             [
              0.6666666666666666,
              "#ed7953"
             ],
             [
              0.7777777777777778,
              "#fb9f3a"
             ],
             [
              0.8888888888888888,
              "#fdca26"
             ],
             [
              1,
              "#f0f921"
             ]
            ],
            "type": "histogram2dcontour"
           }
          ],
          "mesh3d": [
           {
            "colorbar": {
             "outlinewidth": 0,
             "ticks": ""
            },
            "type": "mesh3d"
           }
          ],
          "parcoords": [
           {
            "line": {
             "colorbar": {
              "outlinewidth": 0,
              "ticks": ""
             }
            },
            "type": "parcoords"
           }
          ],
          "pie": [
           {
            "automargin": true,
            "type": "pie"
           }
          ],
          "scatter": [
           {
            "fillpattern": {
             "fillmode": "overlay",
             "size": 10,
             "solidity": 0.2
            },
            "type": "scatter"
           }
          ],
          "scatter3d": [
           {
            "line": {
             "colorbar": {
              "outlinewidth": 0,
              "ticks": ""
             }
            },
            "marker": {
             "colorbar": {
              "outlinewidth": 0,
              "ticks": ""
             }
            },
            "type": "scatter3d"
           }
          ],
          "scattercarpet": [
           {
            "marker": {
             "colorbar": {
              "outlinewidth": 0,
              "ticks": ""
             }
            },
            "type": "scattercarpet"
           }
          ],
          "scattergeo": [
           {
            "marker": {
             "colorbar": {
              "outlinewidth": 0,
              "ticks": ""
             }
            },
            "type": "scattergeo"
           }
          ],
          "scattergl": [
           {
            "marker": {
             "colorbar": {
              "outlinewidth": 0,
              "ticks": ""
             }
            },
            "type": "scattergl"
           }
          ],
          "scattermapbox": [
           {
            "marker": {
             "colorbar": {
              "outlinewidth": 0,
              "ticks": ""
             }
            },
            "type": "scattermapbox"
           }
          ],
          "scatterpolar": [
           {
            "marker": {
             "colorbar": {
              "outlinewidth": 0,
              "ticks": ""
             }
            },
            "type": "scatterpolar"
           }
          ],
          "scatterpolargl": [
           {
            "marker": {
             "colorbar": {
              "outlinewidth": 0,
              "ticks": ""
             }
            },
            "type": "scatterpolargl"
           }
          ],
          "scatterternary": [
           {
            "marker": {
             "colorbar": {
              "outlinewidth": 0,
              "ticks": ""
             }
            },
            "type": "scatterternary"
           }
          ],
          "surface": [
           {
            "colorbar": {
             "outlinewidth": 0,
             "ticks": ""
            },
            "colorscale": [
             [
              0,
              "#0d0887"
             ],
             [
              0.1111111111111111,
              "#46039f"
             ],
             [
              0.2222222222222222,
              "#7201a8"
             ],
             [
              0.3333333333333333,
              "#9c179e"
             ],
             [
              0.4444444444444444,
              "#bd3786"
             ],
             [
              0.5555555555555556,
              "#d8576b"
             ],
             [
              0.6666666666666666,
              "#ed7953"
             ],
             [
              0.7777777777777778,
              "#fb9f3a"
             ],
             [
              0.8888888888888888,
              "#fdca26"
             ],
             [
              1,
              "#f0f921"
             ]
            ],
            "type": "surface"
           }
          ],
          "table": [
           {
            "cells": {
             "fill": {
              "color": "#EBF0F8"
             },
             "line": {
              "color": "white"
             }
            },
            "header": {
             "fill": {
              "color": "#C8D4E3"
             },
             "line": {
              "color": "white"
             }
            },
            "type": "table"
           }
          ]
         },
         "layout": {
          "annotationdefaults": {
           "arrowcolor": "#2a3f5f",
           "arrowhead": 0,
           "arrowwidth": 1
          },
          "autotypenumbers": "strict",
          "coloraxis": {
           "colorbar": {
            "outlinewidth": 0,
            "ticks": ""
           }
          },
          "colorscale": {
           "diverging": [
            [
             0,
             "#8e0152"
            ],
            [
             0.1,
             "#c51b7d"
            ],
            [
             0.2,
             "#de77ae"
            ],
            [
             0.3,
             "#f1b6da"
            ],
            [
             0.4,
             "#fde0ef"
            ],
            [
             0.5,
             "#f7f7f7"
            ],
            [
             0.6,
             "#e6f5d0"
            ],
            [
             0.7,
             "#b8e186"
            ],
            [
             0.8,
             "#7fbc41"
            ],
            [
             0.9,
             "#4d9221"
            ],
            [
             1,
             "#276419"
            ]
           ],
           "sequential": [
            [
             0,
             "#0d0887"
            ],
            [
             0.1111111111111111,
             "#46039f"
            ],
            [
             0.2222222222222222,
             "#7201a8"
            ],
            [
             0.3333333333333333,
             "#9c179e"
            ],
            [
             0.4444444444444444,
             "#bd3786"
            ],
            [
             0.5555555555555556,
             "#d8576b"
            ],
            [
             0.6666666666666666,
             "#ed7953"
            ],
            [
             0.7777777777777778,
             "#fb9f3a"
            ],
            [
             0.8888888888888888,
             "#fdca26"
            ],
            [
             1,
             "#f0f921"
            ]
           ],
           "sequentialminus": [
            [
             0,
             "#0d0887"
            ],
            [
             0.1111111111111111,
             "#46039f"
            ],
            [
             0.2222222222222222,
             "#7201a8"
            ],
            [
             0.3333333333333333,
             "#9c179e"
            ],
            [
             0.4444444444444444,
             "#bd3786"
            ],
            [
             0.5555555555555556,
             "#d8576b"
            ],
            [
             0.6666666666666666,
             "#ed7953"
            ],
            [
             0.7777777777777778,
             "#fb9f3a"
            ],
            [
             0.8888888888888888,
             "#fdca26"
            ],
            [
             1,
             "#f0f921"
            ]
           ]
          },
          "colorway": [
           "#636efa",
           "#EF553B",
           "#00cc96",
           "#ab63fa",
           "#FFA15A",
           "#19d3f3",
           "#FF6692",
           "#B6E880",
           "#FF97FF",
           "#FECB52"
          ],
          "font": {
           "color": "#2a3f5f"
          },
          "geo": {
           "bgcolor": "white",
           "lakecolor": "white",
           "landcolor": "#E5ECF6",
           "showlakes": true,
           "showland": true,
           "subunitcolor": "white"
          },
          "hoverlabel": {
           "align": "left"
          },
          "hovermode": "closest",
          "mapbox": {
           "style": "light"
          },
          "paper_bgcolor": "white",
          "plot_bgcolor": "#E5ECF6",
          "polar": {
           "angularaxis": {
            "gridcolor": "white",
            "linecolor": "white",
            "ticks": ""
           },
           "bgcolor": "#E5ECF6",
           "radialaxis": {
            "gridcolor": "white",
            "linecolor": "white",
            "ticks": ""
           }
          },
          "scene": {
           "xaxis": {
            "backgroundcolor": "#E5ECF6",
            "gridcolor": "white",
            "gridwidth": 2,
            "linecolor": "white",
            "showbackground": true,
            "ticks": "",
            "zerolinecolor": "white"
           },
           "yaxis": {
            "backgroundcolor": "#E5ECF6",
            "gridcolor": "white",
            "gridwidth": 2,
            "linecolor": "white",
            "showbackground": true,
            "ticks": "",
            "zerolinecolor": "white"
           },
           "zaxis": {
            "backgroundcolor": "#E5ECF6",
            "gridcolor": "white",
            "gridwidth": 2,
            "linecolor": "white",
            "showbackground": true,
            "ticks": "",
            "zerolinecolor": "white"
           }
          },
          "shapedefaults": {
           "line": {
            "color": "#2a3f5f"
           }
          },
          "ternary": {
           "aaxis": {
            "gridcolor": "white",
            "linecolor": "white",
            "ticks": ""
           },
           "baxis": {
            "gridcolor": "white",
            "linecolor": "white",
            "ticks": ""
           },
           "bgcolor": "#E5ECF6",
           "caxis": {
            "gridcolor": "white",
            "linecolor": "white",
            "ticks": ""
           }
          },
          "title": {
           "x": 0.05
          },
          "xaxis": {
           "automargin": true,
           "gridcolor": "white",
           "linecolor": "white",
           "ticks": "",
           "title": {
            "standoff": 15
           },
           "zerolinecolor": "white",
           "zerolinewidth": 2
          },
          "yaxis": {
           "automargin": true,
           "gridcolor": "white",
           "linecolor": "white",
           "ticks": "",
           "title": {
            "standoff": 15
           },
           "zerolinecolor": "white",
           "zerolinewidth": 2
          }
         }
        },
        "title": {
         "text": "Single Parameter Curve"
        },
        "xaxis": {
         "anchor": "y",
         "domain": [
          0,
          1
         ],
         "title": {
          "text": "Parameters"
         }
        },
        "yaxis": {
         "anchor": "x",
         "domain": [
          0,
          1
         ],
         "title": {
          "text": "Normalized values (Divided by Max)"
         }
        }
       }
      },
      "text/html": [
       "<div>                            <div id=\"5da44bf6-c6d6-4be7-991b-1ad626c8ea5a\" class=\"plotly-graph-div\" style=\"height:525px; width:100%;\"></div>            <script type=\"text/javascript\">                require([\"plotly\"], function(Plotly) {                    window.PLOTLYENV=window.PLOTLYENV || {};                                    if (document.getElementById(\"5da44bf6-c6d6-4be7-991b-1ad626c8ea5a\")) {                    Plotly.newPlot(                        \"5da44bf6-c6d6-4be7-991b-1ad626c8ea5a\",                        [{\"hovertemplate\":\"Parameters=%{x}<br>Normalized values (Divided by Max)=%{y}<extra></extra>\",\"legendgroup\":\"\",\"line\":{\"color\":\"#636efa\",\"dash\":\"solid\"},\"marker\":{\"symbol\":\"circle\"},\"mode\":\"lines\",\"name\":\"\",\"orientation\":\"h\",\"showlegend\":false,\"x\":[1,2,3,4,5],\"xaxis\":\"x\",\"y\":[606.0168385,0.3224,2144.8351297460295,210,0.1],\"yaxis\":\"y\",\"type\":\"scatter\"}],                        {\"template\":{\"data\":{\"histogram2dcontour\":[{\"type\":\"histogram2dcontour\",\"colorbar\":{\"outlinewidth\":0,\"ticks\":\"\"},\"colorscale\":[[0.0,\"#0d0887\"],[0.1111111111111111,\"#46039f\"],[0.2222222222222222,\"#7201a8\"],[0.3333333333333333,\"#9c179e\"],[0.4444444444444444,\"#bd3786\"],[0.5555555555555556,\"#d8576b\"],[0.6666666666666666,\"#ed7953\"],[0.7777777777777778,\"#fb9f3a\"],[0.8888888888888888,\"#fdca26\"],[1.0,\"#f0f921\"]]}],\"choropleth\":[{\"type\":\"choropleth\",\"colorbar\":{\"outlinewidth\":0,\"ticks\":\"\"}}],\"histogram2d\":[{\"type\":\"histogram2d\",\"colorbar\":{\"outlinewidth\":0,\"ticks\":\"\"},\"colorscale\":[[0.0,\"#0d0887\"],[0.1111111111111111,\"#46039f\"],[0.2222222222222222,\"#7201a8\"],[0.3333333333333333,\"#9c179e\"],[0.4444444444444444,\"#bd3786\"],[0.5555555555555556,\"#d8576b\"],[0.6666666666666666,\"#ed7953\"],[0.7777777777777778,\"#fb9f3a\"],[0.8888888888888888,\"#fdca26\"],[1.0,\"#f0f921\"]]}],\"heatmap\":[{\"type\":\"heatmap\",\"colorbar\":{\"outlinewidth\":0,\"ticks\":\"\"},\"colorscale\":[[0.0,\"#0d0887\"],[0.1111111111111111,\"#46039f\"],[0.2222222222222222,\"#7201a8\"],[0.3333333333333333,\"#9c179e\"],[0.4444444444444444,\"#bd3786\"],[0.5555555555555556,\"#d8576b\"],[0.6666666666666666,\"#ed7953\"],[0.7777777777777778,\"#fb9f3a\"],[0.8888888888888888,\"#fdca26\"],[1.0,\"#f0f921\"]]}],\"heatmapgl\":[{\"type\":\"heatmapgl\",\"colorbar\":{\"outlinewidth\":0,\"ticks\":\"\"},\"colorscale\":[[0.0,\"#0d0887\"],[0.1111111111111111,\"#46039f\"],[0.2222222222222222,\"#7201a8\"],[0.3333333333333333,\"#9c179e\"],[0.4444444444444444,\"#bd3786\"],[0.5555555555555556,\"#d8576b\"],[0.6666666666666666,\"#ed7953\"],[0.7777777777777778,\"#fb9f3a\"],[0.8888888888888888,\"#fdca26\"],[1.0,\"#f0f921\"]]}],\"contourcarpet\":[{\"type\":\"contourcarpet\",\"colorbar\":{\"outlinewidth\":0,\"ticks\":\"\"}}],\"contour\":[{\"type\":\"contour\",\"colorbar\":{\"outlinewidth\":0,\"ticks\":\"\"},\"colorscale\":[[0.0,\"#0d0887\"],[0.1111111111111111,\"#46039f\"],[0.2222222222222222,\"#7201a8\"],[0.3333333333333333,\"#9c179e\"],[0.4444444444444444,\"#bd3786\"],[0.5555555555555556,\"#d8576b\"],[0.6666666666666666,\"#ed7953\"],[0.7777777777777778,\"#fb9f3a\"],[0.8888888888888888,\"#fdca26\"],[1.0,\"#f0f921\"]]}],\"surface\":[{\"type\":\"surface\",\"colorbar\":{\"outlinewidth\":0,\"ticks\":\"\"},\"colorscale\":[[0.0,\"#0d0887\"],[0.1111111111111111,\"#46039f\"],[0.2222222222222222,\"#7201a8\"],[0.3333333333333333,\"#9c179e\"],[0.4444444444444444,\"#bd3786\"],[0.5555555555555556,\"#d8576b\"],[0.6666666666666666,\"#ed7953\"],[0.7777777777777778,\"#fb9f3a\"],[0.8888888888888888,\"#fdca26\"],[1.0,\"#f0f921\"]]}],\"mesh3d\":[{\"type\":\"mesh3d\",\"colorbar\":{\"outlinewidth\":0,\"ticks\":\"\"}}],\"scatter\":[{\"fillpattern\":{\"fillmode\":\"overlay\",\"size\":10,\"solidity\":0.2},\"type\":\"scatter\"}],\"parcoords\":[{\"type\":\"parcoords\",\"line\":{\"colorbar\":{\"outlinewidth\":0,\"ticks\":\"\"}}}],\"scatterpolargl\":[{\"type\":\"scatterpolargl\",\"marker\":{\"colorbar\":{\"outlinewidth\":0,\"ticks\":\"\"}}}],\"bar\":[{\"error_x\":{\"color\":\"#2a3f5f\"},\"error_y\":{\"color\":\"#2a3f5f\"},\"marker\":{\"line\":{\"color\":\"#E5ECF6\",\"width\":0.5},\"pattern\":{\"fillmode\":\"overlay\",\"size\":10,\"solidity\":0.2}},\"type\":\"bar\"}],\"scattergeo\":[{\"type\":\"scattergeo\",\"marker\":{\"colorbar\":{\"outlinewidth\":0,\"ticks\":\"\"}}}],\"scatterpolar\":[{\"type\":\"scatterpolar\",\"marker\":{\"colorbar\":{\"outlinewidth\":0,\"ticks\":\"\"}}}],\"histogram\":[{\"marker\":{\"pattern\":{\"fillmode\":\"overlay\",\"size\":10,\"solidity\":0.2}},\"type\":\"histogram\"}],\"scattergl\":[{\"type\":\"scattergl\",\"marker\":{\"colorbar\":{\"outlinewidth\":0,\"ticks\":\"\"}}}],\"scatter3d\":[{\"type\":\"scatter3d\",\"line\":{\"colorbar\":{\"outlinewidth\":0,\"ticks\":\"\"}},\"marker\":{\"colorbar\":{\"outlinewidth\":0,\"ticks\":\"\"}}}],\"scattermapbox\":[{\"type\":\"scattermapbox\",\"marker\":{\"colorbar\":{\"outlinewidth\":0,\"ticks\":\"\"}}}],\"scatterternary\":[{\"type\":\"scatterternary\",\"marker\":{\"colorbar\":{\"outlinewidth\":0,\"ticks\":\"\"}}}],\"scattercarpet\":[{\"type\":\"scattercarpet\",\"marker\":{\"colorbar\":{\"outlinewidth\":0,\"ticks\":\"\"}}}],\"carpet\":[{\"aaxis\":{\"endlinecolor\":\"#2a3f5f\",\"gridcolor\":\"white\",\"linecolor\":\"white\",\"minorgridcolor\":\"white\",\"startlinecolor\":\"#2a3f5f\"},\"baxis\":{\"endlinecolor\":\"#2a3f5f\",\"gridcolor\":\"white\",\"linecolor\":\"white\",\"minorgridcolor\":\"white\",\"startlinecolor\":\"#2a3f5f\"},\"type\":\"carpet\"}],\"table\":[{\"cells\":{\"fill\":{\"color\":\"#EBF0F8\"},\"line\":{\"color\":\"white\"}},\"header\":{\"fill\":{\"color\":\"#C8D4E3\"},\"line\":{\"color\":\"white\"}},\"type\":\"table\"}],\"barpolar\":[{\"marker\":{\"line\":{\"color\":\"#E5ECF6\",\"width\":0.5},\"pattern\":{\"fillmode\":\"overlay\",\"size\":10,\"solidity\":0.2}},\"type\":\"barpolar\"}],\"pie\":[{\"automargin\":true,\"type\":\"pie\"}]},\"layout\":{\"autotypenumbers\":\"strict\",\"colorway\":[\"#636efa\",\"#EF553B\",\"#00cc96\",\"#ab63fa\",\"#FFA15A\",\"#19d3f3\",\"#FF6692\",\"#B6E880\",\"#FF97FF\",\"#FECB52\"],\"font\":{\"color\":\"#2a3f5f\"},\"hovermode\":\"closest\",\"hoverlabel\":{\"align\":\"left\"},\"paper_bgcolor\":\"white\",\"plot_bgcolor\":\"#E5ECF6\",\"polar\":{\"bgcolor\":\"#E5ECF6\",\"angularaxis\":{\"gridcolor\":\"white\",\"linecolor\":\"white\",\"ticks\":\"\"},\"radialaxis\":{\"gridcolor\":\"white\",\"linecolor\":\"white\",\"ticks\":\"\"}},\"ternary\":{\"bgcolor\":\"#E5ECF6\",\"aaxis\":{\"gridcolor\":\"white\",\"linecolor\":\"white\",\"ticks\":\"\"},\"baxis\":{\"gridcolor\":\"white\",\"linecolor\":\"white\",\"ticks\":\"\"},\"caxis\":{\"gridcolor\":\"white\",\"linecolor\":\"white\",\"ticks\":\"\"}},\"coloraxis\":{\"colorbar\":{\"outlinewidth\":0,\"ticks\":\"\"}},\"colorscale\":{\"sequential\":[[0.0,\"#0d0887\"],[0.1111111111111111,\"#46039f\"],[0.2222222222222222,\"#7201a8\"],[0.3333333333333333,\"#9c179e\"],[0.4444444444444444,\"#bd3786\"],[0.5555555555555556,\"#d8576b\"],[0.6666666666666666,\"#ed7953\"],[0.7777777777777778,\"#fb9f3a\"],[0.8888888888888888,\"#fdca26\"],[1.0,\"#f0f921\"]],\"sequentialminus\":[[0.0,\"#0d0887\"],[0.1111111111111111,\"#46039f\"],[0.2222222222222222,\"#7201a8\"],[0.3333333333333333,\"#9c179e\"],[0.4444444444444444,\"#bd3786\"],[0.5555555555555556,\"#d8576b\"],[0.6666666666666666,\"#ed7953\"],[0.7777777777777778,\"#fb9f3a\"],[0.8888888888888888,\"#fdca26\"],[1.0,\"#f0f921\"]],\"diverging\":[[0,\"#8e0152\"],[0.1,\"#c51b7d\"],[0.2,\"#de77ae\"],[0.3,\"#f1b6da\"],[0.4,\"#fde0ef\"],[0.5,\"#f7f7f7\"],[0.6,\"#e6f5d0\"],[0.7,\"#b8e186\"],[0.8,\"#7fbc41\"],[0.9,\"#4d9221\"],[1,\"#276419\"]]},\"xaxis\":{\"gridcolor\":\"white\",\"linecolor\":\"white\",\"ticks\":\"\",\"title\":{\"standoff\":15},\"zerolinecolor\":\"white\",\"automargin\":true,\"zerolinewidth\":2},\"yaxis\":{\"gridcolor\":\"white\",\"linecolor\":\"white\",\"ticks\":\"\",\"title\":{\"standoff\":15},\"zerolinecolor\":\"white\",\"automargin\":true,\"zerolinewidth\":2},\"scene\":{\"xaxis\":{\"backgroundcolor\":\"#E5ECF6\",\"gridcolor\":\"white\",\"linecolor\":\"white\",\"showbackground\":true,\"ticks\":\"\",\"zerolinecolor\":\"white\",\"gridwidth\":2},\"yaxis\":{\"backgroundcolor\":\"#E5ECF6\",\"gridcolor\":\"white\",\"linecolor\":\"white\",\"showbackground\":true,\"ticks\":\"\",\"zerolinecolor\":\"white\",\"gridwidth\":2},\"zaxis\":{\"backgroundcolor\":\"#E5ECF6\",\"gridcolor\":\"white\",\"linecolor\":\"white\",\"showbackground\":true,\"ticks\":\"\",\"zerolinecolor\":\"white\",\"gridwidth\":2}},\"shapedefaults\":{\"line\":{\"color\":\"#2a3f5f\"}},\"annotationdefaults\":{\"arrowcolor\":\"#2a3f5f\",\"arrowhead\":0,\"arrowwidth\":1},\"geo\":{\"bgcolor\":\"white\",\"landcolor\":\"#E5ECF6\",\"subunitcolor\":\"white\",\"showland\":true,\"showlakes\":true,\"lakecolor\":\"white\"},\"title\":{\"x\":0.05},\"mapbox\":{\"style\":\"light\"}}},\"xaxis\":{\"anchor\":\"y\",\"domain\":[0.0,1.0],\"title\":{\"text\":\"Parameters\"}},\"yaxis\":{\"anchor\":\"x\",\"domain\":[0.0,1.0],\"title\":{\"text\":\"Normalized values (Divided by Max)\"}},\"legend\":{\"tracegroupgap\":0},\"title\":{\"text\":\"Single Parameter Curve\"}},                        {\"responsive\": true}                    ).then(function(){\n",
       "                            \n",
       "var gd = document.getElementById('5da44bf6-c6d6-4be7-991b-1ad626c8ea5a');\n",
       "var x = new MutationObserver(function (mutations, observer) {{\n",
       "        var display = window.getComputedStyle(gd).display;\n",
       "        if (!display || display === 'none') {{\n",
       "            console.log([gd, 'removed!']);\n",
       "            Plotly.purge(gd);\n",
       "            observer.disconnect();\n",
       "        }}\n",
       "}});\n",
       "\n",
       "// Listen for the removal of the full notebook cells\n",
       "var notebookContainer = gd.closest('#notebook-container');\n",
       "if (notebookContainer) {{\n",
       "    x.observe(notebookContainer, {childList: true});\n",
       "}}\n",
       "\n",
       "// Listen for the clearing of the current output cell\n",
       "var outputEl = gd.closest('.output');\n",
       "if (outputEl) {{\n",
       "    x.observe(outputEl, {childList: true});\n",
       "}}\n",
       "\n",
       "                        })                };                });            </script>        </div>"
      ]
     },
     "metadata": {},
     "output_type": "display_data"
    },
    {
     "data": {
      "application/vnd.plotly.v1+json": {
       "config": {
        "plotlyServerURL": "https://plot.ly"
       },
       "data": [
        {
         "type": "scatter",
         "x": [
          1,
          2,
          3,
          4,
          5
         ],
         "y": [
          524.6123617,
          0.3224,
          1935.3610593872165,
          230,
          0.2
         ]
        },
        {
         "type": "scatter",
         "x": [
          1,
          2,
          3,
          4,
          5
         ],
         "y": [
          546.6644154,
          0.2976,
          2092.8618420592306,
          230,
          0.2
         ]
        },
        {
         "type": "scatter",
         "x": [
          1,
          2,
          3,
          4,
          5
         ],
         "y": [
          579.4849398,
          0.268,
          2194.978811659142,
          230,
          0.2
         ]
        },
        {
         "type": "scatter",
         "x": [
          1,
          2,
          3,
          4,
          5
         ],
         "y": [
          657.8072289,
          0.2064,
          2196.883867582439,
          230,
          0.2
         ]
        },
        {
         "type": "scatter",
         "x": [
          1,
          2,
          3,
          4,
          5
         ],
         "y": [
          742.4789519,
          0.1328,
          2144.859244517387,
          230,
          0.2
         ]
        },
        {
         "type": "scatter",
         "x": [
          1,
          2,
          3,
          4,
          5
         ],
         "y": [
          431.7256426,
          0.408,
          1491.8455076702867,
          210,
          0.2
         ]
        },
        {
         "type": "scatter",
         "x": [
          1,
          2,
          3,
          4,
          5
         ],
         "y": [
          462.2788589,
          0.3672,
          1713.1561032946695,
          210,
          0.2
         ]
        },
        {
         "type": "scatter",
         "x": [
          1,
          2,
          3,
          4,
          5
         ],
         "y": [
          497.6153436,
          0.332,
          1925.0315926447086,
          210,
          0.2
         ]
        },
        {
         "type": "scatter",
         "x": [
          1,
          2,
          3,
          4,
          5
         ],
         "y": [
          555.8127371,
          0.2808,
          2185.5835425968426,
          210,
          0.2
         ]
        },
        {
         "type": "scatter",
         "x": [
          1,
          2,
          3,
          4,
          5
         ],
         "y": [
          636.7449614,
          0.2168,
          2223.905535000299,
          210,
          0.2
         ]
        },
        {
         "type": "scatter",
         "x": [
          1,
          2,
          3,
          4,
          5
         ],
         "y": [
          123.0150602,
          0.624,
          587.2155428163423,
          190,
          0.2
         ]
        },
        {
         "type": "scatter",
         "x": [
          1,
          2,
          3,
          4,
          5
         ],
         "y": [
          115.6973791,
          0.608,
          629.3315873729949,
          190,
          0.2
         ]
        },
        {
         "type": "scatter",
         "x": [
          1,
          2,
          3,
          4,
          5
         ],
         "y": [
          143.4578313,
          0.5704,
          761.6574843217202,
          190,
          0.2
         ]
        },
        {
         "type": "scatter",
         "x": [
          1,
          2,
          3,
          4,
          5
         ],
         "y": [
          181.5082815,
          0.5328,
          927.3289416788141,
          190,
          0.2
         ]
        },
        {
         "type": "scatter",
         "x": [
          1,
          2,
          3,
          4,
          5
         ],
         "y": [
          236.430725,
          0.4672,
          1251.418883063138,
          190,
          0.2
         ]
        },
        {
         "type": "scatter",
         "x": [
          1,
          2,
          3,
          4,
          5
         ],
         "y": [
          530.1293189,
          0.3136,
          2013.151304730442,
          230,
          0.2
         ]
        },
        {
         "type": "scatter",
         "x": [
          1,
          2,
          3,
          4,
          5
         ],
         "y": [
          545.8748414,
          0.2944,
          2134.4606646748525,
          230,
          0.2
         ]
        },
        {
         "type": "scatter",
         "x": [
          1,
          2,
          3,
          4,
          5
         ],
         "y": [
          576.2970177,
          0.2656,
          2181.1217567826557,
          230,
          0.2
         ]
        },
        {
         "type": "scatter",
         "x": [
          1,
          2,
          3,
          4,
          5
         ],
         "y": [
          662.3266423,
          0.2,
          2191.6031883345277,
          230,
          0.2
         ]
        },
        {
         "type": "scatter",
         "x": [
          1,
          2,
          3,
          4,
          5
         ],
         "y": [
          749.7482407,
          0.1296,
          2095.466763805368,
          230,
          0.2
         ]
        },
        {
         "type": "scatter",
         "x": [
          1,
          2,
          3,
          4,
          5
         ],
         "y": [
          463.5720721,
          0.3912,
          1725.7501417040362,
          210,
          0.2
         ]
        },
        {
         "type": "scatter",
         "x": [
          1,
          2,
          3,
          4,
          5
         ],
         "y": [
          512.7725128,
          0.3416,
          2017.0730606867405,
          210,
          0.2
         ]
        },
        {
         "type": "scatter",
         "x": [
          1,
          2,
          3,
          4,
          5
         ],
         "y": [
          549.7240728,
          0.308,
          2218.9952188848615,
          210,
          0.2
         ]
        },
        {
         "type": "scatter",
         "x": [
          1,
          2,
          3,
          4,
          5
         ],
         "y": [
          617.1355422,
          0.2536,
          2228.7284673944196,
          210,
          0.2
         ]
        },
        {
         "type": "scatter",
         "x": [
          1,
          2,
          3,
          4,
          5
         ],
         "y": [
          689.889358,
          0.1912,
          2172.1396003109458,
          210,
          0.2
         ]
        },
        {
         "type": "scatter",
         "x": [
          1,
          2,
          3,
          4,
          5
         ],
         "y": [
          148.2114379,
          0.5952,
          709.042643485788,
          190,
          0.2
         ]
        },
        {
         "type": "scatter",
         "x": [
          1,
          2,
          3,
          4,
          5
         ],
         "y": [
          142.0044669,
          0.5808,
          744.7669069432407,
          190,
          0.2
         ]
        },
        {
         "type": "scatter",
         "x": [
          1,
          2,
          3,
          4,
          5
         ],
         "y": [
          177.0273279,
          0.5408,
          923.78012935066,
          190,
          0.2
         ]
        },
        {
         "type": "scatter",
         "x": [
          1,
          2,
          3,
          4,
          5
         ],
         "y": [
          224.505842,
          0.4944,
          1133.3834559526035,
          190,
          0.2
         ]
        },
        {
         "type": "scatter",
         "x": [
          1,
          2,
          3,
          4,
          5
         ],
         "y": [
          292.3727924,
          0.4352,
          1491.4020757452631,
          190,
          0.2
         ]
        },
        {
         "type": "scatter",
         "x": [
          1,
          2,
          3,
          4,
          5
         ],
         "y": [
          546.2426092,
          0.3152,
          2164.0947079692583,
          230,
          0.2
         ]
        },
        {
         "type": "scatter",
         "x": [
          1,
          2,
          3,
          4,
          5
         ],
         "y": [
          573.5692771,
          0.2944,
          2201.8559459223547,
          230,
          0.2
         ]
        },
        {
         "type": "scatter",
         "x": [
          1,
          2,
          3,
          4,
          5
         ],
         "y": [
          602.8551074,
          0.264,
          2219.0593029407446,
          230,
          0.2
         ]
        },
        {
         "type": "scatter",
         "x": [
          1,
          2,
          3,
          4,
          5
         ],
         "y": [
          679.4149242,
          0.2056,
          2186.8593359639317,
          230,
          0.2
         ]
        },
        {
         "type": "scatter",
         "x": [
          1,
          2,
          3,
          4,
          5
         ],
         "y": [
          761.0763917,
          0.1296,
          2030.538031827107,
          230,
          0.2
         ]
        },
        {
         "type": "scatter",
         "x": [
          1,
          2,
          3,
          4,
          5
         ],
         "y": [
          474.6668507,
          0.3808,
          1775.1907089030142,
          210,
          0.2
         ]
        },
        {
         "type": "scatter",
         "x": [
          1,
          2,
          3,
          4,
          5
         ],
         "y": [
          521.4264264,
          0.3352,
          2046.3314111786863,
          210,
          0.2
         ]
        },
        {
         "type": "scatter",
         "x": [
          1,
          2,
          3,
          4,
          5
         ],
         "y": [
          551.5090361,
          0.3008,
          2200.4518878594627,
          210,
          0.2
         ]
        },
        {
         "type": "scatter",
         "x": [
          1,
          2,
          3,
          4,
          5
         ],
         "y": [
          617.3614458,
          0.2504,
          2215.9693023274267,
          210,
          0.2
         ]
        },
        {
         "type": "scatter",
         "x": [
          1,
          2,
          3,
          4,
          5
         ],
         "y": [
          693.7439255,
          0.1864,
          2175.552716983926,
          210,
          0.2
         ]
        },
        {
         "type": "scatter",
         "x": [
          1,
          2,
          3,
          4,
          5
         ],
         "y": [
          141.8874162,
          0.6032,
          674.8233945755048,
          190,
          0.2
         ]
        },
        {
         "type": "scatter",
         "x": [
          1,
          2,
          3,
          4,
          5
         ],
         "y": [
          133.1998332,
          0.592,
          706.2866276997986,
          190,
          0.2
         ]
        },
        {
         "type": "scatter",
         "x": [
          1,
          2,
          3,
          4,
          5
         ],
         "y": [
          168.5860267,
          0.548,
          892.3529875415777,
          190,
          0.2
         ]
        },
        {
         "type": "scatter",
         "x": [
          1,
          2,
          3,
          4,
          5
         ],
         "y": [
          215.9389451,
          0.5008,
          1120.503440382257,
          190,
          0.2
         ]
        },
        {
         "type": "scatter",
         "x": [
          1,
          2,
          3,
          4,
          5
         ],
         "y": [
          288.8407592,
          0.4376,
          1452.1602878566696,
          190,
          0.2
         ]
        },
        {
         "type": "scatter",
         "x": [
          1,
          2,
          3,
          4,
          5
         ],
         "y": [
          551.75,
          0.3112,
          2132.153102028266,
          230,
          0.2
         ]
        },
        {
         "type": "scatter",
         "x": [
          1,
          2,
          3,
          4,
          5
         ],
         "y": [
          574.417604,
          0.2904,
          2158.6929900149917,
          230,
          0.2
         ]
        },
        {
         "type": "scatter",
         "x": [
          1,
          2,
          3,
          4,
          5
         ],
         "y": [
          608.9957693,
          0.2608,
          2180.6799680513,
          230,
          0.2
         ]
        },
        {
         "type": "scatter",
         "x": [
          1,
          2,
          3,
          4,
          5
         ],
         "y": [
          680.2854959,
          0.2,
          2171.40305847271,
          230,
          0.2
         ]
        },
        {
         "type": "scatter",
         "x": [
          1,
          2,
          3,
          4,
          5
         ],
         "y": [
          774.4852302,
          0.1272,
          2057.4154965287653,
          230,
          0.2
         ]
        },
        {
         "type": "scatter",
         "x": [
          1,
          2,
          3,
          4,
          5
         ],
         "y": [
          481.7658683,
          0.372,
          1790.4351598456049,
          210,
          0.2
         ]
        },
        {
         "type": "scatter",
         "x": [
          1,
          2,
          3,
          4,
          5
         ],
         "y": [
          525.6002256,
          0.3304,
          2081.1781758056877,
          210,
          0.2
         ]
        },
        {
         "type": "scatter",
         "x": [
          1,
          2,
          3,
          4,
          5
         ],
         "y": [
          563.9189189,
          0.2976,
          2190.6189098845534,
          210,
          0.2
         ]
        },
        {
         "type": "scatter",
         "x": [
          1,
          2,
          3,
          4,
          5
         ],
         "y": [
          621.9309309,
          0.2512,
          2218.578761093559,
          210,
          0.2
         ]
        },
        {
         "type": "scatter",
         "x": [
          1,
          2,
          3,
          4,
          5
         ],
         "y": [
          697.5933735,
          0.1816,
          2173.9133359303996,
          210,
          0.2
         ]
        },
        {
         "type": "scatter",
         "x": [
          1,
          2,
          3,
          4,
          5
         ],
         "y": [
          175.2964647,
          0.5784,
          773.739406055535,
          190,
          0.2
         ]
        },
        {
         "type": "scatter",
         "x": [
          1,
          2,
          3,
          4,
          5
         ],
         "y": [
          186.2099575,
          0.5544,
          854.4772227883022,
          190,
          0.2
         ]
        },
        {
         "type": "scatter",
         "x": [
          1,
          2,
          3,
          4,
          5
         ],
         "y": [
          242.3801802,
          0.5064,
          1085.69739881186,
          190,
          0.2
         ]
        },
        {
         "type": "scatter",
         "x": [
          1,
          2,
          3,
          4,
          5
         ],
         "y": [
          255.6258258,
          0.4768,
          1235.5470263588586,
          190,
          0.2
         ]
        },
        {
         "type": "scatter",
         "x": [
          1,
          2,
          3,
          4,
          5
         ],
         "y": [
          334.5777346,
          0.4104,
          1598.316916837276,
          190,
          0.2
         ]
        },
        {
         "type": "scatter",
         "x": [
          1,
          2,
          3,
          4,
          5
         ],
         "y": [
          565.2673674,
          0.304,
          2096.810556106302,
          230,
          0.2
         ]
        },
        {
         "type": "scatter",
         "x": [
          1,
          2,
          3,
          4,
          5
         ],
         "y": [
          584.7327327,
          0.2856,
          2123.2587306644114,
          230,
          0.2
         ]
        },
        {
         "type": "scatter",
         "x": [
          1,
          2,
          3,
          4,
          5
         ],
         "y": [
          618.3225861,
          0.2584,
          2141.233199942964,
          230,
          0.2
         ]
        },
        {
         "type": "scatter",
         "x": [
          1,
          2,
          3,
          4,
          5
         ],
         "y": [
          690.0451807,
          0.2,
          2148.42622078428,
          230,
          0.2
         ]
        },
        {
         "type": "scatter",
         "x": [
          1,
          2,
          3,
          4,
          5
         ],
         "y": [
          786.1271676,
          0.1248,
          2007.3203441286976,
          230,
          0.2
         ]
        },
        {
         "type": "scatter",
         "x": [
          1,
          2,
          3,
          4,
          5
         ],
         "y": [
          514.7237418,
          0.3464,
          1988.9437170593933,
          210,
          0.2
         ]
        },
        {
         "type": "scatter",
         "x": [
          1,
          2,
          3,
          4,
          5
         ],
         "y": [
          545.5100757,
          0.316,
          2148.3078517932536,
          210,
          0.2
         ]
        },
        {
         "type": "scatter",
         "x": [
          1,
          2,
          3,
          4,
          5
         ],
         "y": [
          572.96997,
          0.2856,
          2179.6051943210896,
          210,
          0.2
         ]
        },
        {
         "type": "scatter",
         "x": [
          1,
          2,
          3,
          4,
          5
         ],
         "y": [
          648.4698795,
          0.2264,
          2181.185588125738,
          210,
          0.2
         ]
        },
        {
         "type": "scatter",
         "x": [
          1,
          2,
          3,
          4,
          5
         ],
         "y": [
          722.5421687,
          0.1592,
          2092.892799849455,
          210,
          0.2
         ]
        },
        {
         "type": "scatter",
         "x": [
          1,
          2,
          3,
          4,
          5
         ],
         "y": [
          237.4364374,
          0.54,
          920.9681402484587,
          190,
          0.2
         ]
        },
        {
         "type": "scatter",
         "x": [
          1,
          2,
          3,
          4,
          5
         ],
         "y": [
          258.4737432,
          0.512,
          1034.461178676718,
          190,
          0.2
         ]
        },
        {
         "type": "scatter",
         "x": [
          1,
          2,
          3,
          4,
          5
         ],
         "y": [
          314.4603145,
          0.4656,
          1265.1992395697814,
          190,
          0.2
         ]
        },
        {
         "type": "scatter",
         "x": [
          1,
          2,
          3,
          4,
          5
         ],
         "y": [
          347.2629518,
          0.4304,
          1467.7307216157644,
          190,
          0.2
         ]
        },
        {
         "type": "scatter",
         "x": [
          1,
          2,
          3,
          4,
          5
         ],
         "y": [
          422.0593628,
          0.3664,
          1874.9135859935236,
          190,
          0.2
         ]
        },
        {
         "type": "scatter",
         "x": [
          1,
          2,
          3,
          4,
          5
         ],
         "y": [
          582.9521779,
          0.3144,
          2170.893987914148,
          230,
          0.15
         ]
        },
        {
         "type": "scatter",
         "x": [
          1,
          2,
          3,
          4,
          5
         ],
         "y": [
          605.1204819,
          0.2864,
          2256.233135995311,
          230,
          0.15
         ]
        },
        {
         "type": "scatter",
         "x": [
          1,
          2,
          3,
          4,
          5
         ],
         "y": [
          645.6656827,
          0.2552,
          2253.7498283180585,
          230,
          0.15
         ]
        },
        {
         "type": "scatter",
         "x": [
          1,
          2,
          3,
          4,
          5
         ],
         "y": [
          707.1906742,
          0.2,
          2234.6584998012877,
          230,
          0.15
         ]
        },
        {
         "type": "scatter",
         "x": [
          1,
          2,
          3,
          4,
          5
         ],
         "y": [
          773.1501502,
          0.132,
          2106.3087883649814,
          230,
          0.15
         ]
        },
        {
         "type": "scatter",
         "x": [
          1,
          2,
          3,
          4,
          5
         ],
         "y": [
          482.3585586,
          0.3968,
          1657.3381203923345,
          210,
          0.15
         ]
        },
        {
         "type": "scatter",
         "x": [
          1,
          2,
          3,
          4,
          5
         ],
         "y": [
          524.3982721,
          0.3496,
          1895.2184846439613,
          210,
          0.15
         ]
        },
        {
         "type": "scatter",
         "x": [
          1,
          2,
          3,
          4,
          5
         ],
         "y": [
          570.9694794,
          0.3064,
          2214.1717253499683,
          210,
          0.15
         ]
        },
        {
         "type": "scatter",
         "x": [
          1,
          2,
          3,
          4,
          5
         ],
         "y": [
          629.4445935,
          0.2584,
          2277.3321055273645,
          210,
          0.15
         ]
        },
        {
         "type": "scatter",
         "x": [
          1,
          2,
          3,
          4,
          5
         ],
         "y": [
          695.9661347,
          0.2,
          2241.7216962024704,
          210,
          0.15
         ]
        },
        {
         "type": "scatter",
         "x": [
          1,
          2,
          3,
          4,
          5
         ],
         "y": [
          285.4445854,
          0.5456,
          946.6130382288777,
          190,
          0.15
         ]
        },
        {
         "type": "scatter",
         "x": [
          1,
          2,
          3,
          4,
          5
         ],
         "y": [
          285.2846392,
          0.528,
          1025.142125550605,
          190,
          0.15
         ]
        },
        {
         "type": "scatter",
         "x": [
          1,
          2,
          3,
          4,
          5
         ],
         "y": [
          319.490061,
          0.4968,
          1190.9369206045649,
          190,
          0.15
         ]
        },
        {
         "type": "scatter",
         "x": [
          1,
          2,
          3,
          4,
          5
         ],
         "y": [
          369.9162699,
          0.4488,
          1450.3613907275685,
          190,
          0.15
         ]
        },
        {
         "type": "scatter",
         "x": [
          1,
          2,
          3,
          4,
          5
         ],
         "y": [
          435.5027617,
          0.3912,
          1792.4466908907698,
          190,
          0.15
         ]
        },
        {
         "type": "scatter",
         "x": [
          1,
          2,
          3,
          4,
          5
         ],
         "y": [
          579.5422436,
          0.3048,
          2178.169001612371,
          230,
          0.15
         ]
        },
        {
         "type": "scatter",
         "x": [
          1,
          2,
          3,
          4,
          5
         ],
         "y": [
          598.0202365,
          0.2816,
          2255.545808587153,
          230,
          0.15
         ]
        },
        {
         "type": "scatter",
         "x": [
          1,
          2,
          3,
          4,
          5
         ],
         "y": [
          635.0421687,
          0.252,
          2254.192407866616,
          230,
          0.15
         ]
        },
        {
         "type": "scatter",
         "x": [
          1,
          2,
          3,
          4,
          5
         ],
         "y": [
          701.321562,
          0.1888,
          2239.0571673475806,
          230,
          0.15
         ]
        },
        {
         "type": "scatter",
         "x": [
          1,
          2,
          3,
          4,
          5
         ],
         "y": [
          785.0830342,
          0.1216,
          2071.4569169869524,
          230,
          0.15
         ]
        },
        {
         "type": "scatter",
         "x": [
          1,
          2,
          3,
          4,
          5
         ],
         "y": [
          518.9809048,
          0.3648,
          1857.3769571594798,
          210,
          0.15
         ]
        },
        {
         "type": "scatter",
         "x": [
          1,
          2,
          3,
          4,
          5
         ],
         "y": [
          558.1617654,
          0.3216,
          2138.5329030444072,
          210,
          0.15
         ]
        },
        {
         "type": "scatter",
         "x": [
          1,
          2,
          3,
          4,
          5
         ],
         "y": [
          604.9113389,
          0.2864,
          2243.0886955447104,
          210,
          0.15
         ]
        },
        {
         "type": "scatter",
         "x": [
          1,
          2,
          3,
          4,
          5
         ],
         "y": [
          663.5614594,
          0.2336,
          2251.8376146526057,
          210,
          0.15
         ]
        },
        {
         "type": "scatter",
         "x": [
          1,
          2,
          3,
          4,
          5
         ],
         "y": [
          734.6524882,
          0.1736,
          2159.0623487075045,
          210,
          0.15
         ]
        },
        {
         "type": "scatter",
         "x": [
          1,
          2,
          3,
          4,
          5
         ],
         "y": [
          321.0750751,
          0.5224,
          1061.2737950555165,
          190,
          0.15
         ]
        },
        {
         "type": "scatter",
         "x": [
          1,
          2,
          3,
          4,
          5
         ],
         "y": [
          322.647465,
          0.5016,
          1110.6004299929941,
          190,
          0.15
         ]
        },
        {
         "type": "scatter",
         "x": [
          1,
          2,
          3,
          4,
          5
         ],
         "y": [
          360.53003,
          0.468,
          1304.7696662021403,
          190,
          0.15
         ]
        },
        {
         "type": "scatter",
         "x": [
          1,
          2,
          3,
          4,
          5
         ],
         "y": [
          405.8924017,
          0.4232,
          1519.8865452316436,
          190,
          0.15
         ]
        },
        {
         "type": "scatter",
         "x": [
          1,
          2,
          3,
          4,
          5
         ],
         "y": [
          469.0786883,
          0.3632,
          1957.4068632808358,
          190,
          0.15
         ]
        },
        {
         "type": "scatter",
         "x": [
          1,
          2,
          3,
          4,
          5
         ],
         "y": [
          593.1566265,
          0.3112,
          2161.4556032965957,
          230,
          0.15
         ]
        },
        {
         "type": "scatter",
         "x": [
          1,
          2,
          3,
          4,
          5
         ],
         "y": [
          608.753012,
          0.2872,
          2182.388646837082,
          230,
          0.15
         ]
        },
        {
         "type": "scatter",
         "x": [
          1,
          2,
          3,
          4,
          5
         ],
         "y": [
          646.0628346,
          0.256,
          2196.191109598112,
          230,
          0.15
         ]
        },
        {
         "type": "scatter",
         "x": [
          1,
          2,
          3,
          4,
          5
         ],
         "y": [
          706.8018018,
          0.2,
          2184.0524153900824,
          230,
          0.15
         ]
        },
        {
         "type": "scatter",
         "x": [
          1,
          2,
          3,
          4,
          5
         ],
         "y": [
          790.2762763,
          0.128,
          2033.1420666524427,
          230,
          0.15
         ]
        },
        {
         "type": "scatter",
         "x": [
          1,
          2,
          3,
          4,
          5
         ],
         "y": [
          531.2771084,
          0.3496,
          1815.0212331666085,
          210,
          0.15
         ]
        },
        {
         "type": "scatter",
         "x": [
          1,
          2,
          3,
          4,
          5
         ],
         "y": [
          576.5525044,
          0.308,
          2095.0302265562227,
          210,
          0.15
         ]
        },
        {
         "type": "scatter",
         "x": [
          1,
          2,
          3,
          4,
          5
         ],
         "y": [
          616.4813462,
          0.2728,
          2231.506414421517,
          210,
          0.15
         ]
        },
        {
         "type": "scatter",
         "x": [
          1,
          2,
          3,
          4,
          5
         ],
         "y": [
          675.0421687,
          0.224,
          2229.625952209481,
          210,
          0.15
         ]
        },
        {
         "type": "scatter",
         "x": [
          1,
          2,
          3,
          4,
          5
         ],
         "y": [
          752.6453234,
          0.1568,
          2147.605787566202,
          210,
          0.15
         ]
        },
        {
         "type": "scatter",
         "x": [
          1,
          2,
          3,
          4,
          5
         ],
         "y": [
          339.4768516,
          0.5088,
          1089.9352479463003,
          190,
          0.15
         ]
        },
        {
         "type": "scatter",
         "x": [
          1,
          2,
          3,
          4,
          5
         ],
         "y": [
          346.6282251,
          0.4864,
          1154.5390984409908,
          190,
          0.15
         ]
        },
        {
         "type": "scatter",
         "x": [
          1,
          2,
          3,
          4,
          5
         ],
         "y": [
          377.7084084,
          0.4496,
          1337.1088430326643,
          190,
          0.15
         ]
        },
        {
         "type": "scatter",
         "x": [
          1,
          2,
          3,
          4,
          5
         ],
         "y": [
          435.1525352,
          0.4032,
          1646.1146335249077,
          190,
          0.15
         ]
        },
        {
         "type": "scatter",
         "x": [
          1,
          2,
          3,
          4,
          5
         ],
         "y": [
          508.7401773,
          0.3328,
          2110.9016381292668,
          190,
          0.15
         ]
        },
        {
         "type": "scatter",
         "x": [
          1,
          2,
          3,
          4,
          5
         ],
         "y": [
          586.2673884,
          0.3096,
          2153.765585862647,
          230,
          0.15
         ]
        },
        {
         "type": "scatter",
         "x": [
          1,
          2,
          3,
          4,
          5
         ],
         "y": [
          611.9376119,
          0.2808,
          2196.9540405320495,
          230,
          0.15
         ]
        },
        {
         "type": "scatter",
         "x": [
          1,
          2,
          3,
          4,
          5
         ],
         "y": [
          650.4590275,
          0.2456,
          2207.166380918949,
          230,
          0.15
         ]
        },
        {
         "type": "scatter",
         "x": [
          1,
          2,
          3,
          4,
          5
         ],
         "y": [
          720.7650158,
          0.1864,
          2179.8399887531596,
          230,
          0.15
         ]
        },
        {
         "type": "scatter",
         "x": [
          1,
          2,
          3,
          4,
          5
         ],
         "y": [
          797.6312986,
          0.112,
          2010.7459737109525,
          230,
          0.15
         ]
        },
        {
         "type": "scatter",
         "x": [
          1,
          2,
          3,
          4,
          5
         ],
         "y": [
          548.0960961,
          0.328,
          1976.008770677966,
          210,
          0.15
         ]
        },
        {
         "type": "scatter",
         "x": [
          1,
          2,
          3,
          4,
          5
         ],
         "y": [
          580.7328385,
          0.296,
          2126.835223535359,
          210,
          0.15
         ]
        },
        {
         "type": "scatter",
         "x": [
          1,
          2,
          3,
          4,
          5
         ],
         "y": [
          624.012662,
          0.2616,
          2169.8920919315574,
          210,
          0.15
         ]
        },
        {
         "type": "scatter",
         "x": [
          1,
          2,
          3,
          4,
          5
         ],
         "y": [
          678.8289791,
          0.2104,
          2195.4931523613513,
          210,
          0.15
         ]
        },
        {
         "type": "scatter",
         "x": [
          1,
          2,
          3,
          4,
          5
         ],
         "y": [
          757.9156627,
          0.1448,
          2129.7084778476546,
          210,
          0.15
         ]
        },
        {
         "type": "scatter",
         "x": [
          1,
          2,
          3,
          4,
          5
         ],
         "y": [
          405.0591284,
          0.472,
          1322.9833575430184,
          190,
          0.15
         ]
        },
        {
         "type": "scatter",
         "x": [
          1,
          2,
          3,
          4,
          5
         ],
         "y": [
          405.997288,
          0.4576,
          1390.519675484984,
          190,
          0.15
         ]
        },
        {
         "type": "scatter",
         "x": [
          1,
          2,
          3,
          4,
          5
         ],
         "y": [
          440.9192192,
          0.4216,
          1587.045568786304,
          190,
          0.15
         ]
        },
        {
         "type": "scatter",
         "x": [
          1,
          2,
          3,
          4,
          5
         ],
         "y": [
          504.4669911,
          0.3672,
          2000.4317928508983,
          190,
          0.15
         ]
        },
        {
         "type": "scatter",
         "x": [
          1,
          2,
          3,
          4,
          5
         ],
         "y": [
          591.8704819,
          0.2952,
          2204.25434260929,
          190,
          0.15
         ]
        },
        {
         "type": "scatter",
         "x": [
          1,
          2,
          3,
          4,
          5
         ],
         "y": [
          587.6945645,
          0.3056,
          2120.024501431033,
          230,
          0.15
         ]
        },
        {
         "type": "scatter",
         "x": [
          1,
          2,
          3,
          4,
          5
         ],
         "y": [
          609.7959822,
          0.2784,
          2160.96901870442,
          230,
          0.15
         ]
        },
        {
         "type": "scatter",
         "x": [
          1,
          2,
          3,
          4,
          5
         ],
         "y": [
          651.0578245,
          0.2472,
          2190.657371714894,
          230,
          0.15
         ]
        },
        {
         "type": "scatter",
         "x": [
          1,
          2,
          3,
          4,
          5
         ],
         "y": [
          721.2158742,
          0.1832,
          2168.462848984654,
          230,
          0.15
         ]
        },
        {
         "type": "scatter",
         "x": [
          1,
          2,
          3,
          4,
          5
         ],
         "y": [
          802.2220485,
          0.1112,
          2003.6031660809583,
          230,
          0.15
         ]
        },
        {
         "type": "scatter",
         "x": [
          1,
          2,
          3,
          4,
          5
         ],
         "y": [
          558.7045265,
          0.3224,
          1979.9470858342386,
          210,
          0.15
         ]
        },
        {
         "type": "scatter",
         "x": [
          1,
          2,
          3,
          4,
          5
         ],
         "y": [
          579.4729476,
          0.2968,
          2117.1581487255535,
          210,
          0.15
         ]
        },
        {
         "type": "scatter",
         "x": [
          1,
          2,
          3,
          4,
          5
         ],
         "y": [
          615.1226301,
          0.2664,
          2176.8210613805895,
          210,
          0.15
         ]
        },
        {
         "type": "scatter",
         "x": [
          1,
          2,
          3,
          4,
          5
         ],
         "y": [
          679.93198,
          0.2104,
          2190.6930681188774,
          210,
          0.15
         ]
        },
        {
         "type": "scatter",
         "x": [
          1,
          2,
          3,
          4,
          5
         ],
         "y": [
          757.2919745,
          0.144,
          2126.8970507488584,
          210,
          0.15
         ]
        },
        {
         "type": "scatter",
         "x": [
          1,
          2,
          3,
          4,
          5
         ],
         "y": [
          408.5306003,
          0.4696,
          1336.2740418690673,
          190,
          0.15
         ]
        },
        {
         "type": "scatter",
         "x": [
          1,
          2,
          3,
          4,
          5
         ],
         "y": [
          430.9428144,
          0.4384,
          1483.8160292488933,
          190,
          0.15
         ]
        },
        {
         "type": "scatter",
         "x": [
          1,
          2,
          3,
          4,
          5
         ],
         "y": [
          472.145045,
          0.3992,
          1704.2023265571224,
          190,
          0.15
         ]
        },
        {
         "type": "scatter",
         "x": [
          1,
          2,
          3,
          4,
          5
         ],
         "y": [
          534.2595877,
          0.3432,
          2111.7412351424855,
          190,
          0.15
         ]
        },
        {
         "type": "scatter",
         "x": [
          1,
          2,
          3,
          4,
          5
         ],
         "y": [
          621.1260089,
          0.2784,
          2207.7523525537677,
          190,
          0.15
         ]
        },
        {
         "type": "scatter",
         "x": [
          1,
          2,
          3,
          4,
          5
         ],
         "y": [
          609.918365,
          0.3168,
          2167.720192676855,
          230,
          0.1
         ]
        },
        {
         "type": "scatter",
         "x": [
          1,
          2,
          3,
          4,
          5
         ],
         "y": [
          645.1721617,
          0.2776,
          2260.4936706893577,
          230,
          0.1
         ]
        },
        {
         "type": "scatter",
         "x": [
          1,
          2,
          3,
          4,
          5
         ],
         "y": [
          683.1566265,
          0.2392,
          2266.4209937717605,
          230,
          0.1
         ]
        },
        {
         "type": "scatter",
         "x": [
          1,
          2,
          3,
          4,
          5
         ],
         "y": [
          741.2143844,
          0.1864,
          2233.9494071487884,
          230,
          0.1
         ]
        },
        {
         "type": "scatter",
         "x": [
          1,
          2,
          3,
          4,
          5
         ],
         "y": [
          803.9351977,
          0.1264,
          2100.2586522492793,
          230,
          0.1
         ]
        },
        {
         "type": "scatter",
         "x": [
          1,
          2,
          3,
          4,
          5
         ],
         "y": [
          582.4457831,
          0.3416,
          1988.526532957294,
          210,
          0.1
         ]
        },
        {
         "type": "scatter",
         "x": [
          1,
          2,
          3,
          4,
          5
         ],
         "y": [
          619.4457831,
          0.3008,
          2255.4599755113654,
          210,
          0.1
         ]
        },
        {
         "type": "scatter",
         "x": [
          1,
          2,
          3,
          4,
          5
         ],
         "y": [
          653.7117891,
          0.268,
          2287.8486769416104,
          210,
          0.1
         ]
        },
        {
         "type": "scatter",
         "x": [
          1,
          2,
          3,
          4,
          5
         ],
         "y": [
          715.2524727,
          0.2168,
          2268.0327243122497,
          210,
          0.1
         ]
        },
        {
         "type": "scatter",
         "x": [
          1,
          2,
          3,
          4,
          5
         ],
         "y": [
          774.5763782,
          0.16,
          2169.501292366112,
          210,
          0.1
         ]
        },
        {
         "type": "scatter",
         "x": [
          1,
          2,
          3,
          4,
          5
         ],
         "y": [
          421.0740049,
          0.476,
          1189.269721856294,
          190,
          0.1
         ]
        },
        {
         "type": "scatter",
         "x": [
          1,
          2,
          3,
          4,
          5
         ],
         "y": [
          433.1020331,
          0.4544,
          1320.7626653995271,
          190,
          0.1
         ]
        },
        {
         "type": "scatter",
         "x": [
          1,
          2,
          3,
          4,
          5
         ],
         "y": [
          469.2433735,
          0.4184,
          1515.969329133668,
          190,
          0.1
         ]
        },
        {
         "type": "scatter",
         "x": [
          1,
          2,
          3,
          4,
          5
         ],
         "y": [
          534.3856915,
          0.3584,
          1828.2404134722037,
          190,
          0.1
         ]
        },
        {
         "type": "scatter",
         "x": [
          1,
          2,
          3,
          4,
          5
         ],
         "y": [
          599.221263,
          0.3,
          2222.839903774109,
          190,
          0.1
         ]
        },
        {
         "type": "scatter",
         "x": [
          1,
          2,
          3,
          4,
          5
         ],
         "y": [
          604.9035007,
          0.3144,
          2101.5638629332407,
          230,
          0.1
         ]
        },
        {
         "type": "scatter",
         "x": [
          1,
          2,
          3,
          4,
          5
         ],
         "y": [
          646.1331071,
          0.2736,
          2244.6675129149116,
          230,
          0.1
         ]
        },
        {
         "type": "scatter",
         "x": [
          1,
          2,
          3,
          4,
          5
         ],
         "y": [
          686.0678897,
          0.24,
          2241.7913355455803,
          230,
          0.1
         ]
        },
        {
         "type": "scatter",
         "x": [
          1,
          2,
          3,
          4,
          5
         ],
         "y": [
          745.5263245,
          0.1856,
          2218.600545763472,
          230,
          0.1
         ]
        },
        {
         "type": "scatter",
         "x": [
          1,
          2,
          3,
          4,
          5
         ],
         "y": [
          810.9819277,
          0.1224,
          2067.7891745745474,
          230,
          0.1
         ]
        },
        {
         "type": "scatter",
         "x": [
          1,
          2,
          3,
          4,
          5
         ],
         "y": [
          596.0150602,
          0.3312,
          2025.4411071548286,
          210,
          0.1
         ]
        },
        {
         "type": "scatter",
         "x": [
          1,
          2,
          3,
          4,
          5
         ],
         "y": [
          631.1957831,
          0.2936,
          2241.389068760939,
          210,
          0.1
         ]
        },
        {
         "type": "scatter",
         "x": [
          1,
          2,
          3,
          4,
          5
         ],
         "y": [
          661.9186747,
          0.2608,
          2255.402782741541,
          210,
          0.1
         ]
        },
        {
         "type": "scatter",
         "x": [
          1,
          2,
          3,
          4,
          5
         ],
         "y": [
          715.463961,
          0.2104,
          2261.20896126265,
          210,
          0.1
         ]
        },
        {
         "type": "scatter",
         "x": [
          1,
          2,
          3,
          4,
          5
         ],
         "y": [
          775.4939759,
          0.152,
          2185.0502353360816,
          210,
          0.1
         ]
        },
        {
         "type": "scatter",
         "x": [
          1,
          2,
          3,
          4,
          5
         ],
         "y": [
          500.8742515,
          0.4104,
          1670.6174294024372,
          190,
          0.1
         ]
        },
        {
         "type": "scatter",
         "x": [
          1,
          2,
          3,
          4,
          5
         ],
         "y": [
          533.070821,
          0.3776,
          1848.4127039679715,
          190,
          0.1
         ]
        },
        {
         "type": "scatter",
         "x": [
          1,
          2,
          3,
          4,
          5
         ],
         "y": [
          576.0210843,
          0.3456,
          2054.100950606491,
          190,
          0.1
         ]
        },
        {
         "type": "scatter",
         "x": [
          1,
          2,
          3,
          4,
          5
         ],
         "y": [
          631.5873494,
          0.2936,
          2259.1587602254804,
          190,
          0.1
         ]
        },
        {
         "type": "scatter",
         "x": [
          1,
          2,
          3,
          4,
          5
         ],
         "y": [
          695.6746988,
          0.2328,
          2242.8877073630215,
          190,
          0.1
         ]
        },
        {
         "type": "scatter",
         "x": [
          1,
          2,
          3,
          4,
          5
         ],
         "y": [
          605.0560393,
          0.324,
          2139.5698012024914,
          230,
          0.1
         ]
        },
        {
         "type": "scatter",
         "x": [
          1,
          2,
          3,
          4,
          5
         ],
         "y": [
          649.8524096,
          0.2824,
          2233.7610989919754,
          230,
          0.1
         ]
        },
        {
         "type": "scatter",
         "x": [
          1,
          2,
          3,
          4,
          5
         ],
         "y": [
          688.4540506,
          0.2448,
          2236.4027168342263,
          230,
          0.1
         ]
        },
        {
         "type": "scatter",
         "x": [
          1,
          2,
          3,
          4,
          5
         ],
         "y": [
          752.7710843,
          0.1904,
          2188.6711736913658,
          230,
          0.1
         ]
        },
        {
         "type": "scatter",
         "x": [
          1,
          2,
          3,
          4,
          5
         ],
         "y": [
          817.8844713,
          0.1216,
          2001.8230060995968,
          230,
          0.1
         ]
        },
        {
         "type": "scatter",
         "x": [
          1,
          2,
          3,
          4,
          5
         ],
         "y": [
          596.9427711,
          0.3336,
          2007.3683039745454,
          210,
          0.1
         ]
        },
        {
         "type": "scatter",
         "x": [
          1,
          2,
          3,
          4,
          5
         ],
         "y": [
          634.5221852,
          0.296,
          2224.679867251352,
          210,
          0.1
         ]
        },
        {
         "type": "scatter",
         "x": [
          1,
          2,
          3,
          4,
          5
         ],
         "y": [
          664.6957579,
          0.2648,
          2241.3682790001435,
          210,
          0.1
         ]
        },
        {
         "type": "scatter",
         "x": [
          1,
          2,
          3,
          4,
          5
         ],
         "y": [
          722.8012048,
          0.216,
          2235.3892412554824,
          210,
          0.1
         ]
        },
        {
         "type": "scatter",
         "x": [
          1,
          2,
          3,
          4,
          5
         ],
         "y": [
          786.6935071,
          0.152,
          2132.5700649450687,
          210,
          0.1
         ]
        },
        {
         "type": "scatter",
         "x": [
          1,
          2,
          3,
          4,
          5
         ],
         "y": [
          537.8982586,
          0.3864,
          1765.612332025098,
          190,
          0.1
         ]
        },
        {
         "type": "scatter",
         "x": [
          1,
          2,
          3,
          4,
          5
         ],
         "y": [
          568.2559436,
          0.3552,
          1997.5876795895479,
          190,
          0.1
         ]
        },
        {
         "type": "scatter",
         "x": [
          1,
          2,
          3,
          4,
          5
         ],
         "y": [
          602.0332706,
          0.3224,
          2225.925897203295,
          190,
          0.1
         ]
        },
        {
         "type": "scatter",
         "x": [
          1,
          2,
          3,
          4,
          5
         ],
         "y": [
          666.4700767,
          0.268,
          2242.3421135518756,
          190,
          0.1
         ]
        },
        {
         "type": "scatter",
         "x": [
          1,
          2,
          3,
          4,
          5
         ],
         "y": [
          725.1499997,
          0.2096,
          2202.1972129080614,
          190,
          0.1
         ]
        },
        {
         "type": "scatter",
         "x": [
          1,
          2,
          3,
          4,
          5
         ],
         "y": [
          603.5693115,
          0.3288,
          2146.064436477777,
          230,
          0.1
         ]
        },
        {
         "type": "scatter",
         "x": [
          1,
          2,
          3,
          4,
          5
         ],
         "y": [
          654.310241,
          0.2768,
          2217.8121102267723,
          230,
          0.1
         ]
        },
        {
         "type": "scatter",
         "x": [
          1,
          2,
          3,
          4,
          5
         ],
         "y": [
          692.1837349,
          0.2384,
          2212.0856941463985,
          230,
          0.1
         ]
        },
        {
         "type": "scatter",
         "x": [
          1,
          2,
          3,
          4,
          5
         ],
         "y": [
          749.5892686,
          0.1872,
          2151.8331428618812,
          230,
          0.1
         ]
        },
        {
         "type": "scatter",
         "x": [
          1,
          2,
          3,
          4,
          5
         ],
         "y": [
          820.0272344,
          0.1216,
          1967.8841273192031,
          230,
          0.1
         ]
        },
        {
         "type": "scatter",
         "x": [
          1,
          2,
          3,
          4,
          5
         ],
         "y": [
          606.0168385,
          0.3224,
          2144.8351297460295,
          210,
          0.1
         ]
        },
        {
         "type": "scatter",
         "x": [
          1,
          2,
          3,
          4,
          5
         ],
         "y": [
          644.9645386,
          0.2864,
          2236.387315375755,
          210,
          0.1
         ]
        },
        {
         "type": "scatter",
         "x": [
          1,
          2,
          3,
          4,
          5
         ],
         "y": [
          678.7108434,
          0.2512,
          2261.2638821731894,
          210,
          0.1
         ]
        },
        {
         "type": "scatter",
         "x": [
          1,
          2,
          3,
          4,
          5
         ],
         "y": [
          736.1178531,
          0.2032,
          2218.043906727312,
          210,
          0.1
         ]
        },
        {
         "type": "scatter",
         "x": [
          1,
          2,
          3,
          4,
          5
         ],
         "y": [
          802.1204819,
          0.1456,
          2120.4582925613636,
          210,
          0.1
         ]
        },
        {
         "type": "scatter",
         "x": [
          1,
          2,
          3,
          4,
          5
         ],
         "y": [
          554.4017597,
          0.3784,
          1867.8547465018144,
          190,
          0.1
         ]
        },
        {
         "type": "scatter",
         "x": [
          1,
          2,
          3,
          4,
          5
         ],
         "y": [
          588.0938697,
          0.3456,
          2068.1890921977183,
          190,
          0.1
         ]
        },
        {
         "type": "scatter",
         "x": [
          1,
          2,
          3,
          4,
          5
         ],
         "y": [
          623.9879518,
          0.308,
          2228.6419651226274,
          190,
          0.1
         ]
        },
        {
         "type": "scatter",
         "x": [
          1,
          2,
          3,
          4,
          5
         ],
         "y": [
          678.196267,
          0.2576,
          2248.809389256908,
          190,
          0.1
         ]
        },
        {
         "type": "scatter",
         "x": [
          1,
          2,
          3,
          4,
          5
         ],
         "y": [
          736.1986611,
          0.2,
          2193.3058401626067,
          190,
          0.1
         ]
        },
        {
         "type": "scatter",
         "x": [
          1,
          2,
          3,
          4,
          5
         ],
         "y": [
          605.7659035,
          0.3192,
          2150.133548347403,
          230,
          0.1
         ]
        },
        {
         "type": "scatter",
         "x": [
          1,
          2,
          3,
          4,
          5
         ],
         "y": [
          651.1420774,
          0.2728,
          2198.129181331323,
          230,
          0.1
         ]
        },
        {
         "type": "scatter",
         "x": [
          1,
          2,
          3,
          4,
          5
         ],
         "y": [
          693.5453295,
          0.2408,
          2200.8750968207532,
          230,
          0.1
         ]
        },
        {
         "type": "scatter",
         "x": [
          1,
          2,
          3,
          4,
          5
         ],
         "y": [
          756.876506,
          0.1848,
          2148.525718399137,
          230,
          0.1
         ]
        },
        {
         "type": "scatter",
         "x": [
          1,
          2,
          3,
          4,
          5
         ],
         "y": [
          827.9307229,
          0.1144,
          1960.2315459966856,
          230,
          0.1
         ]
        },
        {
         "type": "scatter",
         "x": [
          1,
          2,
          3,
          4,
          5
         ],
         "y": [
          604.9384202,
          0.312,
          2144.81962294359,
          210,
          0.1
         ]
        },
        {
         "type": "scatter",
         "x": [
          1,
          2,
          3,
          4,
          5
         ],
         "y": [
          637.9365337,
          0.2768,
          2222.4709618696984,
          210,
          0.1
         ]
        },
        {
         "type": "scatter",
         "x": [
          1,
          2,
          3,
          4,
          5
         ],
         "y": [
          668.3517185,
          0.2488,
          2262.569366016226,
          210,
          0.1
         ]
        },
        {
         "type": "scatter",
         "x": [
          1,
          2,
          3,
          4,
          5
         ],
         "y": [
          718.2412874,
          0.2,
          2280.2965792690925,
          210,
          0.1
         ]
        },
        {
         "type": "scatter",
         "x": [
          1,
          2,
          3,
          4,
          5
         ],
         "y": [
          800.0570571,
          0.1352,
          2134.3561113163005,
          210,
          0.1
         ]
        },
        {
         "type": "scatter",
         "x": [
          1,
          2,
          3,
          4,
          5
         ],
         "y": [
          561.4325614,
          0.364,
          1873.10792534239,
          190,
          0.1
         ]
        },
        {
         "type": "scatter",
         "x": [
          1,
          2,
          3,
          4,
          5
         ],
         "y": [
          594.3573574,
          0.3304,
          2064.9482551611245,
          190,
          0.1
         ]
        },
        {
         "type": "scatter",
         "x": [
          1,
          2,
          3,
          4,
          5
         ],
         "y": [
          630.3584337,
          0.2968,
          2255.0932625144205,
          190,
          0.1
         ]
        },
        {
         "type": "scatter",
         "x": [
          1,
          2,
          3,
          4,
          5
         ],
         "y": [
          691.018674,
          0.244,
          2266.351168475735,
          190,
          0.1
         ]
        },
        {
         "type": "scatter",
         "x": [
          1,
          2,
          3,
          4,
          5
         ],
         "y": [
          763.3644578,
          0.1808,
          2220.0751979865336,
          190,
          0.1
         ]
        }
       ],
       "layout": {
        "template": {
         "data": {
          "bar": [
           {
            "error_x": {
             "color": "#2a3f5f"
            },
            "error_y": {
             "color": "#2a3f5f"
            },
            "marker": {
             "line": {
              "color": "#E5ECF6",
              "width": 0.5
             },
             "pattern": {
              "fillmode": "overlay",
              "size": 10,
              "solidity": 0.2
             }
            },
            "type": "bar"
           }
          ],
          "barpolar": [
           {
            "marker": {
             "line": {
              "color": "#E5ECF6",
              "width": 0.5
             },
             "pattern": {
              "fillmode": "overlay",
              "size": 10,
              "solidity": 0.2
             }
            },
            "type": "barpolar"
           }
          ],
          "carpet": [
           {
            "aaxis": {
             "endlinecolor": "#2a3f5f",
             "gridcolor": "white",
             "linecolor": "white",
             "minorgridcolor": "white",
             "startlinecolor": "#2a3f5f"
            },
            "baxis": {
             "endlinecolor": "#2a3f5f",
             "gridcolor": "white",
             "linecolor": "white",
             "minorgridcolor": "white",
             "startlinecolor": "#2a3f5f"
            },
            "type": "carpet"
           }
          ],
          "choropleth": [
           {
            "colorbar": {
             "outlinewidth": 0,
             "ticks": ""
            },
            "type": "choropleth"
           }
          ],
          "contour": [
           {
            "colorbar": {
             "outlinewidth": 0,
             "ticks": ""
            },
            "colorscale": [
             [
              0,
              "#0d0887"
             ],
             [
              0.1111111111111111,
              "#46039f"
             ],
             [
              0.2222222222222222,
              "#7201a8"
             ],
             [
              0.3333333333333333,
              "#9c179e"
             ],
             [
              0.4444444444444444,
              "#bd3786"
             ],
             [
              0.5555555555555556,
              "#d8576b"
             ],
             [
              0.6666666666666666,
              "#ed7953"
             ],
             [
              0.7777777777777778,
              "#fb9f3a"
             ],
             [
              0.8888888888888888,
              "#fdca26"
             ],
             [
              1,
              "#f0f921"
             ]
            ],
            "type": "contour"
           }
          ],
          "contourcarpet": [
           {
            "colorbar": {
             "outlinewidth": 0,
             "ticks": ""
            },
            "type": "contourcarpet"
           }
          ],
          "heatmap": [
           {
            "colorbar": {
             "outlinewidth": 0,
             "ticks": ""
            },
            "colorscale": [
             [
              0,
              "#0d0887"
             ],
             [
              0.1111111111111111,
              "#46039f"
             ],
             [
              0.2222222222222222,
              "#7201a8"
             ],
             [
              0.3333333333333333,
              "#9c179e"
             ],
             [
              0.4444444444444444,
              "#bd3786"
             ],
             [
              0.5555555555555556,
              "#d8576b"
             ],
             [
              0.6666666666666666,
              "#ed7953"
             ],
             [
              0.7777777777777778,
              "#fb9f3a"
             ],
             [
              0.8888888888888888,
              "#fdca26"
             ],
             [
              1,
              "#f0f921"
             ]
            ],
            "type": "heatmap"
           }
          ],
          "heatmapgl": [
           {
            "colorbar": {
             "outlinewidth": 0,
             "ticks": ""
            },
            "colorscale": [
             [
              0,
              "#0d0887"
             ],
             [
              0.1111111111111111,
              "#46039f"
             ],
             [
              0.2222222222222222,
              "#7201a8"
             ],
             [
              0.3333333333333333,
              "#9c179e"
             ],
             [
              0.4444444444444444,
              "#bd3786"
             ],
             [
              0.5555555555555556,
              "#d8576b"
             ],
             [
              0.6666666666666666,
              "#ed7953"
             ],
             [
              0.7777777777777778,
              "#fb9f3a"
             ],
             [
              0.8888888888888888,
              "#fdca26"
             ],
             [
              1,
              "#f0f921"
             ]
            ],
            "type": "heatmapgl"
           }
          ],
          "histogram": [
           {
            "marker": {
             "pattern": {
              "fillmode": "overlay",
              "size": 10,
              "solidity": 0.2
             }
            },
            "type": "histogram"
           }
          ],
          "histogram2d": [
           {
            "colorbar": {
             "outlinewidth": 0,
             "ticks": ""
            },
            "colorscale": [
             [
              0,
              "#0d0887"
             ],
             [
              0.1111111111111111,
              "#46039f"
             ],
             [
              0.2222222222222222,
              "#7201a8"
             ],
             [
              0.3333333333333333,
              "#9c179e"
             ],
             [
              0.4444444444444444,
              "#bd3786"
             ],
             [
              0.5555555555555556,
              "#d8576b"
             ],
             [
              0.6666666666666666,
              "#ed7953"
             ],
             [
              0.7777777777777778,
              "#fb9f3a"
             ],
             [
              0.8888888888888888,
              "#fdca26"
             ],
             [
              1,
              "#f0f921"
             ]
            ],
            "type": "histogram2d"
           }
          ],
          "histogram2dcontour": [
           {
            "colorbar": {
             "outlinewidth": 0,
             "ticks": ""
            },
            "colorscale": [
             [
              0,
              "#0d0887"
             ],
             [
              0.1111111111111111,
              "#46039f"
             ],
             [
              0.2222222222222222,
              "#7201a8"
             ],
             [
              0.3333333333333333,
              "#9c179e"
             ],
             [
              0.4444444444444444,
              "#bd3786"
             ],
             [
              0.5555555555555556,
              "#d8576b"
             ],
             [
              0.6666666666666666,
              "#ed7953"
             ],
             [
              0.7777777777777778,
              "#fb9f3a"
             ],
             [
              0.8888888888888888,
              "#fdca26"
             ],
             [
              1,
              "#f0f921"
             ]
            ],
            "type": "histogram2dcontour"
           }
          ],
          "mesh3d": [
           {
            "colorbar": {
             "outlinewidth": 0,
             "ticks": ""
            },
            "type": "mesh3d"
           }
          ],
          "parcoords": [
           {
            "line": {
             "colorbar": {
              "outlinewidth": 0,
              "ticks": ""
             }
            },
            "type": "parcoords"
           }
          ],
          "pie": [
           {
            "automargin": true,
            "type": "pie"
           }
          ],
          "scatter": [
           {
            "fillpattern": {
             "fillmode": "overlay",
             "size": 10,
             "solidity": 0.2
            },
            "type": "scatter"
           }
          ],
          "scatter3d": [
           {
            "line": {
             "colorbar": {
              "outlinewidth": 0,
              "ticks": ""
             }
            },
            "marker": {
             "colorbar": {
              "outlinewidth": 0,
              "ticks": ""
             }
            },
            "type": "scatter3d"
           }
          ],
          "scattercarpet": [
           {
            "marker": {
             "colorbar": {
              "outlinewidth": 0,
              "ticks": ""
             }
            },
            "type": "scattercarpet"
           }
          ],
          "scattergeo": [
           {
            "marker": {
             "colorbar": {
              "outlinewidth": 0,
              "ticks": ""
             }
            },
            "type": "scattergeo"
           }
          ],
          "scattergl": [
           {
            "marker": {
             "colorbar": {
              "outlinewidth": 0,
              "ticks": ""
             }
            },
            "type": "scattergl"
           }
          ],
          "scattermapbox": [
           {
            "marker": {
             "colorbar": {
              "outlinewidth": 0,
              "ticks": ""
             }
            },
            "type": "scattermapbox"
           }
          ],
          "scatterpolar": [
           {
            "marker": {
             "colorbar": {
              "outlinewidth": 0,
              "ticks": ""
             }
            },
            "type": "scatterpolar"
           }
          ],
          "scatterpolargl": [
           {
            "marker": {
             "colorbar": {
              "outlinewidth": 0,
              "ticks": ""
             }
            },
            "type": "scatterpolargl"
           }
          ],
          "scatterternary": [
           {
            "marker": {
             "colorbar": {
              "outlinewidth": 0,
              "ticks": ""
             }
            },
            "type": "scatterternary"
           }
          ],
          "surface": [
           {
            "colorbar": {
             "outlinewidth": 0,
             "ticks": ""
            },
            "colorscale": [
             [
              0,
              "#0d0887"
             ],
             [
              0.1111111111111111,
              "#46039f"
             ],
             [
              0.2222222222222222,
              "#7201a8"
             ],
             [
              0.3333333333333333,
              "#9c179e"
             ],
             [
              0.4444444444444444,
              "#bd3786"
             ],
             [
              0.5555555555555556,
              "#d8576b"
             ],
             [
              0.6666666666666666,
              "#ed7953"
             ],
             [
              0.7777777777777778,
              "#fb9f3a"
             ],
             [
              0.8888888888888888,
              "#fdca26"
             ],
             [
              1,
              "#f0f921"
             ]
            ],
            "type": "surface"
           }
          ],
          "table": [
           {
            "cells": {
             "fill": {
              "color": "#EBF0F8"
             },
             "line": {
              "color": "white"
             }
            },
            "header": {
             "fill": {
              "color": "#C8D4E3"
             },
             "line": {
              "color": "white"
             }
            },
            "type": "table"
           }
          ]
         },
         "layout": {
          "annotationdefaults": {
           "arrowcolor": "#2a3f5f",
           "arrowhead": 0,
           "arrowwidth": 1
          },
          "autotypenumbers": "strict",
          "coloraxis": {
           "colorbar": {
            "outlinewidth": 0,
            "ticks": ""
           }
          },
          "colorscale": {
           "diverging": [
            [
             0,
             "#8e0152"
            ],
            [
             0.1,
             "#c51b7d"
            ],
            [
             0.2,
             "#de77ae"
            ],
            [
             0.3,
             "#f1b6da"
            ],
            [
             0.4,
             "#fde0ef"
            ],
            [
             0.5,
             "#f7f7f7"
            ],
            [
             0.6,
             "#e6f5d0"
            ],
            [
             0.7,
             "#b8e186"
            ],
            [
             0.8,
             "#7fbc41"
            ],
            [
             0.9,
             "#4d9221"
            ],
            [
             1,
             "#276419"
            ]
           ],
           "sequential": [
            [
             0,
             "#0d0887"
            ],
            [
             0.1111111111111111,
             "#46039f"
            ],
            [
             0.2222222222222222,
             "#7201a8"
            ],
            [
             0.3333333333333333,
             "#9c179e"
            ],
            [
             0.4444444444444444,
             "#bd3786"
            ],
            [
             0.5555555555555556,
             "#d8576b"
            ],
            [
             0.6666666666666666,
             "#ed7953"
            ],
            [
             0.7777777777777778,
             "#fb9f3a"
            ],
            [
             0.8888888888888888,
             "#fdca26"
            ],
            [
             1,
             "#f0f921"
            ]
           ],
           "sequentialminus": [
            [
             0,
             "#0d0887"
            ],
            [
             0.1111111111111111,
             "#46039f"
            ],
            [
             0.2222222222222222,
             "#7201a8"
            ],
            [
             0.3333333333333333,
             "#9c179e"
            ],
            [
             0.4444444444444444,
             "#bd3786"
            ],
            [
             0.5555555555555556,
             "#d8576b"
            ],
            [
             0.6666666666666666,
             "#ed7953"
            ],
            [
             0.7777777777777778,
             "#fb9f3a"
            ],
            [
             0.8888888888888888,
             "#fdca26"
            ],
            [
             1,
             "#f0f921"
            ]
           ]
          },
          "colorway": [
           "#636efa",
           "#EF553B",
           "#00cc96",
           "#ab63fa",
           "#FFA15A",
           "#19d3f3",
           "#FF6692",
           "#B6E880",
           "#FF97FF",
           "#FECB52"
          ],
          "font": {
           "color": "#2a3f5f"
          },
          "geo": {
           "bgcolor": "white",
           "lakecolor": "white",
           "landcolor": "#E5ECF6",
           "showlakes": true,
           "showland": true,
           "subunitcolor": "white"
          },
          "hoverlabel": {
           "align": "left"
          },
          "hovermode": "closest",
          "mapbox": {
           "style": "light"
          },
          "paper_bgcolor": "white",
          "plot_bgcolor": "#E5ECF6",
          "polar": {
           "angularaxis": {
            "gridcolor": "white",
            "linecolor": "white",
            "ticks": ""
           },
           "bgcolor": "#E5ECF6",
           "radialaxis": {
            "gridcolor": "white",
            "linecolor": "white",
            "ticks": ""
           }
          },
          "scene": {
           "xaxis": {
            "backgroundcolor": "#E5ECF6",
            "gridcolor": "white",
            "gridwidth": 2,
            "linecolor": "white",
            "showbackground": true,
            "ticks": "",
            "zerolinecolor": "white"
           },
           "yaxis": {
            "backgroundcolor": "#E5ECF6",
            "gridcolor": "white",
            "gridwidth": 2,
            "linecolor": "white",
            "showbackground": true,
            "ticks": "",
            "zerolinecolor": "white"
           },
           "zaxis": {
            "backgroundcolor": "#E5ECF6",
            "gridcolor": "white",
            "gridwidth": 2,
            "linecolor": "white",
            "showbackground": true,
            "ticks": "",
            "zerolinecolor": "white"
           }
          },
          "shapedefaults": {
           "line": {
            "color": "#2a3f5f"
           }
          },
          "ternary": {
           "aaxis": {
            "gridcolor": "white",
            "linecolor": "white",
            "ticks": ""
           },
           "baxis": {
            "gridcolor": "white",
            "linecolor": "white",
            "ticks": ""
           },
           "bgcolor": "#E5ECF6",
           "caxis": {
            "gridcolor": "white",
            "linecolor": "white",
            "ticks": ""
           }
          },
          "title": {
           "x": 0.05
          },
          "xaxis": {
           "automargin": true,
           "gridcolor": "white",
           "linecolor": "white",
           "ticks": "",
           "title": {
            "standoff": 15
           },
           "zerolinecolor": "white",
           "zerolinewidth": 2
          },
          "yaxis": {
           "automargin": true,
           "gridcolor": "white",
           "linecolor": "white",
           "ticks": "",
           "title": {
            "standoff": 15
           },
           "zerolinecolor": "white",
           "zerolinewidth": 2
          }
         }
        }
       }
      },
      "text/html": [
       "<div>                            <div id=\"ce566f7b-a619-4839-bdc2-0efee83ac440\" class=\"plotly-graph-div\" style=\"height:525px; width:100%;\"></div>            <script type=\"text/javascript\">                require([\"plotly\"], function(Plotly) {                    window.PLOTLYENV=window.PLOTLYENV || {};                                    if (document.getElementById(\"ce566f7b-a619-4839-bdc2-0efee83ac440\")) {                    Plotly.newPlot(                        \"ce566f7b-a619-4839-bdc2-0efee83ac440\",                        [{\"x\":[1,2,3,4,5],\"y\":[524.6123617,0.3224,1935.3610593872165,230,0.2],\"type\":\"scatter\"},{\"x\":[1,2,3,4,5],\"y\":[546.6644154,0.2976,2092.8618420592306,230,0.2],\"type\":\"scatter\"},{\"x\":[1,2,3,4,5],\"y\":[579.4849398,0.268,2194.978811659142,230,0.2],\"type\":\"scatter\"},{\"x\":[1,2,3,4,5],\"y\":[657.8072289,0.2064,2196.883867582439,230,0.2],\"type\":\"scatter\"},{\"x\":[1,2,3,4,5],\"y\":[742.4789519,0.1328,2144.859244517387,230,0.2],\"type\":\"scatter\"},{\"x\":[1,2,3,4,5],\"y\":[431.7256426,0.408,1491.8455076702867,210,0.2],\"type\":\"scatter\"},{\"x\":[1,2,3,4,5],\"y\":[462.2788589,0.3672,1713.1561032946695,210,0.2],\"type\":\"scatter\"},{\"x\":[1,2,3,4,5],\"y\":[497.6153436,0.332,1925.0315926447086,210,0.2],\"type\":\"scatter\"},{\"x\":[1,2,3,4,5],\"y\":[555.8127371,0.2808,2185.5835425968426,210,0.2],\"type\":\"scatter\"},{\"x\":[1,2,3,4,5],\"y\":[636.7449614,0.2168,2223.905535000299,210,0.2],\"type\":\"scatter\"},{\"x\":[1,2,3,4,5],\"y\":[123.0150602,0.624,587.2155428163423,190,0.2],\"type\":\"scatter\"},{\"x\":[1,2,3,4,5],\"y\":[115.6973791,0.608,629.3315873729949,190,0.2],\"type\":\"scatter\"},{\"x\":[1,2,3,4,5],\"y\":[143.4578313,0.5704,761.6574843217202,190,0.2],\"type\":\"scatter\"},{\"x\":[1,2,3,4,5],\"y\":[181.5082815,0.5328,927.3289416788141,190,0.2],\"type\":\"scatter\"},{\"x\":[1,2,3,4,5],\"y\":[236.430725,0.4672,1251.418883063138,190,0.2],\"type\":\"scatter\"},{\"x\":[1,2,3,4,5],\"y\":[530.1293189,0.3136,2013.151304730442,230,0.2],\"type\":\"scatter\"},{\"x\":[1,2,3,4,5],\"y\":[545.8748414,0.2944,2134.4606646748525,230,0.2],\"type\":\"scatter\"},{\"x\":[1,2,3,4,5],\"y\":[576.2970177,0.2656,2181.1217567826557,230,0.2],\"type\":\"scatter\"},{\"x\":[1,2,3,4,5],\"y\":[662.3266423,0.2,2191.6031883345277,230,0.2],\"type\":\"scatter\"},{\"x\":[1,2,3,4,5],\"y\":[749.7482407,0.1296,2095.466763805368,230,0.2],\"type\":\"scatter\"},{\"x\":[1,2,3,4,5],\"y\":[463.5720721,0.3912,1725.7501417040362,210,0.2],\"type\":\"scatter\"},{\"x\":[1,2,3,4,5],\"y\":[512.7725128,0.3416,2017.0730606867405,210,0.2],\"type\":\"scatter\"},{\"x\":[1,2,3,4,5],\"y\":[549.7240728,0.308,2218.9952188848615,210,0.2],\"type\":\"scatter\"},{\"x\":[1,2,3,4,5],\"y\":[617.1355422,0.2536,2228.7284673944196,210,0.2],\"type\":\"scatter\"},{\"x\":[1,2,3,4,5],\"y\":[689.889358,0.1912,2172.1396003109458,210,0.2],\"type\":\"scatter\"},{\"x\":[1,2,3,4,5],\"y\":[148.2114379,0.5952,709.042643485788,190,0.2],\"type\":\"scatter\"},{\"x\":[1,2,3,4,5],\"y\":[142.0044669,0.5808,744.7669069432407,190,0.2],\"type\":\"scatter\"},{\"x\":[1,2,3,4,5],\"y\":[177.0273279,0.5408,923.78012935066,190,0.2],\"type\":\"scatter\"},{\"x\":[1,2,3,4,5],\"y\":[224.505842,0.4944,1133.3834559526035,190,0.2],\"type\":\"scatter\"},{\"x\":[1,2,3,4,5],\"y\":[292.3727924,0.4352,1491.4020757452631,190,0.2],\"type\":\"scatter\"},{\"x\":[1,2,3,4,5],\"y\":[546.2426092,0.3152,2164.0947079692583,230,0.2],\"type\":\"scatter\"},{\"x\":[1,2,3,4,5],\"y\":[573.5692771,0.2944,2201.8559459223547,230,0.2],\"type\":\"scatter\"},{\"x\":[1,2,3,4,5],\"y\":[602.8551074,0.264,2219.0593029407446,230,0.2],\"type\":\"scatter\"},{\"x\":[1,2,3,4,5],\"y\":[679.4149242,0.2056,2186.8593359639317,230,0.2],\"type\":\"scatter\"},{\"x\":[1,2,3,4,5],\"y\":[761.0763917,0.1296,2030.538031827107,230,0.2],\"type\":\"scatter\"},{\"x\":[1,2,3,4,5],\"y\":[474.6668507,0.3808,1775.1907089030142,210,0.2],\"type\":\"scatter\"},{\"x\":[1,2,3,4,5],\"y\":[521.4264264,0.3352,2046.3314111786863,210,0.2],\"type\":\"scatter\"},{\"x\":[1,2,3,4,5],\"y\":[551.5090361,0.3008,2200.4518878594627,210,0.2],\"type\":\"scatter\"},{\"x\":[1,2,3,4,5],\"y\":[617.3614458,0.2504,2215.9693023274267,210,0.2],\"type\":\"scatter\"},{\"x\":[1,2,3,4,5],\"y\":[693.7439255,0.1864,2175.552716983926,210,0.2],\"type\":\"scatter\"},{\"x\":[1,2,3,4,5],\"y\":[141.8874162,0.6032,674.8233945755048,190,0.2],\"type\":\"scatter\"},{\"x\":[1,2,3,4,5],\"y\":[133.1998332,0.592,706.2866276997986,190,0.2],\"type\":\"scatter\"},{\"x\":[1,2,3,4,5],\"y\":[168.5860267,0.548,892.3529875415777,190,0.2],\"type\":\"scatter\"},{\"x\":[1,2,3,4,5],\"y\":[215.9389451,0.5008,1120.503440382257,190,0.2],\"type\":\"scatter\"},{\"x\":[1,2,3,4,5],\"y\":[288.8407592,0.4376,1452.1602878566696,190,0.2],\"type\":\"scatter\"},{\"x\":[1,2,3,4,5],\"y\":[551.75,0.3112,2132.153102028266,230,0.2],\"type\":\"scatter\"},{\"x\":[1,2,3,4,5],\"y\":[574.417604,0.2904,2158.6929900149917,230,0.2],\"type\":\"scatter\"},{\"x\":[1,2,3,4,5],\"y\":[608.9957693,0.2608,2180.6799680513,230,0.2],\"type\":\"scatter\"},{\"x\":[1,2,3,4,5],\"y\":[680.2854959,0.2,2171.40305847271,230,0.2],\"type\":\"scatter\"},{\"x\":[1,2,3,4,5],\"y\":[774.4852302,0.1272,2057.4154965287653,230,0.2],\"type\":\"scatter\"},{\"x\":[1,2,3,4,5],\"y\":[481.7658683,0.372,1790.4351598456049,210,0.2],\"type\":\"scatter\"},{\"x\":[1,2,3,4,5],\"y\":[525.6002256,0.3304,2081.1781758056877,210,0.2],\"type\":\"scatter\"},{\"x\":[1,2,3,4,5],\"y\":[563.9189189,0.2976,2190.6189098845534,210,0.2],\"type\":\"scatter\"},{\"x\":[1,2,3,4,5],\"y\":[621.9309309,0.2512,2218.578761093559,210,0.2],\"type\":\"scatter\"},{\"x\":[1,2,3,4,5],\"y\":[697.5933735,0.1816,2173.9133359303996,210,0.2],\"type\":\"scatter\"},{\"x\":[1,2,3,4,5],\"y\":[175.2964647,0.5784,773.739406055535,190,0.2],\"type\":\"scatter\"},{\"x\":[1,2,3,4,5],\"y\":[186.2099575,0.5544,854.4772227883022,190,0.2],\"type\":\"scatter\"},{\"x\":[1,2,3,4,5],\"y\":[242.3801802,0.5064,1085.69739881186,190,0.2],\"type\":\"scatter\"},{\"x\":[1,2,3,4,5],\"y\":[255.6258258,0.4768,1235.5470263588586,190,0.2],\"type\":\"scatter\"},{\"x\":[1,2,3,4,5],\"y\":[334.5777346,0.4104,1598.316916837276,190,0.2],\"type\":\"scatter\"},{\"x\":[1,2,3,4,5],\"y\":[565.2673674,0.304,2096.810556106302,230,0.2],\"type\":\"scatter\"},{\"x\":[1,2,3,4,5],\"y\":[584.7327327,0.2856,2123.2587306644114,230,0.2],\"type\":\"scatter\"},{\"x\":[1,2,3,4,5],\"y\":[618.3225861,0.2584,2141.233199942964,230,0.2],\"type\":\"scatter\"},{\"x\":[1,2,3,4,5],\"y\":[690.0451807,0.2,2148.42622078428,230,0.2],\"type\":\"scatter\"},{\"x\":[1,2,3,4,5],\"y\":[786.1271676,0.1248,2007.3203441286976,230,0.2],\"type\":\"scatter\"},{\"x\":[1,2,3,4,5],\"y\":[514.7237418,0.3464,1988.9437170593933,210,0.2],\"type\":\"scatter\"},{\"x\":[1,2,3,4,5],\"y\":[545.5100757,0.316,2148.3078517932536,210,0.2],\"type\":\"scatter\"},{\"x\":[1,2,3,4,5],\"y\":[572.96997,0.2856,2179.6051943210896,210,0.2],\"type\":\"scatter\"},{\"x\":[1,2,3,4,5],\"y\":[648.4698795,0.2264,2181.185588125738,210,0.2],\"type\":\"scatter\"},{\"x\":[1,2,3,4,5],\"y\":[722.5421687,0.1592,2092.892799849455,210,0.2],\"type\":\"scatter\"},{\"x\":[1,2,3,4,5],\"y\":[237.4364374,0.54,920.9681402484587,190,0.2],\"type\":\"scatter\"},{\"x\":[1,2,3,4,5],\"y\":[258.4737432,0.512,1034.461178676718,190,0.2],\"type\":\"scatter\"},{\"x\":[1,2,3,4,5],\"y\":[314.4603145,0.4656,1265.1992395697814,190,0.2],\"type\":\"scatter\"},{\"x\":[1,2,3,4,5],\"y\":[347.2629518,0.4304,1467.7307216157644,190,0.2],\"type\":\"scatter\"},{\"x\":[1,2,3,4,5],\"y\":[422.0593628,0.3664,1874.9135859935236,190,0.2],\"type\":\"scatter\"},{\"x\":[1,2,3,4,5],\"y\":[582.9521779,0.3144,2170.893987914148,230,0.15],\"type\":\"scatter\"},{\"x\":[1,2,3,4,5],\"y\":[605.1204819,0.2864,2256.233135995311,230,0.15],\"type\":\"scatter\"},{\"x\":[1,2,3,4,5],\"y\":[645.6656827,0.2552,2253.7498283180585,230,0.15],\"type\":\"scatter\"},{\"x\":[1,2,3,4,5],\"y\":[707.1906742,0.2,2234.6584998012877,230,0.15],\"type\":\"scatter\"},{\"x\":[1,2,3,4,5],\"y\":[773.1501502,0.132,2106.3087883649814,230,0.15],\"type\":\"scatter\"},{\"x\":[1,2,3,4,5],\"y\":[482.3585586,0.3968,1657.3381203923345,210,0.15],\"type\":\"scatter\"},{\"x\":[1,2,3,4,5],\"y\":[524.3982721,0.3496,1895.2184846439613,210,0.15],\"type\":\"scatter\"},{\"x\":[1,2,3,4,5],\"y\":[570.9694794,0.3064,2214.1717253499683,210,0.15],\"type\":\"scatter\"},{\"x\":[1,2,3,4,5],\"y\":[629.4445935,0.2584,2277.3321055273645,210,0.15],\"type\":\"scatter\"},{\"x\":[1,2,3,4,5],\"y\":[695.9661347,0.2,2241.7216962024704,210,0.15],\"type\":\"scatter\"},{\"x\":[1,2,3,4,5],\"y\":[285.4445854,0.5456,946.6130382288777,190,0.15],\"type\":\"scatter\"},{\"x\":[1,2,3,4,5],\"y\":[285.2846392,0.528,1025.142125550605,190,0.15],\"type\":\"scatter\"},{\"x\":[1,2,3,4,5],\"y\":[319.490061,0.4968,1190.9369206045649,190,0.15],\"type\":\"scatter\"},{\"x\":[1,2,3,4,5],\"y\":[369.9162699,0.4488,1450.3613907275685,190,0.15],\"type\":\"scatter\"},{\"x\":[1,2,3,4,5],\"y\":[435.5027617,0.3912,1792.4466908907698,190,0.15],\"type\":\"scatter\"},{\"x\":[1,2,3,4,5],\"y\":[579.5422436,0.3048,2178.169001612371,230,0.15],\"type\":\"scatter\"},{\"x\":[1,2,3,4,5],\"y\":[598.0202365,0.2816,2255.545808587153,230,0.15],\"type\":\"scatter\"},{\"x\":[1,2,3,4,5],\"y\":[635.0421687,0.252,2254.192407866616,230,0.15],\"type\":\"scatter\"},{\"x\":[1,2,3,4,5],\"y\":[701.321562,0.1888,2239.0571673475806,230,0.15],\"type\":\"scatter\"},{\"x\":[1,2,3,4,5],\"y\":[785.0830342,0.1216,2071.4569169869524,230,0.15],\"type\":\"scatter\"},{\"x\":[1,2,3,4,5],\"y\":[518.9809048,0.3648,1857.3769571594798,210,0.15],\"type\":\"scatter\"},{\"x\":[1,2,3,4,5],\"y\":[558.1617654,0.3216,2138.5329030444072,210,0.15],\"type\":\"scatter\"},{\"x\":[1,2,3,4,5],\"y\":[604.9113389,0.2864,2243.0886955447104,210,0.15],\"type\":\"scatter\"},{\"x\":[1,2,3,4,5],\"y\":[663.5614594,0.2336,2251.8376146526057,210,0.15],\"type\":\"scatter\"},{\"x\":[1,2,3,4,5],\"y\":[734.6524882,0.1736,2159.0623487075045,210,0.15],\"type\":\"scatter\"},{\"x\":[1,2,3,4,5],\"y\":[321.0750751,0.5224,1061.2737950555165,190,0.15],\"type\":\"scatter\"},{\"x\":[1,2,3,4,5],\"y\":[322.647465,0.5016,1110.6004299929941,190,0.15],\"type\":\"scatter\"},{\"x\":[1,2,3,4,5],\"y\":[360.53003,0.468,1304.7696662021403,190,0.15],\"type\":\"scatter\"},{\"x\":[1,2,3,4,5],\"y\":[405.8924017,0.4232,1519.8865452316436,190,0.15],\"type\":\"scatter\"},{\"x\":[1,2,3,4,5],\"y\":[469.0786883,0.3632,1957.4068632808358,190,0.15],\"type\":\"scatter\"},{\"x\":[1,2,3,4,5],\"y\":[593.1566265,0.3112,2161.4556032965957,230,0.15],\"type\":\"scatter\"},{\"x\":[1,2,3,4,5],\"y\":[608.753012,0.2872,2182.388646837082,230,0.15],\"type\":\"scatter\"},{\"x\":[1,2,3,4,5],\"y\":[646.0628346,0.256,2196.191109598112,230,0.15],\"type\":\"scatter\"},{\"x\":[1,2,3,4,5],\"y\":[706.8018018,0.2,2184.0524153900824,230,0.15],\"type\":\"scatter\"},{\"x\":[1,2,3,4,5],\"y\":[790.2762763,0.128,2033.1420666524427,230,0.15],\"type\":\"scatter\"},{\"x\":[1,2,3,4,5],\"y\":[531.2771084,0.3496,1815.0212331666085,210,0.15],\"type\":\"scatter\"},{\"x\":[1,2,3,4,5],\"y\":[576.5525044,0.308,2095.0302265562227,210,0.15],\"type\":\"scatter\"},{\"x\":[1,2,3,4,5],\"y\":[616.4813462,0.2728,2231.506414421517,210,0.15],\"type\":\"scatter\"},{\"x\":[1,2,3,4,5],\"y\":[675.0421687,0.224,2229.625952209481,210,0.15],\"type\":\"scatter\"},{\"x\":[1,2,3,4,5],\"y\":[752.6453234,0.1568,2147.605787566202,210,0.15],\"type\":\"scatter\"},{\"x\":[1,2,3,4,5],\"y\":[339.4768516,0.5088,1089.9352479463003,190,0.15],\"type\":\"scatter\"},{\"x\":[1,2,3,4,5],\"y\":[346.6282251,0.4864,1154.5390984409908,190,0.15],\"type\":\"scatter\"},{\"x\":[1,2,3,4,5],\"y\":[377.7084084,0.4496,1337.1088430326643,190,0.15],\"type\":\"scatter\"},{\"x\":[1,2,3,4,5],\"y\":[435.1525352,0.4032,1646.1146335249077,190,0.15],\"type\":\"scatter\"},{\"x\":[1,2,3,4,5],\"y\":[508.7401773,0.3328,2110.9016381292668,190,0.15],\"type\":\"scatter\"},{\"x\":[1,2,3,4,5],\"y\":[586.2673884,0.3096,2153.765585862647,230,0.15],\"type\":\"scatter\"},{\"x\":[1,2,3,4,5],\"y\":[611.9376119,0.2808,2196.9540405320495,230,0.15],\"type\":\"scatter\"},{\"x\":[1,2,3,4,5],\"y\":[650.4590275,0.2456,2207.166380918949,230,0.15],\"type\":\"scatter\"},{\"x\":[1,2,3,4,5],\"y\":[720.7650158,0.1864,2179.8399887531596,230,0.15],\"type\":\"scatter\"},{\"x\":[1,2,3,4,5],\"y\":[797.6312986,0.112,2010.7459737109525,230,0.15],\"type\":\"scatter\"},{\"x\":[1,2,3,4,5],\"y\":[548.0960961,0.328,1976.008770677966,210,0.15],\"type\":\"scatter\"},{\"x\":[1,2,3,4,5],\"y\":[580.7328385,0.296,2126.835223535359,210,0.15],\"type\":\"scatter\"},{\"x\":[1,2,3,4,5],\"y\":[624.012662,0.2616,2169.8920919315574,210,0.15],\"type\":\"scatter\"},{\"x\":[1,2,3,4,5],\"y\":[678.8289791,0.2104,2195.4931523613513,210,0.15],\"type\":\"scatter\"},{\"x\":[1,2,3,4,5],\"y\":[757.9156627,0.1448,2129.7084778476546,210,0.15],\"type\":\"scatter\"},{\"x\":[1,2,3,4,5],\"y\":[405.0591284,0.472,1322.9833575430184,190,0.15],\"type\":\"scatter\"},{\"x\":[1,2,3,4,5],\"y\":[405.997288,0.4576,1390.519675484984,190,0.15],\"type\":\"scatter\"},{\"x\":[1,2,3,4,5],\"y\":[440.9192192,0.4216,1587.045568786304,190,0.15],\"type\":\"scatter\"},{\"x\":[1,2,3,4,5],\"y\":[504.4669911,0.3672,2000.4317928508983,190,0.15],\"type\":\"scatter\"},{\"x\":[1,2,3,4,5],\"y\":[591.8704819,0.2952,2204.25434260929,190,0.15],\"type\":\"scatter\"},{\"x\":[1,2,3,4,5],\"y\":[587.6945645,0.3056,2120.024501431033,230,0.15],\"type\":\"scatter\"},{\"x\":[1,2,3,4,5],\"y\":[609.7959822,0.2784,2160.96901870442,230,0.15],\"type\":\"scatter\"},{\"x\":[1,2,3,4,5],\"y\":[651.0578245,0.2472,2190.657371714894,230,0.15],\"type\":\"scatter\"},{\"x\":[1,2,3,4,5],\"y\":[721.2158742,0.1832,2168.462848984654,230,0.15],\"type\":\"scatter\"},{\"x\":[1,2,3,4,5],\"y\":[802.2220485,0.1112,2003.6031660809583,230,0.15],\"type\":\"scatter\"},{\"x\":[1,2,3,4,5],\"y\":[558.7045265,0.3224,1979.9470858342386,210,0.15],\"type\":\"scatter\"},{\"x\":[1,2,3,4,5],\"y\":[579.4729476,0.2968,2117.1581487255535,210,0.15],\"type\":\"scatter\"},{\"x\":[1,2,3,4,5],\"y\":[615.1226301,0.2664,2176.8210613805895,210,0.15],\"type\":\"scatter\"},{\"x\":[1,2,3,4,5],\"y\":[679.93198,0.2104,2190.6930681188774,210,0.15],\"type\":\"scatter\"},{\"x\":[1,2,3,4,5],\"y\":[757.2919745,0.144,2126.8970507488584,210,0.15],\"type\":\"scatter\"},{\"x\":[1,2,3,4,5],\"y\":[408.5306003,0.4696,1336.2740418690673,190,0.15],\"type\":\"scatter\"},{\"x\":[1,2,3,4,5],\"y\":[430.9428144,0.4384,1483.8160292488933,190,0.15],\"type\":\"scatter\"},{\"x\":[1,2,3,4,5],\"y\":[472.145045,0.3992,1704.2023265571224,190,0.15],\"type\":\"scatter\"},{\"x\":[1,2,3,4,5],\"y\":[534.2595877,0.3432,2111.7412351424855,190,0.15],\"type\":\"scatter\"},{\"x\":[1,2,3,4,5],\"y\":[621.1260089,0.2784,2207.7523525537677,190,0.15],\"type\":\"scatter\"},{\"x\":[1,2,3,4,5],\"y\":[609.918365,0.3168,2167.720192676855,230,0.1],\"type\":\"scatter\"},{\"x\":[1,2,3,4,5],\"y\":[645.1721617,0.2776,2260.4936706893577,230,0.1],\"type\":\"scatter\"},{\"x\":[1,2,3,4,5],\"y\":[683.1566265,0.2392,2266.4209937717605,230,0.1],\"type\":\"scatter\"},{\"x\":[1,2,3,4,5],\"y\":[741.2143844,0.1864,2233.9494071487884,230,0.1],\"type\":\"scatter\"},{\"x\":[1,2,3,4,5],\"y\":[803.9351977,0.1264,2100.2586522492793,230,0.1],\"type\":\"scatter\"},{\"x\":[1,2,3,4,5],\"y\":[582.4457831,0.3416,1988.526532957294,210,0.1],\"type\":\"scatter\"},{\"x\":[1,2,3,4,5],\"y\":[619.4457831,0.3008,2255.4599755113654,210,0.1],\"type\":\"scatter\"},{\"x\":[1,2,3,4,5],\"y\":[653.7117891,0.268,2287.8486769416104,210,0.1],\"type\":\"scatter\"},{\"x\":[1,2,3,4,5],\"y\":[715.2524727,0.2168,2268.0327243122497,210,0.1],\"type\":\"scatter\"},{\"x\":[1,2,3,4,5],\"y\":[774.5763782,0.16,2169.501292366112,210,0.1],\"type\":\"scatter\"},{\"x\":[1,2,3,4,5],\"y\":[421.0740049,0.476,1189.269721856294,190,0.1],\"type\":\"scatter\"},{\"x\":[1,2,3,4,5],\"y\":[433.1020331,0.4544,1320.7626653995271,190,0.1],\"type\":\"scatter\"},{\"x\":[1,2,3,4,5],\"y\":[469.2433735,0.4184,1515.969329133668,190,0.1],\"type\":\"scatter\"},{\"x\":[1,2,3,4,5],\"y\":[534.3856915,0.3584,1828.2404134722037,190,0.1],\"type\":\"scatter\"},{\"x\":[1,2,3,4,5],\"y\":[599.221263,0.3,2222.839903774109,190,0.1],\"type\":\"scatter\"},{\"x\":[1,2,3,4,5],\"y\":[604.9035007,0.3144,2101.5638629332407,230,0.1],\"type\":\"scatter\"},{\"x\":[1,2,3,4,5],\"y\":[646.1331071,0.2736,2244.6675129149116,230,0.1],\"type\":\"scatter\"},{\"x\":[1,2,3,4,5],\"y\":[686.0678897,0.24,2241.7913355455803,230,0.1],\"type\":\"scatter\"},{\"x\":[1,2,3,4,5],\"y\":[745.5263245,0.1856,2218.600545763472,230,0.1],\"type\":\"scatter\"},{\"x\":[1,2,3,4,5],\"y\":[810.9819277,0.1224,2067.7891745745474,230,0.1],\"type\":\"scatter\"},{\"x\":[1,2,3,4,5],\"y\":[596.0150602,0.3312,2025.4411071548286,210,0.1],\"type\":\"scatter\"},{\"x\":[1,2,3,4,5],\"y\":[631.1957831,0.2936,2241.389068760939,210,0.1],\"type\":\"scatter\"},{\"x\":[1,2,3,4,5],\"y\":[661.9186747,0.2608,2255.402782741541,210,0.1],\"type\":\"scatter\"},{\"x\":[1,2,3,4,5],\"y\":[715.463961,0.2104,2261.20896126265,210,0.1],\"type\":\"scatter\"},{\"x\":[1,2,3,4,5],\"y\":[775.4939759,0.152,2185.0502353360816,210,0.1],\"type\":\"scatter\"},{\"x\":[1,2,3,4,5],\"y\":[500.8742515,0.4104,1670.6174294024372,190,0.1],\"type\":\"scatter\"},{\"x\":[1,2,3,4,5],\"y\":[533.070821,0.3776,1848.4127039679715,190,0.1],\"type\":\"scatter\"},{\"x\":[1,2,3,4,5],\"y\":[576.0210843,0.3456,2054.100950606491,190,0.1],\"type\":\"scatter\"},{\"x\":[1,2,3,4,5],\"y\":[631.5873494,0.2936,2259.1587602254804,190,0.1],\"type\":\"scatter\"},{\"x\":[1,2,3,4,5],\"y\":[695.6746988,0.2328,2242.8877073630215,190,0.1],\"type\":\"scatter\"},{\"x\":[1,2,3,4,5],\"y\":[605.0560393,0.324,2139.5698012024914,230,0.1],\"type\":\"scatter\"},{\"x\":[1,2,3,4,5],\"y\":[649.8524096,0.2824,2233.7610989919754,230,0.1],\"type\":\"scatter\"},{\"x\":[1,2,3,4,5],\"y\":[688.4540506,0.2448,2236.4027168342263,230,0.1],\"type\":\"scatter\"},{\"x\":[1,2,3,4,5],\"y\":[752.7710843,0.1904,2188.6711736913658,230,0.1],\"type\":\"scatter\"},{\"x\":[1,2,3,4,5],\"y\":[817.8844713,0.1216,2001.8230060995968,230,0.1],\"type\":\"scatter\"},{\"x\":[1,2,3,4,5],\"y\":[596.9427711,0.3336,2007.3683039745454,210,0.1],\"type\":\"scatter\"},{\"x\":[1,2,3,4,5],\"y\":[634.5221852,0.296,2224.679867251352,210,0.1],\"type\":\"scatter\"},{\"x\":[1,2,3,4,5],\"y\":[664.6957579,0.2648,2241.3682790001435,210,0.1],\"type\":\"scatter\"},{\"x\":[1,2,3,4,5],\"y\":[722.8012048,0.216,2235.3892412554824,210,0.1],\"type\":\"scatter\"},{\"x\":[1,2,3,4,5],\"y\":[786.6935071,0.152,2132.5700649450687,210,0.1],\"type\":\"scatter\"},{\"x\":[1,2,3,4,5],\"y\":[537.8982586,0.3864,1765.612332025098,190,0.1],\"type\":\"scatter\"},{\"x\":[1,2,3,4,5],\"y\":[568.2559436,0.3552,1997.5876795895479,190,0.1],\"type\":\"scatter\"},{\"x\":[1,2,3,4,5],\"y\":[602.0332706,0.3224,2225.925897203295,190,0.1],\"type\":\"scatter\"},{\"x\":[1,2,3,4,5],\"y\":[666.4700767,0.268,2242.3421135518756,190,0.1],\"type\":\"scatter\"},{\"x\":[1,2,3,4,5],\"y\":[725.1499997,0.2096,2202.1972129080614,190,0.1],\"type\":\"scatter\"},{\"x\":[1,2,3,4,5],\"y\":[603.5693115,0.3288,2146.064436477777,230,0.1],\"type\":\"scatter\"},{\"x\":[1,2,3,4,5],\"y\":[654.310241,0.2768,2217.8121102267723,230,0.1],\"type\":\"scatter\"},{\"x\":[1,2,3,4,5],\"y\":[692.1837349,0.2384,2212.0856941463985,230,0.1],\"type\":\"scatter\"},{\"x\":[1,2,3,4,5],\"y\":[749.5892686,0.1872,2151.8331428618812,230,0.1],\"type\":\"scatter\"},{\"x\":[1,2,3,4,5],\"y\":[820.0272344,0.1216,1967.8841273192031,230,0.1],\"type\":\"scatter\"},{\"x\":[1,2,3,4,5],\"y\":[606.0168385,0.3224,2144.8351297460295,210,0.1],\"type\":\"scatter\"},{\"x\":[1,2,3,4,5],\"y\":[644.9645386,0.2864,2236.387315375755,210,0.1],\"type\":\"scatter\"},{\"x\":[1,2,3,4,5],\"y\":[678.7108434,0.2512,2261.2638821731894,210,0.1],\"type\":\"scatter\"},{\"x\":[1,2,3,4,5],\"y\":[736.1178531,0.2032,2218.043906727312,210,0.1],\"type\":\"scatter\"},{\"x\":[1,2,3,4,5],\"y\":[802.1204819,0.1456,2120.4582925613636,210,0.1],\"type\":\"scatter\"},{\"x\":[1,2,3,4,5],\"y\":[554.4017597,0.3784,1867.8547465018144,190,0.1],\"type\":\"scatter\"},{\"x\":[1,2,3,4,5],\"y\":[588.0938697,0.3456,2068.1890921977183,190,0.1],\"type\":\"scatter\"},{\"x\":[1,2,3,4,5],\"y\":[623.9879518,0.308,2228.6419651226274,190,0.1],\"type\":\"scatter\"},{\"x\":[1,2,3,4,5],\"y\":[678.196267,0.2576,2248.809389256908,190,0.1],\"type\":\"scatter\"},{\"x\":[1,2,3,4,5],\"y\":[736.1986611,0.2,2193.3058401626067,190,0.1],\"type\":\"scatter\"},{\"x\":[1,2,3,4,5],\"y\":[605.7659035,0.3192,2150.133548347403,230,0.1],\"type\":\"scatter\"},{\"x\":[1,2,3,4,5],\"y\":[651.1420774,0.2728,2198.129181331323,230,0.1],\"type\":\"scatter\"},{\"x\":[1,2,3,4,5],\"y\":[693.5453295,0.2408,2200.8750968207532,230,0.1],\"type\":\"scatter\"},{\"x\":[1,2,3,4,5],\"y\":[756.876506,0.1848,2148.525718399137,230,0.1],\"type\":\"scatter\"},{\"x\":[1,2,3,4,5],\"y\":[827.9307229,0.1144,1960.2315459966856,230,0.1],\"type\":\"scatter\"},{\"x\":[1,2,3,4,5],\"y\":[604.9384202,0.312,2144.81962294359,210,0.1],\"type\":\"scatter\"},{\"x\":[1,2,3,4,5],\"y\":[637.9365337,0.2768,2222.4709618696984,210,0.1],\"type\":\"scatter\"},{\"x\":[1,2,3,4,5],\"y\":[668.3517185,0.2488,2262.569366016226,210,0.1],\"type\":\"scatter\"},{\"x\":[1,2,3,4,5],\"y\":[718.2412874,0.2,2280.2965792690925,210,0.1],\"type\":\"scatter\"},{\"x\":[1,2,3,4,5],\"y\":[800.0570571,0.1352,2134.3561113163005,210,0.1],\"type\":\"scatter\"},{\"x\":[1,2,3,4,5],\"y\":[561.4325614,0.364,1873.10792534239,190,0.1],\"type\":\"scatter\"},{\"x\":[1,2,3,4,5],\"y\":[594.3573574,0.3304,2064.9482551611245,190,0.1],\"type\":\"scatter\"},{\"x\":[1,2,3,4,5],\"y\":[630.3584337,0.2968,2255.0932625144205,190,0.1],\"type\":\"scatter\"},{\"x\":[1,2,3,4,5],\"y\":[691.018674,0.244,2266.351168475735,190,0.1],\"type\":\"scatter\"},{\"x\":[1,2,3,4,5],\"y\":[763.3644578,0.1808,2220.0751979865336,190,0.1],\"type\":\"scatter\"}],                        {\"template\":{\"data\":{\"histogram2dcontour\":[{\"type\":\"histogram2dcontour\",\"colorbar\":{\"outlinewidth\":0,\"ticks\":\"\"},\"colorscale\":[[0.0,\"#0d0887\"],[0.1111111111111111,\"#46039f\"],[0.2222222222222222,\"#7201a8\"],[0.3333333333333333,\"#9c179e\"],[0.4444444444444444,\"#bd3786\"],[0.5555555555555556,\"#d8576b\"],[0.6666666666666666,\"#ed7953\"],[0.7777777777777778,\"#fb9f3a\"],[0.8888888888888888,\"#fdca26\"],[1.0,\"#f0f921\"]]}],\"choropleth\":[{\"type\":\"choropleth\",\"colorbar\":{\"outlinewidth\":0,\"ticks\":\"\"}}],\"histogram2d\":[{\"type\":\"histogram2d\",\"colorbar\":{\"outlinewidth\":0,\"ticks\":\"\"},\"colorscale\":[[0.0,\"#0d0887\"],[0.1111111111111111,\"#46039f\"],[0.2222222222222222,\"#7201a8\"],[0.3333333333333333,\"#9c179e\"],[0.4444444444444444,\"#bd3786\"],[0.5555555555555556,\"#d8576b\"],[0.6666666666666666,\"#ed7953\"],[0.7777777777777778,\"#fb9f3a\"],[0.8888888888888888,\"#fdca26\"],[1.0,\"#f0f921\"]]}],\"heatmap\":[{\"type\":\"heatmap\",\"colorbar\":{\"outlinewidth\":0,\"ticks\":\"\"},\"colorscale\":[[0.0,\"#0d0887\"],[0.1111111111111111,\"#46039f\"],[0.2222222222222222,\"#7201a8\"],[0.3333333333333333,\"#9c179e\"],[0.4444444444444444,\"#bd3786\"],[0.5555555555555556,\"#d8576b\"],[0.6666666666666666,\"#ed7953\"],[0.7777777777777778,\"#fb9f3a\"],[0.8888888888888888,\"#fdca26\"],[1.0,\"#f0f921\"]]}],\"heatmapgl\":[{\"type\":\"heatmapgl\",\"colorbar\":{\"outlinewidth\":0,\"ticks\":\"\"},\"colorscale\":[[0.0,\"#0d0887\"],[0.1111111111111111,\"#46039f\"],[0.2222222222222222,\"#7201a8\"],[0.3333333333333333,\"#9c179e\"],[0.4444444444444444,\"#bd3786\"],[0.5555555555555556,\"#d8576b\"],[0.6666666666666666,\"#ed7953\"],[0.7777777777777778,\"#fb9f3a\"],[0.8888888888888888,\"#fdca26\"],[1.0,\"#f0f921\"]]}],\"contourcarpet\":[{\"type\":\"contourcarpet\",\"colorbar\":{\"outlinewidth\":0,\"ticks\":\"\"}}],\"contour\":[{\"type\":\"contour\",\"colorbar\":{\"outlinewidth\":0,\"ticks\":\"\"},\"colorscale\":[[0.0,\"#0d0887\"],[0.1111111111111111,\"#46039f\"],[0.2222222222222222,\"#7201a8\"],[0.3333333333333333,\"#9c179e\"],[0.4444444444444444,\"#bd3786\"],[0.5555555555555556,\"#d8576b\"],[0.6666666666666666,\"#ed7953\"],[0.7777777777777778,\"#fb9f3a\"],[0.8888888888888888,\"#fdca26\"],[1.0,\"#f0f921\"]]}],\"surface\":[{\"type\":\"surface\",\"colorbar\":{\"outlinewidth\":0,\"ticks\":\"\"},\"colorscale\":[[0.0,\"#0d0887\"],[0.1111111111111111,\"#46039f\"],[0.2222222222222222,\"#7201a8\"],[0.3333333333333333,\"#9c179e\"],[0.4444444444444444,\"#bd3786\"],[0.5555555555555556,\"#d8576b\"],[0.6666666666666666,\"#ed7953\"],[0.7777777777777778,\"#fb9f3a\"],[0.8888888888888888,\"#fdca26\"],[1.0,\"#f0f921\"]]}],\"mesh3d\":[{\"type\":\"mesh3d\",\"colorbar\":{\"outlinewidth\":0,\"ticks\":\"\"}}],\"scatter\":[{\"fillpattern\":{\"fillmode\":\"overlay\",\"size\":10,\"solidity\":0.2},\"type\":\"scatter\"}],\"parcoords\":[{\"type\":\"parcoords\",\"line\":{\"colorbar\":{\"outlinewidth\":0,\"ticks\":\"\"}}}],\"scatterpolargl\":[{\"type\":\"scatterpolargl\",\"marker\":{\"colorbar\":{\"outlinewidth\":0,\"ticks\":\"\"}}}],\"bar\":[{\"error_x\":{\"color\":\"#2a3f5f\"},\"error_y\":{\"color\":\"#2a3f5f\"},\"marker\":{\"line\":{\"color\":\"#E5ECF6\",\"width\":0.5},\"pattern\":{\"fillmode\":\"overlay\",\"size\":10,\"solidity\":0.2}},\"type\":\"bar\"}],\"scattergeo\":[{\"type\":\"scattergeo\",\"marker\":{\"colorbar\":{\"outlinewidth\":0,\"ticks\":\"\"}}}],\"scatterpolar\":[{\"type\":\"scatterpolar\",\"marker\":{\"colorbar\":{\"outlinewidth\":0,\"ticks\":\"\"}}}],\"histogram\":[{\"marker\":{\"pattern\":{\"fillmode\":\"overlay\",\"size\":10,\"solidity\":0.2}},\"type\":\"histogram\"}],\"scattergl\":[{\"type\":\"scattergl\",\"marker\":{\"colorbar\":{\"outlinewidth\":0,\"ticks\":\"\"}}}],\"scatter3d\":[{\"type\":\"scatter3d\",\"line\":{\"colorbar\":{\"outlinewidth\":0,\"ticks\":\"\"}},\"marker\":{\"colorbar\":{\"outlinewidth\":0,\"ticks\":\"\"}}}],\"scattermapbox\":[{\"type\":\"scattermapbox\",\"marker\":{\"colorbar\":{\"outlinewidth\":0,\"ticks\":\"\"}}}],\"scatterternary\":[{\"type\":\"scatterternary\",\"marker\":{\"colorbar\":{\"outlinewidth\":0,\"ticks\":\"\"}}}],\"scattercarpet\":[{\"type\":\"scattercarpet\",\"marker\":{\"colorbar\":{\"outlinewidth\":0,\"ticks\":\"\"}}}],\"carpet\":[{\"aaxis\":{\"endlinecolor\":\"#2a3f5f\",\"gridcolor\":\"white\",\"linecolor\":\"white\",\"minorgridcolor\":\"white\",\"startlinecolor\":\"#2a3f5f\"},\"baxis\":{\"endlinecolor\":\"#2a3f5f\",\"gridcolor\":\"white\",\"linecolor\":\"white\",\"minorgridcolor\":\"white\",\"startlinecolor\":\"#2a3f5f\"},\"type\":\"carpet\"}],\"table\":[{\"cells\":{\"fill\":{\"color\":\"#EBF0F8\"},\"line\":{\"color\":\"white\"}},\"header\":{\"fill\":{\"color\":\"#C8D4E3\"},\"line\":{\"color\":\"white\"}},\"type\":\"table\"}],\"barpolar\":[{\"marker\":{\"line\":{\"color\":\"#E5ECF6\",\"width\":0.5},\"pattern\":{\"fillmode\":\"overlay\",\"size\":10,\"solidity\":0.2}},\"type\":\"barpolar\"}],\"pie\":[{\"automargin\":true,\"type\":\"pie\"}]},\"layout\":{\"autotypenumbers\":\"strict\",\"colorway\":[\"#636efa\",\"#EF553B\",\"#00cc96\",\"#ab63fa\",\"#FFA15A\",\"#19d3f3\",\"#FF6692\",\"#B6E880\",\"#FF97FF\",\"#FECB52\"],\"font\":{\"color\":\"#2a3f5f\"},\"hovermode\":\"closest\",\"hoverlabel\":{\"align\":\"left\"},\"paper_bgcolor\":\"white\",\"plot_bgcolor\":\"#E5ECF6\",\"polar\":{\"bgcolor\":\"#E5ECF6\",\"angularaxis\":{\"gridcolor\":\"white\",\"linecolor\":\"white\",\"ticks\":\"\"},\"radialaxis\":{\"gridcolor\":\"white\",\"linecolor\":\"white\",\"ticks\":\"\"}},\"ternary\":{\"bgcolor\":\"#E5ECF6\",\"aaxis\":{\"gridcolor\":\"white\",\"linecolor\":\"white\",\"ticks\":\"\"},\"baxis\":{\"gridcolor\":\"white\",\"linecolor\":\"white\",\"ticks\":\"\"},\"caxis\":{\"gridcolor\":\"white\",\"linecolor\":\"white\",\"ticks\":\"\"}},\"coloraxis\":{\"colorbar\":{\"outlinewidth\":0,\"ticks\":\"\"}},\"colorscale\":{\"sequential\":[[0.0,\"#0d0887\"],[0.1111111111111111,\"#46039f\"],[0.2222222222222222,\"#7201a8\"],[0.3333333333333333,\"#9c179e\"],[0.4444444444444444,\"#bd3786\"],[0.5555555555555556,\"#d8576b\"],[0.6666666666666666,\"#ed7953\"],[0.7777777777777778,\"#fb9f3a\"],[0.8888888888888888,\"#fdca26\"],[1.0,\"#f0f921\"]],\"sequentialminus\":[[0.0,\"#0d0887\"],[0.1111111111111111,\"#46039f\"],[0.2222222222222222,\"#7201a8\"],[0.3333333333333333,\"#9c179e\"],[0.4444444444444444,\"#bd3786\"],[0.5555555555555556,\"#d8576b\"],[0.6666666666666666,\"#ed7953\"],[0.7777777777777778,\"#fb9f3a\"],[0.8888888888888888,\"#fdca26\"],[1.0,\"#f0f921\"]],\"diverging\":[[0,\"#8e0152\"],[0.1,\"#c51b7d\"],[0.2,\"#de77ae\"],[0.3,\"#f1b6da\"],[0.4,\"#fde0ef\"],[0.5,\"#f7f7f7\"],[0.6,\"#e6f5d0\"],[0.7,\"#b8e186\"],[0.8,\"#7fbc41\"],[0.9,\"#4d9221\"],[1,\"#276419\"]]},\"xaxis\":{\"gridcolor\":\"white\",\"linecolor\":\"white\",\"ticks\":\"\",\"title\":{\"standoff\":15},\"zerolinecolor\":\"white\",\"automargin\":true,\"zerolinewidth\":2},\"yaxis\":{\"gridcolor\":\"white\",\"linecolor\":\"white\",\"ticks\":\"\",\"title\":{\"standoff\":15},\"zerolinecolor\":\"white\",\"automargin\":true,\"zerolinewidth\":2},\"scene\":{\"xaxis\":{\"backgroundcolor\":\"#E5ECF6\",\"gridcolor\":\"white\",\"linecolor\":\"white\",\"showbackground\":true,\"ticks\":\"\",\"zerolinecolor\":\"white\",\"gridwidth\":2},\"yaxis\":{\"backgroundcolor\":\"#E5ECF6\",\"gridcolor\":\"white\",\"linecolor\":\"white\",\"showbackground\":true,\"ticks\":\"\",\"zerolinecolor\":\"white\",\"gridwidth\":2},\"zaxis\":{\"backgroundcolor\":\"#E5ECF6\",\"gridcolor\":\"white\",\"linecolor\":\"white\",\"showbackground\":true,\"ticks\":\"\",\"zerolinecolor\":\"white\",\"gridwidth\":2}},\"shapedefaults\":{\"line\":{\"color\":\"#2a3f5f\"}},\"annotationdefaults\":{\"arrowcolor\":\"#2a3f5f\",\"arrowhead\":0,\"arrowwidth\":1},\"geo\":{\"bgcolor\":\"white\",\"landcolor\":\"#E5ECF6\",\"subunitcolor\":\"white\",\"showland\":true,\"showlakes\":true,\"lakecolor\":\"white\"},\"title\":{\"x\":0.05},\"mapbox\":{\"style\":\"light\"}}}},                        {\"responsive\": true}                    ).then(function(){\n",
       "                            \n",
       "var gd = document.getElementById('ce566f7b-a619-4839-bdc2-0efee83ac440');\n",
       "var x = new MutationObserver(function (mutations, observer) {{\n",
       "        var display = window.getComputedStyle(gd).display;\n",
       "        if (!display || display === 'none') {{\n",
       "            console.log([gd, 'removed!']);\n",
       "            Plotly.purge(gd);\n",
       "            observer.disconnect();\n",
       "        }}\n",
       "}});\n",
       "\n",
       "// Listen for the removal of the full notebook cells\n",
       "var notebookContainer = gd.closest('#notebook-container');\n",
       "if (notebookContainer) {{\n",
       "    x.observe(notebookContainer, {childList: true});\n",
       "}}\n",
       "\n",
       "// Listen for the clearing of the current output cell\n",
       "var outputEl = gd.closest('.output');\n",
       "if (outputEl) {{\n",
       "    x.observe(outputEl, {childList: true});\n",
       "}}\n",
       "\n",
       "                        })                };                });            </script>        </div>"
      ]
     },
     "metadata": {},
     "output_type": "display_data"
    }
   ],
   "source": [
    "# Single Lines Chart (DISTRIBUTION)\n",
    "fig_k = px.line(\n",
    "    x=feature_domain_5, \n",
    "    y=X_Cubic_Data[200],\n",
    "    title=\"Single Parameter Curve\",\n",
    "    labels={\"x\": \"Parameters\", \"y\":\"Normalized values (Divided by Max)\"}\n",
    ")\n",
    "\n",
    "fig_k.show()\n",
    "\n",
    "\n",
    "# Multiple Lines Chart (DISTRIBUTION)\n",
    "fig = go.Figure()\n",
    "\n",
    "for line in range(len(X_Cubic)):\n",
    "    data = X_Cubic_Data[line];\n",
    "    fig.add_trace(go.Scatter(x=feature_domain_5, y=data))\n",
    "\n",
    "fig.show()"
   ]
  },
  {
   "cell_type": "markdown",
   "id": "921ecdac",
   "metadata": {},
   "source": [
    "# Quick Normalization"
   ]
  },
  {
   "cell_type": "code",
   "execution_count": 21,
   "id": "b0242084",
   "metadata": {},
   "outputs": [
    {
     "name": "stdout",
     "output_type": "stream",
     "text": [
      "Max value: 827.9307229\n"
     ]
    }
   ],
   "source": [
    "print(\"Max value:\", np.max(X_Cubic_Data));\n",
    "X_Cubic_Data_N = X_Cubic_Data / np.max(X_Cubic_Data);\n",
    "\n",
    "X_Cubic_Data_ALL_N = X_Cubic_Data_ALL / np.max(X_Cubic_Data_ALL)"
   ]
  },
  {
   "cell_type": "code",
   "execution_count": 22,
   "id": "ad1f225d",
   "metadata": {},
   "outputs": [],
   "source": [
    "# Multiple Lines Chart (DISTRIBUTION)\n",
    "fig = go.Figure()\n",
    "\n",
    "# for line in range(len(X_Cubic)):\n",
    "#     data = X_Cubic_Data_N[line];\n",
    "#     fig.add_trace(go.Scatter(x=feature_domain_5, y=data))\n",
    "    \n",
    "for line in range(len(X_Cubic_Data_ALL_N)):\n",
    "    data = X_Cubic_Data_ALL_N[line];\n",
    "    fig.add_trace(go.Scatter(x=feature_domain_7, y=data))\n",
    "\n",
    "fig.show(renderer = \"browser\")"
   ]
  },
  {
   "cell_type": "markdown",
   "id": "70ba78c2",
   "metadata": {},
   "source": [
    "# K-Means CGAN"
   ]
  },
  {
   "cell_type": "code",
   "execution_count": null,
   "id": "e58d5609",
   "metadata": {},
   "outputs": [],
   "source": [
    "from sklearn.neighbors import KernelDensity\n",
    "from sklearn.cluster import KMeans"
   ]
  },
  {
   "cell_type": "code",
   "execution_count": null,
   "id": "bd2e87c3",
   "metadata": {},
   "outputs": [],
   "source": [
    "print(\"Max value:\", np.max(X_Cubic_Data));\n",
    "X_Cubic_Data_N = X_Cubic_Data / np.max(X_Cubic_Data);\n",
    "\n",
    "print(X_Cubic_Data_N)"
   ]
  },
  {
   "cell_type": "markdown",
   "id": "862434cc",
   "metadata": {},
   "source": [
    "# CTGAN"
   ]
  },
  {
   "cell_type": "code",
   "execution_count": 23,
   "id": "9dc2c135",
   "metadata": {},
   "outputs": [],
   "source": [
    "from ctgan import CTGAN"
   ]
  },
  {
   "cell_type": "code",
   "execution_count": 33,
   "id": "e71be88e",
   "metadata": {},
   "outputs": [
    {
     "name": "stdout",
     "output_type": "stream",
     "text": [
      "[[524.6123617 0.3224 1935.3610593872165 230 0.2]\n",
      " [546.6644154 0.2976 2092.8618420592306 230 0.2]\n",
      " [579.4849398 0.268 2194.978811659142 230 0.2]\n",
      " ...\n",
      " [630.3584337 0.2968 2255.0932625144205 190 0.1]\n",
      " [691.018674 0.244 2266.351168475735 190 0.1]\n",
      " [763.3644578 0.1808 2220.0751979865336 190 0.1]]\n",
      "(225, 5)\n"
     ]
    }
   ],
   "source": [
    "print(X_Cubic_Data)\n",
    "print(X_Cubic_Data.shape)"
   ]
  },
  {
   "cell_type": "code",
   "execution_count": 34,
   "id": "39bfa448",
   "metadata": {},
   "outputs": [
    {
     "name": "stderr",
     "output_type": "stream",
     "text": [
      "/Users/zacharyg/opt/anaconda3/envs/research/lib/python3.10/site-packages/rdt/transformers/base.py:132: FutureWarning:\n",
      "\n",
      "Future versions of RDT will not support the 'model_missing_values' parameter. Please switch to using the 'missing_value_generation' parameter to select your strategy.\n",
      "\n",
      "/Users/zacharyg/opt/anaconda3/envs/research/lib/python3.10/site-packages/rdt/transformers/base.py:132: FutureWarning:\n",
      "\n",
      "Future versions of RDT will not support the 'model_missing_values' parameter. Please switch to using the 'missing_value_generation' parameter to select your strategy.\n",
      "\n",
      "/Users/zacharyg/opt/anaconda3/envs/research/lib/python3.10/site-packages/rdt/transformers/base.py:132: FutureWarning:\n",
      "\n",
      "Future versions of RDT will not support the 'model_missing_values' parameter. Please switch to using the 'missing_value_generation' parameter to select your strategy.\n",
      "\n",
      "/Users/zacharyg/opt/anaconda3/envs/research/lib/python3.10/site-packages/rdt/transformers/base.py:132: FutureWarning:\n",
      "\n",
      "Future versions of RDT will not support the 'model_missing_values' parameter. Please switch to using the 'missing_value_generation' parameter to select your strategy.\n",
      "\n",
      "/Users/zacharyg/opt/anaconda3/envs/research/lib/python3.10/site-packages/rdt/transformers/base.py:132: FutureWarning:\n",
      "\n",
      "Future versions of RDT will not support the 'model_missing_values' parameter. Please switch to using the 'missing_value_generation' parameter to select your strategy.\n",
      "\n"
     ]
    }
   ],
   "source": [
    "ctgan = CTGAN(epochs=2000)\n",
    "ctgan.fit(X_Cubic_Data)"
   ]
  },
  {
   "cell_type": "code",
   "execution_count": 35,
   "id": "62fc8774",
   "metadata": {},
   "outputs": [
    {
     "data": {
      "application/vnd.plotly.v1+json": {
       "config": {
        "plotlyServerURL": "https://plot.ly"
       },
       "data": [
        {
         "type": "scatter",
         "x": [
          1,
          2,
          3,
          4,
          5,
          6,
          7
         ],
         "y": [
          448.7021143492823,
          0.4948779793936923,
          1226.7386337494738,
          193,
          0.19718395939997607
         ]
        },
        {
         "type": "scatter",
         "x": [
          1,
          2,
          3,
          4,
          5,
          6,
          7
         ],
         "y": [
          987.5496218423841,
          0.06562609275579426,
          2045.09109338697,
          227,
          0.20093959384461219
         ]
        },
        {
         "type": "scatter",
         "x": [
          1,
          2,
          3,
          4,
          5,
          6,
          7
         ],
         "y": [
          648.7019251131953,
          0.47679025199510916,
          2059.5585281028275,
          193,
          0.14316477380551476
         ]
        },
        {
         "type": "scatter",
         "x": [
          1,
          2,
          3,
          4,
          5,
          6,
          7
         ],
         "y": [
          470.5930786593897,
          0.30536867923163213,
          1497.626865654351,
          192,
          0.14651803446212347
         ]
        },
        {
         "type": "scatter",
         "x": [
          1,
          2,
          3,
          4,
          5,
          6,
          7
         ],
         "y": [
          458.14736315316213,
          0.2807317868411232,
          800.5696068165128,
          190,
          0.19826254402724638
         ]
        },
        {
         "type": "scatter",
         "x": [
          1,
          2,
          3,
          4,
          5,
          6,
          7
         ],
         "y": [
          707.1939965568731,
          0.4344971787441581,
          2094.8759990126105,
          192,
          0.101520405622923
         ]
        },
        {
         "type": "scatter",
         "x": [
          1,
          2,
          3,
          4,
          5,
          6,
          7
         ],
         "y": [
          638.3042081329946,
          0.23475439800758263,
          2219.6709474111876,
          230,
          0.1517227944561174
         ]
        },
        {
         "type": "scatter",
         "x": [
          1,
          2,
          3,
          4,
          5,
          6,
          7
         ],
         "y": [
          565.1692936220958,
          0.3768041377975566,
          2198.979788502973,
          229,
          0.14910492029800224
         ]
        },
        {
         "type": "scatter",
         "x": [
          1,
          2,
          3,
          4,
          5,
          6,
          7
         ],
         "y": [
          863.3521103505975,
          0.23334581662032422,
          2251.2157404235936,
          229,
          0.1479166105434325
         ]
        },
        {
         "type": "scatter",
         "x": [
          1,
          2,
          3,
          4,
          5,
          6,
          7
         ],
         "y": [
          581.5966326671667,
          0.31712098314224096,
          2189.8684537183044,
          231,
          0.14789926288374416
         ]
        },
        {
         "type": "scatter",
         "x": [
          1,
          2,
          3,
          4,
          5,
          6,
          7
         ],
         "y": [
          274.8661409242206,
          0.5019895886128268,
          1315.5749525361368,
          189,
          0.2002523507575576
         ]
        },
        {
         "type": "scatter",
         "x": [
          1,
          2,
          3,
          4,
          5,
          6,
          7
         ],
         "y": [
          838.1885404464526,
          0.23433342091221984,
          2291.443367129011,
          229,
          0.14997491070780114
         ]
        },
        {
         "type": "scatter",
         "x": [
          1,
          2,
          3,
          4,
          5,
          6,
          7
         ],
         "y": [
          603.3561417124004,
          0.2893322280849365,
          2333.407555240398,
          210,
          0.14836504349899893
         ]
        },
        {
         "type": "scatter",
         "x": [
          1,
          2,
          3,
          4,
          5,
          6,
          7
         ],
         "y": [
          477.2743511407012,
          0.5337295459978917,
          988.6987046173806,
          193,
          0.18976903083320057
         ]
        },
        {
         "type": "scatter",
         "x": [
          1,
          2,
          3,
          4,
          5,
          6,
          7
         ],
         "y": [
          874.3232802005932,
          0.11455826827292533,
          2256.5654275991487,
          232,
          0.192539311340637
         ]
        },
        {
         "type": "scatter",
         "x": [
          1,
          2,
          3,
          4,
          5,
          6,
          7
         ],
         "y": [
          196.51233180858506,
          0.38154895186841237,
          1554.345144455775,
          229,
          0.10237663080976032
         ]
        },
        {
         "type": "scatter",
         "x": [
          1,
          2,
          3,
          4,
          5,
          6,
          7
         ],
         "y": [
          523.8066779510386,
          0.3366130800993515,
          1029.6287399603457,
          229,
          0.19465911860192534
         ]
        },
        {
         "type": "scatter",
         "x": [
          1,
          2,
          3,
          4,
          5,
          6,
          7
         ],
         "y": [
          960.4402774362857,
          0.03791547015537419,
          2226.619299425262,
          231,
          0.19255875445309642
         ]
        },
        {
         "type": "scatter",
         "x": [
          1,
          2,
          3,
          4,
          5,
          6,
          7
         ],
         "y": [
          750.2240837267598,
          0.09123626605843392,
          2095.7503375871534,
          210,
          0.1927409220071346
         ]
        },
        {
         "type": "scatter",
         "x": [
          1,
          2,
          3,
          4,
          5,
          6,
          7
         ],
         "y": [
          468.27347010824076,
          0.4217425543781755,
          1563.0883241777246,
          190,
          0.14794892849346264
         ]
        },
        {
         "type": "scatter",
         "x": [
          1,
          2,
          3,
          4,
          5,
          6,
          7
         ],
         "y": [
          704.3401996669888,
          0.22947540861342317,
          2134.776548647587,
          232,
          0.19815772984259858
         ]
        },
        {
         "type": "scatter",
         "x": [
          1,
          2,
          3,
          4,
          5,
          6,
          7
         ],
         "y": [
          778.5426699687049,
          0.07768222402067088,
          2221.070673027568,
          230,
          0.19427730622948497
         ]
        },
        {
         "type": "scatter",
         "x": [
          1,
          2,
          3,
          4,
          5,
          6,
          7
         ],
         "y": [
          642.533683659933,
          0.24302989991304966,
          2142.3911305509096,
          211,
          0.19416576488778733
         ]
        },
        {
         "type": "scatter",
         "x": [
          1,
          2,
          3,
          4,
          5,
          6,
          7
         ],
         "y": [
          676.4023105462406,
          0.391073695031715,
          1513.2844072383593,
          193,
          0.09731078731816555
         ]
        },
        {
         "type": "scatter",
         "x": [
          1,
          2,
          3,
          4,
          5,
          6,
          7
         ],
         "y": [
          697.4516751245804,
          0.18871520971580777,
          2205.2211799737834,
          231,
          0.1431778117949938
         ]
        },
        {
         "type": "scatter",
         "x": [
          1,
          2,
          3,
          4,
          5,
          6,
          7
         ],
         "y": [
          746.3220075466934,
          0.14608002738176973,
          2221.338685850317,
          209,
          0.1486095252520245
         ]
        },
        {
         "type": "scatter",
         "x": [
          1,
          2,
          3,
          4,
          5,
          6,
          7
         ],
         "y": [
          629.1030692225778,
          0.2854093333939202,
          2262.6283864896136,
          210,
          0.196910915444356
         ]
        },
        {
         "type": "scatter",
         "x": [
          1,
          2,
          3,
          4,
          5,
          6,
          7
         ],
         "y": [
          619.1797780857585,
          0.2941502747780204,
          2262.4874983148184,
          231,
          0.2040800030946633
         ]
        },
        {
         "type": "scatter",
         "x": [
          1,
          2,
          3,
          4,
          5,
          6,
          7
         ],
         "y": [
          600.9786751462744,
          0.47098205552829103,
          1459.0087926274548,
          190,
          0.14525319616857765
         ]
        },
        {
         "type": "scatter",
         "x": [
          1,
          2,
          3,
          4,
          5,
          6,
          7
         ],
         "y": [
          731.7671617139815,
          0.10051341661152684,
          2270.1875756633494,
          209,
          0.1493549004774188
         ]
        },
        {
         "type": "scatter",
         "x": [
          1,
          2,
          3,
          4,
          5,
          6,
          7
         ],
         "y": [
          751.8467554210881,
          0.2934627540361609,
          2166.635246792612,
          230,
          0.2003074645544974
         ]
        },
        {
         "type": "scatter",
         "x": [
          1,
          2,
          3,
          4,
          5,
          6,
          7
         ],
         "y": [
          479.962192687965,
          0.30668711426444134,
          2258.5514602614867,
          228,
          0.14602854007746952
         ]
        },
        {
         "type": "scatter",
         "x": [
          1,
          2,
          3,
          4,
          5,
          6,
          7
         ],
         "y": [
          246.87856977810353,
          0.4645499382677088,
          1073.68819962979,
          191,
          0.14965353209821008
         ]
        },
        {
         "type": "scatter",
         "x": [
          1,
          2,
          3,
          4,
          5,
          6,
          7
         ],
         "y": [
          658.0277008446501,
          0.2827974020648194,
          2119.9436928246782,
          190,
          0.15020154626669344
         ]
        },
        {
         "type": "scatter",
         "x": [
          1,
          2,
          3,
          4,
          5,
          6,
          7
         ],
         "y": [
          814.604672195087,
          0.08168871082236312,
          2215.10699177337,
          230,
          0.2041859639500236
         ]
        },
        {
         "type": "scatter",
         "x": [
          1,
          2,
          3,
          4,
          5,
          6,
          7
         ],
         "y": [
          699.1780271648804,
          0.2686492926804612,
          2147.007516640453,
          228,
          0.1996165520712061
         ]
        },
        {
         "type": "scatter",
         "x": [
          1,
          2,
          3,
          4,
          5,
          6,
          7
         ],
         "y": [
          955.8273713209211,
          0.03880490466008496,
          2124.236017447976,
          231,
          0.15491268251433662
         ]
        },
        {
         "type": "scatter",
         "x": [
          1,
          2,
          3,
          4,
          5,
          6,
          7
         ],
         "y": [
          905.5462631603093,
          0.07516971871033301,
          2137.537028995358,
          225,
          0.14849102319390445
         ]
        },
        {
         "type": "scatter",
         "x": [
          1,
          2,
          3,
          4,
          5,
          6,
          7
         ],
         "y": [
          408.11162647567335,
          0.29137052381269785,
          2241.551014272714,
          211,
          0.19571938192015867
         ]
        },
        {
         "type": "scatter",
         "x": [
          1,
          2,
          3,
          4,
          5,
          6,
          7
         ],
         "y": [
          767.3948565890261,
          0.10782549549226285,
          2145.693957047933,
          230,
          0.10103602225723718
         ]
        },
        {
         "type": "scatter",
         "x": [
          1,
          2,
          3,
          4,
          5,
          6,
          7
         ],
         "y": [
          278.4630682435366,
          0.5147488291632587,
          1595.1722213686587,
          195,
          0.14267711947584566
         ]
        },
        {
         "type": "scatter",
         "x": [
          1,
          2,
          3,
          4,
          5,
          6,
          7
         ],
         "y": [
          919.6790317473417,
          -0.0030549438812397522,
          2012.7752175808148,
          210,
          0.19645497767660872
         ]
        },
        {
         "type": "scatter",
         "x": [
          1,
          2,
          3,
          4,
          5,
          6,
          7
         ],
         "y": [
          241.31293231827854,
          0.4733975347806522,
          1456.1754933712716,
          191,
          0.14822448495091106
         ]
        },
        {
         "type": "scatter",
         "x": [
          1,
          2,
          3,
          4,
          5,
          6,
          7
         ],
         "y": [
          186.9702955594791,
          0.5553051792272912,
          935.5554517456558,
          191,
          0.19820772131081857
         ]
        },
        {
         "type": "scatter",
         "x": [
          1,
          2,
          3,
          4,
          5,
          6,
          7
         ],
         "y": [
          846.0816488359562,
          0.08373753900142894,
          2216.6061070113183,
          231,
          0.1949581846224461
         ]
        },
        {
         "type": "scatter",
         "x": [
          1,
          2,
          3,
          4,
          5,
          6,
          7
         ],
         "y": [
          307.8095726537128,
          0.40302841903564274,
          1647.5634148791173,
          191,
          0.15224201861459594
         ]
        },
        {
         "type": "scatter",
         "x": [
          1,
          2,
          3,
          4,
          5,
          6,
          7
         ],
         "y": [
          620.6158755505011,
          0.13957241777023716,
          2100.659991851294,
          210,
          0.19438769523872096
         ]
        },
        {
         "type": "scatter",
         "x": [
          1,
          2,
          3,
          4,
          5,
          6,
          7
         ],
         "y": [
          377.9237236120993,
          0.529709946160342,
          1345.3112191150958,
          193,
          0.20402746339529454
         ]
        },
        {
         "type": "scatter",
         "x": [
          1,
          2,
          3,
          4,
          5,
          6,
          7
         ],
         "y": [
          496.28205454867395,
          0.39271655090040686,
          2167.5627863844084,
          210,
          0.19593079185316759
         ]
        },
        {
         "type": "scatter",
         "x": [
          1,
          2,
          3,
          4,
          5,
          6,
          7
         ],
         "y": [
          784.6727294428931,
          0.22088145971890566,
          2253.3389390826037,
          209,
          0.19701776930186674
         ]
        },
        {
         "type": "scatter",
         "x": [
          1,
          2,
          3,
          4,
          5,
          6,
          7
         ],
         "y": [
          464.89011596963155,
          0.3154618745433707,
          1167.4837689852375,
          211,
          0.1437427741770616
         ]
        },
        {
         "type": "scatter",
         "x": [
          1,
          2,
          3,
          4,
          5,
          6,
          7
         ],
         "y": [
          553.2859283712534,
          0.2736363863910809,
          2174.09715973406,
          208,
          0.1984798882504033
         ]
        },
        {
         "type": "scatter",
         "x": [
          1,
          2,
          3,
          4,
          5,
          6,
          7
         ],
         "y": [
          799.2260627724718,
          0.1121214271943196,
          2234.6875524499555,
          210,
          0.14885907924118344
         ]
        },
        {
         "type": "scatter",
         "x": [
          1,
          2,
          3,
          4,
          5,
          6,
          7
         ],
         "y": [
          731.6051765702277,
          0.15707775408081215,
          2180.0197370499036,
          232,
          0.14822487252661515
         ]
        },
        {
         "type": "scatter",
         "x": [
          1,
          2,
          3,
          4,
          5,
          6,
          7
         ],
         "y": [
          543.9028538186274,
          0.20416753773630048,
          2112.332177185568,
          232,
          0.15173253590685865
         ]
        },
        {
         "type": "scatter",
         "x": [
          1,
          2,
          3,
          4,
          5,
          6,
          7
         ],
         "y": [
          600.4902359945531,
          0.41665170482939556,
          2088.921036614044,
          209,
          0.1500691094541889
         ]
        },
        {
         "type": "scatter",
         "x": [
          1,
          2,
          3,
          4,
          5,
          6,
          7
         ],
         "y": [
          479.9542932812469,
          0.4437507884811207,
          1648.0612196642396,
          190,
          0.14624702665606573
         ]
        },
        {
         "type": "scatter",
         "x": [
          1,
          2,
          3,
          4,
          5,
          6,
          7
         ],
         "y": [
          442.83759374486357,
          0.3708595089952107,
          1335.5785253653153,
          190,
          0.10313908141366257
         ]
        },
        {
         "type": "scatter",
         "x": [
          1,
          2,
          3,
          4,
          5,
          6,
          7
         ],
         "y": [
          729.1153202925757,
          0.13500635161460156,
          2196.7296891666124,
          228,
          0.14988428422325903
         ]
        },
        {
         "type": "scatter",
         "x": [
          1,
          2,
          3,
          4,
          5,
          6,
          7
         ],
         "y": [
          393.0068810292114,
          0.47104488591346805,
          1034.7808242738681,
          193,
          0.198799536949156
         ]
        },
        {
         "type": "scatter",
         "x": [
          1,
          2,
          3,
          4,
          5,
          6,
          7
         ],
         "y": [
          820.9703289433403,
          0.23049271540533278,
          2101.5120133549995,
          227,
          0.09809482391608258
         ]
        },
        {
         "type": "scatter",
         "x": [
          1,
          2,
          3,
          4,
          5,
          6,
          7
         ],
         "y": [
          626.1344702569368,
          0.19999484524720204,
          2176.1845270960034,
          209,
          0.10570569189291383
         ]
        },
        {
         "type": "scatter",
         "x": [
          1,
          2,
          3,
          4,
          5,
          6,
          7
         ],
         "y": [
          266.16299707939106,
          0.6603641669587313,
          1673.4397228564794,
          191,
          0.14668616709083007
         ]
        },
        {
         "type": "scatter",
         "x": [
          1,
          2,
          3,
          4,
          5,
          6,
          7
         ],
         "y": [
          669.3109642082205,
          0.1851196322776014,
          2038.765256999734,
          193,
          0.14252691057875955
         ]
        },
        {
         "type": "scatter",
         "x": [
          1,
          2,
          3,
          4,
          5,
          6,
          7
         ],
         "y": [
          609.1706394177409,
          0.203625850638325,
          2194.2279401931332,
          191,
          0.19874237298846523
         ]
        },
        {
         "type": "scatter",
         "x": [
          1,
          2,
          3,
          4,
          5,
          6,
          7
         ],
         "y": [
          473.62084868477586,
          0.4282166554641644,
          1162.1917263638218,
          190,
          0.1443382637949931
         ]
        },
        {
         "type": "scatter",
         "x": [
          1,
          2,
          3,
          4,
          5,
          6,
          7
         ],
         "y": [
          322.89274404590986,
          0.5517410185795514,
          1660.7482735038157,
          192,
          0.19732729579238067
         ]
        },
        {
         "type": "scatter",
         "x": [
          1,
          2,
          3,
          4,
          5,
          6,
          7
         ],
         "y": [
          502.5178782851351,
          0.5409005715637498,
          1381.892023537923,
          191,
          0.1921887096375859
         ]
        },
        {
         "type": "scatter",
         "x": [
          1,
          2,
          3,
          4,
          5,
          6,
          7
         ],
         "y": [
          550.1383978750403,
          0.2910609585663056,
          2151.8470794375808,
          190,
          0.14698533777793965
         ]
        },
        {
         "type": "scatter",
         "x": [
          1,
          2,
          3,
          4,
          5,
          6,
          7
         ],
         "y": [
          608.250495831548,
          0.2797162430510412,
          2124.848331747093,
          211,
          0.1498987990585172
         ]
        },
        {
         "type": "scatter",
         "x": [
          1,
          2,
          3,
          4,
          5,
          6,
          7
         ],
         "y": [
          631.9027311912856,
          0.31925178866337967,
          2110.9898253720885,
          209,
          0.14942580155303747
         ]
        },
        {
         "type": "scatter",
         "x": [
          1,
          2,
          3,
          4,
          5,
          6,
          7
         ],
         "y": [
          729.0782971958891,
          0.1222133559030146,
          2201.8122594018323,
          230,
          0.09346098028193323
         ]
        },
        {
         "type": "scatter",
         "x": [
          1,
          2,
          3,
          4,
          5,
          6,
          7
         ],
         "y": [
          347.5189758612929,
          0.44786071296596114,
          1472.2131595734731,
          190,
          0.1991528846837762
         ]
        },
        {
         "type": "scatter",
         "x": [
          1,
          2,
          3,
          4,
          5,
          6,
          7
         ],
         "y": [
          749.8420825447719,
          0.2904091980039178,
          1469.372953544152,
          210,
          0.20768184134298975
         ]
        },
        {
         "type": "scatter",
         "x": [
          1,
          2,
          3,
          4,
          5,
          6,
          7
         ],
         "y": [
          702.3403743444665,
          0.4086453310427407,
          2264.941256253889,
          191,
          0.146496881123658
         ]
        },
        {
         "type": "scatter",
         "x": [
          1,
          2,
          3,
          4,
          5,
          6,
          7
         ],
         "y": [
          809.9974816220757,
          0.18330170964239517,
          2130.319850931939,
          209,
          0.1968764000897338
         ]
        },
        {
         "type": "scatter",
         "x": [
          1,
          2,
          3,
          4,
          5,
          6,
          7
         ],
         "y": [
          650.2275808978836,
          0.1280186283511876,
          2156.855238106143,
          231,
          0.15148009726753303
         ]
        },
        {
         "type": "scatter",
         "x": [
          1,
          2,
          3,
          4,
          5,
          6,
          7
         ],
         "y": [
          705.3866630327341,
          0.13806609336849404,
          2148.5560920533153,
          231,
          0.1469184104616687
         ]
        },
        {
         "type": "scatter",
         "x": [
          1,
          2,
          3,
          4,
          5,
          6,
          7
         ],
         "y": [
          219.73212704984894,
          0.5172852111595321,
          1258.4274001698143,
          192,
          0.20017292935105147
         ]
        },
        {
         "type": "scatter",
         "x": [
          1,
          2,
          3,
          4,
          5,
          6,
          7
         ],
         "y": [
          73.99376059662791,
          0.6015587575712098,
          1836.1898003459207,
          192,
          0.14736869391245108
         ]
        },
        {
         "type": "scatter",
         "x": [
          1,
          2,
          3,
          4,
          5,
          6,
          7
         ],
         "y": [
          897.6489542075352,
          0.2032592542339165,
          2189.403837366852,
          231,
          0.20057375659679222
         ]
        },
        {
         "type": "scatter",
         "x": [
          1,
          2,
          3,
          4,
          5,
          6,
          7
         ],
         "y": [
          283.71579756283734,
          0.4527608463884995,
          1332.2108254455627,
          191,
          0.2012579713141724
         ]
        },
        {
         "type": "scatter",
         "x": [
          1,
          2,
          3,
          4,
          5,
          6,
          7
         ],
         "y": [
          474.4041721585568,
          0.6033895922179704,
          1220.5611538005503,
          191,
          0.14797339538967283
         ]
        },
        {
         "type": "scatter",
         "x": [
          1,
          2,
          3,
          4,
          5,
          6,
          7
         ],
         "y": [
          815.5223071127348,
          0.0935976766172202,
          2264.412845608906,
          211,
          0.14732679855202385
         ]
        },
        {
         "type": "scatter",
         "x": [
          1,
          2,
          3,
          4,
          5,
          6,
          7
         ],
         "y": [
          719.041764496737,
          0.1642829681894724,
          2161.6460393866564,
          209,
          0.2005481229722849
         ]
        },
        {
         "type": "scatter",
         "x": [
          1,
          2,
          3,
          4,
          5,
          6,
          7
         ],
         "y": [
          606.1709315761368,
          0.524685930873181,
          1890.941319744389,
          192,
          0.0991857755286617
         ]
        },
        {
         "type": "scatter",
         "x": [
          1,
          2,
          3,
          4,
          5,
          6,
          7
         ],
         "y": [
          621.5691626675873,
          0.17360407301501918,
          2104.7664555359,
          232,
          0.19368477687771826
         ]
        },
        {
         "type": "scatter",
         "x": [
          1,
          2,
          3,
          4,
          5,
          6,
          7
         ],
         "y": [
          793.9854236898084,
          0.1327285734030706,
          2076.091696492121,
          233,
          0.19831498203716091
         ]
        },
        {
         "type": "scatter",
         "x": [
          1,
          2,
          3,
          4,
          5,
          6,
          7
         ],
         "y": [
          305.7136473152408,
          0.4518053397431571,
          951.6773146474447,
          191,
          0.0980183972590938
         ]
        },
        {
         "type": "scatter",
         "x": [
          1,
          2,
          3,
          4,
          5,
          6,
          7
         ],
         "y": [
          874.4835248562862,
          0.12240848343961573,
          2224.184168374706,
          210,
          0.14577678119730317
         ]
        },
        {
         "type": "scatter",
         "x": [
          1,
          2,
          3,
          4,
          5,
          6,
          7
         ],
         "y": [
          651.8441322581805,
          0.3812364837895472,
          805.7355757801993,
          194,
          0.14739600326885274
         ]
        },
        {
         "type": "scatter",
         "x": [
          1,
          2,
          3,
          4,
          5,
          6,
          7
         ],
         "y": [
          584.167423574084,
          0.24941478734507339,
          2063.527201608699,
          228,
          0.20110586465039967
         ]
        },
        {
         "type": "scatter",
         "x": [
          1,
          2,
          3,
          4,
          5,
          6,
          7
         ],
         "y": [
          434.5399709282768,
          0.30371386347569496,
          1538.7125797284862,
          193,
          0.10384139154922647
         ]
        },
        {
         "type": "scatter",
         "x": [
          1,
          2,
          3,
          4,
          5,
          6,
          7
         ],
         "y": [
          611.878878782545,
          0.3675584947354753,
          1715.3743656435383,
          188,
          0.19496172687911137
         ]
        },
        {
         "type": "scatter",
         "x": [
          1,
          2,
          3,
          4,
          5,
          6,
          7
         ],
         "y": [
          582.0676358794976,
          0.19415899100184492,
          1992.389733218835,
          232,
          0.1516452622962913
         ]
        },
        {
         "type": "scatter",
         "x": [
          1,
          2,
          3,
          4,
          5,
          6,
          7
         ],
         "y": [
          556.8158393331789,
          0.2827432771684766,
          2207.657894816464,
          209,
          0.19819126138505558
         ]
        },
        {
         "type": "scatter",
         "x": [
          1,
          2,
          3,
          4,
          5,
          6,
          7
         ],
         "y": [
          649.1373870064656,
          0.2341035366400318,
          2155.72671689361,
          231,
          0.19857390808838374
         ]
        },
        {
         "type": "scatter",
         "x": [
          1,
          2,
          3,
          4,
          5,
          6,
          7
         ],
         "y": [
          747.3953406906804,
          0.2187117000155941,
          2045.4091423090417,
          231,
          0.19542215186054832
         ]
        },
        {
         "type": "scatter",
         "x": [
          1,
          2,
          3,
          4,
          5,
          6,
          7
         ],
         "y": [
          992.2243151070661,
          0.017650018066467654,
          2187.8827196834377,
          230,
          0.19278891010429464
         ]
        },
        {
         "type": "scatter",
         "x": [
          1,
          2,
          3,
          4,
          5,
          6,
          7
         ],
         "y": [
          973.8896680795964,
          0.0002565202096102559,
          2102.5351324017897,
          230,
          0.15161640521137684
         ]
        },
        {
         "type": "scatter",
         "x": [
          1,
          2,
          3,
          4,
          5,
          6,
          7
         ],
         "y": [
          246.72097873486166,
          0.5485831271033865,
          1140.9848495070316,
          193,
          0.15084340370420804
         ]
        },
        {
         "type": "scatter",
         "x": [
          1,
          2,
          3,
          4,
          5,
          6,
          7
         ],
         "y": [
          588.4453754113523,
          0.28675821715197736,
          2199.7900128259807,
          230,
          0.19705735891584886
         ]
        },
        {
         "type": "scatter",
         "x": [
          1,
          2,
          3,
          4,
          5,
          6,
          7
         ],
         "y": [
          611.742052396487,
          0.37301884407911845,
          1462.5542716596212,
          190,
          0.19372286379688336
         ]
        },
        {
         "type": "scatter",
         "x": [
          1,
          2,
          3,
          4,
          5,
          6,
          7
         ],
         "y": [
          744.2425125915182,
          0.11666060187300174,
          2163.5952108870997,
          230,
          0.20525863671211295
         ]
        },
        {
         "type": "scatter",
         "x": [
          1,
          2,
          3,
          4,
          5,
          6,
          7
         ],
         "y": [
          488.41532077639937,
          0.48890180268521044,
          1514.4090703656466,
          193,
          0.14952421571258193
         ]
        },
        {
         "type": "scatter",
         "x": [
          1,
          2,
          3,
          4,
          5,
          6,
          7
         ],
         "y": [
          763.0272452480694,
          0.08164839551742475,
          2106.260664751108,
          229,
          0.1922864243219203
         ]
        },
        {
         "type": "scatter",
         "x": [
          1,
          2,
          3,
          4,
          5,
          6,
          7
         ],
         "y": [
          855.526217646044,
          0.13264252359821843,
          2080.5789795267137,
          231,
          0.1957901717681494
         ]
        },
        {
         "type": "scatter",
         "x": [
          1,
          2,
          3,
          4,
          5,
          6,
          7
         ],
         "y": [
          383.83945691340205,
          0.3499394778814468,
          1383.341495690396,
          191,
          0.09472761466961585
         ]
        },
        {
         "type": "scatter",
         "x": [
          1,
          2,
          3,
          4,
          5,
          6,
          7
         ],
         "y": [
          608.2417695458246,
          0.30351139992825044,
          2229.5609879890712,
          211,
          0.09441303181129392
         ]
        },
        {
         "type": "scatter",
         "x": [
          1,
          2,
          3,
          4,
          5,
          6,
          7
         ],
         "y": [
          517.5886726912709,
          0.2805795131590392,
          2169.268278868239,
          210,
          0.2019301883411744
         ]
        },
        {
         "type": "scatter",
         "x": [
          1,
          2,
          3,
          4,
          5,
          6,
          7
         ],
         "y": [
          687.8007203620248,
          0.0672149101592183,
          2139.224042237962,
          231,
          0.14854533284726254
         ]
        },
        {
         "type": "scatter",
         "x": [
          1,
          2,
          3,
          4,
          5,
          6,
          7
         ],
         "y": [
          901.2733769260053,
          0.08072136991225788,
          2222.272243318921,
          232,
          0.10035202584112018
         ]
        },
        {
         "type": "scatter",
         "x": [
          1,
          2,
          3,
          4,
          5,
          6,
          7
         ],
         "y": [
          518.9810674947257,
          0.5496956514300606,
          1694.964085037973,
          195,
          0.20034798269533008
         ]
        },
        {
         "type": "scatter",
         "x": [
          1,
          2,
          3,
          4,
          5,
          6,
          7
         ],
         "y": [
          487.30034478717664,
          0.39155468263269066,
          1427.2450665490005,
          192,
          0.20063436717499455
         ]
        },
        {
         "type": "scatter",
         "x": [
          1,
          2,
          3,
          4,
          5,
          6,
          7
         ],
         "y": [
          886.627076645013,
          0.08409511822783874,
          2240.8406755061824,
          227,
          0.09871363114426947
         ]
        },
        {
         "type": "scatter",
         "x": [
          1,
          2,
          3,
          4,
          5,
          6,
          7
         ],
         "y": [
          883.3812534858594,
          0.12186273690950448,
          2184.146518067817,
          232,
          0.09878142691169275
         ]
        },
        {
         "type": "scatter",
         "x": [
          1,
          2,
          3,
          4,
          5,
          6,
          7
         ],
         "y": [
          969.6187555160152,
          0.05003128559995307,
          2109.9764757097123,
          229,
          0.14768197407139216
         ]
        },
        {
         "type": "scatter",
         "x": [
          1,
          2,
          3,
          4,
          5,
          6,
          7
         ],
         "y": [
          540.3771738174572,
          0.34227904026765654,
          2247.8195995076185,
          211,
          0.19791296199410474
         ]
        },
        {
         "type": "scatter",
         "x": [
          1,
          2,
          3,
          4,
          5,
          6,
          7
         ],
         "y": [
          838.0256793477151,
          0.0859889588913073,
          2212.5411045515048,
          229,
          0.09982304920371966
         ]
        },
        {
         "type": "scatter",
         "x": [
          1,
          2,
          3,
          4,
          5,
          6,
          7
         ],
         "y": [
          665.5952769193257,
          0.312793896002983,
          2262.625197574832,
          210,
          0.14688122007006557
         ]
        },
        {
         "type": "scatter",
         "x": [
          1,
          2,
          3,
          4,
          5,
          6,
          7
         ],
         "y": [
          748.1957443663842,
          0.053850474214119176,
          2252.69554619595,
          229,
          0.20275814698587888
         ]
        },
        {
         "type": "scatter",
         "x": [
          1,
          2,
          3,
          4,
          5,
          6,
          7
         ],
         "y": [
          521.51288448992,
          0.2664547630038115,
          2342.338873652597,
          210,
          0.19602154414032827
         ]
        },
        {
         "type": "scatter",
         "x": [
          1,
          2,
          3,
          4,
          5,
          6,
          7
         ],
         "y": [
          666.7717066384803,
          0.20935268780519561,
          2209.0299813938595,
          232,
          0.19301977003267362
         ]
        },
        {
         "type": "scatter",
         "x": [
          1,
          2,
          3,
          4,
          5,
          6,
          7
         ],
         "y": [
          686.5486911628395,
          0.17821118482532028,
          2328.5984797750766,
          233,
          0.09992375655152909
         ]
        },
        {
         "type": "scatter",
         "x": [
          1,
          2,
          3,
          4,
          5,
          6,
          7
         ],
         "y": [
          600.2769880801881,
          0.2524912527913696,
          1445.8384359639497,
          189,
          0.19104280625857512
         ]
        },
        {
         "type": "scatter",
         "x": [
          1,
          2,
          3,
          4,
          5,
          6,
          7
         ],
         "y": [
          749.9857724262083,
          0.16522763539229846,
          2231.6831947782666,
          230,
          0.19646140609313306
         ]
        },
        {
         "type": "scatter",
         "x": [
          1,
          2,
          3,
          4,
          5,
          6,
          7
         ],
         "y": [
          505.518975179955,
          0.30764081190793857,
          1400.6452934774031,
          211,
          0.14830545809650858
         ]
        },
        {
         "type": "scatter",
         "x": [
          1,
          2,
          3,
          4,
          5,
          6,
          7
         ],
         "y": [
          704.8403221477879,
          0.23091170415574538,
          2193.4529139169745,
          210,
          0.1472306772031045
         ]
        },
        {
         "type": "scatter",
         "x": [
          1,
          2,
          3,
          4,
          5,
          6,
          7
         ],
         "y": [
          782.9093055623379,
          0.07557078295949698,
          2150.623619352643,
          231,
          0.14728921715231186
         ]
        },
        {
         "type": "scatter",
         "x": [
          1,
          2,
          3,
          4,
          5,
          6,
          7
         ],
         "y": [
          649.975099347881,
          0.4682887710095312,
          2054.254317361073,
          192,
          0.09430677637544947
         ]
        },
        {
         "type": "scatter",
         "x": [
          1,
          2,
          3,
          4,
          5,
          6,
          7
         ],
         "y": [
          502.004712809191,
          0.3302682074705216,
          2132.052631500818,
          231,
          0.20247210631870322
         ]
        },
        {
         "type": "scatter",
         "x": [
          1,
          2,
          3,
          4,
          5,
          6,
          7
         ],
         "y": [
          840.2860201988876,
          0.11777526162656923,
          2093.940953739284,
          230,
          0.1029405565218443
         ]
        },
        {
         "type": "scatter",
         "x": [
          1,
          2,
          3,
          4,
          5,
          6,
          7
         ],
         "y": [
          566.3955981694071,
          0.5722590891478098,
          1402.3536872066804,
          227,
          0.20086512330464024
         ]
        },
        {
         "type": "scatter",
         "x": [
          1,
          2,
          3,
          4,
          5,
          6,
          7
         ],
         "y": [
          535.5222986567827,
          0.21547867157232165,
          2166.599805444364,
          230,
          0.19382193863317534
         ]
        },
        {
         "type": "scatter",
         "x": [
          1,
          2,
          3,
          4,
          5,
          6,
          7
         ],
         "y": [
          509.4927530029514,
          0.31181594975166155,
          2115.489112164496,
          232,
          0.2000212331640877
         ]
        },
        {
         "type": "scatter",
         "x": [
          1,
          2,
          3,
          4,
          5,
          6,
          7
         ],
         "y": [
          771.0204564425433,
          0.24852105951424425,
          2059.167880445506,
          230,
          0.14962577284650544
         ]
        },
        {
         "type": "scatter",
         "x": [
          1,
          2,
          3,
          4,
          5,
          6,
          7
         ],
         "y": [
          917.4492412578873,
          0.176642574372972,
          2163.0513188157533,
          229,
          0.1959109224443062
         ]
        },
        {
         "type": "scatter",
         "x": [
          1,
          2,
          3,
          4,
          5,
          6,
          7
         ],
         "y": [
          716.4023458103497,
          0.26688989619516273,
          2139.2876525556394,
          232,
          0.10243161756707574
         ]
        },
        {
         "type": "scatter",
         "x": [
          1,
          2,
          3,
          4,
          5,
          6,
          7
         ],
         "y": [
          593.7219902849863,
          0.32401193886621293,
          2240.1902595413226,
          230,
          0.14783243668039675
         ]
        },
        {
         "type": "scatter",
         "x": [
          1,
          2,
          3,
          4,
          5,
          6,
          7
         ],
         "y": [
          785.66753257341,
          0.21612531304096239,
          2166.7506719761454,
          231,
          0.10406122956280177
         ]
        },
        {
         "type": "scatter",
         "x": [
          1,
          2,
          3,
          4,
          5,
          6,
          7
         ],
         "y": [
          730.5241261519541,
          0.5078133568025454,
          2220.1819470080745,
          191,
          0.09628100338588615
         ]
        },
        {
         "type": "scatter",
         "x": [
          1,
          2,
          3,
          4,
          5,
          6,
          7
         ],
         "y": [
          190.97007666226023,
          0.3502383178940217,
          2040.3501476461447,
          233,
          0.1498247768811613
         ]
        },
        {
         "type": "scatter",
         "x": [
          1,
          2,
          3,
          4,
          5,
          6,
          7
         ],
         "y": [
          24.336658364409345,
          0.5224838353438482,
          1104.8507326377166,
          190,
          0.14889620177128415
         ]
        },
        {
         "type": "scatter",
         "x": [
          1,
          2,
          3,
          4,
          5,
          6,
          7
         ],
         "y": [
          651.357209395624,
          0.2410101867336419,
          2117.5964462391,
          227,
          0.14847359930622708
         ]
        },
        {
         "type": "scatter",
         "x": [
          1,
          2,
          3,
          4,
          5,
          6,
          7
         ],
         "y": [
          727.8125738161145,
          0.433582922839865,
          1525.762958621839,
          190,
          0.20001315723408583
         ]
        },
        {
         "type": "scatter",
         "x": [
          1,
          2,
          3,
          4,
          5,
          6,
          7
         ],
         "y": [
          649.8092583389935,
          0.2775975707788112,
          2224.1989664324296,
          211,
          0.1989511215663583
         ]
        },
        {
         "type": "scatter",
         "x": [
          1,
          2,
          3,
          4,
          5,
          6,
          7
         ],
         "y": [
          548.6000373682443,
          0.4619773977983547,
          2163.991709762449,
          227,
          0.1490035426502443
         ]
        },
        {
         "type": "scatter",
         "x": [
          1,
          2,
          3,
          4,
          5,
          6,
          7
         ],
         "y": [
          709.7491073480908,
          0.15478872848348313,
          2063.5662578158226,
          209,
          0.19735934395657637
         ]
        },
        {
         "type": "scatter",
         "x": [
          1,
          2,
          3,
          4,
          5,
          6,
          7
         ],
         "y": [
          586.7867687874142,
          0.2615046862446806,
          1092.1074162306224,
          211,
          0.14949789710551242
         ]
        },
        {
         "type": "scatter",
         "x": [
          1,
          2,
          3,
          4,
          5,
          6,
          7
         ],
         "y": [
          574.3794843241179,
          0.2587124007834607,
          2189.3984967344877,
          231,
          0.19548654970483237
         ]
        },
        {
         "type": "scatter",
         "x": [
          1,
          2,
          3,
          4,
          5,
          6,
          7
         ],
         "y": [
          413.4844930946084,
          0.6657260302107834,
          973.6576208158936,
          192,
          0.19260392055688702
         ]
        },
        {
         "type": "scatter",
         "x": [
          1,
          2,
          3,
          4,
          5,
          6,
          7
         ],
         "y": [
          827.1896110752616,
          0.158026613491072,
          2232.4644682344697,
          230,
          0.09537511100757858
         ]
        },
        {
         "type": "scatter",
         "x": [
          1,
          2,
          3,
          4,
          5,
          6,
          7
         ],
         "y": [
          746.5681635795765,
          0.16306033718399254,
          2084.224991646564,
          211,
          0.1492795210074444
         ]
        },
        {
         "type": "scatter",
         "x": [
          1,
          2,
          3,
          4,
          5,
          6,
          7
         ],
         "y": [
          981.9058315122501,
          0.009320350214398893,
          2105.096220253582,
          228,
          0.1541115166244389
         ]
        },
        {
         "type": "scatter",
         "x": [
          1,
          2,
          3,
          4,
          5,
          6,
          7
         ],
         "y": [
          631.2689451894839,
          0.25690426428975,
          2064.4579167836937,
          190,
          0.1963854607230308
         ]
        },
        {
         "type": "scatter",
         "x": [
          1,
          2,
          3,
          4,
          5,
          6,
          7
         ],
         "y": [
          513.3622009830641,
          0.25305942875016435,
          2261.2016937460594,
          210,
          0.1936386356209081
         ]
        },
        {
         "type": "scatter",
         "x": [
          1,
          2,
          3,
          4,
          5,
          6,
          7
         ],
         "y": [
          751.9721278641317,
          0.24522127072805616,
          2168.897166910803,
          230,
          0.20333518557010896
         ]
        },
        {
         "type": "scatter",
         "x": [
          1,
          2,
          3,
          4,
          5,
          6,
          7
         ],
         "y": [
          386.9671288315093,
          0.43467189156514946,
          1340.3610504520288,
          194,
          0.09634199577517895
         ]
        },
        {
         "type": "scatter",
         "x": [
          1,
          2,
          3,
          4,
          5,
          6,
          7
         ],
         "y": [
          653.9238226400213,
          0.18246701302385956,
          2200.789868259503,
          230,
          0.14491783105931264
         ]
        },
        {
         "type": "scatter",
         "x": [
          1,
          2,
          3,
          4,
          5,
          6,
          7
         ],
         "y": [
          632.4055227660812,
          0.23954157104503115,
          2160.1614569912417,
          232,
          0.1483730242691154
         ]
        },
        {
         "type": "scatter",
         "x": [
          1,
          2,
          3,
          4,
          5,
          6,
          7
         ],
         "y": [
          904.8908935999896,
          0.07305379330183445,
          2129.3025231250363,
          230,
          0.190821677433689
         ]
        },
        {
         "type": "scatter",
         "x": [
          1,
          2,
          3,
          4,
          5,
          6,
          7
         ],
         "y": [
          647.323456792857,
          0.26399617191721114,
          2149.3875375909934,
          212,
          0.19932833143722278
         ]
        },
        {
         "type": "scatter",
         "x": [
          1,
          2,
          3,
          4,
          5,
          6,
          7
         ],
         "y": [
          713.5098537499441,
          0.22625919165226155,
          2135.4236583797297,
          210,
          0.1037990799192106
         ]
        },
        {
         "type": "scatter",
         "x": [
          1,
          2,
          3,
          4,
          5,
          6,
          7
         ],
         "y": [
          692.3998875011829,
          0.24347346440258932,
          2331.5817788774143,
          229,
          0.0992779173186077
         ]
        },
        {
         "type": "scatter",
         "x": [
          1,
          2,
          3,
          4,
          5,
          6,
          7
         ],
         "y": [
          751.2644671176979,
          0.09473797894970772,
          2240.683976073315,
          230,
          0.14740092962778387
         ]
        },
        {
         "type": "scatter",
         "x": [
          1,
          2,
          3,
          4,
          5,
          6,
          7
         ],
         "y": [
          697.3049559972216,
          0.12424175620021222,
          2153.162810078479,
          228,
          0.15033384376736367
         ]
        },
        {
         "type": "scatter",
         "x": [
          1,
          2,
          3,
          4,
          5,
          6,
          7
         ],
         "y": [
          713.6530934789064,
          0.13246054235670593,
          2369.1675869937867,
          231,
          0.14735580094207315
         ]
        },
        {
         "type": "scatter",
         "x": [
          1,
          2,
          3,
          4,
          5,
          6,
          7
         ],
         "y": [
          970.8552556049814,
          0.058748053414402784,
          2062.2334300856196,
          228,
          0.2017325162537783
         ]
        },
        {
         "type": "scatter",
         "x": [
          1,
          2,
          3,
          4,
          5,
          6,
          7
         ],
         "y": [
          771.4865310220864,
          0.14775523785441766,
          2068.6372402386337,
          232,
          0.1980220227125986
         ]
        },
        {
         "type": "scatter",
         "x": [
          1,
          2,
          3,
          4,
          5,
          6,
          7
         ],
         "y": [
          286.74298263109796,
          0.44146356914829804,
          1009.6076691106857,
          192,
          0.14475605324198457
         ]
        },
        {
         "type": "scatter",
         "x": [
          1,
          2,
          3,
          4,
          5,
          6,
          7
         ],
         "y": [
          443.40583029769346,
          0.3708234571338484,
          1920.7138363783388,
          212,
          0.19597363663983175
         ]
        },
        {
         "type": "scatter",
         "x": [
          1,
          2,
          3,
          4,
          5,
          6,
          7
         ],
         "y": [
          848.1297202920966,
          0.1917841117237748,
          2222.2499049175503,
          230,
          0.14896202556942492
         ]
        },
        {
         "type": "scatter",
         "x": [
          1,
          2,
          3,
          4,
          5,
          6,
          7
         ],
         "y": [
          436.0267855151931,
          0.36776799453948084,
          2399.624624109792,
          209,
          0.19789455631390485
         ]
        },
        {
         "type": "scatter",
         "x": [
          1,
          2,
          3,
          4,
          5,
          6,
          7
         ],
         "y": [
          537.7577786452364,
          0.4024296548320947,
          1626.2373808337209,
          191,
          0.20092364569656093
         ]
        },
        {
         "type": "scatter",
         "x": [
          1,
          2,
          3,
          4,
          5,
          6,
          7
         ],
         "y": [
          794.0534377134777,
          0.15771056560189625,
          2232.088544241957,
          229,
          0.19035788115820634
         ]
        },
        {
         "type": "scatter",
         "x": [
          1,
          2,
          3,
          4,
          5,
          6,
          7
         ],
         "y": [
          265.0694626564741,
          0.5560888211265017,
          1278.6352673977071,
          192,
          0.19914392750530402
         ]
        },
        {
         "type": "scatter",
         "x": [
          1,
          2,
          3,
          4,
          5,
          6,
          7
         ],
         "y": [
          135.96827906980982,
          0.44969434003917574,
          1360.8913188688941,
          191,
          0.19589976147163166
         ]
        },
        {
         "type": "scatter",
         "x": [
          1,
          2,
          3,
          4,
          5,
          6,
          7
         ],
         "y": [
          865.5049859397218,
          0.06168205815927011,
          2207.657681511127,
          230,
          0.1494828849112292
         ]
        },
        {
         "type": "scatter",
         "x": [
          1,
          2,
          3,
          4,
          5,
          6,
          7
         ],
         "y": [
          420.86673986363064,
          0.5540160854943375,
          836.9257746646169,
          192,
          0.19452411674823833
         ]
        },
        {
         "type": "scatter",
         "x": [
          1,
          2,
          3,
          4,
          5,
          6,
          7
         ],
         "y": [
          495.3046994596074,
          0.35341763453293634,
          2202.2350919041705,
          191,
          0.20123118502415935
         ]
        },
        {
         "type": "scatter",
         "x": [
          1,
          2,
          3,
          4,
          5,
          6,
          7
         ],
         "y": [
          897.3365912925271,
          0.19902588090659395,
          2287.2029423604145,
          230,
          0.14772116069239669
         ]
        },
        {
         "type": "scatter",
         "x": [
          1,
          2,
          3,
          4,
          5,
          6,
          7
         ],
         "y": [
          179.9002122585994,
          0.5720615776841808,
          1657.076701421951,
          190,
          0.09666945536211048
         ]
        },
        {
         "type": "scatter",
         "x": [
          1,
          2,
          3,
          4,
          5,
          6,
          7
         ],
         "y": [
          278.28137616814195,
          0.6342825422513294,
          1016.8186376102831,
          190,
          0.19447761269542774
         ]
        },
        {
         "type": "scatter",
         "x": [
          1,
          2,
          3,
          4,
          5,
          6,
          7
         ],
         "y": [
          942.127185554237,
          0.0556030214193744,
          2058.574326350739,
          230,
          0.10331008173190677
         ]
        },
        {
         "type": "scatter",
         "x": [
          1,
          2,
          3,
          4,
          5,
          6,
          7
         ],
         "y": [
          841.7069744149414,
          0.057846509711215965,
          2073.4513177140975,
          231,
          0.14932114406376074
         ]
        },
        {
         "type": "scatter",
         "x": [
          1,
          2,
          3,
          4,
          5,
          6,
          7
         ],
         "y": [
          236.94650088771982,
          0.47583526496894724,
          1120.8211571856668,
          193,
          0.19743162784023843
         ]
        },
        {
         "type": "scatter",
         "x": [
          1,
          2,
          3,
          4,
          5,
          6,
          7
         ],
         "y": [
          339.5534170337647,
          0.4715897304985962,
          1982.303817470231,
          191,
          0.19623108791643162
         ]
        },
        {
         "type": "scatter",
         "x": [
          1,
          2,
          3,
          4,
          5,
          6,
          7
         ],
         "y": [
          766.2453818896856,
          0.21059637524977762,
          2256.0600325999803,
          229,
          0.09274228093678513
         ]
        },
        {
         "type": "scatter",
         "x": [
          1,
          2,
          3,
          4,
          5,
          6,
          7
         ],
         "y": [
          669.187451882991,
          0.16098955104038015,
          2283.328048281807,
          233,
          0.1503158484915565
         ]
        },
        {
         "type": "scatter",
         "x": [
          1,
          2,
          3,
          4,
          5,
          6,
          7
         ],
         "y": [
          268.1099340376055,
          0.4256760322518773,
          1815.475608794304,
          191,
          0.15123166295741003
         ]
        },
        {
         "type": "scatter",
         "x": [
          1,
          2,
          3,
          4,
          5,
          6,
          7
         ],
         "y": [
          518.9946358802623,
          0.3172472047108773,
          2299.938646772223,
          229,
          0.14698870039046907
         ]
        },
        {
         "type": "scatter",
         "x": [
          1,
          2,
          3,
          4,
          5,
          6,
          7
         ],
         "y": [
          603.1305334079334,
          0.30053296368762455,
          2154.786422309267,
          232,
          0.191258096598989
         ]
        },
        {
         "type": "scatter",
         "x": [
          1,
          2,
          3,
          4,
          5,
          6,
          7
         ],
         "y": [
          393.28335612336747,
          0.5335302088452503,
          901.0679457907816,
          191,
          0.1976194360505748
         ]
        },
        {
         "type": "scatter",
         "x": [
          1,
          2,
          3,
          4,
          5,
          6,
          7
         ],
         "y": [
          630.467052407577,
          0.44857065275427405,
          1727.201915682822,
          193,
          0.15089837695581965
         ]
        },
        {
         "type": "scatter",
         "x": [
          1,
          2,
          3,
          4,
          5,
          6,
          7
         ],
         "y": [
          496.92587037363927,
          0.19122968514453462,
          2127.1346716601347,
          230,
          0.14945751590038894
         ]
        },
        {
         "type": "scatter",
         "x": [
          1,
          2,
          3,
          4,
          5,
          6,
          7
         ],
         "y": [
          680.4940681395842,
          0.3404650230776343,
          2105.5620044517527,
          230,
          0.20236205168570753
         ]
        },
        {
         "type": "scatter",
         "x": [
          1,
          2,
          3,
          4,
          5,
          6,
          7
         ],
         "y": [
          580.8611520339726,
          0.34506868567703386,
          2308.742088635157,
          210,
          0.20318685351674357
         ]
        },
        {
         "type": "scatter",
         "x": [
          1,
          2,
          3,
          4,
          5,
          6,
          7
         ],
         "y": [
          333.0719902631498,
          0.5336409298619774,
          582.3844559316013,
          192,
          0.14699253810502394
         ]
        },
        {
         "type": "scatter",
         "x": [
          1,
          2,
          3,
          4,
          5,
          6,
          7
         ],
         "y": [
          626.4776082967335,
          0.31208105133692676,
          2263.934092446273,
          192,
          0.1959715757631634
         ]
        },
        {
         "type": "scatter",
         "x": [
          1,
          2,
          3,
          4,
          5,
          6,
          7
         ],
         "y": [
          263.844702186224,
          0.5271643795439594,
          1599.852007800945,
          192,
          0.09493058233920289
         ]
        },
        {
         "type": "scatter",
         "x": [
          1,
          2,
          3,
          4,
          5,
          6,
          7
         ],
         "y": [
          889.3189420628125,
          0.08453161174226648,
          2226.5159743202344,
          232,
          0.09304548664276185
         ]
        },
        {
         "type": "scatter",
         "x": [
          1,
          2,
          3,
          4,
          5,
          6,
          7
         ],
         "y": [
          590.7738550266189,
          0.28276786185260017,
          2091.4968745298593,
          189,
          0.09254035546604099
         ]
        },
        {
         "type": "scatter",
         "x": [
          1,
          2,
          3,
          4,
          5,
          6,
          7
         ],
         "y": [
          596.6883030764102,
          0.4524356364047033,
          2166.6705001655323,
          190,
          0.19753754317957667
         ]
        },
        {
         "type": "scatter",
         "x": [
          1,
          2,
          3,
          4,
          5,
          6,
          7
         ],
         "y": [
          342.54432192628553,
          0.2818072139467739,
          2258.361085248611,
          210,
          0.19889315943781435
         ]
        },
        {
         "type": "scatter",
         "x": [
          1,
          2,
          3,
          4,
          5,
          6,
          7
         ],
         "y": [
          822.5628230141382,
          0.21503330274918966,
          2203.0485504693434,
          230,
          0.09094698041768448
         ]
        },
        {
         "type": "scatter",
         "x": [
          1,
          2,
          3,
          4,
          5,
          6,
          7
         ],
         "y": [
          538.7393154065843,
          0.4680479935250584,
          2238.3739699331827,
          210,
          0.09421610107961456
         ]
        },
        {
         "type": "scatter",
         "x": [
          1,
          2,
          3,
          4,
          5,
          6,
          7
         ],
         "y": [
          353.91271895628216,
          0.5195511327767418,
          815.367437752554,
          193,
          0.1541595665726337
         ]
        },
        {
         "type": "scatter",
         "x": [
          1,
          2,
          3,
          4,
          5,
          6,
          7
         ],
         "y": [
          792.9597664775429,
          0.1140654867050266,
          2205.8150140318053,
          231,
          0.15078805281656446
         ]
        },
        {
         "type": "scatter",
         "x": [
          1,
          2,
          3,
          4,
          5,
          6,
          7
         ],
         "y": [
          514.1271757967211,
          0.30303544867366017,
          1069.0093827959788,
          191,
          0.14938220182487605
         ]
        },
        {
         "type": "scatter",
         "x": [
          1,
          2,
          3,
          4,
          5,
          6,
          7
         ],
         "y": [
          634.6171294413182,
          0.2966213211334057,
          1728.50681423866,
          190,
          0.14975011853797435
         ]
        },
        {
         "type": "scatter",
         "x": [
          1,
          2,
          3,
          4,
          5,
          6,
          7
         ],
         "y": [
          604.6128100168636,
          0.27186236100283284,
          2268.9668718833072,
          229,
          0.15122011048410752
         ]
        },
        {
         "type": "scatter",
         "x": [
          1,
          2,
          3,
          4,
          5,
          6,
          7
         ],
         "y": [
          232.75804815285036,
          0.30667654666513894,
          1220.4982979634012,
          193,
          0.1521523816503348
         ]
        },
        {
         "type": "scatter",
         "x": [
          1,
          2,
          3,
          4,
          5,
          6,
          7
         ],
         "y": [
          828.2922892828753,
          0.31870416340945484,
          1518.396143327336,
          189,
          0.0994585480959084
         ]
        },
        {
         "type": "scatter",
         "x": [
          1,
          2,
          3,
          4,
          5,
          6,
          7
         ],
         "y": [
          522.654730619276,
          0.48802699992047743,
          1875.808292151498,
          191,
          0.15004869542352983
         ]
        },
        {
         "type": "scatter",
         "x": [
          1,
          2,
          3,
          4,
          5,
          6,
          7
         ],
         "y": [
          238.16130311174905,
          0.5751792702970427,
          655.6227535526504,
          192,
          0.1965194827610814
         ]
        },
        {
         "type": "scatter",
         "x": [
          1,
          2,
          3,
          4,
          5,
          6,
          7
         ],
         "y": [
          788.0023961264216,
          0.16887724775506757,
          2098.949778987023,
          230,
          0.19614717257984718
         ]
        },
        {
         "type": "scatter",
         "x": [
          1,
          2,
          3,
          4,
          5,
          6,
          7
         ],
         "y": [
          765.5210336464108,
          0.07385684204081858,
          2197.6750744161286,
          230,
          0.1923148063370589
         ]
        },
        {
         "type": "scatter",
         "x": [
          1,
          2,
          3,
          4,
          5,
          6,
          7
         ],
         "y": [
          551.2057903098877,
          0.490013582692518,
          2205.7269642551914,
          212,
          0.1929752664645411
         ]
        },
        {
         "type": "scatter",
         "x": [
          1,
          2,
          3,
          4,
          5,
          6,
          7
         ],
         "y": [
          459.4847712737778,
          0.33298771132828264,
          2277.2826337552738,
          210,
          0.19604097370899573
         ]
        },
        {
         "type": "scatter",
         "x": [
          1,
          2,
          3,
          4,
          5,
          6,
          7
         ],
         "y": [
          271.2998429981524,
          0.48789855567656737,
          1483.051583424316,
          191,
          0.14604076115461578
         ]
        },
        {
         "type": "scatter",
         "x": [
          1,
          2,
          3,
          4,
          5,
          6,
          7
         ],
         "y": [
          739.186123432447,
          0.13443748951562623,
          2158.9205856915623,
          226,
          0.19483514881995115
         ]
        },
        {
         "type": "scatter",
         "x": [
          1,
          2,
          3,
          4,
          5,
          6,
          7
         ],
         "y": [
          519.5510557915396,
          0.26538377639760685,
          2205.0465975547627,
          209,
          0.19307251177877455
         ]
        },
        {
         "type": "scatter",
         "x": [
          1,
          2,
          3,
          4,
          5,
          6,
          7
         ],
         "y": [
          597.1916076975749,
          0.2578996839529279,
          2242.6970345217946,
          208,
          0.1518285138098624
         ]
        },
        {
         "type": "scatter",
         "x": [
          1,
          2,
          3,
          4,
          5,
          6,
          7
         ],
         "y": [
          861.7440122330942,
          0.10772946180664066,
          2345.802781673996,
          210,
          0.1986667506711051
         ]
        },
        {
         "type": "scatter",
         "x": [
          1,
          2,
          3,
          4,
          5,
          6,
          7
         ],
         "y": [
          855.9206635016053,
          0.12684758559868456,
          2063.0264353353336,
          209,
          0.09974948981470219
         ]
        },
        {
         "type": "scatter",
         "x": [
          1,
          2,
          3,
          4,
          5,
          6,
          7
         ],
         "y": [
          598.092386843,
          0.40999372315482024,
          2324.101203385466,
          230,
          0.09471432807754993
         ]
        },
        {
         "type": "scatter",
         "x": [
          1,
          2,
          3,
          4,
          5,
          6,
          7
         ],
         "y": [
          914.3895720343855,
          0.060534547274975675,
          2128.4959676538174,
          232,
          0.19055218528199738
         ]
        },
        {
         "type": "scatter",
         "x": [
          1,
          2,
          3,
          4,
          5,
          6,
          7
         ],
         "y": [
          413.49212748385236,
          0.38121680567074484,
          1075.793779678428,
          192,
          0.14672373533299046
         ]
        },
        {
         "type": "scatter",
         "x": [
          1,
          2,
          3,
          4,
          5,
          6,
          7
         ],
         "y": [
          321.1446465922783,
          0.3186599424128198,
          1623.0877888589587,
          192,
          0.19362027823209751
         ]
        },
        {
         "type": "scatter",
         "x": [
          1,
          2,
          3,
          4,
          5,
          6,
          7
         ],
         "y": [
          693.9815351045905,
          0.23504855549739606,
          2140.5538890260864,
          210,
          0.15135502286938285
         ]
        },
        {
         "type": "scatter",
         "x": [
          1,
          2,
          3,
          4,
          5,
          6,
          7
         ],
         "y": [
          759.1763142910295,
          0.07826920609637666,
          2238.332258074619,
          230,
          0.14918584124244402
         ]
        },
        {
         "type": "scatter",
         "x": [
          1,
          2,
          3,
          4,
          5,
          6,
          7
         ],
         "y": [
          403.57476836855994,
          0.3924613703538389,
          937.4677067863286,
          192,
          0.1995188284501893
         ]
        },
        {
         "type": "scatter",
         "x": [
          1,
          2,
          3,
          4,
          5,
          6,
          7
         ],
         "y": [
          486.04137709510877,
          0.30492895220233895,
          623.4660589082021,
          187,
          0.15008487108812954
         ]
        },
        {
         "type": "scatter",
         "x": [
          1,
          2,
          3,
          4,
          5,
          6,
          7
         ],
         "y": [
          580.8506461181875,
          0.1540786970857481,
          2207.4648081594964,
          211,
          0.201568315982937
         ]
        },
        {
         "type": "scatter",
         "x": [
          1,
          2,
          3,
          4,
          5,
          6,
          7
         ],
         "y": [
          881.0697080762741,
          0.06077814812296736,
          2186.9030322694866,
          230,
          0.15019024739804676
         ]
        },
        {
         "type": "scatter",
         "x": [
          1,
          2,
          3,
          4,
          5,
          6,
          7
         ],
         "y": [
          469.9495615269435,
          0.3029371643732129,
          2306.892507396614,
          231,
          0.18885842885820694
         ]
        },
        {
         "type": "scatter",
         "x": [
          1,
          2,
          3,
          4,
          5,
          6,
          7
         ],
         "y": [
          593.7250499309782,
          0.5133484807506358,
          1480.9990921241874,
          192,
          0.1969689328304609
         ]
        },
        {
         "type": "scatter",
         "x": [
          1,
          2,
          3,
          4,
          5,
          6,
          7
         ],
         "y": [
          538.60460683574,
          0.3205591676373869,
          2230.2844290359008,
          211,
          0.198942670739755
         ]
        },
        {
         "type": "scatter",
         "x": [
          1,
          2,
          3,
          4,
          5,
          6,
          7
         ],
         "y": [
          918.8221462035137,
          0.09816870915100036,
          2164.639749039254,
          231,
          0.09150521089275963
         ]
        },
        {
         "type": "scatter",
         "x": [
          1,
          2,
          3,
          4,
          5,
          6,
          7
         ],
         "y": [
          307.63234412061735,
          0.3396014909994868,
          1989.5355224492168,
          192,
          0.14733063855484857
         ]
        },
        {
         "type": "scatter",
         "x": [
          1,
          2,
          3,
          4,
          5,
          6,
          7
         ],
         "y": [
          920.751725406783,
          0.10333718967207631,
          2243.686392666442,
          229,
          0.20347112705211537
         ]
        },
        {
         "type": "scatter",
         "x": [
          1,
          2,
          3,
          4,
          5,
          6,
          7
         ],
         "y": [
          767.4509287960192,
          0.1794410207308584,
          2252.5372843014925,
          230,
          0.199942555667006
         ]
        },
        {
         "type": "scatter",
         "x": [
          1,
          2,
          3,
          4,
          5,
          6,
          7
         ],
         "y": [
          596.7226285358316,
          0.22936166914856143,
          2274.9292893033867,
          209,
          0.15268935091236946
         ]
        },
        {
         "type": "scatter",
         "x": [
          1,
          2,
          3,
          4,
          5,
          6,
          7
         ],
         "y": [
          607.2927002106592,
          0.30050723150819414,
          2129.768357983224,
          208,
          0.20009027880480765
         ]
        },
        {
         "type": "scatter",
         "x": [
          1,
          2,
          3,
          4,
          5,
          6,
          7
         ],
         "y": [
          376.0968206546433,
          0.5028332366967496,
          1299.473024578997,
          193,
          0.09971632290226039
         ]
        },
        {
         "type": "scatter",
         "x": [
          1,
          2,
          3,
          4,
          5,
          6,
          7
         ],
         "y": [
          717.2388162915353,
          0.15541177157696667,
          2109.7807094044547,
          208,
          0.1488572631415235
         ]
        },
        {
         "type": "scatter",
         "x": [
          1,
          2,
          3,
          4,
          5,
          6,
          7
         ],
         "y": [
          544.2793037888912,
          0.2989384103609919,
          2238.6958850144792,
          231,
          0.19938499740944027
         ]
        },
        {
         "type": "scatter",
         "x": [
          1,
          2,
          3,
          4,
          5,
          6,
          7
         ],
         "y": [
          912.0121193283068,
          0.060394188664413095,
          2159.4167439030794,
          211,
          0.1961333576900409
         ]
        },
        {
         "type": "scatter",
         "x": [
          1,
          2,
          3,
          4,
          5,
          6,
          7
         ],
         "y": [
          218.04250734081552,
          0.47219498151564326,
          1761.8784804123711,
          189,
          0.1936101137272626
         ]
        },
        {
         "type": "scatter",
         "x": [
          1,
          2,
          3,
          4,
          5,
          6,
          7
         ],
         "y": [
          767.746203241783,
          0.06516708255927867,
          2216.1892763878873,
          210,
          0.14883549175567604
         ]
        },
        {
         "type": "scatter",
         "x": [
          1,
          2,
          3,
          4,
          5,
          6,
          7
         ],
         "y": [
          658.7514946860365,
          0.2829113498203154,
          2336.1327122244356,
          211,
          0.14815884793279596
         ]
        },
        {
         "type": "scatter",
         "x": [
          1,
          2,
          3,
          4,
          5,
          6,
          7
         ],
         "y": [
          366.8553006386252,
          0.24873940126693336,
          1745.621571834963,
          192,
          0.20290757897277317
         ]
        },
        {
         "type": "scatter",
         "x": [
          1,
          2,
          3,
          4,
          5,
          6,
          7
         ],
         "y": [
          830.2002745168234,
          0.04396321871295905,
          2208.8483945608496,
          209,
          0.14855073244899986
         ]
        },
        {
         "type": "scatter",
         "x": [
          1,
          2,
          3,
          4,
          5,
          6,
          7
         ],
         "y": [
          613.7042033896422,
          0.16150754793260852,
          2199.5389444459042,
          230,
          0.19540669683974127
         ]
        },
        {
         "type": "scatter",
         "x": [
          1,
          2,
          3,
          4,
          5,
          6,
          7
         ],
         "y": [
          637.7169261412199,
          0.5019290656176864,
          995.2190862990362,
          192,
          0.09080202108275695
         ]
        }
       ],
       "layout": {
        "template": {
         "data": {
          "bar": [
           {
            "error_x": {
             "color": "#2a3f5f"
            },
            "error_y": {
             "color": "#2a3f5f"
            },
            "marker": {
             "line": {
              "color": "#E5ECF6",
              "width": 0.5
             },
             "pattern": {
              "fillmode": "overlay",
              "size": 10,
              "solidity": 0.2
             }
            },
            "type": "bar"
           }
          ],
          "barpolar": [
           {
            "marker": {
             "line": {
              "color": "#E5ECF6",
              "width": 0.5
             },
             "pattern": {
              "fillmode": "overlay",
              "size": 10,
              "solidity": 0.2
             }
            },
            "type": "barpolar"
           }
          ],
          "carpet": [
           {
            "aaxis": {
             "endlinecolor": "#2a3f5f",
             "gridcolor": "white",
             "linecolor": "white",
             "minorgridcolor": "white",
             "startlinecolor": "#2a3f5f"
            },
            "baxis": {
             "endlinecolor": "#2a3f5f",
             "gridcolor": "white",
             "linecolor": "white",
             "minorgridcolor": "white",
             "startlinecolor": "#2a3f5f"
            },
            "type": "carpet"
           }
          ],
          "choropleth": [
           {
            "colorbar": {
             "outlinewidth": 0,
             "ticks": ""
            },
            "type": "choropleth"
           }
          ],
          "contour": [
           {
            "colorbar": {
             "outlinewidth": 0,
             "ticks": ""
            },
            "colorscale": [
             [
              0,
              "#0d0887"
             ],
             [
              0.1111111111111111,
              "#46039f"
             ],
             [
              0.2222222222222222,
              "#7201a8"
             ],
             [
              0.3333333333333333,
              "#9c179e"
             ],
             [
              0.4444444444444444,
              "#bd3786"
             ],
             [
              0.5555555555555556,
              "#d8576b"
             ],
             [
              0.6666666666666666,
              "#ed7953"
             ],
             [
              0.7777777777777778,
              "#fb9f3a"
             ],
             [
              0.8888888888888888,
              "#fdca26"
             ],
             [
              1,
              "#f0f921"
             ]
            ],
            "type": "contour"
           }
          ],
          "contourcarpet": [
           {
            "colorbar": {
             "outlinewidth": 0,
             "ticks": ""
            },
            "type": "contourcarpet"
           }
          ],
          "heatmap": [
           {
            "colorbar": {
             "outlinewidth": 0,
             "ticks": ""
            },
            "colorscale": [
             [
              0,
              "#0d0887"
             ],
             [
              0.1111111111111111,
              "#46039f"
             ],
             [
              0.2222222222222222,
              "#7201a8"
             ],
             [
              0.3333333333333333,
              "#9c179e"
             ],
             [
              0.4444444444444444,
              "#bd3786"
             ],
             [
              0.5555555555555556,
              "#d8576b"
             ],
             [
              0.6666666666666666,
              "#ed7953"
             ],
             [
              0.7777777777777778,
              "#fb9f3a"
             ],
             [
              0.8888888888888888,
              "#fdca26"
             ],
             [
              1,
              "#f0f921"
             ]
            ],
            "type": "heatmap"
           }
          ],
          "heatmapgl": [
           {
            "colorbar": {
             "outlinewidth": 0,
             "ticks": ""
            },
            "colorscale": [
             [
              0,
              "#0d0887"
             ],
             [
              0.1111111111111111,
              "#46039f"
             ],
             [
              0.2222222222222222,
              "#7201a8"
             ],
             [
              0.3333333333333333,
              "#9c179e"
             ],
             [
              0.4444444444444444,
              "#bd3786"
             ],
             [
              0.5555555555555556,
              "#d8576b"
             ],
             [
              0.6666666666666666,
              "#ed7953"
             ],
             [
              0.7777777777777778,
              "#fb9f3a"
             ],
             [
              0.8888888888888888,
              "#fdca26"
             ],
             [
              1,
              "#f0f921"
             ]
            ],
            "type": "heatmapgl"
           }
          ],
          "histogram": [
           {
            "marker": {
             "pattern": {
              "fillmode": "overlay",
              "size": 10,
              "solidity": 0.2
             }
            },
            "type": "histogram"
           }
          ],
          "histogram2d": [
           {
            "colorbar": {
             "outlinewidth": 0,
             "ticks": ""
            },
            "colorscale": [
             [
              0,
              "#0d0887"
             ],
             [
              0.1111111111111111,
              "#46039f"
             ],
             [
              0.2222222222222222,
              "#7201a8"
             ],
             [
              0.3333333333333333,
              "#9c179e"
             ],
             [
              0.4444444444444444,
              "#bd3786"
             ],
             [
              0.5555555555555556,
              "#d8576b"
             ],
             [
              0.6666666666666666,
              "#ed7953"
             ],
             [
              0.7777777777777778,
              "#fb9f3a"
             ],
             [
              0.8888888888888888,
              "#fdca26"
             ],
             [
              1,
              "#f0f921"
             ]
            ],
            "type": "histogram2d"
           }
          ],
          "histogram2dcontour": [
           {
            "colorbar": {
             "outlinewidth": 0,
             "ticks": ""
            },
            "colorscale": [
             [
              0,
              "#0d0887"
             ],
             [
              0.1111111111111111,
              "#46039f"
             ],
             [
              0.2222222222222222,
              "#7201a8"
             ],
             [
              0.3333333333333333,
              "#9c179e"
             ],
             [
              0.4444444444444444,
              "#bd3786"
             ],
             [
              0.5555555555555556,
              "#d8576b"
             ],
             [
              0.6666666666666666,
              "#ed7953"
             ],
             [
              0.7777777777777778,
              "#fb9f3a"
             ],
             [
              0.8888888888888888,
              "#fdca26"
             ],
             [
              1,
              "#f0f921"
             ]
            ],
            "type": "histogram2dcontour"
           }
          ],
          "mesh3d": [
           {
            "colorbar": {
             "outlinewidth": 0,
             "ticks": ""
            },
            "type": "mesh3d"
           }
          ],
          "parcoords": [
           {
            "line": {
             "colorbar": {
              "outlinewidth": 0,
              "ticks": ""
             }
            },
            "type": "parcoords"
           }
          ],
          "pie": [
           {
            "automargin": true,
            "type": "pie"
           }
          ],
          "scatter": [
           {
            "fillpattern": {
             "fillmode": "overlay",
             "size": 10,
             "solidity": 0.2
            },
            "type": "scatter"
           }
          ],
          "scatter3d": [
           {
            "line": {
             "colorbar": {
              "outlinewidth": 0,
              "ticks": ""
             }
            },
            "marker": {
             "colorbar": {
              "outlinewidth": 0,
              "ticks": ""
             }
            },
            "type": "scatter3d"
           }
          ],
          "scattercarpet": [
           {
            "marker": {
             "colorbar": {
              "outlinewidth": 0,
              "ticks": ""
             }
            },
            "type": "scattercarpet"
           }
          ],
          "scattergeo": [
           {
            "marker": {
             "colorbar": {
              "outlinewidth": 0,
              "ticks": ""
             }
            },
            "type": "scattergeo"
           }
          ],
          "scattergl": [
           {
            "marker": {
             "colorbar": {
              "outlinewidth": 0,
              "ticks": ""
             }
            },
            "type": "scattergl"
           }
          ],
          "scattermapbox": [
           {
            "marker": {
             "colorbar": {
              "outlinewidth": 0,
              "ticks": ""
             }
            },
            "type": "scattermapbox"
           }
          ],
          "scatterpolar": [
           {
            "marker": {
             "colorbar": {
              "outlinewidth": 0,
              "ticks": ""
             }
            },
            "type": "scatterpolar"
           }
          ],
          "scatterpolargl": [
           {
            "marker": {
             "colorbar": {
              "outlinewidth": 0,
              "ticks": ""
             }
            },
            "type": "scatterpolargl"
           }
          ],
          "scatterternary": [
           {
            "marker": {
             "colorbar": {
              "outlinewidth": 0,
              "ticks": ""
             }
            },
            "type": "scatterternary"
           }
          ],
          "surface": [
           {
            "colorbar": {
             "outlinewidth": 0,
             "ticks": ""
            },
            "colorscale": [
             [
              0,
              "#0d0887"
             ],
             [
              0.1111111111111111,
              "#46039f"
             ],
             [
              0.2222222222222222,
              "#7201a8"
             ],
             [
              0.3333333333333333,
              "#9c179e"
             ],
             [
              0.4444444444444444,
              "#bd3786"
             ],
             [
              0.5555555555555556,
              "#d8576b"
             ],
             [
              0.6666666666666666,
              "#ed7953"
             ],
             [
              0.7777777777777778,
              "#fb9f3a"
             ],
             [
              0.8888888888888888,
              "#fdca26"
             ],
             [
              1,
              "#f0f921"
             ]
            ],
            "type": "surface"
           }
          ],
          "table": [
           {
            "cells": {
             "fill": {
              "color": "#EBF0F8"
             },
             "line": {
              "color": "white"
             }
            },
            "header": {
             "fill": {
              "color": "#C8D4E3"
             },
             "line": {
              "color": "white"
             }
            },
            "type": "table"
           }
          ]
         },
         "layout": {
          "annotationdefaults": {
           "arrowcolor": "#2a3f5f",
           "arrowhead": 0,
           "arrowwidth": 1
          },
          "autotypenumbers": "strict",
          "coloraxis": {
           "colorbar": {
            "outlinewidth": 0,
            "ticks": ""
           }
          },
          "colorscale": {
           "diverging": [
            [
             0,
             "#8e0152"
            ],
            [
             0.1,
             "#c51b7d"
            ],
            [
             0.2,
             "#de77ae"
            ],
            [
             0.3,
             "#f1b6da"
            ],
            [
             0.4,
             "#fde0ef"
            ],
            [
             0.5,
             "#f7f7f7"
            ],
            [
             0.6,
             "#e6f5d0"
            ],
            [
             0.7,
             "#b8e186"
            ],
            [
             0.8,
             "#7fbc41"
            ],
            [
             0.9,
             "#4d9221"
            ],
            [
             1,
             "#276419"
            ]
           ],
           "sequential": [
            [
             0,
             "#0d0887"
            ],
            [
             0.1111111111111111,
             "#46039f"
            ],
            [
             0.2222222222222222,
             "#7201a8"
            ],
            [
             0.3333333333333333,
             "#9c179e"
            ],
            [
             0.4444444444444444,
             "#bd3786"
            ],
            [
             0.5555555555555556,
             "#d8576b"
            ],
            [
             0.6666666666666666,
             "#ed7953"
            ],
            [
             0.7777777777777778,
             "#fb9f3a"
            ],
            [
             0.8888888888888888,
             "#fdca26"
            ],
            [
             1,
             "#f0f921"
            ]
           ],
           "sequentialminus": [
            [
             0,
             "#0d0887"
            ],
            [
             0.1111111111111111,
             "#46039f"
            ],
            [
             0.2222222222222222,
             "#7201a8"
            ],
            [
             0.3333333333333333,
             "#9c179e"
            ],
            [
             0.4444444444444444,
             "#bd3786"
            ],
            [
             0.5555555555555556,
             "#d8576b"
            ],
            [
             0.6666666666666666,
             "#ed7953"
            ],
            [
             0.7777777777777778,
             "#fb9f3a"
            ],
            [
             0.8888888888888888,
             "#fdca26"
            ],
            [
             1,
             "#f0f921"
            ]
           ]
          },
          "colorway": [
           "#636efa",
           "#EF553B",
           "#00cc96",
           "#ab63fa",
           "#FFA15A",
           "#19d3f3",
           "#FF6692",
           "#B6E880",
           "#FF97FF",
           "#FECB52"
          ],
          "font": {
           "color": "#2a3f5f"
          },
          "geo": {
           "bgcolor": "white",
           "lakecolor": "white",
           "landcolor": "#E5ECF6",
           "showlakes": true,
           "showland": true,
           "subunitcolor": "white"
          },
          "hoverlabel": {
           "align": "left"
          },
          "hovermode": "closest",
          "mapbox": {
           "style": "light"
          },
          "paper_bgcolor": "white",
          "plot_bgcolor": "#E5ECF6",
          "polar": {
           "angularaxis": {
            "gridcolor": "white",
            "linecolor": "white",
            "ticks": ""
           },
           "bgcolor": "#E5ECF6",
           "radialaxis": {
            "gridcolor": "white",
            "linecolor": "white",
            "ticks": ""
           }
          },
          "scene": {
           "xaxis": {
            "backgroundcolor": "#E5ECF6",
            "gridcolor": "white",
            "gridwidth": 2,
            "linecolor": "white",
            "showbackground": true,
            "ticks": "",
            "zerolinecolor": "white"
           },
           "yaxis": {
            "backgroundcolor": "#E5ECF6",
            "gridcolor": "white",
            "gridwidth": 2,
            "linecolor": "white",
            "showbackground": true,
            "ticks": "",
            "zerolinecolor": "white"
           },
           "zaxis": {
            "backgroundcolor": "#E5ECF6",
            "gridcolor": "white",
            "gridwidth": 2,
            "linecolor": "white",
            "showbackground": true,
            "ticks": "",
            "zerolinecolor": "white"
           }
          },
          "shapedefaults": {
           "line": {
            "color": "#2a3f5f"
           }
          },
          "ternary": {
           "aaxis": {
            "gridcolor": "white",
            "linecolor": "white",
            "ticks": ""
           },
           "baxis": {
            "gridcolor": "white",
            "linecolor": "white",
            "ticks": ""
           },
           "bgcolor": "#E5ECF6",
           "caxis": {
            "gridcolor": "white",
            "linecolor": "white",
            "ticks": ""
           }
          },
          "title": {
           "x": 0.05
          },
          "xaxis": {
           "automargin": true,
           "gridcolor": "white",
           "linecolor": "white",
           "ticks": "",
           "title": {
            "standoff": 15
           },
           "zerolinecolor": "white",
           "zerolinewidth": 2
          },
          "yaxis": {
           "automargin": true,
           "gridcolor": "white",
           "linecolor": "white",
           "ticks": "",
           "title": {
            "standoff": 15
           },
           "zerolinecolor": "white",
           "zerolinewidth": 2
          }
         }
        }
       }
      },
      "text/html": [
       "<div>                            <div id=\"b872875e-f8bd-42df-86eb-efb1d3a998c6\" class=\"plotly-graph-div\" style=\"height:525px; width:100%;\"></div>            <script type=\"text/javascript\">                require([\"plotly\"], function(Plotly) {                    window.PLOTLYENV=window.PLOTLYENV || {};                                    if (document.getElementById(\"b872875e-f8bd-42df-86eb-efb1d3a998c6\")) {                    Plotly.newPlot(                        \"b872875e-f8bd-42df-86eb-efb1d3a998c6\",                        [{\"x\":[1,2,3,4,5,6,7],\"y\":[448.7021143492823,0.4948779793936923,1226.7386337494738,193.0,0.19718395939997607],\"type\":\"scatter\"},{\"x\":[1,2,3,4,5,6,7],\"y\":[987.5496218423841,0.06562609275579426,2045.09109338697,227.0,0.20093959384461219],\"type\":\"scatter\"},{\"x\":[1,2,3,4,5,6,7],\"y\":[648.7019251131953,0.47679025199510916,2059.5585281028275,193.0,0.14316477380551476],\"type\":\"scatter\"},{\"x\":[1,2,3,4,5,6,7],\"y\":[470.5930786593897,0.30536867923163213,1497.626865654351,192.0,0.14651803446212347],\"type\":\"scatter\"},{\"x\":[1,2,3,4,5,6,7],\"y\":[458.14736315316213,0.2807317868411232,800.5696068165128,190.0,0.19826254402724638],\"type\":\"scatter\"},{\"x\":[1,2,3,4,5,6,7],\"y\":[707.1939965568731,0.4344971787441581,2094.8759990126105,192.0,0.101520405622923],\"type\":\"scatter\"},{\"x\":[1,2,3,4,5,6,7],\"y\":[638.3042081329946,0.23475439800758263,2219.6709474111876,230.0,0.1517227944561174],\"type\":\"scatter\"},{\"x\":[1,2,3,4,5,6,7],\"y\":[565.1692936220958,0.3768041377975566,2198.979788502973,229.0,0.14910492029800224],\"type\":\"scatter\"},{\"x\":[1,2,3,4,5,6,7],\"y\":[863.3521103505975,0.23334581662032422,2251.2157404235936,229.0,0.1479166105434325],\"type\":\"scatter\"},{\"x\":[1,2,3,4,5,6,7],\"y\":[581.5966326671667,0.31712098314224096,2189.8684537183044,231.0,0.14789926288374416],\"type\":\"scatter\"},{\"x\":[1,2,3,4,5,6,7],\"y\":[274.8661409242206,0.5019895886128268,1315.5749525361368,189.0,0.2002523507575576],\"type\":\"scatter\"},{\"x\":[1,2,3,4,5,6,7],\"y\":[838.1885404464526,0.23433342091221984,2291.443367129011,229.0,0.14997491070780114],\"type\":\"scatter\"},{\"x\":[1,2,3,4,5,6,7],\"y\":[603.3561417124004,0.2893322280849365,2333.407555240398,210.0,0.14836504349899893],\"type\":\"scatter\"},{\"x\":[1,2,3,4,5,6,7],\"y\":[477.2743511407012,0.5337295459978917,988.6987046173806,193.0,0.18976903083320057],\"type\":\"scatter\"},{\"x\":[1,2,3,4,5,6,7],\"y\":[874.3232802005932,0.11455826827292533,2256.5654275991487,232.0,0.192539311340637],\"type\":\"scatter\"},{\"x\":[1,2,3,4,5,6,7],\"y\":[196.51233180858506,0.38154895186841237,1554.345144455775,229.0,0.10237663080976032],\"type\":\"scatter\"},{\"x\":[1,2,3,4,5,6,7],\"y\":[523.8066779510386,0.3366130800993515,1029.6287399603457,229.0,0.19465911860192534],\"type\":\"scatter\"},{\"x\":[1,2,3,4,5,6,7],\"y\":[960.4402774362857,0.03791547015537419,2226.619299425262,231.0,0.19255875445309642],\"type\":\"scatter\"},{\"x\":[1,2,3,4,5,6,7],\"y\":[750.2240837267598,0.09123626605843392,2095.7503375871534,210.0,0.1927409220071346],\"type\":\"scatter\"},{\"x\":[1,2,3,4,5,6,7],\"y\":[468.27347010824076,0.4217425543781755,1563.0883241777246,190.0,0.14794892849346264],\"type\":\"scatter\"},{\"x\":[1,2,3,4,5,6,7],\"y\":[704.3401996669888,0.22947540861342317,2134.776548647587,232.0,0.19815772984259858],\"type\":\"scatter\"},{\"x\":[1,2,3,4,5,6,7],\"y\":[778.5426699687049,0.07768222402067088,2221.070673027568,230.0,0.19427730622948497],\"type\":\"scatter\"},{\"x\":[1,2,3,4,5,6,7],\"y\":[642.533683659933,0.24302989991304966,2142.3911305509096,211.0,0.19416576488778733],\"type\":\"scatter\"},{\"x\":[1,2,3,4,5,6,7],\"y\":[676.4023105462406,0.391073695031715,1513.2844072383593,193.0,0.09731078731816555],\"type\":\"scatter\"},{\"x\":[1,2,3,4,5,6,7],\"y\":[697.4516751245804,0.18871520971580777,2205.2211799737834,231.0,0.1431778117949938],\"type\":\"scatter\"},{\"x\":[1,2,3,4,5,6,7],\"y\":[746.3220075466934,0.14608002738176973,2221.338685850317,209.0,0.1486095252520245],\"type\":\"scatter\"},{\"x\":[1,2,3,4,5,6,7],\"y\":[629.1030692225778,0.2854093333939202,2262.6283864896136,210.0,0.196910915444356],\"type\":\"scatter\"},{\"x\":[1,2,3,4,5,6,7],\"y\":[619.1797780857585,0.2941502747780204,2262.4874983148184,231.0,0.2040800030946633],\"type\":\"scatter\"},{\"x\":[1,2,3,4,5,6,7],\"y\":[600.9786751462744,0.47098205552829103,1459.0087926274548,190.0,0.14525319616857765],\"type\":\"scatter\"},{\"x\":[1,2,3,4,5,6,7],\"y\":[731.7671617139815,0.10051341661152684,2270.1875756633494,209.0,0.1493549004774188],\"type\":\"scatter\"},{\"x\":[1,2,3,4,5,6,7],\"y\":[751.8467554210881,0.2934627540361609,2166.635246792612,230.0,0.2003074645544974],\"type\":\"scatter\"},{\"x\":[1,2,3,4,5,6,7],\"y\":[479.962192687965,0.30668711426444134,2258.5514602614867,228.0,0.14602854007746952],\"type\":\"scatter\"},{\"x\":[1,2,3,4,5,6,7],\"y\":[246.87856977810353,0.4645499382677088,1073.68819962979,191.0,0.14965353209821008],\"type\":\"scatter\"},{\"x\":[1,2,3,4,5,6,7],\"y\":[658.0277008446501,0.2827974020648194,2119.9436928246782,190.0,0.15020154626669344],\"type\":\"scatter\"},{\"x\":[1,2,3,4,5,6,7],\"y\":[814.604672195087,0.08168871082236312,2215.10699177337,230.0,0.2041859639500236],\"type\":\"scatter\"},{\"x\":[1,2,3,4,5,6,7],\"y\":[699.1780271648804,0.2686492926804612,2147.007516640453,228.0,0.1996165520712061],\"type\":\"scatter\"},{\"x\":[1,2,3,4,5,6,7],\"y\":[955.8273713209211,0.03880490466008496,2124.236017447976,231.0,0.15491268251433662],\"type\":\"scatter\"},{\"x\":[1,2,3,4,5,6,7],\"y\":[905.5462631603093,0.07516971871033301,2137.537028995358,225.0,0.14849102319390445],\"type\":\"scatter\"},{\"x\":[1,2,3,4,5,6,7],\"y\":[408.11162647567335,0.29137052381269785,2241.551014272714,211.0,0.19571938192015867],\"type\":\"scatter\"},{\"x\":[1,2,3,4,5,6,7],\"y\":[767.3948565890261,0.10782549549226285,2145.693957047933,230.0,0.10103602225723718],\"type\":\"scatter\"},{\"x\":[1,2,3,4,5,6,7],\"y\":[278.4630682435366,0.5147488291632587,1595.1722213686587,195.0,0.14267711947584566],\"type\":\"scatter\"},{\"x\":[1,2,3,4,5,6,7],\"y\":[919.6790317473417,-0.0030549438812397522,2012.7752175808148,210.0,0.19645497767660872],\"type\":\"scatter\"},{\"x\":[1,2,3,4,5,6,7],\"y\":[241.31293231827854,0.4733975347806522,1456.1754933712716,191.0,0.14822448495091106],\"type\":\"scatter\"},{\"x\":[1,2,3,4,5,6,7],\"y\":[186.9702955594791,0.5553051792272912,935.5554517456558,191.0,0.19820772131081857],\"type\":\"scatter\"},{\"x\":[1,2,3,4,5,6,7],\"y\":[846.0816488359562,0.08373753900142894,2216.6061070113183,231.0,0.1949581846224461],\"type\":\"scatter\"},{\"x\":[1,2,3,4,5,6,7],\"y\":[307.8095726537128,0.40302841903564274,1647.5634148791173,191.0,0.15224201861459594],\"type\":\"scatter\"},{\"x\":[1,2,3,4,5,6,7],\"y\":[620.6158755505011,0.13957241777023716,2100.659991851294,210.0,0.19438769523872096],\"type\":\"scatter\"},{\"x\":[1,2,3,4,5,6,7],\"y\":[377.9237236120993,0.529709946160342,1345.3112191150958,193.0,0.20402746339529454],\"type\":\"scatter\"},{\"x\":[1,2,3,4,5,6,7],\"y\":[496.28205454867395,0.39271655090040686,2167.5627863844084,210.0,0.19593079185316759],\"type\":\"scatter\"},{\"x\":[1,2,3,4,5,6,7],\"y\":[784.6727294428931,0.22088145971890566,2253.3389390826037,209.0,0.19701776930186674],\"type\":\"scatter\"},{\"x\":[1,2,3,4,5,6,7],\"y\":[464.89011596963155,0.3154618745433707,1167.4837689852375,211.0,0.1437427741770616],\"type\":\"scatter\"},{\"x\":[1,2,3,4,5,6,7],\"y\":[553.2859283712534,0.2736363863910809,2174.09715973406,208.0,0.1984798882504033],\"type\":\"scatter\"},{\"x\":[1,2,3,4,5,6,7],\"y\":[799.2260627724718,0.1121214271943196,2234.6875524499555,210.0,0.14885907924118344],\"type\":\"scatter\"},{\"x\":[1,2,3,4,5,6,7],\"y\":[731.6051765702277,0.15707775408081215,2180.0197370499036,232.0,0.14822487252661515],\"type\":\"scatter\"},{\"x\":[1,2,3,4,5,6,7],\"y\":[543.9028538186274,0.20416753773630048,2112.332177185568,232.0,0.15173253590685865],\"type\":\"scatter\"},{\"x\":[1,2,3,4,5,6,7],\"y\":[600.4902359945531,0.41665170482939556,2088.921036614044,209.0,0.1500691094541889],\"type\":\"scatter\"},{\"x\":[1,2,3,4,5,6,7],\"y\":[479.9542932812469,0.4437507884811207,1648.0612196642396,190.0,0.14624702665606573],\"type\":\"scatter\"},{\"x\":[1,2,3,4,5,6,7],\"y\":[442.83759374486357,0.3708595089952107,1335.5785253653153,190.0,0.10313908141366257],\"type\":\"scatter\"},{\"x\":[1,2,3,4,5,6,7],\"y\":[729.1153202925757,0.13500635161460156,2196.7296891666124,228.0,0.14988428422325903],\"type\":\"scatter\"},{\"x\":[1,2,3,4,5,6,7],\"y\":[393.0068810292114,0.47104488591346805,1034.7808242738681,193.0,0.198799536949156],\"type\":\"scatter\"},{\"x\":[1,2,3,4,5,6,7],\"y\":[820.9703289433403,0.23049271540533278,2101.5120133549995,227.0,0.09809482391608258],\"type\":\"scatter\"},{\"x\":[1,2,3,4,5,6,7],\"y\":[626.1344702569368,0.19999484524720204,2176.1845270960034,209.0,0.10570569189291383],\"type\":\"scatter\"},{\"x\":[1,2,3,4,5,6,7],\"y\":[266.16299707939106,0.6603641669587313,1673.4397228564794,191.0,0.14668616709083007],\"type\":\"scatter\"},{\"x\":[1,2,3,4,5,6,7],\"y\":[669.3109642082205,0.1851196322776014,2038.765256999734,193.0,0.14252691057875955],\"type\":\"scatter\"},{\"x\":[1,2,3,4,5,6,7],\"y\":[609.1706394177409,0.203625850638325,2194.2279401931332,191.0,0.19874237298846523],\"type\":\"scatter\"},{\"x\":[1,2,3,4,5,6,7],\"y\":[473.62084868477586,0.4282166554641644,1162.1917263638218,190.0,0.1443382637949931],\"type\":\"scatter\"},{\"x\":[1,2,3,4,5,6,7],\"y\":[322.89274404590986,0.5517410185795514,1660.7482735038157,192.0,0.19732729579238067],\"type\":\"scatter\"},{\"x\":[1,2,3,4,5,6,7],\"y\":[502.5178782851351,0.5409005715637498,1381.892023537923,191.0,0.1921887096375859],\"type\":\"scatter\"},{\"x\":[1,2,3,4,5,6,7],\"y\":[550.1383978750403,0.2910609585663056,2151.8470794375808,190.0,0.14698533777793965],\"type\":\"scatter\"},{\"x\":[1,2,3,4,5,6,7],\"y\":[608.250495831548,0.2797162430510412,2124.848331747093,211.0,0.1498987990585172],\"type\":\"scatter\"},{\"x\":[1,2,3,4,5,6,7],\"y\":[631.9027311912856,0.31925178866337967,2110.9898253720885,209.0,0.14942580155303747],\"type\":\"scatter\"},{\"x\":[1,2,3,4,5,6,7],\"y\":[729.0782971958891,0.1222133559030146,2201.8122594018323,230.0,0.09346098028193323],\"type\":\"scatter\"},{\"x\":[1,2,3,4,5,6,7],\"y\":[347.5189758612929,0.44786071296596114,1472.2131595734731,190.0,0.1991528846837762],\"type\":\"scatter\"},{\"x\":[1,2,3,4,5,6,7],\"y\":[749.8420825447719,0.2904091980039178,1469.372953544152,210.0,0.20768184134298975],\"type\":\"scatter\"},{\"x\":[1,2,3,4,5,6,7],\"y\":[702.3403743444665,0.4086453310427407,2264.941256253889,191.0,0.146496881123658],\"type\":\"scatter\"},{\"x\":[1,2,3,4,5,6,7],\"y\":[809.9974816220757,0.18330170964239517,2130.319850931939,209.0,0.1968764000897338],\"type\":\"scatter\"},{\"x\":[1,2,3,4,5,6,7],\"y\":[650.2275808978836,0.1280186283511876,2156.855238106143,231.0,0.15148009726753303],\"type\":\"scatter\"},{\"x\":[1,2,3,4,5,6,7],\"y\":[705.3866630327341,0.13806609336849404,2148.5560920533153,231.0,0.1469184104616687],\"type\":\"scatter\"},{\"x\":[1,2,3,4,5,6,7],\"y\":[219.73212704984894,0.5172852111595321,1258.4274001698143,192.0,0.20017292935105147],\"type\":\"scatter\"},{\"x\":[1,2,3,4,5,6,7],\"y\":[73.99376059662791,0.6015587575712098,1836.1898003459207,192.0,0.14736869391245108],\"type\":\"scatter\"},{\"x\":[1,2,3,4,5,6,7],\"y\":[897.6489542075352,0.2032592542339165,2189.403837366852,231.0,0.20057375659679222],\"type\":\"scatter\"},{\"x\":[1,2,3,4,5,6,7],\"y\":[283.71579756283734,0.4527608463884995,1332.2108254455627,191.0,0.2012579713141724],\"type\":\"scatter\"},{\"x\":[1,2,3,4,5,6,7],\"y\":[474.4041721585568,0.6033895922179704,1220.5611538005503,191.0,0.14797339538967283],\"type\":\"scatter\"},{\"x\":[1,2,3,4,5,6,7],\"y\":[815.5223071127348,0.0935976766172202,2264.412845608906,211.0,0.14732679855202385],\"type\":\"scatter\"},{\"x\":[1,2,3,4,5,6,7],\"y\":[719.041764496737,0.1642829681894724,2161.6460393866564,209.0,0.2005481229722849],\"type\":\"scatter\"},{\"x\":[1,2,3,4,5,6,7],\"y\":[606.1709315761368,0.524685930873181,1890.941319744389,192.0,0.0991857755286617],\"type\":\"scatter\"},{\"x\":[1,2,3,4,5,6,7],\"y\":[621.5691626675873,0.17360407301501918,2104.7664555359,232.0,0.19368477687771826],\"type\":\"scatter\"},{\"x\":[1,2,3,4,5,6,7],\"y\":[793.9854236898084,0.1327285734030706,2076.091696492121,233.0,0.19831498203716091],\"type\":\"scatter\"},{\"x\":[1,2,3,4,5,6,7],\"y\":[305.7136473152408,0.4518053397431571,951.6773146474447,191.0,0.0980183972590938],\"type\":\"scatter\"},{\"x\":[1,2,3,4,5,6,7],\"y\":[874.4835248562862,0.12240848343961573,2224.184168374706,210.0,0.14577678119730317],\"type\":\"scatter\"},{\"x\":[1,2,3,4,5,6,7],\"y\":[651.8441322581805,0.3812364837895472,805.7355757801993,194.0,0.14739600326885274],\"type\":\"scatter\"},{\"x\":[1,2,3,4,5,6,7],\"y\":[584.167423574084,0.24941478734507339,2063.527201608699,228.0,0.20110586465039967],\"type\":\"scatter\"},{\"x\":[1,2,3,4,5,6,7],\"y\":[434.5399709282768,0.30371386347569496,1538.7125797284862,193.0,0.10384139154922647],\"type\":\"scatter\"},{\"x\":[1,2,3,4,5,6,7],\"y\":[611.878878782545,0.3675584947354753,1715.3743656435383,188.0,0.19496172687911137],\"type\":\"scatter\"},{\"x\":[1,2,3,4,5,6,7],\"y\":[582.0676358794976,0.19415899100184492,1992.389733218835,232.0,0.1516452622962913],\"type\":\"scatter\"},{\"x\":[1,2,3,4,5,6,7],\"y\":[556.8158393331789,0.2827432771684766,2207.657894816464,209.0,0.19819126138505558],\"type\":\"scatter\"},{\"x\":[1,2,3,4,5,6,7],\"y\":[649.1373870064656,0.2341035366400318,2155.72671689361,231.0,0.19857390808838374],\"type\":\"scatter\"},{\"x\":[1,2,3,4,5,6,7],\"y\":[747.3953406906804,0.2187117000155941,2045.4091423090417,231.0,0.19542215186054832],\"type\":\"scatter\"},{\"x\":[1,2,3,4,5,6,7],\"y\":[992.2243151070661,0.017650018066467654,2187.8827196834377,230.0,0.19278891010429464],\"type\":\"scatter\"},{\"x\":[1,2,3,4,5,6,7],\"y\":[973.8896680795964,0.0002565202096102559,2102.5351324017897,230.0,0.15161640521137684],\"type\":\"scatter\"},{\"x\":[1,2,3,4,5,6,7],\"y\":[246.72097873486166,0.5485831271033865,1140.9848495070316,193.0,0.15084340370420804],\"type\":\"scatter\"},{\"x\":[1,2,3,4,5,6,7],\"y\":[588.4453754113523,0.28675821715197736,2199.7900128259807,230.0,0.19705735891584886],\"type\":\"scatter\"},{\"x\":[1,2,3,4,5,6,7],\"y\":[611.742052396487,0.37301884407911845,1462.5542716596212,190.0,0.19372286379688336],\"type\":\"scatter\"},{\"x\":[1,2,3,4,5,6,7],\"y\":[744.2425125915182,0.11666060187300174,2163.5952108870997,230.0,0.20525863671211295],\"type\":\"scatter\"},{\"x\":[1,2,3,4,5,6,7],\"y\":[488.41532077639937,0.48890180268521044,1514.4090703656466,193.0,0.14952421571258193],\"type\":\"scatter\"},{\"x\":[1,2,3,4,5,6,7],\"y\":[763.0272452480694,0.08164839551742475,2106.260664751108,229.0,0.1922864243219203],\"type\":\"scatter\"},{\"x\":[1,2,3,4,5,6,7],\"y\":[855.526217646044,0.13264252359821843,2080.5789795267137,231.0,0.1957901717681494],\"type\":\"scatter\"},{\"x\":[1,2,3,4,5,6,7],\"y\":[383.83945691340205,0.3499394778814468,1383.341495690396,191.0,0.09472761466961585],\"type\":\"scatter\"},{\"x\":[1,2,3,4,5,6,7],\"y\":[608.2417695458246,0.30351139992825044,2229.5609879890712,211.0,0.09441303181129392],\"type\":\"scatter\"},{\"x\":[1,2,3,4,5,6,7],\"y\":[517.5886726912709,0.2805795131590392,2169.268278868239,210.0,0.2019301883411744],\"type\":\"scatter\"},{\"x\":[1,2,3,4,5,6,7],\"y\":[687.8007203620248,0.0672149101592183,2139.224042237962,231.0,0.14854533284726254],\"type\":\"scatter\"},{\"x\":[1,2,3,4,5,6,7],\"y\":[901.2733769260053,0.08072136991225788,2222.272243318921,232.0,0.10035202584112018],\"type\":\"scatter\"},{\"x\":[1,2,3,4,5,6,7],\"y\":[518.9810674947257,0.5496956514300606,1694.964085037973,195.0,0.20034798269533008],\"type\":\"scatter\"},{\"x\":[1,2,3,4,5,6,7],\"y\":[487.30034478717664,0.39155468263269066,1427.2450665490005,192.0,0.20063436717499455],\"type\":\"scatter\"},{\"x\":[1,2,3,4,5,6,7],\"y\":[886.627076645013,0.08409511822783874,2240.8406755061824,227.0,0.09871363114426947],\"type\":\"scatter\"},{\"x\":[1,2,3,4,5,6,7],\"y\":[883.3812534858594,0.12186273690950448,2184.146518067817,232.0,0.09878142691169275],\"type\":\"scatter\"},{\"x\":[1,2,3,4,5,6,7],\"y\":[969.6187555160152,0.05003128559995307,2109.9764757097123,229.0,0.14768197407139216],\"type\":\"scatter\"},{\"x\":[1,2,3,4,5,6,7],\"y\":[540.3771738174572,0.34227904026765654,2247.8195995076185,211.0,0.19791296199410474],\"type\":\"scatter\"},{\"x\":[1,2,3,4,5,6,7],\"y\":[838.0256793477151,0.0859889588913073,2212.5411045515048,229.0,0.09982304920371966],\"type\":\"scatter\"},{\"x\":[1,2,3,4,5,6,7],\"y\":[665.5952769193257,0.312793896002983,2262.625197574832,210.0,0.14688122007006557],\"type\":\"scatter\"},{\"x\":[1,2,3,4,5,6,7],\"y\":[748.1957443663842,0.053850474214119176,2252.69554619595,229.0,0.20275814698587888],\"type\":\"scatter\"},{\"x\":[1,2,3,4,5,6,7],\"y\":[521.51288448992,0.2664547630038115,2342.338873652597,210.0,0.19602154414032827],\"type\":\"scatter\"},{\"x\":[1,2,3,4,5,6,7],\"y\":[666.7717066384803,0.20935268780519561,2209.0299813938595,232.0,0.19301977003267362],\"type\":\"scatter\"},{\"x\":[1,2,3,4,5,6,7],\"y\":[686.5486911628395,0.17821118482532028,2328.5984797750766,233.0,0.09992375655152909],\"type\":\"scatter\"},{\"x\":[1,2,3,4,5,6,7],\"y\":[600.2769880801881,0.2524912527913696,1445.8384359639497,189.0,0.19104280625857512],\"type\":\"scatter\"},{\"x\":[1,2,3,4,5,6,7],\"y\":[749.9857724262083,0.16522763539229846,2231.6831947782666,230.0,0.19646140609313306],\"type\":\"scatter\"},{\"x\":[1,2,3,4,5,6,7],\"y\":[505.518975179955,0.30764081190793857,1400.6452934774031,211.0,0.14830545809650858],\"type\":\"scatter\"},{\"x\":[1,2,3,4,5,6,7],\"y\":[704.8403221477879,0.23091170415574538,2193.4529139169745,210.0,0.1472306772031045],\"type\":\"scatter\"},{\"x\":[1,2,3,4,5,6,7],\"y\":[782.9093055623379,0.07557078295949698,2150.623619352643,231.0,0.14728921715231186],\"type\":\"scatter\"},{\"x\":[1,2,3,4,5,6,7],\"y\":[649.975099347881,0.4682887710095312,2054.254317361073,192.0,0.09430677637544947],\"type\":\"scatter\"},{\"x\":[1,2,3,4,5,6,7],\"y\":[502.004712809191,0.3302682074705216,2132.052631500818,231.0,0.20247210631870322],\"type\":\"scatter\"},{\"x\":[1,2,3,4,5,6,7],\"y\":[840.2860201988876,0.11777526162656923,2093.940953739284,230.0,0.1029405565218443],\"type\":\"scatter\"},{\"x\":[1,2,3,4,5,6,7],\"y\":[566.3955981694071,0.5722590891478098,1402.3536872066804,227.0,0.20086512330464024],\"type\":\"scatter\"},{\"x\":[1,2,3,4,5,6,7],\"y\":[535.5222986567827,0.21547867157232165,2166.599805444364,230.0,0.19382193863317534],\"type\":\"scatter\"},{\"x\":[1,2,3,4,5,6,7],\"y\":[509.4927530029514,0.31181594975166155,2115.489112164496,232.0,0.2000212331640877],\"type\":\"scatter\"},{\"x\":[1,2,3,4,5,6,7],\"y\":[771.0204564425433,0.24852105951424425,2059.167880445506,230.0,0.14962577284650544],\"type\":\"scatter\"},{\"x\":[1,2,3,4,5,6,7],\"y\":[917.4492412578873,0.176642574372972,2163.0513188157533,229.0,0.1959109224443062],\"type\":\"scatter\"},{\"x\":[1,2,3,4,5,6,7],\"y\":[716.4023458103497,0.26688989619516273,2139.2876525556394,232.0,0.10243161756707574],\"type\":\"scatter\"},{\"x\":[1,2,3,4,5,6,7],\"y\":[593.7219902849863,0.32401193886621293,2240.1902595413226,230.0,0.14783243668039675],\"type\":\"scatter\"},{\"x\":[1,2,3,4,5,6,7],\"y\":[785.66753257341,0.21612531304096239,2166.7506719761454,231.0,0.10406122956280177],\"type\":\"scatter\"},{\"x\":[1,2,3,4,5,6,7],\"y\":[730.5241261519541,0.5078133568025454,2220.1819470080745,191.0,0.09628100338588615],\"type\":\"scatter\"},{\"x\":[1,2,3,4,5,6,7],\"y\":[190.97007666226023,0.3502383178940217,2040.3501476461447,233.0,0.1498247768811613],\"type\":\"scatter\"},{\"x\":[1,2,3,4,5,6,7],\"y\":[24.336658364409345,0.5224838353438482,1104.8507326377166,190.0,0.14889620177128415],\"type\":\"scatter\"},{\"x\":[1,2,3,4,5,6,7],\"y\":[651.357209395624,0.2410101867336419,2117.5964462391,227.0,0.14847359930622708],\"type\":\"scatter\"},{\"x\":[1,2,3,4,5,6,7],\"y\":[727.8125738161145,0.433582922839865,1525.762958621839,190.0,0.20001315723408583],\"type\":\"scatter\"},{\"x\":[1,2,3,4,5,6,7],\"y\":[649.8092583389935,0.2775975707788112,2224.1989664324296,211.0,0.1989511215663583],\"type\":\"scatter\"},{\"x\":[1,2,3,4,5,6,7],\"y\":[548.6000373682443,0.4619773977983547,2163.991709762449,227.0,0.1490035426502443],\"type\":\"scatter\"},{\"x\":[1,2,3,4,5,6,7],\"y\":[709.7491073480908,0.15478872848348313,2063.5662578158226,209.0,0.19735934395657637],\"type\":\"scatter\"},{\"x\":[1,2,3,4,5,6,7],\"y\":[586.7867687874142,0.2615046862446806,1092.1074162306224,211.0,0.14949789710551242],\"type\":\"scatter\"},{\"x\":[1,2,3,4,5,6,7],\"y\":[574.3794843241179,0.2587124007834607,2189.3984967344877,231.0,0.19548654970483237],\"type\":\"scatter\"},{\"x\":[1,2,3,4,5,6,7],\"y\":[413.4844930946084,0.6657260302107834,973.6576208158936,192.0,0.19260392055688702],\"type\":\"scatter\"},{\"x\":[1,2,3,4,5,6,7],\"y\":[827.1896110752616,0.158026613491072,2232.4644682344697,230.0,0.09537511100757858],\"type\":\"scatter\"},{\"x\":[1,2,3,4,5,6,7],\"y\":[746.5681635795765,0.16306033718399254,2084.224991646564,211.0,0.1492795210074444],\"type\":\"scatter\"},{\"x\":[1,2,3,4,5,6,7],\"y\":[981.9058315122501,0.009320350214398893,2105.096220253582,228.0,0.1541115166244389],\"type\":\"scatter\"},{\"x\":[1,2,3,4,5,6,7],\"y\":[631.2689451894839,0.25690426428975,2064.4579167836937,190.0,0.1963854607230308],\"type\":\"scatter\"},{\"x\":[1,2,3,4,5,6,7],\"y\":[513.3622009830641,0.25305942875016435,2261.2016937460594,210.0,0.1936386356209081],\"type\":\"scatter\"},{\"x\":[1,2,3,4,5,6,7],\"y\":[751.9721278641317,0.24522127072805616,2168.897166910803,230.0,0.20333518557010896],\"type\":\"scatter\"},{\"x\":[1,2,3,4,5,6,7],\"y\":[386.9671288315093,0.43467189156514946,1340.3610504520288,194.0,0.09634199577517895],\"type\":\"scatter\"},{\"x\":[1,2,3,4,5,6,7],\"y\":[653.9238226400213,0.18246701302385956,2200.789868259503,230.0,0.14491783105931264],\"type\":\"scatter\"},{\"x\":[1,2,3,4,5,6,7],\"y\":[632.4055227660812,0.23954157104503115,2160.1614569912417,232.0,0.1483730242691154],\"type\":\"scatter\"},{\"x\":[1,2,3,4,5,6,7],\"y\":[904.8908935999896,0.07305379330183445,2129.3025231250363,230.0,0.190821677433689],\"type\":\"scatter\"},{\"x\":[1,2,3,4,5,6,7],\"y\":[647.323456792857,0.26399617191721114,2149.3875375909934,212.0,0.19932833143722278],\"type\":\"scatter\"},{\"x\":[1,2,3,4,5,6,7],\"y\":[713.5098537499441,0.22625919165226155,2135.4236583797297,210.0,0.1037990799192106],\"type\":\"scatter\"},{\"x\":[1,2,3,4,5,6,7],\"y\":[692.3998875011829,0.24347346440258932,2331.5817788774143,229.0,0.0992779173186077],\"type\":\"scatter\"},{\"x\":[1,2,3,4,5,6,7],\"y\":[751.2644671176979,0.09473797894970772,2240.683976073315,230.0,0.14740092962778387],\"type\":\"scatter\"},{\"x\":[1,2,3,4,5,6,7],\"y\":[697.3049559972216,0.12424175620021222,2153.162810078479,228.0,0.15033384376736367],\"type\":\"scatter\"},{\"x\":[1,2,3,4,5,6,7],\"y\":[713.6530934789064,0.13246054235670593,2369.1675869937867,231.0,0.14735580094207315],\"type\":\"scatter\"},{\"x\":[1,2,3,4,5,6,7],\"y\":[970.8552556049814,0.058748053414402784,2062.2334300856196,228.0,0.2017325162537783],\"type\":\"scatter\"},{\"x\":[1,2,3,4,5,6,7],\"y\":[771.4865310220864,0.14775523785441766,2068.6372402386337,232.0,0.1980220227125986],\"type\":\"scatter\"},{\"x\":[1,2,3,4,5,6,7],\"y\":[286.74298263109796,0.44146356914829804,1009.6076691106857,192.0,0.14475605324198457],\"type\":\"scatter\"},{\"x\":[1,2,3,4,5,6,7],\"y\":[443.40583029769346,0.3708234571338484,1920.7138363783388,212.0,0.19597363663983175],\"type\":\"scatter\"},{\"x\":[1,2,3,4,5,6,7],\"y\":[848.1297202920966,0.1917841117237748,2222.2499049175503,230.0,0.14896202556942492],\"type\":\"scatter\"},{\"x\":[1,2,3,4,5,6,7],\"y\":[436.0267855151931,0.36776799453948084,2399.624624109792,209.0,0.19789455631390485],\"type\":\"scatter\"},{\"x\":[1,2,3,4,5,6,7],\"y\":[537.7577786452364,0.4024296548320947,1626.2373808337209,191.0,0.20092364569656093],\"type\":\"scatter\"},{\"x\":[1,2,3,4,5,6,7],\"y\":[794.0534377134777,0.15771056560189625,2232.088544241957,229.0,0.19035788115820634],\"type\":\"scatter\"},{\"x\":[1,2,3,4,5,6,7],\"y\":[265.0694626564741,0.5560888211265017,1278.6352673977071,192.0,0.19914392750530402],\"type\":\"scatter\"},{\"x\":[1,2,3,4,5,6,7],\"y\":[135.96827906980982,0.44969434003917574,1360.8913188688941,191.0,0.19589976147163166],\"type\":\"scatter\"},{\"x\":[1,2,3,4,5,6,7],\"y\":[865.5049859397218,0.06168205815927011,2207.657681511127,230.0,0.1494828849112292],\"type\":\"scatter\"},{\"x\":[1,2,3,4,5,6,7],\"y\":[420.86673986363064,0.5540160854943375,836.9257746646169,192.0,0.19452411674823833],\"type\":\"scatter\"},{\"x\":[1,2,3,4,5,6,7],\"y\":[495.3046994596074,0.35341763453293634,2202.2350919041705,191.0,0.20123118502415935],\"type\":\"scatter\"},{\"x\":[1,2,3,4,5,6,7],\"y\":[897.3365912925271,0.19902588090659395,2287.2029423604145,230.0,0.14772116069239669],\"type\":\"scatter\"},{\"x\":[1,2,3,4,5,6,7],\"y\":[179.9002122585994,0.5720615776841808,1657.076701421951,190.0,0.09666945536211048],\"type\":\"scatter\"},{\"x\":[1,2,3,4,5,6,7],\"y\":[278.28137616814195,0.6342825422513294,1016.8186376102831,190.0,0.19447761269542774],\"type\":\"scatter\"},{\"x\":[1,2,3,4,5,6,7],\"y\":[942.127185554237,0.0556030214193744,2058.574326350739,230.0,0.10331008173190677],\"type\":\"scatter\"},{\"x\":[1,2,3,4,5,6,7],\"y\":[841.7069744149414,0.057846509711215965,2073.4513177140975,231.0,0.14932114406376074],\"type\":\"scatter\"},{\"x\":[1,2,3,4,5,6,7],\"y\":[236.94650088771982,0.47583526496894724,1120.8211571856668,193.0,0.19743162784023843],\"type\":\"scatter\"},{\"x\":[1,2,3,4,5,6,7],\"y\":[339.5534170337647,0.4715897304985962,1982.303817470231,191.0,0.19623108791643162],\"type\":\"scatter\"},{\"x\":[1,2,3,4,5,6,7],\"y\":[766.2453818896856,0.21059637524977762,2256.0600325999803,229.0,0.09274228093678513],\"type\":\"scatter\"},{\"x\":[1,2,3,4,5,6,7],\"y\":[669.187451882991,0.16098955104038015,2283.328048281807,233.0,0.1503158484915565],\"type\":\"scatter\"},{\"x\":[1,2,3,4,5,6,7],\"y\":[268.1099340376055,0.4256760322518773,1815.475608794304,191.0,0.15123166295741003],\"type\":\"scatter\"},{\"x\":[1,2,3,4,5,6,7],\"y\":[518.9946358802623,0.3172472047108773,2299.938646772223,229.0,0.14698870039046907],\"type\":\"scatter\"},{\"x\":[1,2,3,4,5,6,7],\"y\":[603.1305334079334,0.30053296368762455,2154.786422309267,232.0,0.191258096598989],\"type\":\"scatter\"},{\"x\":[1,2,3,4,5,6,7],\"y\":[393.28335612336747,0.5335302088452503,901.0679457907816,191.0,0.1976194360505748],\"type\":\"scatter\"},{\"x\":[1,2,3,4,5,6,7],\"y\":[630.467052407577,0.44857065275427405,1727.201915682822,193.0,0.15089837695581965],\"type\":\"scatter\"},{\"x\":[1,2,3,4,5,6,7],\"y\":[496.92587037363927,0.19122968514453462,2127.1346716601347,230.0,0.14945751590038894],\"type\":\"scatter\"},{\"x\":[1,2,3,4,5,6,7],\"y\":[680.4940681395842,0.3404650230776343,2105.5620044517527,230.0,0.20236205168570753],\"type\":\"scatter\"},{\"x\":[1,2,3,4,5,6,7],\"y\":[580.8611520339726,0.34506868567703386,2308.742088635157,210.0,0.20318685351674357],\"type\":\"scatter\"},{\"x\":[1,2,3,4,5,6,7],\"y\":[333.0719902631498,0.5336409298619774,582.3844559316013,192.0,0.14699253810502394],\"type\":\"scatter\"},{\"x\":[1,2,3,4,5,6,7],\"y\":[626.4776082967335,0.31208105133692676,2263.934092446273,192.0,0.1959715757631634],\"type\":\"scatter\"},{\"x\":[1,2,3,4,5,6,7],\"y\":[263.844702186224,0.5271643795439594,1599.852007800945,192.0,0.09493058233920289],\"type\":\"scatter\"},{\"x\":[1,2,3,4,5,6,7],\"y\":[889.3189420628125,0.08453161174226648,2226.5159743202344,232.0,0.09304548664276185],\"type\":\"scatter\"},{\"x\":[1,2,3,4,5,6,7],\"y\":[590.7738550266189,0.28276786185260017,2091.4968745298593,189.0,0.09254035546604099],\"type\":\"scatter\"},{\"x\":[1,2,3,4,5,6,7],\"y\":[596.6883030764102,0.4524356364047033,2166.6705001655323,190.0,0.19753754317957667],\"type\":\"scatter\"},{\"x\":[1,2,3,4,5,6,7],\"y\":[342.54432192628553,0.2818072139467739,2258.361085248611,210.0,0.19889315943781435],\"type\":\"scatter\"},{\"x\":[1,2,3,4,5,6,7],\"y\":[822.5628230141382,0.21503330274918966,2203.0485504693434,230.0,0.09094698041768448],\"type\":\"scatter\"},{\"x\":[1,2,3,4,5,6,7],\"y\":[538.7393154065843,0.4680479935250584,2238.3739699331827,210.0,0.09421610107961456],\"type\":\"scatter\"},{\"x\":[1,2,3,4,5,6,7],\"y\":[353.91271895628216,0.5195511327767418,815.367437752554,193.0,0.1541595665726337],\"type\":\"scatter\"},{\"x\":[1,2,3,4,5,6,7],\"y\":[792.9597664775429,0.1140654867050266,2205.8150140318053,231.0,0.15078805281656446],\"type\":\"scatter\"},{\"x\":[1,2,3,4,5,6,7],\"y\":[514.1271757967211,0.30303544867366017,1069.0093827959788,191.0,0.14938220182487605],\"type\":\"scatter\"},{\"x\":[1,2,3,4,5,6,7],\"y\":[634.6171294413182,0.2966213211334057,1728.50681423866,190.0,0.14975011853797435],\"type\":\"scatter\"},{\"x\":[1,2,3,4,5,6,7],\"y\":[604.6128100168636,0.27186236100283284,2268.9668718833072,229.0,0.15122011048410752],\"type\":\"scatter\"},{\"x\":[1,2,3,4,5,6,7],\"y\":[232.75804815285036,0.30667654666513894,1220.4982979634012,193.0,0.1521523816503348],\"type\":\"scatter\"},{\"x\":[1,2,3,4,5,6,7],\"y\":[828.2922892828753,0.31870416340945484,1518.396143327336,189.0,0.0994585480959084],\"type\":\"scatter\"},{\"x\":[1,2,3,4,5,6,7],\"y\":[522.654730619276,0.48802699992047743,1875.808292151498,191.0,0.15004869542352983],\"type\":\"scatter\"},{\"x\":[1,2,3,4,5,6,7],\"y\":[238.16130311174905,0.5751792702970427,655.6227535526504,192.0,0.1965194827610814],\"type\":\"scatter\"},{\"x\":[1,2,3,4,5,6,7],\"y\":[788.0023961264216,0.16887724775506757,2098.949778987023,230.0,0.19614717257984718],\"type\":\"scatter\"},{\"x\":[1,2,3,4,5,6,7],\"y\":[765.5210336464108,0.07385684204081858,2197.6750744161286,230.0,0.1923148063370589],\"type\":\"scatter\"},{\"x\":[1,2,3,4,5,6,7],\"y\":[551.2057903098877,0.490013582692518,2205.7269642551914,212.0,0.1929752664645411],\"type\":\"scatter\"},{\"x\":[1,2,3,4,5,6,7],\"y\":[459.4847712737778,0.33298771132828264,2277.2826337552738,210.0,0.19604097370899573],\"type\":\"scatter\"},{\"x\":[1,2,3,4,5,6,7],\"y\":[271.2998429981524,0.48789855567656737,1483.051583424316,191.0,0.14604076115461578],\"type\":\"scatter\"},{\"x\":[1,2,3,4,5,6,7],\"y\":[739.186123432447,0.13443748951562623,2158.9205856915623,226.0,0.19483514881995115],\"type\":\"scatter\"},{\"x\":[1,2,3,4,5,6,7],\"y\":[519.5510557915396,0.26538377639760685,2205.0465975547627,209.0,0.19307251177877455],\"type\":\"scatter\"},{\"x\":[1,2,3,4,5,6,7],\"y\":[597.1916076975749,0.2578996839529279,2242.6970345217946,208.0,0.1518285138098624],\"type\":\"scatter\"},{\"x\":[1,2,3,4,5,6,7],\"y\":[861.7440122330942,0.10772946180664066,2345.802781673996,210.0,0.1986667506711051],\"type\":\"scatter\"},{\"x\":[1,2,3,4,5,6,7],\"y\":[855.9206635016053,0.12684758559868456,2063.0264353353336,209.0,0.09974948981470219],\"type\":\"scatter\"},{\"x\":[1,2,3,4,5,6,7],\"y\":[598.092386843,0.40999372315482024,2324.101203385466,230.0,0.09471432807754993],\"type\":\"scatter\"},{\"x\":[1,2,3,4,5,6,7],\"y\":[914.3895720343855,0.060534547274975675,2128.4959676538174,232.0,0.19055218528199738],\"type\":\"scatter\"},{\"x\":[1,2,3,4,5,6,7],\"y\":[413.49212748385236,0.38121680567074484,1075.793779678428,192.0,0.14672373533299046],\"type\":\"scatter\"},{\"x\":[1,2,3,4,5,6,7],\"y\":[321.1446465922783,0.3186599424128198,1623.0877888589587,192.0,0.19362027823209751],\"type\":\"scatter\"},{\"x\":[1,2,3,4,5,6,7],\"y\":[693.9815351045905,0.23504855549739606,2140.5538890260864,210.0,0.15135502286938285],\"type\":\"scatter\"},{\"x\":[1,2,3,4,5,6,7],\"y\":[759.1763142910295,0.07826920609637666,2238.332258074619,230.0,0.14918584124244402],\"type\":\"scatter\"},{\"x\":[1,2,3,4,5,6,7],\"y\":[403.57476836855994,0.3924613703538389,937.4677067863286,192.0,0.1995188284501893],\"type\":\"scatter\"},{\"x\":[1,2,3,4,5,6,7],\"y\":[486.04137709510877,0.30492895220233895,623.4660589082021,187.0,0.15008487108812954],\"type\":\"scatter\"},{\"x\":[1,2,3,4,5,6,7],\"y\":[580.8506461181875,0.1540786970857481,2207.4648081594964,211.0,0.201568315982937],\"type\":\"scatter\"},{\"x\":[1,2,3,4,5,6,7],\"y\":[881.0697080762741,0.06077814812296736,2186.9030322694866,230.0,0.15019024739804676],\"type\":\"scatter\"},{\"x\":[1,2,3,4,5,6,7],\"y\":[469.9495615269435,0.3029371643732129,2306.892507396614,231.0,0.18885842885820694],\"type\":\"scatter\"},{\"x\":[1,2,3,4,5,6,7],\"y\":[593.7250499309782,0.5133484807506358,1480.9990921241874,192.0,0.1969689328304609],\"type\":\"scatter\"},{\"x\":[1,2,3,4,5,6,7],\"y\":[538.60460683574,0.3205591676373869,2230.2844290359008,211.0,0.198942670739755],\"type\":\"scatter\"},{\"x\":[1,2,3,4,5,6,7],\"y\":[918.8221462035137,0.09816870915100036,2164.639749039254,231.0,0.09150521089275963],\"type\":\"scatter\"},{\"x\":[1,2,3,4,5,6,7],\"y\":[307.63234412061735,0.3396014909994868,1989.5355224492168,192.0,0.14733063855484857],\"type\":\"scatter\"},{\"x\":[1,2,3,4,5,6,7],\"y\":[920.751725406783,0.10333718967207631,2243.686392666442,229.0,0.20347112705211537],\"type\":\"scatter\"},{\"x\":[1,2,3,4,5,6,7],\"y\":[767.4509287960192,0.1794410207308584,2252.5372843014925,230.0,0.199942555667006],\"type\":\"scatter\"},{\"x\":[1,2,3,4,5,6,7],\"y\":[596.7226285358316,0.22936166914856143,2274.9292893033867,209.0,0.15268935091236946],\"type\":\"scatter\"},{\"x\":[1,2,3,4,5,6,7],\"y\":[607.2927002106592,0.30050723150819414,2129.768357983224,208.0,0.20009027880480765],\"type\":\"scatter\"},{\"x\":[1,2,3,4,5,6,7],\"y\":[376.0968206546433,0.5028332366967496,1299.473024578997,193.0,0.09971632290226039],\"type\":\"scatter\"},{\"x\":[1,2,3,4,5,6,7],\"y\":[717.2388162915353,0.15541177157696667,2109.7807094044547,208.0,0.1488572631415235],\"type\":\"scatter\"},{\"x\":[1,2,3,4,5,6,7],\"y\":[544.2793037888912,0.2989384103609919,2238.6958850144792,231.0,0.19938499740944027],\"type\":\"scatter\"},{\"x\":[1,2,3,4,5,6,7],\"y\":[912.0121193283068,0.060394188664413095,2159.4167439030794,211.0,0.1961333576900409],\"type\":\"scatter\"},{\"x\":[1,2,3,4,5,6,7],\"y\":[218.04250734081552,0.47219498151564326,1761.8784804123711,189.0,0.1936101137272626],\"type\":\"scatter\"},{\"x\":[1,2,3,4,5,6,7],\"y\":[767.746203241783,0.06516708255927867,2216.1892763878873,210.0,0.14883549175567604],\"type\":\"scatter\"},{\"x\":[1,2,3,4,5,6,7],\"y\":[658.7514946860365,0.2829113498203154,2336.1327122244356,211.0,0.14815884793279596],\"type\":\"scatter\"},{\"x\":[1,2,3,4,5,6,7],\"y\":[366.8553006386252,0.24873940126693336,1745.621571834963,192.0,0.20290757897277317],\"type\":\"scatter\"},{\"x\":[1,2,3,4,5,6,7],\"y\":[830.2002745168234,0.04396321871295905,2208.8483945608496,209.0,0.14855073244899986],\"type\":\"scatter\"},{\"x\":[1,2,3,4,5,6,7],\"y\":[613.7042033896422,0.16150754793260852,2199.5389444459042,230.0,0.19540669683974127],\"type\":\"scatter\"},{\"x\":[1,2,3,4,5,6,7],\"y\":[637.7169261412199,0.5019290656176864,995.2190862990362,192.0,0.09080202108275695],\"type\":\"scatter\"}],                        {\"template\":{\"data\":{\"histogram2dcontour\":[{\"type\":\"histogram2dcontour\",\"colorbar\":{\"outlinewidth\":0,\"ticks\":\"\"},\"colorscale\":[[0.0,\"#0d0887\"],[0.1111111111111111,\"#46039f\"],[0.2222222222222222,\"#7201a8\"],[0.3333333333333333,\"#9c179e\"],[0.4444444444444444,\"#bd3786\"],[0.5555555555555556,\"#d8576b\"],[0.6666666666666666,\"#ed7953\"],[0.7777777777777778,\"#fb9f3a\"],[0.8888888888888888,\"#fdca26\"],[1.0,\"#f0f921\"]]}],\"choropleth\":[{\"type\":\"choropleth\",\"colorbar\":{\"outlinewidth\":0,\"ticks\":\"\"}}],\"histogram2d\":[{\"type\":\"histogram2d\",\"colorbar\":{\"outlinewidth\":0,\"ticks\":\"\"},\"colorscale\":[[0.0,\"#0d0887\"],[0.1111111111111111,\"#46039f\"],[0.2222222222222222,\"#7201a8\"],[0.3333333333333333,\"#9c179e\"],[0.4444444444444444,\"#bd3786\"],[0.5555555555555556,\"#d8576b\"],[0.6666666666666666,\"#ed7953\"],[0.7777777777777778,\"#fb9f3a\"],[0.8888888888888888,\"#fdca26\"],[1.0,\"#f0f921\"]]}],\"heatmap\":[{\"type\":\"heatmap\",\"colorbar\":{\"outlinewidth\":0,\"ticks\":\"\"},\"colorscale\":[[0.0,\"#0d0887\"],[0.1111111111111111,\"#46039f\"],[0.2222222222222222,\"#7201a8\"],[0.3333333333333333,\"#9c179e\"],[0.4444444444444444,\"#bd3786\"],[0.5555555555555556,\"#d8576b\"],[0.6666666666666666,\"#ed7953\"],[0.7777777777777778,\"#fb9f3a\"],[0.8888888888888888,\"#fdca26\"],[1.0,\"#f0f921\"]]}],\"heatmapgl\":[{\"type\":\"heatmapgl\",\"colorbar\":{\"outlinewidth\":0,\"ticks\":\"\"},\"colorscale\":[[0.0,\"#0d0887\"],[0.1111111111111111,\"#46039f\"],[0.2222222222222222,\"#7201a8\"],[0.3333333333333333,\"#9c179e\"],[0.4444444444444444,\"#bd3786\"],[0.5555555555555556,\"#d8576b\"],[0.6666666666666666,\"#ed7953\"],[0.7777777777777778,\"#fb9f3a\"],[0.8888888888888888,\"#fdca26\"],[1.0,\"#f0f921\"]]}],\"contourcarpet\":[{\"type\":\"contourcarpet\",\"colorbar\":{\"outlinewidth\":0,\"ticks\":\"\"}}],\"contour\":[{\"type\":\"contour\",\"colorbar\":{\"outlinewidth\":0,\"ticks\":\"\"},\"colorscale\":[[0.0,\"#0d0887\"],[0.1111111111111111,\"#46039f\"],[0.2222222222222222,\"#7201a8\"],[0.3333333333333333,\"#9c179e\"],[0.4444444444444444,\"#bd3786\"],[0.5555555555555556,\"#d8576b\"],[0.6666666666666666,\"#ed7953\"],[0.7777777777777778,\"#fb9f3a\"],[0.8888888888888888,\"#fdca26\"],[1.0,\"#f0f921\"]]}],\"surface\":[{\"type\":\"surface\",\"colorbar\":{\"outlinewidth\":0,\"ticks\":\"\"},\"colorscale\":[[0.0,\"#0d0887\"],[0.1111111111111111,\"#46039f\"],[0.2222222222222222,\"#7201a8\"],[0.3333333333333333,\"#9c179e\"],[0.4444444444444444,\"#bd3786\"],[0.5555555555555556,\"#d8576b\"],[0.6666666666666666,\"#ed7953\"],[0.7777777777777778,\"#fb9f3a\"],[0.8888888888888888,\"#fdca26\"],[1.0,\"#f0f921\"]]}],\"mesh3d\":[{\"type\":\"mesh3d\",\"colorbar\":{\"outlinewidth\":0,\"ticks\":\"\"}}],\"scatter\":[{\"fillpattern\":{\"fillmode\":\"overlay\",\"size\":10,\"solidity\":0.2},\"type\":\"scatter\"}],\"parcoords\":[{\"type\":\"parcoords\",\"line\":{\"colorbar\":{\"outlinewidth\":0,\"ticks\":\"\"}}}],\"scatterpolargl\":[{\"type\":\"scatterpolargl\",\"marker\":{\"colorbar\":{\"outlinewidth\":0,\"ticks\":\"\"}}}],\"bar\":[{\"error_x\":{\"color\":\"#2a3f5f\"},\"error_y\":{\"color\":\"#2a3f5f\"},\"marker\":{\"line\":{\"color\":\"#E5ECF6\",\"width\":0.5},\"pattern\":{\"fillmode\":\"overlay\",\"size\":10,\"solidity\":0.2}},\"type\":\"bar\"}],\"scattergeo\":[{\"type\":\"scattergeo\",\"marker\":{\"colorbar\":{\"outlinewidth\":0,\"ticks\":\"\"}}}],\"scatterpolar\":[{\"type\":\"scatterpolar\",\"marker\":{\"colorbar\":{\"outlinewidth\":0,\"ticks\":\"\"}}}],\"histogram\":[{\"marker\":{\"pattern\":{\"fillmode\":\"overlay\",\"size\":10,\"solidity\":0.2}},\"type\":\"histogram\"}],\"scattergl\":[{\"type\":\"scattergl\",\"marker\":{\"colorbar\":{\"outlinewidth\":0,\"ticks\":\"\"}}}],\"scatter3d\":[{\"type\":\"scatter3d\",\"line\":{\"colorbar\":{\"outlinewidth\":0,\"ticks\":\"\"}},\"marker\":{\"colorbar\":{\"outlinewidth\":0,\"ticks\":\"\"}}}],\"scattermapbox\":[{\"type\":\"scattermapbox\",\"marker\":{\"colorbar\":{\"outlinewidth\":0,\"ticks\":\"\"}}}],\"scatterternary\":[{\"type\":\"scatterternary\",\"marker\":{\"colorbar\":{\"outlinewidth\":0,\"ticks\":\"\"}}}],\"scattercarpet\":[{\"type\":\"scattercarpet\",\"marker\":{\"colorbar\":{\"outlinewidth\":0,\"ticks\":\"\"}}}],\"carpet\":[{\"aaxis\":{\"endlinecolor\":\"#2a3f5f\",\"gridcolor\":\"white\",\"linecolor\":\"white\",\"minorgridcolor\":\"white\",\"startlinecolor\":\"#2a3f5f\"},\"baxis\":{\"endlinecolor\":\"#2a3f5f\",\"gridcolor\":\"white\",\"linecolor\":\"white\",\"minorgridcolor\":\"white\",\"startlinecolor\":\"#2a3f5f\"},\"type\":\"carpet\"}],\"table\":[{\"cells\":{\"fill\":{\"color\":\"#EBF0F8\"},\"line\":{\"color\":\"white\"}},\"header\":{\"fill\":{\"color\":\"#C8D4E3\"},\"line\":{\"color\":\"white\"}},\"type\":\"table\"}],\"barpolar\":[{\"marker\":{\"line\":{\"color\":\"#E5ECF6\",\"width\":0.5},\"pattern\":{\"fillmode\":\"overlay\",\"size\":10,\"solidity\":0.2}},\"type\":\"barpolar\"}],\"pie\":[{\"automargin\":true,\"type\":\"pie\"}]},\"layout\":{\"autotypenumbers\":\"strict\",\"colorway\":[\"#636efa\",\"#EF553B\",\"#00cc96\",\"#ab63fa\",\"#FFA15A\",\"#19d3f3\",\"#FF6692\",\"#B6E880\",\"#FF97FF\",\"#FECB52\"],\"font\":{\"color\":\"#2a3f5f\"},\"hovermode\":\"closest\",\"hoverlabel\":{\"align\":\"left\"},\"paper_bgcolor\":\"white\",\"plot_bgcolor\":\"#E5ECF6\",\"polar\":{\"bgcolor\":\"#E5ECF6\",\"angularaxis\":{\"gridcolor\":\"white\",\"linecolor\":\"white\",\"ticks\":\"\"},\"radialaxis\":{\"gridcolor\":\"white\",\"linecolor\":\"white\",\"ticks\":\"\"}},\"ternary\":{\"bgcolor\":\"#E5ECF6\",\"aaxis\":{\"gridcolor\":\"white\",\"linecolor\":\"white\",\"ticks\":\"\"},\"baxis\":{\"gridcolor\":\"white\",\"linecolor\":\"white\",\"ticks\":\"\"},\"caxis\":{\"gridcolor\":\"white\",\"linecolor\":\"white\",\"ticks\":\"\"}},\"coloraxis\":{\"colorbar\":{\"outlinewidth\":0,\"ticks\":\"\"}},\"colorscale\":{\"sequential\":[[0.0,\"#0d0887\"],[0.1111111111111111,\"#46039f\"],[0.2222222222222222,\"#7201a8\"],[0.3333333333333333,\"#9c179e\"],[0.4444444444444444,\"#bd3786\"],[0.5555555555555556,\"#d8576b\"],[0.6666666666666666,\"#ed7953\"],[0.7777777777777778,\"#fb9f3a\"],[0.8888888888888888,\"#fdca26\"],[1.0,\"#f0f921\"]],\"sequentialminus\":[[0.0,\"#0d0887\"],[0.1111111111111111,\"#46039f\"],[0.2222222222222222,\"#7201a8\"],[0.3333333333333333,\"#9c179e\"],[0.4444444444444444,\"#bd3786\"],[0.5555555555555556,\"#d8576b\"],[0.6666666666666666,\"#ed7953\"],[0.7777777777777778,\"#fb9f3a\"],[0.8888888888888888,\"#fdca26\"],[1.0,\"#f0f921\"]],\"diverging\":[[0,\"#8e0152\"],[0.1,\"#c51b7d\"],[0.2,\"#de77ae\"],[0.3,\"#f1b6da\"],[0.4,\"#fde0ef\"],[0.5,\"#f7f7f7\"],[0.6,\"#e6f5d0\"],[0.7,\"#b8e186\"],[0.8,\"#7fbc41\"],[0.9,\"#4d9221\"],[1,\"#276419\"]]},\"xaxis\":{\"gridcolor\":\"white\",\"linecolor\":\"white\",\"ticks\":\"\",\"title\":{\"standoff\":15},\"zerolinecolor\":\"white\",\"automargin\":true,\"zerolinewidth\":2},\"yaxis\":{\"gridcolor\":\"white\",\"linecolor\":\"white\",\"ticks\":\"\",\"title\":{\"standoff\":15},\"zerolinecolor\":\"white\",\"automargin\":true,\"zerolinewidth\":2},\"scene\":{\"xaxis\":{\"backgroundcolor\":\"#E5ECF6\",\"gridcolor\":\"white\",\"linecolor\":\"white\",\"showbackground\":true,\"ticks\":\"\",\"zerolinecolor\":\"white\",\"gridwidth\":2},\"yaxis\":{\"backgroundcolor\":\"#E5ECF6\",\"gridcolor\":\"white\",\"linecolor\":\"white\",\"showbackground\":true,\"ticks\":\"\",\"zerolinecolor\":\"white\",\"gridwidth\":2},\"zaxis\":{\"backgroundcolor\":\"#E5ECF6\",\"gridcolor\":\"white\",\"linecolor\":\"white\",\"showbackground\":true,\"ticks\":\"\",\"zerolinecolor\":\"white\",\"gridwidth\":2}},\"shapedefaults\":{\"line\":{\"color\":\"#2a3f5f\"}},\"annotationdefaults\":{\"arrowcolor\":\"#2a3f5f\",\"arrowhead\":0,\"arrowwidth\":1},\"geo\":{\"bgcolor\":\"white\",\"landcolor\":\"#E5ECF6\",\"subunitcolor\":\"white\",\"showland\":true,\"showlakes\":true,\"lakecolor\":\"white\"},\"title\":{\"x\":0.05},\"mapbox\":{\"style\":\"light\"}}}},                        {\"responsive\": true}                    ).then(function(){\n",
       "                            \n",
       "var gd = document.getElementById('b872875e-f8bd-42df-86eb-efb1d3a998c6');\n",
       "var x = new MutationObserver(function (mutations, observer) {{\n",
       "        var display = window.getComputedStyle(gd).display;\n",
       "        if (!display || display === 'none') {{\n",
       "            console.log([gd, 'removed!']);\n",
       "            Plotly.purge(gd);\n",
       "            observer.disconnect();\n",
       "        }}\n",
       "}});\n",
       "\n",
       "// Listen for the removal of the full notebook cells\n",
       "var notebookContainer = gd.closest('#notebook-container');\n",
       "if (notebookContainer) {{\n",
       "    x.observe(notebookContainer, {childList: true});\n",
       "}}\n",
       "\n",
       "// Listen for the clearing of the current output cell\n",
       "var outputEl = gd.closest('.output');\n",
       "if (outputEl) {{\n",
       "    x.observe(outputEl, {childList: true});\n",
       "}}\n",
       "\n",
       "                        })                };                });            </script>        </div>"
      ]
     },
     "metadata": {},
     "output_type": "display_data"
    },
    {
     "name": "stdout",
     "output_type": "stream",
     "text": [
      "[[4.48702114e+02 4.94877979e-01 1.22673863e+03 1.93000000e+02\n",
      "  1.97183959e-01]\n",
      " [9.87549622e+02 6.56260928e-02 2.04509109e+03 2.27000000e+02\n",
      "  2.00939594e-01]\n",
      " [6.48701925e+02 4.76790252e-01 2.05955853e+03 1.93000000e+02\n",
      "  1.43164774e-01]\n",
      " ...\n",
      " [8.30200275e+02 4.39632187e-02 2.20884839e+03 2.09000000e+02\n",
      "  1.48550732e-01]\n",
      " [6.13704203e+02 1.61507548e-01 2.19953894e+03 2.30000000e+02\n",
      "  1.95406697e-01]\n",
      " [6.37716926e+02 5.01929066e-01 9.95219086e+02 1.92000000e+02\n",
      "  9.08020211e-02]]\n"
     ]
    }
   ],
   "source": [
    "synthetic_data = ctgan.sample(255)\n",
    "fig_k = go.Figure()\n",
    "\n",
    "for line in range(len(synthetic_data)):\n",
    "    data = synthetic_data[line];\n",
    "    fig_k.add_trace(go.Scatter(x=feature_domain_7, y=data))\n",
    "    \n",
    "fig_k.show()\n",
    "    \n",
    "print(synthetic_data)"
   ]
  },
  {
   "cell_type": "code",
   "execution_count": 39,
   "id": "baee68c7",
   "metadata": {},
   "outputs": [
    {
     "name": "stdout",
     "output_type": "stream",
     "text": [
      "[[4.48700e+02 4.90000e-01 1.22673e+03 1.93000e+02 1.90000e-01]\n",
      " [9.87540e+02 6.00000e-02 2.04509e+03 2.27000e+02 2.00000e-01]\n",
      " [6.48700e+02 4.70000e-01 2.05955e+03 1.93000e+02 1.40000e-01]\n",
      " ...\n",
      " [8.30200e+02 4.00000e-02 2.20884e+03 2.09000e+02 1.40000e-01]\n",
      " [6.13700e+02 1.60000e-01 2.19953e+03 2.30000e+02 1.90000e-01]\n",
      " [6.37710e+02 5.00000e-01 9.95210e+02 1.92000e+02 9.00000e-02]]\n"
     ]
    }
   ],
   "source": [
    "import numpy as np\n",
    "def trunc(values, decs=0):\n",
    "    return np.trunc(values*10**decs)/(10**decs)\n",
    "\n",
    "print(trunc(synthetic_data, decs=2))"
   ]
  },
  {
   "cell_type": "code",
   "execution_count": null,
   "id": "f5eb3d85",
   "metadata": {},
   "outputs": [],
   "source": [
    "import json\n",
    "\n",
    "def write_list(a_list):\n",
    "    print(\"Started writing list data into a json file\")\n",
    "    with open(\"fake_Gyroid.json\", \"w\") as fp:\n",
    "        json.dump(a_list, fp)\n",
    "        print(\"Done writing JSON data into .json file\")\n",
    "\n",
    "# Read list to memory\n",
    "def read_list():\n",
    "    # for reading also binary mode is important\n",
    "    with open('fake_Gyroid.json', 'rb') as fp:\n",
    "        n_list = json.load(fp)\n",
    "        return n_list\n",
    "\n",
    "# assume you have the following list\n",
    "write_list(synthetic_data.tolist())\n",
    "r_names = read_list()\n",
    "print('List is', r_names)"
   ]
  },
  {
   "cell_type": "code",
   "execution_count": null,
   "id": "96e244d8",
   "metadata": {},
   "outputs": [],
   "source": [
    "def stripParams_5(y):\n",
    "    M = [];\n",
    "    P = [];\n",
    "    E = [];\n",
    "    T = [];\n",
    "    H = [];\n",
    "    \n",
    "    for curve in y:\n",
    "        M.append(curve[0]);\n",
    "        P.append(curve[1]);\n",
    "        E.append(curve[2]);\n",
    "        T.append(curve[3]);\n",
    "        H.append(curve[4]);\n",
    "        \n",
    "    return np.array(M), np.array(P), np.array(E), np.array(T), np.array(H)\n",
    "\n",
    "# Mod_N, Por_N, Engy_N, Temp_N, Height_N = stripParams_5(X_Cubic_Data_N);\n",
    "\n",
    "def stripParams_7(y):\n",
    "    M = [];\n",
    "    P = [];\n",
    "    E = [];\n",
    "    Spacing = [];\n",
    "    H = [];\n",
    "    Speed = [];\n",
    "    T = [];\n",
    "    \n",
    "    \n",
    "    for curve in y:\n",
    "        M.append(curve[0]);\n",
    "        P.append(curve[1]);\n",
    "        E.append(curve[2]);\n",
    "        Spacing.append(curve[3]);\n",
    "        H.append(curve[4]);\n",
    "        Speed.append(curve[5]);\n",
    "        T.append(curve[6]);\n",
    "        \n",
    "        \n",
    "    return np.array(M), np.array(P), np.array(E), np.array(Spacing), np.array(H), np.array(Speed), np.array(T), \n",
    "\n",
    "Mod_N, Por_N, Engy_N, Spacing_N, Height_N, Speed_N, Temp_N, = stripParams_7(X_Cubic_Data_ALL_N);"
   ]
  },
  {
   "cell_type": "code",
   "execution_count": null,
   "id": "b4d10b96",
   "metadata": {},
   "outputs": [],
   "source": [
    "# Curve_3D_Cluster = X_Cubic_Data_N[:, :3]"
   ]
  },
  {
   "cell_type": "code",
   "execution_count": null,
   "id": "79ae46f7",
   "metadata": {},
   "outputs": [],
   "source": [
    "Curve_3D_Cluster = X_Cubic_Data_ALL_N[:, :3]"
   ]
  },
  {
   "cell_type": "code",
   "execution_count": null,
   "id": "ccbf9f46",
   "metadata": {},
   "outputs": [],
   "source": [
    "Curve_2D_Cluster = np.concatenate((\n",
    "        X_Cubic[:, :1], \n",
    "        X_Cubic[:, 2:3],\n",
    "), axis=1);"
   ]
  },
  {
   "cell_type": "code",
   "execution_count": null,
   "id": "0ca7407c",
   "metadata": {},
   "outputs": [],
   "source": [
    "data = {\n",
    "    'Energy Absorption Capacity': X_Gyroid[:, 2:3].flatten(),\n",
    "    'Compression Modulus': X_Gyroid[:, :1].flatten(),\n",
    "}\n",
    "\n",
    "df = pd.DataFrame(data)"
   ]
  },
  {
   "cell_type": "code",
   "execution_count": null,
   "id": "a79b187f",
   "metadata": {},
   "outputs": [],
   "source": [
    "kmeans = KMeans(n_clusters=10)                   # Number of clusters == 3\n",
    "label = kmeans.fit_predict(df)                      # Getting the cluster labels"
   ]
  },
  {
   "cell_type": "code",
   "execution_count": null,
   "id": "e9b50f05",
   "metadata": {},
   "outputs": [],
   "source": [
    "# kmeans = KMeans(n_clusters=3)                   # Number of clusters == 3\n",
    "# kmeans = kmeans.fit(Curve_3D_Cluster)                          # Fitting the input data\n",
    "# label = kmeans.predict(Curve_3D_Cluster)                      # Getting the cluster labels\n",
    "# centroids = kmeans.cluster_centers_             # Centroid values"
   ]
  },
  {
   "cell_type": "code",
   "execution_count": null,
   "id": "f0797ab0",
   "metadata": {},
   "outputs": [],
   "source": [
    "#filter rows of original data\n",
    "df1 = df[label == 0]\n",
    "df2 = df[label == 1]\n",
    "df3 = df[label == 2]\n",
    "df4 = df[label == 3]\n",
    "df5 = df[label == 4]\n",
    "df6 = df[label == 5]\n",
    "df7 = df[label == 6]\n",
    "df8 = df[label == 7]\n",
    "df9 = df[label == 8]\n",
    "df10 = df[label == 9]\n",
    "\n",
    "dfs = {\n",
    "    \"df1\" : df1, \n",
    "    \"df2\": df2, \n",
    "    \"df3\" : df3, \n",
    "    \"df4\" : df4, \n",
    "    \"df5\" : df5,\n",
    "    \"df6\" : df6,\n",
    "    \"df7\" : df7,\n",
    "    \"df8\" : df8,\n",
    "    \"df9\" : df9,\n",
    "    \"df10\" : df10,\n",
    "}\n",
    "\n",
    "# plot the data\n",
    "fig = go.Figure()\n",
    "\n",
    "for i in dfs:\n",
    "    fig = fig.add_trace(go.Scatter(x = dfs[i]['Compression Modulus'],\n",
    "                                   y = dfs[i]['Energy Absorption Capacity'], \n",
    "                                   name = i))\n",
    "fig.show()\n"
   ]
  },
  {
   "cell_type": "code",
   "execution_count": null,
   "id": "bb277144",
   "metadata": {},
   "outputs": [],
   "source": [
    "print(Curve_3D_Cluster[x][:, 0].shape[0])\n",
    "print(Curve_3D_Cluster[y][:, 0].shape[0])\n",
    "print(Curve_3D_Cluster[z][:, 0].shape[0])\n",
    "\n",
    "CLUS = [Curve_3D_Cluster[x][:, 0].shape[0], Curve_3D_Cluster[y][:, 0].shape[0], Curve_3D_Cluster[z][:, 0].shape[0]]"
   ]
  },
  {
   "cell_type": "code",
   "execution_count": null,
   "id": "3bb25101",
   "metadata": {},
   "outputs": [],
   "source": [
    "RED = np.empty(CLUS[0])\n",
    "RED.fill(0)\n",
    "\n",
    "BLUE = np.empty(CLUS[1])\n",
    "BLUE.fill(1)\n",
    "\n",
    "YELLOW = np.empty(CLUS[2])\n",
    "YELLOW.fill(2)\n",
    "\n",
    "Name_Arr = np.concatenate((RED, BLUE, YELLOW), axis=0)\n",
    "print(Name_Arr)"
   ]
  },
  {
   "cell_type": "code",
   "execution_count": null,
   "id": "18b274a4",
   "metadata": {},
   "outputs": [],
   "source": [
    "A = np.concatenate((Curve_3D_Cluster[x][:, 0], Curve_3D_Cluster[y][:, 0], Curve_3D_Cluster[z][:, 0]), axis=0)\n",
    "B = np.concatenate((Curve_3D_Cluster[x][:, 1], Curve_3D_Cluster[y][:, 1], Curve_3D_Cluster[z][:, 1]), axis=0)\n",
    "C = np.concatenate((Curve_3D_Cluster[x][:, 2], Curve_3D_Cluster[y][:, 2], Curve_3D_Cluster[z][:, 2]), axis=0)"
   ]
  },
  {
   "cell_type": "code",
   "execution_count": null,
   "id": "7b5ae428",
   "metadata": {},
   "outputs": [],
   "source": [
    "# fig = px.scatter_3d(x=A, y=B, z=C, color=Name_Arr)\n",
    "# fig.show(renderer=\"browser\")"
   ]
  },
  {
   "cell_type": "code",
   "execution_count": null,
   "id": "de860a00",
   "metadata": {
    "scrolled": true
   },
   "outputs": [],
   "source": [
    "Curve_3D_Cluster = np.array(Curve_3D_Cluster)\n",
    "print(\"All index value is: \", np.where(Curve_3D_Cluster == Curve_3D_Cluster[z][6][0]))\n",
    "print()\n",
    "print(Curve_3D_Cluster[z][6])\n",
    "print(X_Cubic_Data_N[8])"
   ]
  },
  {
   "cell_type": "markdown",
   "id": "f9753c4a",
   "metadata": {},
   "source": [
    "### Label Data based on K-Means Centroids"
   ]
  },
  {
   "cell_type": "code",
   "execution_count": null,
   "id": "6387f996",
   "metadata": {},
   "outputs": [],
   "source": [
    "def replaceBasedOnKMeans(org, clustered, label):\n",
    "    data = [];\n",
    "    \n",
    "    for data_index in range(len(clustered)):\n",
    "        curve = clustered[data_index][0];\n",
    "        ind, discard = np.where(org == curve);\n",
    "    \n",
    "        temp = np.copy(org[ind][0]);\n",
    "#         temp = np.append(temp, label)\n",
    "        data.append(temp);\n",
    "    return np.array(data);\n",
    "\n",
    "# Cluster_1 = replaceBasedOnKMeans(X_Cubic_Data_N, Curve_3D_Cluster[x], \"A\");\n",
    "# Cluster_2 = replaceBasedOnKMeans(X_Cubic_Data_N, Curve_3D_Cluster[y], \"B\");\n",
    "# Cluster_3 = replaceBasedOnKMeans(X_Cubic_Data_N, Curve_3D_Cluster[z], \"C\");\n",
    "\n",
    "Cluster_1 = replaceBasedOnKMeans(X_Cubic_Data_ALL_N, Curve_3D_Cluster[x], \"A\");\n",
    "Cluster_2 = replaceBasedOnKMeans(X_Cubic_Data_ALL_N, Curve_3D_Cluster[y], \"B\");\n",
    "Cluster_3 = replaceBasedOnKMeans(X_Cubic_Data_ALL_N, Curve_3D_Cluster[z], \"C\");\n"
   ]
  },
  {
   "cell_type": "code",
   "execution_count": null,
   "id": "83f17c25",
   "metadata": {},
   "outputs": [],
   "source": [
    "# Prune the data\n",
    "Cluster_A = Cluster_1[:, 3:];\n",
    "Cluster_B = Cluster_2[:, 3:];\n",
    "Cluster_C = Cluster_3[:, 3:];\n",
    "\n",
    "cluster_X = np.concatenate((Cluster_A, Cluster_B, Cluster_C), axis=0);\n",
    "print(cluster_X);"
   ]
  },
  {
   "cell_type": "code",
   "execution_count": null,
   "id": "2ae5aec7",
   "metadata": {},
   "outputs": [],
   "source": [
    "def oneCategorical(y):\n",
    "    arr = [];\n",
    "    for data in y:\n",
    "        if (data == 0.0):\n",
    "            arr.append([0.0]);\n",
    "        elif (data == 1.0):\n",
    "            arr.append([1.0]);\n",
    "        elif (data == 2.0):\n",
    "            arr.append([2.0]);\n",
    "    \n",
    "    return np.array(arr);"
   ]
  },
  {
   "cell_type": "code",
   "execution_count": null,
   "id": "8fe80383",
   "metadata": {},
   "outputs": [],
   "source": [
    "# hot_encoded_curves = tf.keras.utils.to_categorical(Name_Arr, num_classes = 3);\n",
    "hot_encoded_curves = oneCategorical(Name_Arr);\n",
    "print(hot_encoded_curves)"
   ]
  },
  {
   "cell_type": "markdown",
   "id": "9a52f487",
   "metadata": {},
   "source": [
    "### Pairwise Data Structure"
   ]
  },
  {
   "cell_type": "code",
   "execution_count": null,
   "id": "21108fae",
   "metadata": {},
   "outputs": [],
   "source": [
    "X = [];\n",
    "\n",
    "for param_index in range(len(cluster_X)):\n",
    "    data = cluster_X[param_index]\n",
    "    category = hot_encoded_curves[param_index]\n",
    "    data = data.astype('float32')\n",
    "    category = category.astype('float32')\n",
    "    payload = [data, category]\n",
    "    X.append(payload);\n",
    "    \n",
    "# print(X)"
   ]
  },
  {
   "cell_type": "markdown",
   "id": "5f06f22a",
   "metadata": {},
   "source": [
    "### Tensorflow settings"
   ]
  },
  {
   "cell_type": "code",
   "execution_count": null,
   "id": "52339dc7",
   "metadata": {},
   "outputs": [],
   "source": [
    "tf.executing_eagerly()"
   ]
  },
  {
   "cell_type": "markdown",
   "id": "7e0edcc4",
   "metadata": {},
   "source": [
    "### Discriminator Data Sampling Generator"
   ]
  },
  {
   "cell_type": "code",
   "execution_count": null,
   "id": "3414f8b6",
   "metadata": {},
   "outputs": [],
   "source": [
    "def sample_real_samples(dataset, n_samples):\n",
    "    \"\"\"\n",
    "    Parameters\n",
    "    --------------\n",
    "    dataset: dataset with the real data\n",
    "    cond_data: the data that is conditioned with the GAN\n",
    "    n_samples: amount of real images to sample from\n",
    "    \n",
    "    Returns\n",
    "    --------------\n",
    "    X: samples of n images in a list\n",
    "    Y: labels of (1's) for true images (Binary Classification)\n",
    "    \"\"\"\n",
    "    params = [];\n",
    "    labels = [];\n",
    "    \n",
    "    for sample in range(n_samples):\n",
    "        randVal = random.choice(dataset)\n",
    "        params.append(randVal[0].astype('float32'));\n",
    "        labels.append(randVal[1].astype('float32'));\n",
    "    y = np.ones((n_samples, 1));\n",
    "    \n",
    "    return [params, labels], y\n",
    "\n",
    "[P, O], B = sample_real_samples(X, 10)\n",
    "print(O)"
   ]
  },
  {
   "cell_type": "markdown",
   "id": "f271f703",
   "metadata": {},
   "source": [
    "### Custom Loss Functions"
   ]
  },
  {
   "cell_type": "markdown",
   "id": "f2f6b247",
   "metadata": {},
   "source": [
    "BCE_Regularized:\n",
    "$$\n",
    "L_{BCE} = -\\dfrac{1}{n} \\sum_{i=1}^{n} y_{i} \\cdot \\log \\hat{y}_i + (1 - y_i) \\cdot \\log (1-\\hat{y}_i) + \\left[ \\lambda \\cdot I \\right]\n",
    "$$ "
   ]
  },
  {
   "cell_type": "code",
   "execution_count": null,
   "id": "74ed82e6",
   "metadata": {},
   "outputs": [],
   "source": [
    "from tensorflow.keras import backend as K"
   ]
  },
  {
   "cell_type": "code",
   "execution_count": null,
   "id": "d8707dc5",
   "metadata": {},
   "outputs": [],
   "source": [
    "def BCE_Regularized(y_true, y_pred, lambda_factor):\n",
    "    bce = tf.keras.losses.BinaryCrossentropy();\n",
    "    bce_loss = bce(y_true, y_pred)\n",
    "    constraint = lambda_factor * (bce_loss)\n",
    "    return bce_loss - constraint;"
   ]
  },
  {
   "cell_type": "markdown",
   "id": "2cc37a4c",
   "metadata": {},
   "source": [
    "### Discriminator"
   ]
  },
  {
   "cell_type": "markdown",
   "id": "464a21be",
   "metadata": {},
   "source": [
    "Remember that the Objective Function this time is:\n",
    "\n",
    "$$\n",
    "\\begin{equation}\n",
    "\\min_{G}\\max_{D}V(D,G) = \\mathbb{E}_{x \\text{-} p_{data}(x)}[\\log D(x | y)]\n",
    "+ \\mathbb{E}_{z \\text{-} p_{z}(z)} [\\log (1 - D(G(z | y))]\n",
    "\\end{equation}\n",
    "$$\n",
    "\n",
    "Such that $y$ is a auxillary data. In this case, its the infill type (One hot encoded) which helps better learn the distribution."
   ]
  },
  {
   "cell_type": "code",
   "execution_count": null,
   "id": "69b0f3f0",
   "metadata": {},
   "outputs": [],
   "source": [
    "def conditionalDiscriminator(in_shape=4, num_classes=3):\n",
    "    \"\"\"\n",
    "    \"\"\"\n",
    "    in_label = tf.keras.Input(shape=(1,))\n",
    "    embed = tf.keras.layers.Embedding(num_classes, 100)(in_label) # Keep the embedding layers low...\n",
    "    cond_y = tf.keras.layers.Dense(4)(embed)\n",
    "    cond_y = tf.keras.layers.Reshape((4,))(cond_y)\n",
    "    \n",
    "    in_parameters = tf.keras.Input(shape=in_shape)\n",
    "    merge = tf.keras.layers.Concatenate()([in_parameters, cond_y])\n",
    "    x = tf.keras.layers.Dense(100, input_dim=in_shape)(merge)\n",
    "    x = tf.keras.layers.LeakyReLU(alpha=0.2)(x)\n",
    "    x = tf.keras.layers.Dense(100)(x)\n",
    "    x = tf.keras.layers.LeakyReLU(alpha=0.2)(x)\n",
    "    x = tf.keras.layers.Dense(50)(x)\n",
    "    x = tf.keras.layers.LeakyReLU(alpha=0.2)(x)\n",
    "    x = tf.keras.layers.Dense(32)(x)\n",
    "    x = tf.keras.layers.LeakyReLU(alpha=0.2)(x)\n",
    "    x = tf.keras.layers.Dense(16)(x)\n",
    "    x = tf.keras.layers.LeakyReLU(alpha=0.2)(x)\n",
    "    out = tf.keras.layers.Dense(1, activation='sigmoid')(x) # Output layer\n",
    "    \n",
    "    model = tf.keras.Model([in_parameters, in_label], out)\n",
    "    \n",
    "    opt = Adam(learning_rate = 0.0002)\n",
    "    model.compile(\n",
    "        loss='binary_crossentropy', \n",
    "        optimizer = opt, \n",
    "        metrics=['accuracy']\n",
    "    );\n",
    "    \n",
    "    return model"
   ]
  },
  {
   "cell_type": "markdown",
   "id": "e7f436c3",
   "metadata": {},
   "source": [
    "### Generator"
   ]
  },
  {
   "cell_type": "code",
   "execution_count": null,
   "id": "621af045",
   "metadata": {},
   "outputs": [],
   "source": [
    "def conditionalGenerator(in_shape=4, num_classes=3):\n",
    "    \"\"\"\n",
    "    \"\"\"\n",
    "    in_label = tf.keras.Input(shape=(1,))\n",
    "    embed = tf.keras.layers.Embedding(num_classes, 100)(in_label) # Keep the embedding layers low...\n",
    "    cond_y = tf.keras.layers.Dense(4)(embed)\n",
    "    cond_y = tf.keras.layers.Reshape((4,))(cond_y)\n",
    "    \n",
    "    in_noise = tf.keras.Input(shape=in_shape)\n",
    "    merge = tf.keras.layers.Concatenate()([in_noise, cond_y])\n",
    "    x = tf.keras.layers.Dense(100)(merge)\n",
    "    x = tf.keras.layers.LeakyReLU(alpha=0.2)(x)\n",
    "    x = tf.keras.layers.Dense(100)(x)\n",
    "    x = tf.keras.layers.LeakyReLU(alpha=0.2)(x)\n",
    "    x = tf.keras.layers.Dense(32)(x)\n",
    "    x = tf.keras.layers.LeakyReLU(alpha=0.2)(x)\n",
    "    x = tf.keras.layers.Dense(16)(x)\n",
    "    x = tf.keras.layers.LeakyReLU(alpha=0.2)(x)\n",
    "    out = tf.keras.layers.Dense(4, input_dim=in_shape, activation='sigmoid')(x)\n",
    "    \n",
    "    model = tf.keras.Model([in_noise, in_label], out)\n",
    "    \n",
    "    return model;"
   ]
  },
  {
   "cell_type": "markdown",
   "id": "9c2ee477",
   "metadata": {},
   "source": [
    "### Summary of Models"
   ]
  },
  {
   "cell_type": "code",
   "execution_count": null,
   "id": "0a237efa",
   "metadata": {},
   "outputs": [],
   "source": [
    "discriminator = conditionalDiscriminator();\n",
    "generator = conditionalGenerator(4);"
   ]
  },
  {
   "cell_type": "code",
   "execution_count": null,
   "id": "ee03a0bb",
   "metadata": {},
   "outputs": [],
   "source": [
    "discriminator.summary();\n",
    "generator.summary();"
   ]
  },
  {
   "cell_type": "markdown",
   "id": "7f84b695",
   "metadata": {},
   "source": [
    "### Latent Space"
   ]
  },
  {
   "cell_type": "code",
   "execution_count": null,
   "id": "9e5ad9d9",
   "metadata": {},
   "outputs": [],
   "source": [
    "def latentDimensionalGenerator(latent_dimensions, n_samples, randomGaussian = False):\n",
    "    data = [];\n",
    "    y_cond_data = [];\n",
    "    \n",
    "    for sample in range(n_samples):\n",
    "        x_input_0 = np.random.randn(latent_dimensions); # Points sampled from a normalized distribution.\n",
    "        data.append(x_input_0);\n",
    "        y_cond_data.append([float(random.randint(0, 2))])\n",
    "        \n",
    "    return np.array(data), np.array(y_cond_data)"
   ]
  },
  {
   "cell_type": "code",
   "execution_count": null,
   "id": "b0488157",
   "metadata": {},
   "outputs": [],
   "source": [
    "# Generator production\n",
    "def generate_samples(g_model, latent_dim, n_samples):\n",
    "    x_input, y_cond = latentDimensionalGenerator(latent_dim, n_samples)  # generate points in a latent space\n",
    "    X = g_model.predict([x_input, y_cond])\n",
    "    y = np.zeros((n_samples, 1))  # create 'fake' class labels (0)\n",
    "    return [X, y_cond], y"
   ]
  },
  {
   "cell_type": "markdown",
   "id": "9e0d613a",
   "metadata": {},
   "source": [
    "### Visualizing the latent dimensional space in 2D"
   ]
  },
  {
   "cell_type": "code",
   "execution_count": null,
   "id": "4e039673",
   "metadata": {},
   "outputs": [],
   "source": [
    "fake_X, fake_y = generate_samples(generator, 4, 10);\n",
    "print(len(fake_X))"
   ]
  },
  {
   "cell_type": "code",
   "execution_count": null,
   "id": "8055e9df",
   "metadata": {},
   "outputs": [],
   "source": [
    "# for curve in fake_X[0]:\n",
    "#     fig = go.Figure();\n",
    "#     fig.add_trace(go.Scatter(x=feature_domain_2, y=curve));\n",
    "#     fig.show();"
   ]
  },
  {
   "cell_type": "markdown",
   "id": "d0b7ee0c",
   "metadata": {},
   "source": [
    "### GAN: Putting it together"
   ]
  },
  {
   "cell_type": "code",
   "execution_count": null,
   "id": "37231eca",
   "metadata": {},
   "outputs": [],
   "source": [
    "def define_gan(generator, discriminator):\n",
    "    discriminator.trainable = False # We set the discriminator as not trainable so the generator updates\n",
    "    \n",
    "    lambda_factor = tf.keras.Input(shape=(3,), name='regularization')\n",
    "    z, y_label = generator.input\n",
    "    gen_output = generator.output\n",
    "    gan_output = discriminator([gen_output, y_label])\n",
    "    \n",
    "    model = tf.keras.Model([z, y_label, lambda_factor], gan_output)\n",
    "    \n",
    "    opt = Adam(learning_rate = 0.0001)\n",
    "#     opt = tf.keras.optimizers.RMSprop(learning_rate = 0.0001)\n",
    "#     model.add_loss(BCE_Regularized(y_label, gan_output, lambda_factor[0]))\n",
    "#     model.compile(loss=None, optimizer=opt)\n",
    "    model.compile(loss='binary_crossentropy', optimizer=opt)\n",
    "    return model"
   ]
  },
  {
   "cell_type": "markdown",
   "id": "6ecc3af2",
   "metadata": {},
   "source": [
    "# Evaluation Metrics"
   ]
  },
  {
   "cell_type": "markdown",
   "id": "00d8f497",
   "metadata": {},
   "source": [
    "### Utility"
   ]
  },
  {
   "cell_type": "code",
   "execution_count": null,
   "id": "57c54fe1",
   "metadata": {},
   "outputs": [],
   "source": [
    "def parameterStrip_4(y):\n",
    "    y_t = y.T;\n",
    "    \n",
    "    Height = y_t[0];\n",
    "    Spacing = y_t[1];\n",
    "    Speed = y_t[2];\n",
    "    Temp = y_t[3];\n",
    "    \n",
    "    return Height, Spacing, Speed, Temp "
   ]
  },
  {
   "cell_type": "markdown",
   "id": "dc007b16",
   "metadata": {},
   "source": [
    "### Regularization Techniques"
   ]
  },
  {
   "cell_type": "code",
   "execution_count": null,
   "id": "d9ca0bbd",
   "metadata": {},
   "outputs": [],
   "source": [
    "from sklearn.neighbors import KernelDensity\n",
    "from scipy.integrate import quad"
   ]
  },
  {
   "cell_type": "code",
   "execution_count": null,
   "id": "b090b268",
   "metadata": {},
   "outputs": [],
   "source": [
    "def integrand(x, kde):\n",
    "    return np.exp(kde.score_samples(np.array([x]).reshape(-1, 1)))\n",
    "\n",
    "def analyzeLiklihood(g_model, latent_dim, n_samples):\n",
    "    [X_fake, labels], y_fake = generate_samples(g_model, latent_dim, n_samples)\n",
    "    Height_fake, Spacing_fake, Speed_fake, Temp_fake = parameterStrip_4(X_fake)\n",
    "    \n",
    "    height_std_sample = np.std(Height_fake, ddof=1)\n",
    "    spacing_std_sample = np.std(Spacing_fake, ddof=1)\n",
    "    speed_std_sample = np.std(Speed_fake, ddof=1)\n",
    "    temp_std_sample = np.std(Temp_fake, ddof=1)\n",
    "    \n",
    "    height_mean = np.mean(Height_fake);\n",
    "    space_mean = np.mean(Spacing_fake);\n",
    "    speed_mean = np.mean(Speed_fake);\n",
    "    temp_mean = np.mean(Temp_fake);\n",
    "    \n",
    "    Height_fake = np.reshape(Height_fake, (n_samples, 1));\n",
    "    Spacing_fake = np.reshape(Spacing_fake, (n_samples, 1));\n",
    "    Speed_fake = np.reshape(Speed_fake, (n_samples, 1));\n",
    "    Temp_fake = np.reshape(Temp_fake, (n_samples, 1));\n",
    "    \n",
    "    \n",
    "    # Kernel Density Estimation\n",
    "    kde_HEI = KernelDensity(kernel='gaussian', bandwidth=0.01)\n",
    "    kde_SPA = KernelDensity(kernel='gaussian', bandwidth=0.01)\n",
    "    kde_SPE = KernelDensity(kernel='gaussian', bandwidth=0.01)\n",
    "    kde_TEM = KernelDensity(kernel='gaussian', bandwidth=0.01)\n",
    "    \n",
    "    # Fit the estimator to the data\n",
    "    kde_HEI.fit(Height_fake)\n",
    "    kde_SPA.fit(Spacing_fake)\n",
    "    kde_SPE.fit(Speed_fake) \n",
    "    kde_TEM.fit(Temp_fake)\n",
    "    \n",
    "    # Evaluate the PDF on a grid of points\n",
    "    x_grid = np.linspace(0, 1, 1000)[:, np.newaxis]\n",
    "    log_dens_HEI = kde_HEI.score_samples(x_grid)\n",
    "    log_dens_SPA = kde_SPA.score_samples(x_grid)\n",
    "    log_dens_SPE = kde_SPE.score_samples(x_grid)\n",
    "    log_dens_TEM = kde_TEM.score_samples(x_grid)\n",
    "    \n",
    "    result_hei, error_hei = quad(integrand, 0.14, np.inf, args=(kde_HEI,))\n",
    "    result_spe, error_spe = quad(integrand, 0.60, np.inf, args=(kde_SPE,))\n",
    "    \n",
    "    print(\" ========== PROBABILITIES ==========\")\n",
    "    print(\"[HEIGHT] Integrated value below (0.14):\", result_hei)\n",
    "    print(\"[HEIGHT] Error estimate below (0.14):\", error_hei)\n",
    "    print()\n",
    "    print(\"[SPEED] Integrated value below (0.60):\", result_spe)\n",
    "    print(\"[SPEED] Error estimate below (0.60):\", error_spe)\n",
    "\n",
    "    plt.axvline(x=height_mean, color='r')\n",
    "#     plt.axvline(x=space_mean, color='b')\n",
    "    plt.axvline(x=speed_mean, color='g')\n",
    "#     plt.axvline(x=temp_mean, color='m')\n",
    "    \n",
    "    plt.plot(x_grid, np.exp(log_dens_HEI), 'r')\n",
    "#     plt.plot(x_grid, np.exp(log_dens_SPA), 'b')\n",
    "    plt.plot(x_grid, np.exp(log_dens_SPE), 'g')\n",
    "#     plt.plot(x_grid, np.exp(log_dens_TEM), 'm')\n",
    "    plt.show()\n",
    "    \n",
    "    # Then choose the top (k) error parameter\n",
    "    res = np.max([result_hei, result_spe]);\n",
    "    \n",
    "    if (res < 0.001):\n",
    "        res = 0;\n",
    "    elif (res > 0.80):\n",
    "        res = 0.5;\n",
    "  \n",
    "    print(\"Calculated Lambda value:\", res);\n",
    "    return res\n",
    "    \n",
    "    "
   ]
  },
  {
   "cell_type": "code",
   "execution_count": null,
   "id": "b45aa2b8",
   "metadata": {},
   "outputs": [],
   "source": [
    "    "
   ]
  },
  {
   "cell_type": "code",
   "execution_count": null,
   "id": "dea5eb8a",
   "metadata": {},
   "outputs": [],
   "source": []
  },
  {
   "cell_type": "markdown",
   "id": "77276083",
   "metadata": {},
   "source": [
    "### Diagnostics"
   ]
  },
  {
   "cell_type": "code",
   "execution_count": null,
   "id": "50548296",
   "metadata": {},
   "outputs": [],
   "source": [
    "def summarize_performance(epoch, g_model, d_model, dataset, latent_dim, n_samples, save_path=\"\"):\n",
    "    # Real Images based on discriminator\n",
    "    [X_real, real_labels], y_real = sample_real_samples(dataset, n_samples)\n",
    "    _, acc_real = d_model.evaluate([tf.stack(X_real), tf.stack(real_labels)], y_real, verbose=0)\n",
    "    \n",
    "    # Fake Images based on discriminator\n",
    "    [X_fake, labels], y_fake = generate_samples(g_model, latent_dim, n_samples)\n",
    "    _, acc_fake = d_model.evaluate([tf.stack(X_fake), tf.stack(labels)], y_fake, verbose=0)\n",
    "    \n",
    "    print(\"============== CURVE GENERATION ON EPOCH\", epoch,\"==============\");\n",
    "    \n",
    "    for curve in X_fake:\n",
    "        plt.plot(feature_domain_4, curve)\n",
    "    plt.axhline(y = 0.6, color='r')\n",
    "    \n",
    "    if (save_path != \"\"):\n",
    "        plt.title(\"Training in epoch: \" + str(epoch))\n",
    "        plt.savefig(os.path.join(save_path, str(epoch) + '.png'));\n",
    "        \n",
    "    plt.show()\n",
    "    \n",
    "    # summarize discriminator performance\n",
    "    print('>Accuracy real: %.0f%%, fake: %.0f%%' % (acc_real*100, acc_fake*100));"
   ]
  },
  {
   "cell_type": "markdown",
   "id": "0e93163e",
   "metadata": {},
   "source": [
    "# GAN Training"
   ]
  },
  {
   "cell_type": "code",
   "execution_count": null,
   "id": "c35e8c3c",
   "metadata": {},
   "outputs": [],
   "source": [
    "# train the generator and discriminator\n",
    "def train_gan(g_model, d_model, gan_model, training_data, latent_dim, n_epochs, n_batch, save_path=\"\"):\n",
    "    d1Loss = [];\n",
    "    d2Loss = [];\n",
    "    gLoss = [];\n",
    "    \n",
    "    lambda_f = np.array([0, -1, -1]).astype('float32');\n",
    "    \n",
    "    half_batch = int(n_batch / 2);\n",
    "    \n",
    "    for i in range(n_epochs):                \n",
    "        # Real Image Discriminator Training\n",
    "        [X_real, real_labels], y_real = sample_real_samples(training_data, half_batch) # Note X_Real is [data, labels]\n",
    "        d_loss1, _ = d_model.train_on_batch([tf.stack(X_real), tf.stack(real_labels)], y_real) # Training on real\n",
    "\n",
    "        # Fake Image Discriminator Training\n",
    "        [X_fake, labels], y_fake = generate_samples(g_model, latent_dim, half_batch)\n",
    "        d_loss2, _ = d_model.train_on_batch([tf.stack(X_fake), tf.stack(labels)], y_fake) # Training on fakes\n",
    "\n",
    "        # Create a latent space and inverted labels\n",
    "        noise_z, labels = latentDimensionalGenerator(latent_dim, n_batch) # Latent space generation\n",
    "        y_gan = np.ones((n_batch, 1)) # Pretend that that they are all real.\n",
    "        \n",
    "        # The more the discrimintor selects (1), the better the generator is doing. (y_true = [1, 1, 1...])\n",
    "\n",
    "        # Update the generator via the discriminator's error\n",
    "        g_loss = gan_model.train_on_batch([tf.stack(noise_z), tf.stack(labels), lambda_f], y_gan)\n",
    "        \n",
    "        ######### OUTPUT BASED FUNCTIONS #########\n",
    "        \n",
    "        # Analyze Likelihood\n",
    "        lambda_f[0] = analyzeLiklihood(g_model, 4, 255)\n",
    "        print(\"Lambda Regularizer:\", lambda_f)\n",
    "\n",
    "        # summarize loss on this batch\n",
    "        print('>%d, d1=%.3f, d2=%.3f g=%.3f' % (i+1, d_loss1, d_loss2, g_loss))\n",
    "        summarize_performance(i, g_model, d_model, training_data, latent_dim, 100, save_path)\n",
    "        \n",
    "        d1Loss.append(d_loss1);\n",
    "        d2Loss.append(d_loss2);\n",
    "        gLoss.append(g_loss);\n",
    "        \n",
    "    return d1Loss, d2Loss, gLoss;"
   ]
  },
  {
   "cell_type": "code",
   "execution_count": null,
   "id": "390c053e",
   "metadata": {},
   "outputs": [],
   "source": [
    "latent_dim = 4;\n",
    "gan_model = define_gan(generator, discriminator);\n",
    "# gan_model.summary()"
   ]
  },
  {
   "cell_type": "code",
   "execution_count": null,
   "id": "9c15795a",
   "metadata": {},
   "outputs": [],
   "source": [
    "n_epochs = 1000;\n",
    "\n",
    "#Training\n",
    "d1, d2, gloss = train_gan(\n",
    "    generator, \n",
    "    discriminator, \n",
    "    gan_model, \n",
    "    X, \n",
    "    latent_dim, \n",
    "    n_epochs, # n_epochs\n",
    "    3,  # batch size\n",
    "#     save_path = image_save_path\n",
    ");"
   ]
  },
  {
   "cell_type": "markdown",
   "id": "07cf7d88",
   "metadata": {},
   "source": [
    "# Loss Curves"
   ]
  },
  {
   "cell_type": "code",
   "execution_count": null,
   "id": "ae8720ac",
   "metadata": {},
   "outputs": [],
   "source": []
  },
  {
   "cell_type": "markdown",
   "id": "a028ef15",
   "metadata": {},
   "source": [
    "# Prediction"
   ]
  },
  {
   "cell_type": "code",
   "execution_count": null,
   "id": "c46448cc",
   "metadata": {},
   "outputs": [],
   "source": [
    "[X_fake, labels], y_fake = generate_samples(generator, 4, 100)\n",
    "\n",
    "for data in X_fake:\n",
    "    data = data * np.max(X_Cubic_Data);\n",
    "    print(\"[\", (data[1] / 100), (data[1] / 1000), (data[2] / 10), (data[3]), \"]\")"
   ]
  },
  {
   "cell_type": "code",
   "execution_count": null,
   "id": "43931822",
   "metadata": {},
   "outputs": [],
   "source": [
    "import numpy as np\n",
    "from sklearn.neighbors import KernelDensity\n",
    "\n",
    "# Generate a random dataset\n",
    "rng = np.random.RandomState(10)\n",
    "X = rng.randn(100)\n",
    "X = np.reshape(X, (100, 1))\n",
    "\n",
    "print(X)\n",
    "\n",
    "# Instantiate a kernel density estimator\n",
    "kde = KernelDensity(kernel='gaussian', bandwidth=0.5)\n",
    "\n",
    "# Fit the estimator to the data\n",
    "kde.fit(X)\n",
    "\n",
    "# Evaluate the PDF on a grid of points\n",
    "x_grid = np.linspace(-5, 5, 1000)[:, np.newaxis]\n",
    "log_dens = kde.score_samples(x_grid)\n",
    "\n",
    "# Plot the estimated PDF\n",
    "plt.plot(x_grid, np.exp(log_dens))\n",
    "plt.show()\n"
   ]
  },
  {
   "cell_type": "code",
   "execution_count": null,
   "id": "9591de17",
   "metadata": {},
   "outputs": [],
   "source": []
  },
  {
   "cell_type": "code",
   "execution_count": null,
   "id": "5414ef88",
   "metadata": {},
   "outputs": [],
   "source": []
  },
  {
   "cell_type": "code",
   "execution_count": null,
   "id": "e31e3728",
   "metadata": {},
   "outputs": [],
   "source": []
  },
  {
   "cell_type": "code",
   "execution_count": null,
   "id": "b9e33c7b",
   "metadata": {},
   "outputs": [],
   "source": []
  }
 ],
 "metadata": {
  "kernelspec": {
   "display_name": "Python 3 (ipykernel)",
   "language": "python",
   "name": "python3"
  },
  "language_info": {
   "codemirror_mode": {
    "name": "ipython",
    "version": 3
   },
   "file_extension": ".py",
   "mimetype": "text/x-python",
   "name": "python",
   "nbconvert_exporter": "python",
   "pygments_lexer": "ipython3",
   "version": "3.9.12"
  }
 },
 "nbformat": 4,
 "nbformat_minor": 5
}
