{
 "cells": [
  {
   "cell_type": "code",
   "execution_count": null,
   "id": "fce93823",
   "metadata": {},
   "outputs": [],
   "source": [
    "import os\n",
    "import cv2\n",
    "import glob\n",
    "import shutil\n",
    "\n",
    "import pandas as pd\n",
    "import pathlib\n",
    "import numpy as np\n",
    "import nibabel as nib\n",
    "import matplotlib.pyplot as plt\n",
    "from PIL import Image as ImagePIL\n",
    "\n",
    "from sklearn.model_selection import train_test_split\n",
    "\n",
    "# Tensorflow\n",
    "import tensorflow as tf\n",
    "from tensorflow.keras.models import Sequential\n",
    "\n",
    "# Custom Funcs\n",
    "from Unpack_Scaffold_Data import readAndOutputDataset, curveVisualization"
   ]
  },
  {
   "cell_type": "markdown",
   "id": "d522f799",
   "metadata": {},
   "source": [
    "# Data Read Utility"
   ]
  },
  {
   "cell_type": "code",
   "execution_count": null,
   "id": "27635f2b",
   "metadata": {},
   "outputs": [],
   "source": [
    "curve_path = \"/Users/zacharyg/Documents/GitHub/fundemental-neural-nets/GANS/Scaffold_GAN/scaffold_dataset_WU_LAB/Prints\"\n",
    "modulus_path = \"/Users/zacharyg/Documents/GitHub/fundemental-neural-nets/GANS/Scaffold_GAN/scaffold_dataset_WU_LAB/Prints/modulus_data_types.csv\"\n"
   ]
  },
  {
   "cell_type": "code",
   "execution_count": null,
   "id": "05cca468",
   "metadata": {},
   "outputs": [],
   "source": [
    "X, y, y_df, file_order = readAndOutputDataset(curve_path, modulus_path, reverse=True);"
   ]
  },
  {
   "cell_type": "code",
   "execution_count": null,
   "id": "5dd48339",
   "metadata": {},
   "outputs": [],
   "source": [
    "# Sanity Check\n",
    "print(\"X SHAPE:\", X.shape);\n",
    "print(\"y SHAPE:\", y.shape);\n",
    "print();\n",
    "\n",
    "\n",
    "# Visualization\n",
    "curveVisualization(X, y, file_order);"
   ]
  },
  {
   "cell_type": "markdown",
   "id": "dbd2ab48",
   "metadata": {},
   "source": [
    "# Utility"
   ]
  },
  {
   "cell_type": "code",
   "execution_count": null,
   "id": "624a2e5a",
   "metadata": {},
   "outputs": [],
   "source": [
    "def transposeStressData(X_Data):\n",
    "    X = [];\n",
    "    \n",
    "    for data in X_Data:\n",
    "        X.append(data.T);\n",
    "        \n",
    "    return np.array(X);\n",
    "\n",
    "def normalizeStressStrain(x):\n",
    "    for curve_index in range(len(x)):\n",
    "        curve = x[curve_index];\n",
    "        \n",
    "        max_stress_val = np.max(curve[0]);\n",
    "        max_strain_val = np.max(curve[1]);\n",
    "        \n",
    "        curve[0] = curve[0] / max_stress_val;\n",
    "        curve[1] = curve[1] / max_strain_val;\n",
    "        \n",
    "    return x;\n",
    "\n",
    "def normalize(x):\n",
    "    \"\"\"\n",
    "    Normalize a list of sample image data in the range of 0 to 1\n",
    "    \n",
    "    Parameters\n",
    "    -----------------\n",
    "    x: Array of Homogenous (RGB) values of input data \n",
    "    \n",
    "    Returns\n",
    "    -----------------\n",
    "    new_imgs: (numpy integer array) Numpy array of normalized data\n",
    "    \"\"\"\n",
    "    return np.array((x - np.min(x)) / (np.max(x) - np.min(x)))\n",
    "\n",
    "def stringtoCategorical(y):    \n",
    "    data = [];\n",
    "    \n",
    "    for type_index in range(len(y)):\n",
    "        wrd = y[type_index];\n",
    "        encoding = 0.0;\n",
    "        \n",
    "        if (wrd == \"Cubic\"):\n",
    "            encoding = 1.0;\n",
    "        elif (wrd == \"Gyroid\"):\n",
    "            encoding = 2.0;\n",
    "            \n",
    "        data.append([encoding]);\n",
    "        \n",
    "    return np.array(data);"
   ]
  },
  {
   "cell_type": "markdown",
   "id": "ff8f6711",
   "metadata": {},
   "source": [
    "# 3D Processing Parameter Stripping"
   ]
  },
  {
   "cell_type": "code",
   "execution_count": null,
   "id": "55e71441",
   "metadata": {},
   "outputs": [],
   "source": [
    "def parameterStrip(y):\n",
    "    y_t = y.T;\n",
    "    \n",
    "    Index = y_t[0];\n",
    "    Modulus = y_t[1];\n",
    "    Spacing = y_t[2];\n",
    "    Infill = y_t[3];\n",
    "    Height = y_t[4];\n",
    "    Speed = y_t[5];\n",
    "    Temp = y_t[6];\n",
    "    Mass = y_t[7];\n",
    "    Porosity = y_t[8];\n",
    "    Type = y_t[9];\n",
    "    return Index, Modulus, Spacing, Infill, Height, Speed, Temp, Mass, Porosity, Type\n",
    "\n",
    "Index, Modulus, Spacing, Infill, Height, Speed, Temp, Mass, Porosity, Type = parameterStrip(y);\n"
   ]
  },
  {
   "cell_type": "markdown",
   "id": "e979ca05",
   "metadata": {},
   "source": [
    "# Stress-Strain preprocessing"
   ]
  },
  {
   "cell_type": "code",
   "execution_count": null,
   "id": "6cc613a2",
   "metadata": {},
   "outputs": [],
   "source": [
    "# Normalize the X data\n",
    "X_norm = normalizeStressStrain(X);\n"
   ]
  },
  {
   "cell_type": "markdown",
   "id": "089e216f",
   "metadata": {},
   "source": [
    "# LSTM -> Dense (Sequential Classification)"
   ]
  },
  {
   "cell_type": "code",
   "execution_count": null,
   "id": "a4317fd9",
   "metadata": {},
   "outputs": [],
   "source": [
    "X_norm_T = transposeStressData(X_norm); # This is for LSTM, needs to be (sample, timesteps, features);\n",
    "print(X_norm_T.shape);\n",
    "\n",
    "# To categorical\n",
    "y = stringtoCategorical(Type);"
   ]
  },
  {
   "cell_type": "markdown",
   "id": "3a908a1d",
   "metadata": {},
   "source": [
    "## Split"
   ]
  },
  {
   "cell_type": "code",
   "execution_count": null,
   "id": "4050f01f",
   "metadata": {},
   "outputs": [],
   "source": [
    "# X_train, X_test, y_train, y_test = train_test_split(X_norm_T, y, test_size=0.33, random_state=42);\n",
    "X_train, X_test, y_train, y_test = train_test_split(X_norm_T, y, test_size=0.2, random_state=1)\n",
    "\n",
    "X_train, X_val, y_train, y_val = train_test_split(X_train, y_train, test_size=0.25, random_state=1)\n",
    "\n",
    "# One hot encoding\n",
    "y_train = tf.keras.utils.to_categorical(y_train);\n",
    "y_test = tf.keras.utils.to_categorical(y_test);\n",
    "y_val = tf.keras.utils.to_categorical(y_val);\n",
    "\n",
    "print(y_train);\n",
    "\n",
    "# Sanity Check:\n",
    "print(\"X_Train shape:\", X_train.shape)\n",
    "print(\"X_test shape:\", X_test.shape)\n",
    "print();\n",
    "print(\"y_train shape:\", y_train.shape)\n",
    "print(\"y_test shape:\", y_test.shape)\n",
    "print();\n",
    "print(\"X_val shape:\", X_val.shape)\n",
    "print(\"y_val shape:\", y_val.shape)"
   ]
  },
  {
   "cell_type": "markdown",
   "id": "c75255bd",
   "metadata": {},
   "source": [
    "## LSTM Model"
   ]
  },
  {
   "cell_type": "code",
   "execution_count": null,
   "id": "2bc13a88",
   "metadata": {},
   "outputs": [],
   "source": [
    "def LSTM():\n",
    "    model = Sequential();\n",
    "    model.add(tf.keras.layers.LSTM(2, input_shape=(1803, 2), return_sequences=True));\n",
    "    model.add(tf.keras.layers.LSTM(2, input_shape=(1803, 2), return_sequences=False));\n",
    "    model.add(tf.keras.layers.Dense(3, activation=\"softmax\"));\n",
    "    \n",
    "    opt = tf.keras.optimizers.Adam(learning_rate=0.01)\n",
    "    \n",
    "    model.compile(\n",
    "        loss=tf.keras.losses.CategoricalCrossentropy(), \n",
    "        optimizer=opt, \n",
    "        metrics=['accuracy'],\n",
    "    );\n",
    "    \n",
    "    return model;\n",
    "\n"
   ]
  },
  {
   "cell_type": "markdown",
   "id": "40386539",
   "metadata": {},
   "source": [
    "# Training"
   ]
  },
  {
   "cell_type": "code",
   "execution_count": null,
   "id": "2f2fc9fd",
   "metadata": {},
   "outputs": [],
   "source": [
    "LSTM_Model = LSTM();\n",
    "LSTM_Model.summary();\n"
   ]
  },
  {
   "cell_type": "code",
   "execution_count": null,
   "id": "9167b8f7",
   "metadata": {},
   "outputs": [],
   "source": [
    "history = LSTM_Model.fit(\n",
    "    X_train, \n",
    "    y_train, \n",
    "    epochs=2, \n",
    "    batch_size=1,\n",
    "    validation_data=(X_val, y_val)\n",
    ");"
   ]
  },
  {
   "cell_type": "markdown",
   "id": "b67f598f",
   "metadata": {},
   "source": [
    "# Graphs"
   ]
  },
  {
   "cell_type": "code",
   "execution_count": null,
   "id": "93bb9702",
   "metadata": {},
   "outputs": [],
   "source": [
    "print(history.history.keys())\n",
    "\n",
    "#  \"Accuracy\"\n",
    "plt.plot(history.history['val_accuracy'])\n",
    "plt.plot(history.history['accuracy'])\n",
    "plt.title('model accuracy')\n",
    "plt.ylabel('accuracy')\n",
    "plt.xlabel('epoch')\n",
    "plt.legend(['train', 'validation'], loc='upper left')\n",
    "plt.show()\n",
    "\n",
    "# \"Loss\"\n",
    "plt.plot(history.history['val_loss'])\n",
    "plt.plot(history.history['loss'])\n",
    "plt.title('model loss')\n",
    "plt.ylabel('loss')\n",
    "plt.xlabel('epoch')\n",
    "plt.legend(['train', 'validation'], loc='upper left')\n",
    "plt.show()"
   ]
  },
  {
   "cell_type": "markdown",
   "id": "f23d272c",
   "metadata": {},
   "source": [
    "# Save Model"
   ]
  },
  {
   "cell_type": "code",
   "execution_count": null,
   "id": "5be99a6d",
   "metadata": {},
   "outputs": [],
   "source": [
    "# MAKE SURE TO MODIFY MODEL NAME AND FOLLOW THE NAMING FORMAT!\n",
    "# Naming Format: feature_LSTM\n",
    "\n",
    "model_name = \"Type_LSTM\"\n",
    "save_path = \"/Users/zacharyg/Documents/GitHub/fundemental-neural-nets/GANS/Scaffold_GAN/\" + model_name\n",
    "if not os.path.exists(save_path):\n",
    "    os.makedirs(save_path);\n",
    "    \n",
    "LSTM_Model.save(save_path);"
   ]
  },
  {
   "cell_type": "code",
   "execution_count": null,
   "id": "45e11784",
   "metadata": {},
   "outputs": [],
   "source": []
  },
  {
   "cell_type": "code",
   "execution_count": null,
   "id": "9d1c7110",
   "metadata": {},
   "outputs": [],
   "source": []
  },
  {
   "cell_type": "code",
   "execution_count": null,
   "id": "626c1382",
   "metadata": {},
   "outputs": [],
   "source": []
  }
 ],
 "metadata": {
  "kernelspec": {
   "display_name": "Python 3 (ipykernel)",
   "language": "python",
   "name": "python3"
  },
  "language_info": {
   "codemirror_mode": {
    "name": "ipython",
    "version": 3
   },
   "file_extension": ".py",
   "mimetype": "text/x-python",
   "name": "python",
   "nbconvert_exporter": "python",
   "pygments_lexer": "ipython3",
   "version": "3.10.9"
  }
 },
 "nbformat": 4,
 "nbformat_minor": 5
}
