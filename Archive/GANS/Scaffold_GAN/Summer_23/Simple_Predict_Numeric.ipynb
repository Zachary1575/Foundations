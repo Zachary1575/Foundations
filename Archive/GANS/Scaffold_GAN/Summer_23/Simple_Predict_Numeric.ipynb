{
 "cells": [
  {
   "cell_type": "code",
   "execution_count": 1,
   "id": "fadea9d4",
   "metadata": {},
   "outputs": [
    {
     "name": "stderr",
     "output_type": "stream",
     "text": [
      "2023-06-15 00:21:59.345759: I tensorflow/core/platform/cpu_feature_guard.cc:193] This TensorFlow binary is optimized with oneAPI Deep Neural Network Library (oneDNN) to use the following CPU instructions in performance-critical operations:  SSE4.1 SSE4.2\n",
      "To enable them in other operations, rebuild TensorFlow with the appropriate compiler flags.\n"
     ]
    }
   ],
   "source": [
    "import os\n",
    "import cv2\n",
    "import glob\n",
    "import shutil\n",
    "\n",
    "import pandas as pd\n",
    "import pathlib\n",
    "import numpy as np\n",
    "import nibabel as nib\n",
    "import matplotlib.pyplot as plt\n",
    "from PIL import Image as ImagePIL\n",
    "\n",
    "from sklearn.model_selection import train_test_split\n",
    "\n",
    "# Tensorflow\n",
    "import tensorflow as tf\n",
    "from tensorflow.keras.models import Sequential\n",
    "\n",
    "# Custom Funcs\n",
    "from Unpack_Scaffold_Data import readAndOutputDataset, curveVisualization"
   ]
  },
  {
   "cell_type": "markdown",
   "id": "bbd565aa",
   "metadata": {},
   "source": [
    "# Data Read Utility"
   ]
  },
  {
   "cell_type": "code",
   "execution_count": 2,
   "id": "69556539",
   "metadata": {},
   "outputs": [],
   "source": [
    "curve_path = \"/Users/zacharyg/Documents/GitHub/fundemental-neural-nets/GANS/Scaffold_GAN/scaffold_dataset_WU_LAB/Prints\"\n",
    "modulus_path = \"/Users/zacharyg/Documents/GitHub/fundemental-neural-nets/GANS/Scaffold_GAN/scaffold_dataset_WU_LAB/Prints/modulus_data_types.csv\"\n"
   ]
  },
  {
   "cell_type": "code",
   "execution_count": 3,
   "id": "a0da0de3",
   "metadata": {},
   "outputs": [
    {
     "name": "stdout",
     "output_type": "stream",
     "text": [
      "DOC COUNT: 675\n",
      "Operation Finished.\n",
      "\n",
      "     Index     Modulus  Spacing  Infill  Height  Speed  Temperature   Mass  \\\n",
      "0        1  358.528888      0.8       1     0.1     30          190  0.394   \n",
      "1        2  301.639039      0.9       1     0.1     30          190  0.334   \n",
      "2        3  292.501492      1.0       1     0.1     30          190  0.308   \n",
      "3        4  258.539802      1.1       1     0.1     30          190  0.286   \n",
      "4        5  238.213024      1.2       1     0.1     30          190  0.259   \n",
      "..     ...         ...      ...     ...     ...    ...          ...    ...   \n",
      "670    671  151.559731      0.8       3     0.2     50          230  0.428   \n",
      "671    672   85.074096      0.9       3     0.2     50          230  0.341   \n",
      "672    673   52.285252      1.0       3     0.2     50          230  0.290   \n",
      "673    674   70.811230      1.1       3     0.2     50          230  0.292   \n",
      "674    675   36.627466      1.2       3     0.2     50          230  0.244   \n",
      "\n",
      "     Porosity    Type  \n",
      "0      0.6848    Line  \n",
      "1      0.7328    Line  \n",
      "2      0.7536    Line  \n",
      "3      0.7712    Line  \n",
      "4      0.7928    Line  \n",
      "..        ...     ...  \n",
      "670    0.6576  Gyroid  \n",
      "671    0.7272  Gyroid  \n",
      "672    0.7680  Gyroid  \n",
      "673    0.7664  Gyroid  \n",
      "674    0.8048  Gyroid  \n",
      "\n",
      "[675 rows x 10 columns]\n",
      "Operation Finished.\n",
      "\n"
     ]
    }
   ],
   "source": [
    "X, y, y_df, file_order = readAndOutputDataset(curve_path, modulus_path, reverse=True);"
   ]
  },
  {
   "cell_type": "code",
   "execution_count": 4,
   "id": "e9ebcc1c",
   "metadata": {},
   "outputs": [
    {
     "name": "stdout",
     "output_type": "stream",
     "text": [
      "X SHAPE: (675, 2, 1803)\n",
      "y SHAPE: (675, 10)\n",
      "\n"
     ]
    }
   ],
   "source": [
    "# Sanity Check\n",
    "print(\"X SHAPE:\", X.shape);\n",
    "print(\"y SHAPE:\", y.shape);\n",
    "print();\n",
    "\n",
    "# Visualization\n",
    "# curveVisualization(X, y, file_order);"
   ]
  },
  {
   "cell_type": "markdown",
   "id": "9a049b0d",
   "metadata": {},
   "source": [
    "# Utility"
   ]
  },
  {
   "cell_type": "code",
   "execution_count": 5,
   "id": "e20d3bb2",
   "metadata": {},
   "outputs": [],
   "source": [
    "def transposeStressData(X_Data):\n",
    "    X = [];\n",
    "    \n",
    "    for data in X_Data:\n",
    "        X.append(data.T);\n",
    "        \n",
    "    return np.array(X);\n",
    "\n",
    "def normalizeStressStrain(x):\n",
    "    for curve_index in range(len(x)):\n",
    "        curve = x[curve_index];\n",
    "        \n",
    "        max_stress_val = np.max(curve[0]);\n",
    "        max_strain_val = np.max(curve[1]);\n",
    "        \n",
    "        curve[0] = curve[0] / max_stress_val;\n",
    "        curve[1] = curve[1] / max_strain_val;\n",
    "        \n",
    "    return x;\n",
    "\n",
    "def normalize(x):\n",
    "    \"\"\"\n",
    "    Normalize a list of sample image data in the range of 0 to 1\n",
    "    \n",
    "    Parameters\n",
    "    -----------------\n",
    "    x: Array of Homogenous (RGB) values of input data \n",
    "    \n",
    "    Returns\n",
    "    -----------------\n",
    "    new_imgs: (numpy integer array) Numpy array of normalized data\n",
    "    \"\"\"\n",
    "    return np.array((x - np.min(x)) / (np.max(x) - np.min(x)))\n",
    "\n",
    "def stringtoCategorical(y):    \n",
    "    data = [];\n",
    "    \n",
    "    for type_index in range(len(y)):\n",
    "        wrd = y[type_index];\n",
    "        encoding = 0.0;\n",
    "        \n",
    "        if (wrd == \"Cubic\"):\n",
    "            encoding = 1.0;\n",
    "        elif (wrd == \"Gyroid\"):\n",
    "            encoding = 2.0;\n",
    "            \n",
    "        data.append([encoding]);\n",
    "        \n",
    "    return np.array(data);"
   ]
  },
  {
   "cell_type": "markdown",
   "id": "3496a24a",
   "metadata": {},
   "source": [
    "# 3D Processing Parameter Stripping"
   ]
  },
  {
   "cell_type": "code",
   "execution_count": 6,
   "id": "ef1c75ea",
   "metadata": {},
   "outputs": [],
   "source": [
    "def parameterStrip(y):\n",
    "    y_t = y.T;\n",
    "    \n",
    "    Index = y_t[0];\n",
    "    Modulus = y_t[1];\n",
    "    Spacing = y_t[2];\n",
    "    Infill = y_t[3];\n",
    "    Height = y_t[4];\n",
    "    Speed = y_t[5];\n",
    "    Temp = y_t[6];\n",
    "    Mass = y_t[7];\n",
    "    Porosity = y_t[8];\n",
    "    Type = y_t[9];\n",
    "    return Index, Modulus, Spacing, Infill, Height, Speed, Temp, Mass, Porosity, Type\n",
    "\n",
    "Index, Modulus, Spacing, Infill, Height, Speed, Temp, Mass, Porosity, Type = parameterStrip(y);\n"
   ]
  },
  {
   "cell_type": "markdown",
   "id": "7647732d",
   "metadata": {},
   "source": [
    "# Stress-Strain preprocessing"
   ]
  },
  {
   "cell_type": "code",
   "execution_count": 7,
   "id": "b1859038",
   "metadata": {},
   "outputs": [],
   "source": [
    "# Normalize the X data\n",
    "X_norm = normalizeStressStrain(X);\n"
   ]
  },
  {
   "cell_type": "markdown",
   "id": "2e7d61fa",
   "metadata": {},
   "source": [
    "# LSTM -> Dense (Sequential Classification)"
   ]
  },
  {
   "cell_type": "code",
   "execution_count": 14,
   "id": "e1fd7c9c",
   "metadata": {},
   "outputs": [
    {
     "name": "stdout",
     "output_type": "stream",
     "text": [
      "(675, 1803, 2)\n"
     ]
    }
   ],
   "source": [
    "X_norm_T = transposeStressData(X_norm); # This is for LSTM, needs to be (sample, timesteps, features);\n",
    "print(X_norm_T.shape);\n",
    "\n",
    "y = Porosity.astype('float32')"
   ]
  },
  {
   "cell_type": "markdown",
   "id": "d34a80a0",
   "metadata": {},
   "source": [
    "## Split"
   ]
  },
  {
   "cell_type": "code",
   "execution_count": 26,
   "id": "b704c852",
   "metadata": {},
   "outputs": [
    {
     "name": "stdout",
     "output_type": "stream",
     "text": [
      "[0.7488 0.3328 0.7328 0.608  0.7688 0.7736 0.724  0.312  0.4232 0.8\n",
      " 0.2552 0.372  0.808  0.7616 0.7184 0.672  0.7616 0.1296 0.3456 0.664\n",
      " 0.7496 0.764  0.4672 0.7048 0.7616 0.3992 0.756  0.6808 0.7376 0.4384\n",
      " 0.4376 0.6712 0.68   0.324  0.74   0.7792 0.6712 0.772  0.7728 0.6768\n",
      " 0.7728 0.4104 0.3112 0.5544 0.3152 0.3464 0.8144 0.7688 0.7456 0.6856\n",
      " 0.2728 0.7728 0.3648 0.1112 0.7472 0.4864 0.1144 0.7976 0.2584 0.2768\n",
      " 0.7952 0.7656 0.3416 0.8208 0.7968 0.6944 0.7952 0.8088 0.6608 0.7472\n",
      " 0.2952 0.6808 0.7664 0.364  0.7928 0.7704 0.296  0.2264 0.74   0.468\n",
      " 0.7336 0.8304 0.7944 0.7552 0.2056 0.8016 0.2488 0.7824 0.7952 0.2816\n",
      " 0.1592 0.8    0.7704 0.6952 0.7592 0.7744 0.2328 0.2512 0.3776 0.5704\n",
      " 0.8056 0.6776 0.7944 0.6872 0.7624 0.8312 0.2    0.8264 0.76   0.8024\n",
      " 0.7264 0.2776 0.3496 0.256  0.244  0.6768 0.72   0.7328 0.4696 0.7896\n",
      " 0.788  0.752  0.7312 0.7536 0.2    0.7632 0.3672 0.7512 0.7824 0.1216\n",
      " 0.772  0.7976 0.7928 0.112  0.7888 0.7848 0.3136 0.7544 0.7392 0.7592\n",
      " 0.7832 0.728  0.3144 0.7992 0.152  0.8016 0.3912 0.332  0.3456 0.7488\n",
      " 0.7848 0.7712 0.1872 0.7696 0.2968 0.768  0.788  0.7912 0.844  0.672\n",
      " 0.7624 0.7664 0.7104 0.7648 0.796  0.3312 0.2784 0.3784 0.7968 0.7928\n",
      " 0.7976 0.1352 0.8088 0.5016 0.328  0.7944 0.7656 0.2536 0.7448 0.836\n",
      " 0.8112 0.776  0.7688 0.7272 0.7376 0.2472 0.3584 0.4544 0.7488 0.7696\n",
      " 0.7936 0.688  0.7448 0.408  0.6656 0.3144 0.7928 0.2872 0.7888 0.7696\n",
      " 0.7808 0.788  0.804  0.2608 0.756  0.7856 0.7664 0.6784 0.3048 0.7664\n",
      " 0.7928 0.2768 0.8376 0.7336 0.4656 0.7856 0.7768 0.7368 0.6944 0.788\n",
      " 0.2864 0.128  0.7928 0.7344 0.7672 0.7992 0.6744 0.7376 0.7056 0.7368\n",
      " 0.7712 0.7376 0.3008 0.8    0.7848 0.6736 0.4304 0.268  0.1904 0.7416\n",
      " 0.7488 0.2    0.796  0.4968 0.2664 0.8144 0.6576 0.7592 0.7352 0.7752\n",
      " 0.7536 0.3496 0.6624 0.3216 0.7856 0.7976 0.7576 0.7688 0.7352 0.2504\n",
      " 0.2616 0.7944 0.7936 0.7424 0.7624 0.2808 0.2096 0.7272 0.772  0.764\n",
      " 0.3056 0.78   0.3224 0.768  0.3224 0.1216 0.2784 0.7448 0.7656 0.6848\n",
      " 0.6792 0.6736 0.2    0.6696 0.7448 0.7928 0.6824 0.752  0.3168 0.3672\n",
      " 0.7576 0.7936 0.76   0.528  0.7752 0.7496 0.2    0.1864 0.796  0.7384\n",
      " 0.7632 0.1328 0.3632 0.7648 0.7496 0.7304 0.7384 0.7904 0.7968 0.2864\n",
      " 0.264  0.7536 0.1888 0.7952 0.8008 0.7144 0.74   0.2936 0.7272 0.74\n",
      " 0.7352 0.764  0.7272 0.3192 0.5784 0.7904 0.7384 0.7792 0.8056 0.296\n",
      " 0.8184 0.3808 0.7912 0.74   0.7288 0.8048 0.4576 0.6712 0.7632 0.7568\n",
      " 0.5008 0.8152 0.7648 0.8224 0.7832 0.6784 0.6768 0.772  0.2336 0.308\n",
      " 0.744  0.7696 0.7368 0.3432 0.7696 0.7488 0.8    0.1224 0.6728 0.76\n",
      " 0.6664 0.1568 0.2904 0.7736 0.692  0.1848 0.132  0.7864 0.7656 0.152\n",
      " 0.16   0.7344 0.3    0.1456 0.54   0.7664 0.7272 0.6992 0.7312 0.268\n",
      " 0.512  0.7728 0.684  0.3664 0.2976 0.2408 0.592  0.748  0.2824 0.7944\n",
      " 0.308  0.7976 0.7368 0.7408 0.7416 0.7656 0.7664 0.2944 0.2384 0.7728\n",
      " 0.1216 0.732  0.5328 0.2104 0.2032]\n",
      "0.7664\n",
      "X_Train shape: (405, 1803, 2)\n",
      "X_test shape: (135, 1803, 2)\n",
      "\n",
      "y_train shape: (405,)\n",
      "y_test shape: (135,)\n",
      "\n",
      "X_val shape: (135, 1803, 2)\n",
      "y_val shape: (135,)\n"
     ]
    }
   ],
   "source": [
    "# X_train, X_test, y_train, y_test = train_test_split(X_norm_T, y, test_size=0.33, random_state=42);\n",
    "X_train, X_test, y_train, y_test = train_test_split(X_norm_T, y, test_size=0.2, random_state=1)\n",
    "\n",
    "X_train, X_val, y_train, y_val = train_test_split(X_train, y_train, test_size=0.25, random_state=1)\n",
    "\n",
    "# One hot encoding\n",
    "# y_train = tf.keras.utils.to_categorical(y_train);\n",
    "# y_test = tf.keras.utils.to_categorical(y_test);\n",
    "# y_val = tf.keras.utils.to_categorical(y_val);\n",
    "\n",
    "print(y_train);\n",
    "\n",
    "print(y_test[0]);\n",
    "\n",
    "# Sanity Check:\n",
    "print(\"X_Train shape:\", X_train.shape)\n",
    "print(\"X_test shape:\", X_test.shape)\n",
    "print();\n",
    "print(\"y_train shape:\", y_train.shape)\n",
    "print(\"y_test shape:\", y_test.shape)\n",
    "print();\n",
    "print(\"X_val shape:\", X_val.shape)\n",
    "print(\"y_val shape:\", y_val.shape)"
   ]
  },
  {
   "cell_type": "markdown",
   "id": "e52cab04",
   "metadata": {},
   "source": [
    "## LSTM Model"
   ]
  },
  {
   "cell_type": "code",
   "execution_count": 31,
   "id": "67c54995",
   "metadata": {},
   "outputs": [],
   "source": [
    "def LSTM():\n",
    "    model = Sequential();\n",
    "    model.add(tf.keras.layers.LSTM(2, input_shape=(1803, 2), return_sequences=True));\n",
    "    model.add(tf.keras.layers.LSTM(2, input_shape=(1803, 2), return_sequences=True));\n",
    "    model.add(tf.keras.layers.LSTM(2, input_shape=(1803, 2), return_sequences=True));\n",
    "    model.add(tf.keras.layers.LSTM(2, input_shape=(1803, 2), return_sequences=False));\n",
    "    model.add(tf.keras.layers.Dense(1, activation=\"tanh\"));\n",
    "    \n",
    "    opt = tf.keras.optimizers.Adam(learning_rate=0.01)\n",
    "    \n",
    "    model.compile(\n",
    "        loss=tf.keras.losses.MeanSquaredError(), \n",
    "        optimizer=opt, \n",
    "    );\n",
    "    \n",
    "    return model;"
   ]
  },
  {
   "cell_type": "markdown",
   "id": "5a157400",
   "metadata": {},
   "source": [
    "# Training"
   ]
  },
  {
   "cell_type": "code",
   "execution_count": 32,
   "id": "9bfc6ad5",
   "metadata": {},
   "outputs": [
    {
     "name": "stdout",
     "output_type": "stream",
     "text": [
      "Model: \"sequential_3\"\n",
      "_________________________________________________________________\n",
      " Layer (type)                Output Shape              Param #   \n",
      "=================================================================\n",
      " lstm_6 (LSTM)               (None, 1803, 2)           40        \n",
      "                                                                 \n",
      " lstm_7 (LSTM)               (None, 1803, 2)           40        \n",
      "                                                                 \n",
      " lstm_8 (LSTM)               (None, 1803, 2)           40        \n",
      "                                                                 \n",
      " lstm_9 (LSTM)               (None, 2)                 40        \n",
      "                                                                 \n",
      " dense_3 (Dense)             (None, 1)                 3         \n",
      "                                                                 \n",
      "=================================================================\n",
      "Total params: 163\n",
      "Trainable params: 163\n",
      "Non-trainable params: 0\n",
      "_________________________________________________________________\n"
     ]
    }
   ],
   "source": [
    "LSTM_Model = LSTM();\n",
    "LSTM_Model.summary();\n"
   ]
  },
  {
   "cell_type": "code",
   "execution_count": 33,
   "id": "4e78715d",
   "metadata": {},
   "outputs": [
    {
     "name": "stdout",
     "output_type": "stream",
     "text": [
      "Epoch 1/2\n",
      " 34/405 [=>............................] - ETA: 5:38 - loss: 0.1029"
     ]
    },
    {
     "ename": "KeyboardInterrupt",
     "evalue": "",
     "output_type": "error",
     "traceback": [
      "\u001b[0;31m---------------------------------------------------------------------------\u001b[0m",
      "\u001b[0;31mKeyboardInterrupt\u001b[0m                         Traceback (most recent call last)",
      "Cell \u001b[0;32mIn[33], line 1\u001b[0m\n\u001b[0;32m----> 1\u001b[0m history \u001b[38;5;241m=\u001b[39m \u001b[43mLSTM_Model\u001b[49m\u001b[38;5;241;43m.\u001b[39;49m\u001b[43mfit\u001b[49m\u001b[43m(\u001b[49m\n\u001b[1;32m      2\u001b[0m \u001b[43m    \u001b[49m\u001b[43mX_train\u001b[49m\u001b[43m,\u001b[49m\u001b[43m \u001b[49m\n\u001b[1;32m      3\u001b[0m \u001b[43m    \u001b[49m\u001b[43my_train\u001b[49m\u001b[43m,\u001b[49m\u001b[43m \u001b[49m\n\u001b[1;32m      4\u001b[0m \u001b[43m    \u001b[49m\u001b[43mepochs\u001b[49m\u001b[38;5;241;43m=\u001b[39;49m\u001b[38;5;241;43m2\u001b[39;49m\u001b[43m,\u001b[49m\u001b[43m \u001b[49m\n\u001b[1;32m      5\u001b[0m \u001b[43m    \u001b[49m\u001b[43mbatch_size\u001b[49m\u001b[38;5;241;43m=\u001b[39;49m\u001b[38;5;241;43m1\u001b[39;49m\u001b[43m,\u001b[49m\n\u001b[1;32m      6\u001b[0m \u001b[43m    \u001b[49m\u001b[43mvalidation_data\u001b[49m\u001b[38;5;241;43m=\u001b[39;49m\u001b[43m(\u001b[49m\u001b[43mX_val\u001b[49m\u001b[43m,\u001b[49m\u001b[43m \u001b[49m\u001b[43my_val\u001b[49m\u001b[43m)\u001b[49m\n\u001b[1;32m      7\u001b[0m \u001b[43m)\u001b[49m;\n",
      "File \u001b[0;32m~/opt/anaconda3/envs/research/lib/python3.10/site-packages/keras/utils/traceback_utils.py:65\u001b[0m, in \u001b[0;36mfilter_traceback.<locals>.error_handler\u001b[0;34m(*args, **kwargs)\u001b[0m\n\u001b[1;32m     63\u001b[0m filtered_tb \u001b[38;5;241m=\u001b[39m \u001b[38;5;28;01mNone\u001b[39;00m\n\u001b[1;32m     64\u001b[0m \u001b[38;5;28;01mtry\u001b[39;00m:\n\u001b[0;32m---> 65\u001b[0m     \u001b[38;5;28;01mreturn\u001b[39;00m \u001b[43mfn\u001b[49m\u001b[43m(\u001b[49m\u001b[38;5;241;43m*\u001b[39;49m\u001b[43margs\u001b[49m\u001b[43m,\u001b[49m\u001b[43m \u001b[49m\u001b[38;5;241;43m*\u001b[39;49m\u001b[38;5;241;43m*\u001b[39;49m\u001b[43mkwargs\u001b[49m\u001b[43m)\u001b[49m\n\u001b[1;32m     66\u001b[0m \u001b[38;5;28;01mexcept\u001b[39;00m \u001b[38;5;167;01mException\u001b[39;00m \u001b[38;5;28;01mas\u001b[39;00m e:\n\u001b[1;32m     67\u001b[0m     filtered_tb \u001b[38;5;241m=\u001b[39m _process_traceback_frames(e\u001b[38;5;241m.\u001b[39m__traceback__)\n",
      "File \u001b[0;32m~/opt/anaconda3/envs/research/lib/python3.10/site-packages/keras/engine/training.py:1650\u001b[0m, in \u001b[0;36mModel.fit\u001b[0;34m(self, x, y, batch_size, epochs, verbose, callbacks, validation_split, validation_data, shuffle, class_weight, sample_weight, initial_epoch, steps_per_epoch, validation_steps, validation_batch_size, validation_freq, max_queue_size, workers, use_multiprocessing)\u001b[0m\n\u001b[1;32m   1642\u001b[0m \u001b[38;5;28;01mwith\u001b[39;00m tf\u001b[38;5;241m.\u001b[39mprofiler\u001b[38;5;241m.\u001b[39mexperimental\u001b[38;5;241m.\u001b[39mTrace(\n\u001b[1;32m   1643\u001b[0m     \u001b[38;5;124m\"\u001b[39m\u001b[38;5;124mtrain\u001b[39m\u001b[38;5;124m\"\u001b[39m,\n\u001b[1;32m   1644\u001b[0m     epoch_num\u001b[38;5;241m=\u001b[39mepoch,\n\u001b[0;32m   (...)\u001b[0m\n\u001b[1;32m   1647\u001b[0m     _r\u001b[38;5;241m=\u001b[39m\u001b[38;5;241m1\u001b[39m,\n\u001b[1;32m   1648\u001b[0m ):\n\u001b[1;32m   1649\u001b[0m     callbacks\u001b[38;5;241m.\u001b[39mon_train_batch_begin(step)\n\u001b[0;32m-> 1650\u001b[0m     tmp_logs \u001b[38;5;241m=\u001b[39m \u001b[38;5;28;43mself\u001b[39;49m\u001b[38;5;241;43m.\u001b[39;49m\u001b[43mtrain_function\u001b[49m\u001b[43m(\u001b[49m\u001b[43miterator\u001b[49m\u001b[43m)\u001b[49m\n\u001b[1;32m   1651\u001b[0m     \u001b[38;5;28;01mif\u001b[39;00m data_handler\u001b[38;5;241m.\u001b[39mshould_sync:\n\u001b[1;32m   1652\u001b[0m         context\u001b[38;5;241m.\u001b[39masync_wait()\n",
      "File \u001b[0;32m~/opt/anaconda3/envs/research/lib/python3.10/site-packages/tensorflow/python/util/traceback_utils.py:150\u001b[0m, in \u001b[0;36mfilter_traceback.<locals>.error_handler\u001b[0;34m(*args, **kwargs)\u001b[0m\n\u001b[1;32m    148\u001b[0m filtered_tb \u001b[38;5;241m=\u001b[39m \u001b[38;5;28;01mNone\u001b[39;00m\n\u001b[1;32m    149\u001b[0m \u001b[38;5;28;01mtry\u001b[39;00m:\n\u001b[0;32m--> 150\u001b[0m   \u001b[38;5;28;01mreturn\u001b[39;00m \u001b[43mfn\u001b[49m\u001b[43m(\u001b[49m\u001b[38;5;241;43m*\u001b[39;49m\u001b[43margs\u001b[49m\u001b[43m,\u001b[49m\u001b[43m \u001b[49m\u001b[38;5;241;43m*\u001b[39;49m\u001b[38;5;241;43m*\u001b[39;49m\u001b[43mkwargs\u001b[49m\u001b[43m)\u001b[49m\n\u001b[1;32m    151\u001b[0m \u001b[38;5;28;01mexcept\u001b[39;00m \u001b[38;5;167;01mException\u001b[39;00m \u001b[38;5;28;01mas\u001b[39;00m e:\n\u001b[1;32m    152\u001b[0m   filtered_tb \u001b[38;5;241m=\u001b[39m _process_traceback_frames(e\u001b[38;5;241m.\u001b[39m__traceback__)\n",
      "File \u001b[0;32m~/opt/anaconda3/envs/research/lib/python3.10/site-packages/tensorflow/python/eager/polymorphic_function/polymorphic_function.py:880\u001b[0m, in \u001b[0;36mFunction.__call__\u001b[0;34m(self, *args, **kwds)\u001b[0m\n\u001b[1;32m    877\u001b[0m compiler \u001b[38;5;241m=\u001b[39m \u001b[38;5;124m\"\u001b[39m\u001b[38;5;124mxla\u001b[39m\u001b[38;5;124m\"\u001b[39m \u001b[38;5;28;01mif\u001b[39;00m \u001b[38;5;28mself\u001b[39m\u001b[38;5;241m.\u001b[39m_jit_compile \u001b[38;5;28;01melse\u001b[39;00m \u001b[38;5;124m\"\u001b[39m\u001b[38;5;124mnonXla\u001b[39m\u001b[38;5;124m\"\u001b[39m\n\u001b[1;32m    879\u001b[0m \u001b[38;5;28;01mwith\u001b[39;00m OptionalXlaContext(\u001b[38;5;28mself\u001b[39m\u001b[38;5;241m.\u001b[39m_jit_compile):\n\u001b[0;32m--> 880\u001b[0m   result \u001b[38;5;241m=\u001b[39m \u001b[38;5;28;43mself\u001b[39;49m\u001b[38;5;241;43m.\u001b[39;49m\u001b[43m_call\u001b[49m\u001b[43m(\u001b[49m\u001b[38;5;241;43m*\u001b[39;49m\u001b[43margs\u001b[49m\u001b[43m,\u001b[49m\u001b[43m \u001b[49m\u001b[38;5;241;43m*\u001b[39;49m\u001b[38;5;241;43m*\u001b[39;49m\u001b[43mkwds\u001b[49m\u001b[43m)\u001b[49m\n\u001b[1;32m    882\u001b[0m new_tracing_count \u001b[38;5;241m=\u001b[39m \u001b[38;5;28mself\u001b[39m\u001b[38;5;241m.\u001b[39mexperimental_get_tracing_count()\n\u001b[1;32m    883\u001b[0m without_tracing \u001b[38;5;241m=\u001b[39m (tracing_count \u001b[38;5;241m==\u001b[39m new_tracing_count)\n",
      "File \u001b[0;32m~/opt/anaconda3/envs/research/lib/python3.10/site-packages/tensorflow/python/eager/polymorphic_function/polymorphic_function.py:912\u001b[0m, in \u001b[0;36mFunction._call\u001b[0;34m(self, *args, **kwds)\u001b[0m\n\u001b[1;32m    909\u001b[0m   \u001b[38;5;28mself\u001b[39m\u001b[38;5;241m.\u001b[39m_lock\u001b[38;5;241m.\u001b[39mrelease()\n\u001b[1;32m    910\u001b[0m   \u001b[38;5;66;03m# In this case we have created variables on the first call, so we run the\u001b[39;00m\n\u001b[1;32m    911\u001b[0m   \u001b[38;5;66;03m# defunned version which is guaranteed to never create variables.\u001b[39;00m\n\u001b[0;32m--> 912\u001b[0m   \u001b[38;5;28;01mreturn\u001b[39;00m \u001b[38;5;28;43mself\u001b[39;49m\u001b[38;5;241;43m.\u001b[39;49m\u001b[43m_no_variable_creation_fn\u001b[49m\u001b[43m(\u001b[49m\u001b[38;5;241;43m*\u001b[39;49m\u001b[43margs\u001b[49m\u001b[43m,\u001b[49m\u001b[43m \u001b[49m\u001b[38;5;241;43m*\u001b[39;49m\u001b[38;5;241;43m*\u001b[39;49m\u001b[43mkwds\u001b[49m\u001b[43m)\u001b[49m  \u001b[38;5;66;03m# pylint: disable=not-callable\u001b[39;00m\n\u001b[1;32m    913\u001b[0m \u001b[38;5;28;01melif\u001b[39;00m \u001b[38;5;28mself\u001b[39m\u001b[38;5;241m.\u001b[39m_variable_creation_fn \u001b[38;5;129;01mis\u001b[39;00m \u001b[38;5;129;01mnot\u001b[39;00m \u001b[38;5;28;01mNone\u001b[39;00m:\n\u001b[1;32m    914\u001b[0m   \u001b[38;5;66;03m# Release the lock early so that multiple threads can perform the call\u001b[39;00m\n\u001b[1;32m    915\u001b[0m   \u001b[38;5;66;03m# in parallel.\u001b[39;00m\n\u001b[1;32m    916\u001b[0m   \u001b[38;5;28mself\u001b[39m\u001b[38;5;241m.\u001b[39m_lock\u001b[38;5;241m.\u001b[39mrelease()\n",
      "File \u001b[0;32m~/opt/anaconda3/envs/research/lib/python3.10/site-packages/tensorflow/python/eager/polymorphic_function/tracing_compiler.py:134\u001b[0m, in \u001b[0;36mTracingCompiler.__call__\u001b[0;34m(self, *args, **kwargs)\u001b[0m\n\u001b[1;32m    131\u001b[0m \u001b[38;5;28;01mwith\u001b[39;00m \u001b[38;5;28mself\u001b[39m\u001b[38;5;241m.\u001b[39m_lock:\n\u001b[1;32m    132\u001b[0m   (concrete_function,\n\u001b[1;32m    133\u001b[0m    filtered_flat_args) \u001b[38;5;241m=\u001b[39m \u001b[38;5;28mself\u001b[39m\u001b[38;5;241m.\u001b[39m_maybe_define_function(args, kwargs)\n\u001b[0;32m--> 134\u001b[0m \u001b[38;5;28;01mreturn\u001b[39;00m \u001b[43mconcrete_function\u001b[49m\u001b[38;5;241;43m.\u001b[39;49m\u001b[43m_call_flat\u001b[49m\u001b[43m(\u001b[49m\n\u001b[1;32m    135\u001b[0m \u001b[43m    \u001b[49m\u001b[43mfiltered_flat_args\u001b[49m\u001b[43m,\u001b[49m\u001b[43m \u001b[49m\u001b[43mcaptured_inputs\u001b[49m\u001b[38;5;241;43m=\u001b[39;49m\u001b[43mconcrete_function\u001b[49m\u001b[38;5;241;43m.\u001b[39;49m\u001b[43mcaptured_inputs\u001b[49m\u001b[43m)\u001b[49m\n",
      "File \u001b[0;32m~/opt/anaconda3/envs/research/lib/python3.10/site-packages/tensorflow/python/eager/polymorphic_function/monomorphic_function.py:1745\u001b[0m, in \u001b[0;36mConcreteFunction._call_flat\u001b[0;34m(self, args, captured_inputs, cancellation_manager)\u001b[0m\n\u001b[1;32m   1741\u001b[0m possible_gradient_type \u001b[38;5;241m=\u001b[39m gradients_util\u001b[38;5;241m.\u001b[39mPossibleTapeGradientTypes(args)\n\u001b[1;32m   1742\u001b[0m \u001b[38;5;28;01mif\u001b[39;00m (possible_gradient_type \u001b[38;5;241m==\u001b[39m gradients_util\u001b[38;5;241m.\u001b[39mPOSSIBLE_GRADIENT_TYPES_NONE\n\u001b[1;32m   1743\u001b[0m     \u001b[38;5;129;01mand\u001b[39;00m executing_eagerly):\n\u001b[1;32m   1744\u001b[0m   \u001b[38;5;66;03m# No tape is watching; skip to running the function.\u001b[39;00m\n\u001b[0;32m-> 1745\u001b[0m   \u001b[38;5;28;01mreturn\u001b[39;00m \u001b[38;5;28mself\u001b[39m\u001b[38;5;241m.\u001b[39m_build_call_outputs(\u001b[38;5;28;43mself\u001b[39;49m\u001b[38;5;241;43m.\u001b[39;49m\u001b[43m_inference_function\u001b[49m\u001b[38;5;241;43m.\u001b[39;49m\u001b[43mcall\u001b[49m\u001b[43m(\u001b[49m\n\u001b[1;32m   1746\u001b[0m \u001b[43m      \u001b[49m\u001b[43mctx\u001b[49m\u001b[43m,\u001b[49m\u001b[43m \u001b[49m\u001b[43margs\u001b[49m\u001b[43m,\u001b[49m\u001b[43m \u001b[49m\u001b[43mcancellation_manager\u001b[49m\u001b[38;5;241;43m=\u001b[39;49m\u001b[43mcancellation_manager\u001b[49m\u001b[43m)\u001b[49m)\n\u001b[1;32m   1747\u001b[0m forward_backward \u001b[38;5;241m=\u001b[39m \u001b[38;5;28mself\u001b[39m\u001b[38;5;241m.\u001b[39m_select_forward_and_backward_functions(\n\u001b[1;32m   1748\u001b[0m     args,\n\u001b[1;32m   1749\u001b[0m     possible_gradient_type,\n\u001b[1;32m   1750\u001b[0m     executing_eagerly)\n\u001b[1;32m   1751\u001b[0m forward_function, args_with_tangents \u001b[38;5;241m=\u001b[39m forward_backward\u001b[38;5;241m.\u001b[39mforward()\n",
      "File \u001b[0;32m~/opt/anaconda3/envs/research/lib/python3.10/site-packages/tensorflow/python/eager/polymorphic_function/monomorphic_function.py:378\u001b[0m, in \u001b[0;36m_EagerDefinedFunction.call\u001b[0;34m(self, ctx, args, cancellation_manager)\u001b[0m\n\u001b[1;32m    376\u001b[0m \u001b[38;5;28;01mwith\u001b[39;00m _InterpolateFunctionError(\u001b[38;5;28mself\u001b[39m):\n\u001b[1;32m    377\u001b[0m   \u001b[38;5;28;01mif\u001b[39;00m cancellation_manager \u001b[38;5;129;01mis\u001b[39;00m \u001b[38;5;28;01mNone\u001b[39;00m:\n\u001b[0;32m--> 378\u001b[0m     outputs \u001b[38;5;241m=\u001b[39m \u001b[43mexecute\u001b[49m\u001b[38;5;241;43m.\u001b[39;49m\u001b[43mexecute\u001b[49m\u001b[43m(\u001b[49m\n\u001b[1;32m    379\u001b[0m \u001b[43m        \u001b[49m\u001b[38;5;28;43mstr\u001b[39;49m\u001b[43m(\u001b[49m\u001b[38;5;28;43mself\u001b[39;49m\u001b[38;5;241;43m.\u001b[39;49m\u001b[43msignature\u001b[49m\u001b[38;5;241;43m.\u001b[39;49m\u001b[43mname\u001b[49m\u001b[43m)\u001b[49m\u001b[43m,\u001b[49m\n\u001b[1;32m    380\u001b[0m \u001b[43m        \u001b[49m\u001b[43mnum_outputs\u001b[49m\u001b[38;5;241;43m=\u001b[39;49m\u001b[38;5;28;43mself\u001b[39;49m\u001b[38;5;241;43m.\u001b[39;49m\u001b[43m_num_outputs\u001b[49m\u001b[43m,\u001b[49m\n\u001b[1;32m    381\u001b[0m \u001b[43m        \u001b[49m\u001b[43minputs\u001b[49m\u001b[38;5;241;43m=\u001b[39;49m\u001b[43margs\u001b[49m\u001b[43m,\u001b[49m\n\u001b[1;32m    382\u001b[0m \u001b[43m        \u001b[49m\u001b[43mattrs\u001b[49m\u001b[38;5;241;43m=\u001b[39;49m\u001b[43mattrs\u001b[49m\u001b[43m,\u001b[49m\n\u001b[1;32m    383\u001b[0m \u001b[43m        \u001b[49m\u001b[43mctx\u001b[49m\u001b[38;5;241;43m=\u001b[39;49m\u001b[43mctx\u001b[49m\u001b[43m)\u001b[49m\n\u001b[1;32m    384\u001b[0m   \u001b[38;5;28;01melse\u001b[39;00m:\n\u001b[1;32m    385\u001b[0m     outputs \u001b[38;5;241m=\u001b[39m execute\u001b[38;5;241m.\u001b[39mexecute_with_cancellation(\n\u001b[1;32m    386\u001b[0m         \u001b[38;5;28mstr\u001b[39m(\u001b[38;5;28mself\u001b[39m\u001b[38;5;241m.\u001b[39msignature\u001b[38;5;241m.\u001b[39mname),\n\u001b[1;32m    387\u001b[0m         num_outputs\u001b[38;5;241m=\u001b[39m\u001b[38;5;28mself\u001b[39m\u001b[38;5;241m.\u001b[39m_num_outputs,\n\u001b[0;32m   (...)\u001b[0m\n\u001b[1;32m    390\u001b[0m         ctx\u001b[38;5;241m=\u001b[39mctx,\n\u001b[1;32m    391\u001b[0m         cancellation_manager\u001b[38;5;241m=\u001b[39mcancellation_manager)\n",
      "File \u001b[0;32m~/opt/anaconda3/envs/research/lib/python3.10/site-packages/tensorflow/python/eager/execute.py:52\u001b[0m, in \u001b[0;36mquick_execute\u001b[0;34m(op_name, num_outputs, inputs, attrs, ctx, name)\u001b[0m\n\u001b[1;32m     50\u001b[0m \u001b[38;5;28;01mtry\u001b[39;00m:\n\u001b[1;32m     51\u001b[0m   ctx\u001b[38;5;241m.\u001b[39mensure_initialized()\n\u001b[0;32m---> 52\u001b[0m   tensors \u001b[38;5;241m=\u001b[39m \u001b[43mpywrap_tfe\u001b[49m\u001b[38;5;241;43m.\u001b[39;49m\u001b[43mTFE_Py_Execute\u001b[49m\u001b[43m(\u001b[49m\u001b[43mctx\u001b[49m\u001b[38;5;241;43m.\u001b[39;49m\u001b[43m_handle\u001b[49m\u001b[43m,\u001b[49m\u001b[43m \u001b[49m\u001b[43mdevice_name\u001b[49m\u001b[43m,\u001b[49m\u001b[43m \u001b[49m\u001b[43mop_name\u001b[49m\u001b[43m,\u001b[49m\n\u001b[1;32m     53\u001b[0m \u001b[43m                                      \u001b[49m\u001b[43minputs\u001b[49m\u001b[43m,\u001b[49m\u001b[43m \u001b[49m\u001b[43mattrs\u001b[49m\u001b[43m,\u001b[49m\u001b[43m \u001b[49m\u001b[43mnum_outputs\u001b[49m\u001b[43m)\u001b[49m\n\u001b[1;32m     54\u001b[0m \u001b[38;5;28;01mexcept\u001b[39;00m core\u001b[38;5;241m.\u001b[39m_NotOkStatusException \u001b[38;5;28;01mas\u001b[39;00m e:\n\u001b[1;32m     55\u001b[0m   \u001b[38;5;28;01mif\u001b[39;00m name \u001b[38;5;129;01mis\u001b[39;00m \u001b[38;5;129;01mnot\u001b[39;00m \u001b[38;5;28;01mNone\u001b[39;00m:\n",
      "\u001b[0;31mKeyboardInterrupt\u001b[0m: "
     ]
    }
   ],
   "source": [
    "history = LSTM_Model.fit(\n",
    "    X_train, \n",
    "    y_train, \n",
    "    epochs=2, \n",
    "    batch_size=100,\n",
    "    validation_data=(X_val, y_val)\n",
    ");"
   ]
  },
  {
   "cell_type": "markdown",
   "id": "5388f1f3",
   "metadata": {},
   "source": [
    "# Graphs"
   ]
  },
  {
   "cell_type": "code",
   "execution_count": 25,
   "id": "56c3ec58",
   "metadata": {},
   "outputs": [
    {
     "name": "stdout",
     "output_type": "stream",
     "text": [
      "dict_keys(['loss', 'mean_squared_error', 'val_loss', 'val_mean_squared_error'])\n"
     ]
    },
    {
     "data": {
      "image/png": "[encoded data removed]",
      "text/plain": [
       "<Figure size 640x480 with 1 Axes>"
      ]
     },
     "metadata": {},
     "output_type": "display_data"
    },
    {
     "data": {
      "image/png": "[encoded data removed]",
      "text/plain": [
       "<Figure size 640x480 with 1 Axes>"
      ]
     },
     "metadata": {},
     "output_type": "display_data"
    }
   ],
   "source": [
    "print(history.history.keys())\n",
    "\n",
    "#  \"Accuracy\"\n",
    "plt.plot(history.history['mean_squared_error'])\n",
    "plt.title('model accuracy')\n",
    "plt.ylabel('accuracy')\n",
    "plt.xlabel('epoch')\n",
    "plt.legend(['train', 'validation'], loc='upper left')\n",
    "plt.show()\n",
    "\n",
    "# \"Loss\"\n",
    "plt.plot(history.history['val_loss'])\n",
    "plt.plot(history.history['loss'])\n",
    "plt.title('model loss')\n",
    "plt.ylabel('loss')\n",
    "plt.xlabel('epoch')\n",
    "plt.legend(['train', 'validation'], loc='upper left')\n",
    "plt.show()"
   ]
  },
  {
   "cell_type": "code",
   "execution_count": 30,
   "id": "ec459389",
   "metadata": {},
   "outputs": [
    {
     "name": "stdout",
     "output_type": "stream",
     "text": [
      "5/5 [==============================] - 0s 95ms/step\n",
      "[[0.7019543 ]\n",
      " [0.70193106]\n",
      " [0.24186082]\n",
      " [0.70632863]\n",
      " [0.70194244]\n",
      " [0.7019401 ]\n",
      " [0.70196706]\n",
      " [0.70195335]\n",
      " [0.7019619 ]\n",
      " [0.70194244]\n",
      " [0.703348  ]\n",
      " [0.701936  ]\n",
      " [0.70633656]\n",
      " [0.7058643 ]\n",
      " [0.70194   ]\n",
      " [0.702966  ]\n",
      " [0.7033859 ]\n",
      " [0.70195746]\n",
      " [0.7019491 ]\n",
      " [0.70195264]\n",
      " [0.70195246]\n",
      " [0.24186079]\n",
      " [0.7045542 ]\n",
      " [0.7019603 ]\n",
      " [0.7019505 ]\n",
      " [0.7061507 ]\n",
      " [0.7019519 ]\n",
      " [0.70194775]\n",
      " [0.7019615 ]\n",
      " [0.7019596 ]\n",
      " [0.7033504 ]\n",
      " [0.24186082]\n",
      " [0.7019564 ]\n",
      " [0.7027041 ]\n",
      " [0.7019503 ]\n",
      " [0.701957  ]\n",
      " [0.701954  ]\n",
      " [0.7019532 ]\n",
      " [0.70195   ]\n",
      " [0.24186082]\n",
      " [0.7019631 ]\n",
      " [0.70195335]\n",
      " [0.7051748 ]\n",
      " [0.701943  ]\n",
      " [0.24211106]\n",
      " [0.7059088 ]\n",
      " [0.70006794]\n",
      " [0.70194876]\n",
      " [0.70195425]\n",
      " [0.70195395]\n",
      " [0.70195246]\n",
      " [0.7019491 ]\n",
      " [0.7051229 ]\n",
      " [0.7019632 ]\n",
      " [0.70052224]\n",
      " [0.24592613]\n",
      " [0.70312613]\n",
      " [0.6959045 ]\n",
      " [0.24186082]\n",
      " [0.7019779 ]\n",
      " [0.7019521 ]\n",
      " [0.7019339 ]\n",
      " [0.7019482 ]\n",
      " [0.7019598 ]\n",
      " [0.7019539 ]\n",
      " [0.70193976]\n",
      " [0.7019457 ]\n",
      " [0.701946  ]\n",
      " [0.70195633]\n",
      " [0.24186073]\n",
      " [0.7019467 ]\n",
      " [0.70193785]\n",
      " [0.70196265]\n",
      " [0.70194244]\n",
      " [0.24186082]\n",
      " [0.70193356]\n",
      " [0.70194906]\n",
      " [0.70194364]\n",
      " [0.70595074]\n",
      " [0.70193785]\n",
      " [0.7019687 ]\n",
      " [0.70332587]\n",
      " [0.70195925]\n",
      " [0.7019472 ]\n",
      " [0.70198053]\n",
      " [0.70195675]\n",
      " [0.7019585 ]\n",
      " [0.24186082]\n",
      " [0.70194846]\n",
      " [0.24186526]\n",
      " [0.7056046 ]\n",
      " [0.70196956]\n",
      " [0.70195127]\n",
      " [0.7019502 ]\n",
      " [0.24186082]\n",
      " [0.7019466 ]\n",
      " [0.7019539 ]\n",
      " [0.70610315]\n",
      " [0.7064106 ]\n",
      " [0.70413804]\n",
      " [0.7019457 ]\n",
      " [0.70195144]\n",
      " [0.24186079]\n",
      " [0.70196193]\n",
      " [0.706194  ]\n",
      " [0.7019457 ]\n",
      " [0.70196444]\n",
      " [0.7019379 ]\n",
      " [0.70196193]\n",
      " [0.2612959 ]\n",
      " [0.7019572 ]\n",
      " [0.70605105]\n",
      " [0.7033523 ]\n",
      " [0.70599383]\n",
      " [0.6827835 ]\n",
      " [0.24186082]\n",
      " [0.7019511 ]\n",
      " [0.7019651 ]\n",
      " [0.7019487 ]\n",
      " [0.70195764]\n",
      " [0.7024411 ]\n",
      " [0.7019529 ]\n",
      " [0.7019418 ]\n",
      " [0.70195985]\n",
      " [0.7033451 ]\n",
      " [0.70196885]\n",
      " [0.70335305]\n",
      " [0.70196015]\n",
      " [0.70199275]\n",
      " [0.7019549 ]\n",
      " [0.70194554]\n",
      " [0.24186082]\n",
      " [0.7033017 ]\n",
      " [0.7019422 ]\n",
      " [0.7033439 ]]\n",
      "[0.7664 0.7224 0.1816 0.7864 0.736  0.6672 0.5064 0.7768 0.7432 0.7912\n",
      " 0.3968 0.668  0.7632 0.7536 0.8    0.6992 0.6776 0.688  0.2808 0.472\n",
      " 0.668  0.2576 0.768  0.8512 0.7064 0.7616 0.7168 0.6648 0.5224 0.8\n",
      " 0.7656 0.2    0.6736 0.824  0.7696 0.7576 0.6712 0.7912 0.3352 0.1808\n",
      " 0.768  0.3064 0.7664 0.7616 0.304  0.8032 0.768  0.624  0.7352 0.7088\n",
      " 0.2968 0.5808 0.7968 0.7152 0.768  0.3096 0.6952 0.7512 0.1912 0.808\n",
      " 0.3416 0.7488 0.4032 0.728  0.728  0.7632 0.7736 0.6736 0.772  0.144\n",
      " 0.7528 0.6728 0.4768 0.7336 0.2    0.6984 0.7336 0.74   0.7888 0.7616\n",
      " 0.7496 0.74   0.7616 0.668  0.8336 0.7896 0.6776 0.2168 0.7616 0.2584\n",
      " 0.772  0.7576 0.3336 0.7064 0.2104 0.6848 0.6736 0.776  0.8032 0.8064\n",
      " 0.732  0.6776 0.2448 0.8048 0.744  0.7584 0.772  0.7632 0.72   0.316\n",
      " 0.5408 0.7328 0.4496 0.8032 0.3224 0.1248 0.3304 0.8008 0.724  0.4216\n",
      " 0.7904 0.7784 0.744  0.3912 0.7664 0.7664 0.7616 0.5088 0.7952 0.7672\n",
      " 0.7616 0.2104 0.7472 0.796  0.5456]\n"
     ]
    }
   ],
   "source": [
    "print(LSTM_Model.predict(X_test));\n",
    "print(y_test);"
   ]
  },
  {
   "cell_type": "markdown",
   "id": "f7302bc3",
   "metadata": {},
   "source": [
    "# Save Model"
   ]
  },
  {
   "cell_type": "code",
   "execution_count": null,
   "id": "8d43cd2e",
   "metadata": {},
   "outputs": [],
   "source": [
    "# MAKE SURE TO MODIFY MODEL NAME AND FOLLOW THE NAMING FORMAT!\n",
    "# Naming Format: feature_LSTM\n",
    "\n",
    "model_name = \"Type_LSTM\"\n",
    "save_path = \"/Users/zacharyg/Documents/GitHub/fundemental-neural-nets/GANS/Scaffold_GAN/\" + model_name\n",
    "if not os.path.exists(save_path):\n",
    "    os.makedirs(save_path);\n",
    "    \n",
    "LSTM_Model.save(save_path);"
   ]
  },
  {
   "cell_type": "code",
   "execution_count": null,
   "id": "16eeb9a7",
   "metadata": {},
   "outputs": [],
   "source": []
  },
  {
   "cell_type": "code",
   "execution_count": null,
   "id": "7f25673c",
   "metadata": {},
   "outputs": [],
   "source": []
  },
  {
   "cell_type": "code",
   "execution_count": null,
   "id": "a8da9745",
   "metadata": {},
   "outputs": [],
   "source": []
  }
 ],
 "metadata": {
  "kernelspec": {
   "display_name": "Python 3 (ipykernel)",
   "language": "python",
   "name": "python3"
  },
  "language_info": {
   "codemirror_mode": {
    "name": "ipython",
    "version": 3
   },
   "file_extension": ".py",
   "mimetype": "text/x-python",
   "name": "python",
   "nbconvert_exporter": "python",
   "pygments_lexer": "ipython3",
   "version": "3.10.9"
  }
 },
 "nbformat": 4,
 "nbformat_minor": 5
}
