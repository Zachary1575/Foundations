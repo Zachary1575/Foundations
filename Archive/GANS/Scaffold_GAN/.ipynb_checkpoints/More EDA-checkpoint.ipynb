{
 "cells": [
  {
   "cell_type": "code",
   "execution_count": 1,
   "id": "e2f6a9ca",
   "metadata": {},
   "outputs": [],
   "source": [
    "# Regular Funcs\n",
    "import os\n",
    "import cv2\n",
    "import glob\n",
    "import shutil\n",
    "\n",
    "import pandas as pd\n",
    "import pathlib\n",
    "import numpy as np\n",
    "import nibabel as nib\n",
    "import matplotlib.pyplot as plt\n",
    "from PIL import Image as ImagePIL\n",
    "import plotly.express as px\n",
    "import plotly.graph_objects as go\n",
    "\n",
    "from numpy.random import randint\n",
    "from sklearn.model_selection import train_test_split"
   ]
  },
  {
   "cell_type": "code",
   "execution_count": 2,
   "id": "623bd458",
   "metadata": {},
   "outputs": [],
   "source": [
    "# Statistics\n",
    "from scipy import stats\n",
    "from scipy import integrate"
   ]
  },
  {
   "cell_type": "code",
   "execution_count": 3,
   "id": "95c72792",
   "metadata": {},
   "outputs": [],
   "source": [
    "# Custom Funcs\n",
    "from Unpack_Scaffold_Data import readAndOutputDataset, curveVisualization"
   ]
  },
  {
   "cell_type": "markdown",
   "id": "37cc1aff",
   "metadata": {},
   "source": [
    "# Data Read Utility"
   ]
  },
  {
   "cell_type": "code",
   "execution_count": 4,
   "id": "96b4b33c",
   "metadata": {},
   "outputs": [],
   "source": [
    "curve_path = \"/Users/zacharyg/Documents/GitHub/fundemental-neural-nets/GANS/Scaffold_GAN/scaffold_dataset_WU_LAB/Prints\"\n",
    "modulus_path = \"/Users/zacharyg/Documents/GitHub/fundemental-neural-nets/GANS/Scaffold_GAN/scaffold_dataset_WU_LAB/Prints/modulus_data_types.csv\""
   ]
  },
  {
   "cell_type": "code",
   "execution_count": 5,
   "id": "08e90761",
   "metadata": {},
   "outputs": [
    {
     "name": "stdout",
     "output_type": "stream",
     "text": [
      "DOC COUNT: 675\n",
      "Operation Finished.\n",
      "\n",
      "     Index     Modulus  Spacing  Infill  Height  Speed  Temperature   Mass  \\\n",
      "0        1  358.528888      0.8       1     0.1     30          190  0.394   \n",
      "1        2  301.639039      0.9       1     0.1     30          190  0.334   \n",
      "2        3  292.501492      1.0       1     0.1     30          190  0.308   \n",
      "3        4  258.539802      1.1       1     0.1     30          190  0.286   \n",
      "4        5  238.213024      1.2       1     0.1     30          190  0.259   \n",
      "..     ...         ...      ...     ...     ...    ...          ...    ...   \n",
      "670    671  151.559731      0.8       3     0.2     50          230  0.428   \n",
      "671    672   85.074096      0.9       3     0.2     50          230  0.341   \n",
      "672    673   52.285252      1.0       3     0.2     50          230  0.290   \n",
      "673    674   70.811230      1.1       3     0.2     50          230  0.292   \n",
      "674    675   36.627466      1.2       3     0.2     50          230  0.244   \n",
      "\n",
      "     Porosity    Type  \n",
      "0      0.6848    Line  \n",
      "1      0.7328    Line  \n",
      "2      0.7536    Line  \n",
      "3      0.7712    Line  \n",
      "4      0.7928    Line  \n",
      "..        ...     ...  \n",
      "670    0.6576  Gyroid  \n",
      "671    0.7272  Gyroid  \n",
      "672    0.7680  Gyroid  \n",
      "673    0.7664  Gyroid  \n",
      "674    0.8048  Gyroid  \n",
      "\n",
      "[675 rows x 10 columns]\n",
      "Operation Finished.\n",
      "\n"
     ]
    }
   ],
   "source": [
    "X, y, y_df, file_order = readAndOutputDataset(curve_path, modulus_path, reverse=True);"
   ]
  },
  {
   "cell_type": "code",
   "execution_count": 6,
   "id": "d09eb474",
   "metadata": {},
   "outputs": [
    {
     "name": "stdout",
     "output_type": "stream",
     "text": [
      "X SHAPE: (675, 2, 1803)\n",
      "y SHAPE: (675, 10)\n",
      "\n"
     ]
    }
   ],
   "source": [
    "# Sanity Check\n",
    "print(\"X SHAPE:\", X.shape);\n",
    "print(\"y SHAPE:\", y.shape);\n",
    "print();\n",
    "\n",
    "\n",
    "# Visualization\n",
    "# curveVisualization(X, y, file_order);"
   ]
  },
  {
   "cell_type": "markdown",
   "id": "15e8ec86",
   "metadata": {},
   "source": [
    "# Utility"
   ]
  },
  {
   "cell_type": "code",
   "execution_count": 7,
   "id": "1c54a1d3",
   "metadata": {},
   "outputs": [],
   "source": [
    "def transposeStressData(X_Data):\n",
    "    X = [];\n",
    "    \n",
    "    for data in X_Data:\n",
    "        X.append(data.T);\n",
    "        \n",
    "    return np.array(X);\n",
    "\n",
    "def normalizeStressStrain(x):\n",
    "    for curve_index in range(len(x)):\n",
    "        curve = x[curve_index];\n",
    "        \n",
    "        max_stress_val = np.max(curve[0]);\n",
    "        max_strain_val = np.max(curve[1]);\n",
    "        \n",
    "        curve[0] = curve[0] / max_stress_val;\n",
    "        curve[1] = curve[1] / max_strain_val;\n",
    "        \n",
    "    return x;\n",
    "\n",
    "def normalize(x):\n",
    "    \"\"\"\n",
    "    Normalize a list of sample image data in the range of 0 to 1\n",
    "    \n",
    "    Parameters\n",
    "    -----------------\n",
    "    x: Array of Homogenous (RGB) values of input data \n",
    "    \n",
    "    Returns\n",
    "    -----------------\n",
    "    new_imgs: (numpy integer array) Numpy array of normalized data\n",
    "    \"\"\"\n",
    "    return np.array((x - np.min(x)) / (np.max(x) - np.min(x)))\n",
    "\n",
    "def stringtoCategorical(y):    \n",
    "    data = [];\n",
    "    \n",
    "    for type_index in range(len(y)):\n",
    "        wrd = y[type_index];\n",
    "        encoding = 0.0;\n",
    "        \n",
    "        if (wrd == \"Cubic\"):\n",
    "            encoding = 1.0;\n",
    "        elif (wrd == \"Gyroid\"):\n",
    "            encoding = 2.0;\n",
    "            \n",
    "        data.append([encoding]);\n",
    "        \n",
    "    return np.array(data);"
   ]
  },
  {
   "cell_type": "markdown",
   "id": "9addb4ab",
   "metadata": {},
   "source": [
    "# Process Parameter Stripping"
   ]
  },
  {
   "cell_type": "code",
   "execution_count": 8,
   "id": "87933ffa",
   "metadata": {},
   "outputs": [],
   "source": [
    "def parameterStrip(y):\n",
    "    y_t = y.T;\n",
    "    \n",
    "    Index = y_t[0];\n",
    "    Modulus = y_t[1];\n",
    "    Spacing = y_t[2];\n",
    "    Infill = y_t[3];\n",
    "    Height = y_t[4];\n",
    "    Speed = y_t[5];\n",
    "    Temp = y_t[6];\n",
    "    Mass = y_t[7];\n",
    "    Porosity = y_t[8];\n",
    "    Type = y_t[9];\n",
    "    return Index, Modulus, Spacing, Infill, Height, Speed, Temp, Mass, Porosity, Type\n",
    "\n",
    "Index, Modulus, Spacing, Infill, Height, Speed, Temp, Mass, Porosity, Type = parameterStrip(y);\n",
    "\n",
    "def parameterStripInfill(y):\n",
    "    y_t = y.T;\n",
    "    \n",
    "    Modulus = y_t[0];\n",
    "    Porosity = y_t[1];\n",
    "    Energy_Absorb = y_t[2];\n",
    "    Height = y_t[3];\n",
    "    Spacing = y_t[4];\n",
    "    Speed = y_t[5];\n",
    "    Temp = y_t[6];\n",
    "    \n",
    "    return Modulus, Porosity, Energy_Absorb, Height, Spacing, Speed, Temp    \n",
    "    "
   ]
  },
  {
   "cell_type": "markdown",
   "id": "648df538",
   "metadata": {},
   "source": [
    "# Energy Absorption Calculation"
   ]
  },
  {
   "cell_type": "code",
   "execution_count": 9,
   "id": "69af84e9",
   "metadata": {},
   "outputs": [
    {
     "name": "stdout",
     "output_type": "stream",
     "text": [
      "(675,)\n"
     ]
    }
   ],
   "source": [
    "Energy_Absorption = [];\n",
    "\n",
    "for curve in X:\n",
    "    interval_x = curve[0];\n",
    "    interval_y = curve[1];\n",
    "    \n",
    "    val = integrate.simpson(interval_y, interval_x);\n",
    "    Energy_Absorption.append(val);\n",
    "    \n",
    "Energy_Absorption = np.array(Energy_Absorption);\n",
    "\n",
    "# Sanity Check\n",
    "print(Energy_Absorption.shape);"
   ]
  },
  {
   "cell_type": "markdown",
   "id": "99cdc416",
   "metadata": {},
   "source": [
    "# Data Division based on Infill Type"
   ]
  },
  {
   "cell_type": "code",
   "execution_count": 10,
   "id": "1cf11d43",
   "metadata": {},
   "outputs": [
    {
     "name": "stdout",
     "output_type": "stream",
     "text": [
      "(225, 7)\n",
      "(225, 7)\n",
      "(225, 7)\n"
     ]
    }
   ],
   "source": [
    "def organizeParameters(_Data):\n",
    "    \"\"\"\n",
    "    Desc\n",
    "    \"\"\"\n",
    "    Modulus = _Data[:, 1:2];\n",
    "    Porosity = _Data[:, 8:9];\n",
    "    Energy_Abs = _Data[:, 10:11];\n",
    "    Spacing = _Data[:, 2:3];\n",
    "    printing_params = _Data[:, 4:7];\n",
    "\n",
    "    cut_params = np.concatenate((\n",
    "        Modulus, \n",
    "        Porosity,\n",
    "        Energy_Abs,\n",
    "        Spacing,\n",
    "        printing_params\n",
    "    ), axis=1);\n",
    "    \n",
    "    return cut_params;\n",
    "\n",
    "\n",
    "Line_Data = [];\n",
    "Cubic_Data = [];\n",
    "Gyroid_Data = [];\n",
    "\n",
    "_y = cut_params = np.concatenate((\n",
    "    y,\n",
    "    (np.reshape(Energy_Absorption, (675,1))),\n",
    "), axis=1);\n",
    "\n",
    "for curve in _y:\n",
    "    if ('Gyroid' in curve):\n",
    "        Gyroid_Data.append(curve);\n",
    "    elif ('Cubic' in curve):\n",
    "        Cubic_Data.append(curve);\n",
    "    elif ('Line' in curve):\n",
    "        Line_Data.append(curve);\n",
    "        \n",
    "Line_Data = np.array(Line_Data);\n",
    "Cubic_Data = np.array(Cubic_Data);\n",
    "Gyroid_Data = np.array(Gyroid_Data);\n",
    "\n",
    "\n",
    "X_Line = organizeParameters(Line_Data);\n",
    "X_Cubic = organizeParameters(Cubic_Data);\n",
    "X_Gyroid = organizeParameters(Gyroid_Data);\n",
    "\n",
    "# Sanity Check\n",
    "print(X_Line.shape)\n",
    "print(X_Cubic.shape)\n",
    "print(X_Gyroid.shape)"
   ]
  },
  {
   "cell_type": "markdown",
   "id": "5b2c3ffe",
   "metadata": {},
   "source": [
    "# Infill Parameter Stripping"
   ]
  },
  {
   "cell_type": "code",
   "execution_count": 11,
   "id": "d61fe9d3",
   "metadata": {},
   "outputs": [],
   "source": [
    "Modulus_Cubic, Porosity_Cubic, Energy_Absorb_Cubic, Height_Cubic, Spacing_Cubic, Speed_Cubic, Temp_Cubic = parameterStripInfill(X_Cubic);\n",
    "    "
   ]
  },
  {
   "cell_type": "markdown",
   "id": "bb82a42d",
   "metadata": {},
   "source": [
    "# Plotting EDA"
   ]
  },
  {
   "cell_type": "code",
   "execution_count": 12,
   "id": "3a901f1b",
   "metadata": {},
   "outputs": [],
   "source": [
    "# 675 Stress-Strain Curve Domain\n",
    "feature_domain_675 = list(range(675 + 1));\n",
    "feature_domain_675.pop(0) \n",
    "feature_domain_675 = np.repeat(feature_domain_675, 4, axis=0) # Changed to 4"
   ]
  },
  {
   "cell_type": "code",
   "execution_count": 13,
   "id": "31bd3128",
   "metadata": {},
   "outputs": [],
   "source": [
    "feature_domain_8 = list(range(8 + 1));\n",
    "feature_domain_8.pop(0);\n",
    "feature_domain_8_rep = list(np.arange(1,9))*675"
   ]
  },
  {
   "cell_type": "code",
   "execution_count": 14,
   "id": "c2cf30a9",
   "metadata": {},
   "outputs": [],
   "source": [
    "feature_domain_7 = list(range(7 + 1));\n",
    "feature_domain_7.pop(0);\n",
    "feature_domain_7_rep = list(np.arange(1,8)) * 675"
   ]
  },
  {
   "cell_type": "code",
   "execution_count": 12,
   "id": "f9b846a2",
   "metadata": {},
   "outputs": [],
   "source": [
    "# 3D Graph with Temperature fixed\n",
    "fig = px.scatter_3d(\n",
    "    x=Porosity_Cubic, \n",
    "    y=Modulus_Cubic, \n",
    "    z=Energy_Absorb_Cubic, \n",
    "    color=Temp_Cubic\n",
    ")\n",
    "\n",
    "fig.show(renderer='browser')"
   ]
  },
  {
   "cell_type": "code",
   "execution_count": null,
   "id": "ce79da5f",
   "metadata": {},
   "outputs": [],
   "source": [
    "# 3D Graph with Speed fixed\n",
    "fig = px.scatter_3d(\n",
    "    x=Porosity_Cubic, \n",
    "    y=Modulus_Cubic, \n",
    "    z=Energy_Absorb_Cubic, \n",
    "    color=Speed_Cubic\n",
    ")\n",
    "\n",
    "fig.show(renderer='browser')"
   ]
  },
  {
   "cell_type": "code",
   "execution_count": 14,
   "id": "99b36707",
   "metadata": {},
   "outputs": [],
   "source": [
    "# 3D Graph with Spacing fixed\n",
    "fig = px.scatter_3d(\n",
    "    x=Porosity_Cubic, \n",
    "    y=Modulus_Cubic, \n",
    "    z=Energy_Absorb_Cubic, \n",
    "    color=Spacing_Cubic\n",
    ")\n",
    "\n",
    "fig.show(renderer='browser')"
   ]
  },
  {
   "cell_type": "code",
   "execution_count": 13,
   "id": "0ce867c5",
   "metadata": {},
   "outputs": [],
   "source": [
    "# 3D Graph with Line Height fixed\n",
    "fig = px.scatter_3d(\n",
    "    x=Porosity_Cubic, \n",
    "    y=Modulus_Cubic, \n",
    "    z=Energy_Absorb_Cubic, \n",
    "    color=Height_Cubic\n",
    ")\n",
    "\n",
    "fig.show(renderer='browser')"
   ]
  },
  {
   "cell_type": "markdown",
   "id": "9e3abebb",
   "metadata": {},
   "source": [
    "Strongest Correlation Pattern:\n",
    "\n",
    "***Temperature*** --> 190, 210, 230\n",
    "<br>\n",
    "***Line Height*** --> 0.2, 0.15, 0.1\n",
    "<br>\n",
    "***Line Spacing*** --> Slightly Scattered\n",
    "<br>\n",
    "***Speed*** --> Everywhere lol\n",
    "<br>\n",
    "\n",
    "Weakest Correlation Patter:"
   ]
  },
  {
   "cell_type": "markdown",
   "id": "91a84100",
   "metadata": {},
   "source": [
    "# Spearman Correlation Coefficient Calcuation [To verify]"
   ]
  },
  {
   "cell_type": "markdown",
   "id": "0b72ecaf",
   "metadata": {},
   "source": [
    "Temperature Correlations should be high since its the most correlated.\n",
    "\n",
    "Calculated values:\n",
    "\n",
    "Porosity v. Temp: $\\alpha=-0.6472588727019072$ and $p = 4.206173360393441e-28$ \n",
    "\n",
    "Modulus v. Temp: $\\alpha=0.5918385077165748$ and $p = 1.1778714354461438e-22$ \n",
    "\n",
    "Energy Absorption v. Temp: $\\alpha=0.4609334172247467$ and $p = 3.0988413608787744e-13$ \n",
    "\n",
    "Avg. Correlation Strength:\n",
    "\n",
    "$$\n",
    "\\phi = \\sum_{i=1}^{n} \\dfrac{|v_i|}{n}\n",
    "$$\n",
    "\n",
    "Thus:\n",
    "\n",
    "$$\\phi =  0.5666769325477429$$\n"
   ]
  },
  {
   "cell_type": "code",
   "execution_count": null,
   "id": "a9127c96",
   "metadata": {},
   "outputs": [],
   "source": [
    "Porosity_v_Temp = stats.spearmanr(Porosity_Cubic, Temp_Cubic)\n",
    "Modulus_v_Temp = stats.spearmanr(Modulus_Cubic, Temp_Cubic)\n",
    "Energy_v_Temp = stats.spearmanr(Energy_Absorb_Cubic, Temp_Cubic)\n",
    "\n",
    "print(Porosity_v_Temp)\n",
    "print(Modulus_v_Temp)\n",
    "print(Energy_v_Temp)\n",
    "print()\n",
    "\n",
    "phi = (sum([abs(Porosity_v_Temp.statistic), abs(Modulus_v_Temp.statistic), abs(Energy_v_Temp.statistic)]) / 3)\n",
    "print(phi);\n"
   ]
  },
  {
   "cell_type": "markdown",
   "id": "4de470b3",
   "metadata": {},
   "source": [
    "Next, Line height should be slightly higher or stronger, but not as strong as temp.\n",
    "\n",
    "Calculated values:\n",
    "\n",
    "Porosity v. Line Height: $\\alpha = 0.6064863638148391$ and $p = 5.426618956922872e-24$ \n",
    "\n",
    "Modulus v. Line Height: $\\alpha = 0.5412397606713951$ and $p = 1.5984942150045018e-18$ \n",
    "\n",
    "Energy Absorption v. Line Height: $\\alpha= -0.2525721035852568$ and $p = 0.00012826951025378137$ \n",
    "\n",
    "Avg. Correlation Strength:\n",
    "\n",
    "$$\n",
    "\\phi = \\sum_{i=1}^{n} \\dfrac{|v_i|}{n}\n",
    "$$\n",
    "\n",
    "Thus:\n",
    "\n",
    "$$\\phi =  0.46676607602383036$$"
   ]
  },
  {
   "cell_type": "code",
   "execution_count": null,
   "id": "1772001f",
   "metadata": {},
   "outputs": [],
   "source": [
    "Porosity_v_Height = stats.spearmanr(Porosity_Cubic, Height_Cubic)\n",
    "Modulus_v_Height = stats.spearmanr(Modulus_Cubic, Height_Cubic)\n",
    "Energy_v_Height = stats.spearmanr(Energy_Absorb_Cubic, Height_Cubic)\n",
    "\n",
    "print(Porosity_v_Height)\n",
    "print(Modulus_v_Height)\n",
    "print(Energy_v_Height)\n",
    "print()\n",
    "\n",
    "phi = (sum([abs(Porosity_v_Height.statistic), abs(Modulus_v_Height.statistic), abs(Energy_v_Height.statistic)]) / 3)\n",
    "print(phi);"
   ]
  },
  {
   "cell_type": "markdown",
   "id": "2c7fea95",
   "metadata": {},
   "source": [
    "Next, Line Spacing its super scatter, but there are slight correlations.\n",
    "\n",
    "Calculated values:\n",
    "\n",
    "Porosity v. Line Spacing: $\\alpha = 0.24543540187848445$ and $p = 0.00020076156919100258$ \n",
    "\n",
    "Modulus v. Line Spacing: $\\alpha = -0.44216085623232065$ and $p = 3.4664799248422205e-12$ \n",
    "\n",
    "Energy Absorption v. Line Spacing: $\\alpha= -0.3750321894692257$ and $p = 6.3409640771959735e-09$ \n",
    "\n",
    "Avg. Correlation Strength:\n",
    "\n",
    "$$\n",
    "\\phi = \\sum_{i=1}^{n} \\dfrac{|v_i|}{n}\n",
    "$$\n",
    "\n",
    "Thus:\n",
    "\n",
    "$$\\phi =  0.3542094825266769$$"
   ]
  },
  {
   "cell_type": "code",
   "execution_count": null,
   "id": "f29cb223",
   "metadata": {},
   "outputs": [],
   "source": [
    "Porosity_v_Spacing = stats.spearmanr(Porosity_Cubic, Spacing_Cubic)\n",
    "Modulus_v_Spacing = stats.spearmanr(Modulus_Cubic, Spacing_Cubic)\n",
    "Energy_v_Spacing = stats.spearmanr(Energy_Absorb_Cubic, Spacing_Cubic)\n",
    "\n",
    "print(Porosity_v_Spacing)\n",
    "print(Modulus_v_Spacing)\n",
    "print(Energy_v_Spacing)\n",
    "print()\n",
    "\n",
    "phi = (sum([abs(Porosity_v_Spacing.statistic), abs(Modulus_v_Spacing.statistic), abs(Energy_v_Spacing.statistic)]) / 3)\n",
    "print(phi);"
   ]
  },
  {
   "cell_type": "markdown",
   "id": "1e54aec8",
   "metadata": {},
   "source": [
    "Finally, worst, is the print speed, being scattered everywhere!\n",
    "\n",
    "Calculated values:\n",
    "\n",
    "Porosity v. Speed: $\\alpha = 0.13294409482856795$ and $p = 0.04638151322832227$ \n",
    "\n",
    "Modulus v. Speed: $\\alpha = -0.14781758169596926$ and $p = 0.026615739605612934$ \n",
    "\n",
    "Energy Absorption v. Speed: $\\alpha= -0.007886830054482156$ and $p = 0.9063486641466464$ \n",
    "\n",
    "Avg. Correlation Strength:\n",
    "\n",
    "$$\n",
    "\\phi = \\sum_{i=1}^{n} \\dfrac{|v_i|}{n}\n",
    "$$\n",
    "\n",
    "Thus:\n",
    "\n",
    "$$\\phi =  0.09621616885967312$$"
   ]
  },
  {
   "cell_type": "code",
   "execution_count": null,
   "id": "66fd728b",
   "metadata": {},
   "outputs": [],
   "source": [
    "Porosity_v_Speed = stats.spearmanr(Porosity_Cubic, Speed_Cubic)\n",
    "Modulus_v_Speed = stats.spearmanr(Modulus_Cubic, Speed_Cubic)\n",
    "Energy_v_Speed = stats.spearmanr(Energy_Absorb_Cubic, Speed_Cubic)\n",
    "\n",
    "print(Porosity_v_Speed)\n",
    "print(Modulus_v_Speed)\n",
    "print(Energy_v_Speed)\n",
    "print()\n",
    "\n",
    "phi = (sum([abs(Porosity_v_Speed.statistic), abs(Modulus_v_Speed.statistic), abs(Energy_v_Speed.statistic)]) / 3)\n",
    "print(phi);"
   ]
  },
  {
   "cell_type": "markdown",
   "id": "a4952763",
   "metadata": {},
   "source": [
    "# Mode Specific Normalization"
   ]
  },
  {
   "cell_type": "code",
   "execution_count": null,
   "id": "7ed7c777",
   "metadata": {},
   "outputs": [],
   "source": [
    "from sklearn import mixture"
   ]
  },
  {
   "cell_type": "code",
   "execution_count": null,
   "id": "992beb84",
   "metadata": {},
   "outputs": [],
   "source": [
    "# dpgmm = mixture.BayesianGaussianMixture(n_components=6, covariance_type=\"full\").fit(Modulus_Cubic)"
   ]
  },
  {
   "cell_type": "code",
   "execution_count": null,
   "id": "1d69cca5",
   "metadata": {},
   "outputs": [],
   "source": [
    "print(dpgmm)"
   ]
  },
  {
   "cell_type": "code",
   "execution_count": null,
   "id": "f158cf42",
   "metadata": {},
   "outputs": [],
   "source": []
  },
  {
   "cell_type": "code",
   "execution_count": null,
   "id": "1352f00b",
   "metadata": {},
   "outputs": [],
   "source": []
  },
  {
   "cell_type": "code",
   "execution_count": null,
   "id": "a9377ed6",
   "metadata": {},
   "outputs": [],
   "source": []
  },
  {
   "cell_type": "code",
   "execution_count": null,
   "id": "157bcbbf",
   "metadata": {},
   "outputs": [],
   "source": []
  },
  {
   "cell_type": "code",
   "execution_count": null,
   "id": "7b2715e8",
   "metadata": {},
   "outputs": [],
   "source": []
  }
 ],
 "metadata": {
  "kernelspec": {
   "display_name": "Python 3 (ipykernel)",
   "language": "python",
   "name": "python3"
  },
  "language_info": {
   "codemirror_mode": {
    "name": "ipython",
    "version": 3
   },
   "file_extension": ".py",
   "mimetype": "text/x-python",
   "name": "python",
   "nbconvert_exporter": "python",
   "pygments_lexer": "ipython3",
   "version": "3.10.9"
  }
 },
 "nbformat": 4,
 "nbformat_minor": 5
}
