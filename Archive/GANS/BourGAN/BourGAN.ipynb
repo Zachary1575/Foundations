{
 "cells": [
  {
   "cell_type": "markdown",
   "id": "9c62342e",
   "metadata": {},
   "source": [
    "# Motivation"
   ]
  },
  {
   "cell_type": "markdown",
   "id": "e332a08b",
   "metadata": {},
   "source": [
    "The motivation of BourGAN from the authors is to embed data into a metric space (namely $l_2$) to which we can take advantage of the geometric properties the data may propose and draw vectors provided from a fitted GMM on the metric space. This inturn gives us a more structured latent mapping and helps prevent mode collapse. This paper hinges on Bourgain theory which argues that data can all be transformed onto an $l_2$ space. That is:\n",
    "\n",
    "For any finite metric space $X$, there exists an embedding of $X$ into a Hilbert space $H$ (a complete inner-product space) such that the distances between points in $X$ are approximately preserved in $H$."
   ]
  },
  {
   "cell_type": "markdown",
   "id": "6e50a210",
   "metadata": {},
   "source": [
    "### Libs"
   ]
  },
  {
   "cell_type": "code",
   "execution_count": 1,
   "id": "ede77c55",
   "metadata": {},
   "outputs": [],
   "source": [
    "import numpy as np\n",
    "import matplotlib.pyplot as plt\n",
    "import plotly.graph_objects as go"
   ]
  },
  {
   "cell_type": "markdown",
   "id": "dca0af51",
   "metadata": {},
   "source": [
    "# Data Utility"
   ]
  },
  {
   "cell_type": "markdown",
   "id": "941edb03",
   "metadata": {},
   "source": [
    "### Pixel Image Dataset (64 x 64)\n",
    "\n",
    "We create several thousand images that emulate a gradient decay of Red, Green, Blue, values."
   ]
  },
  {
   "cell_type": "markdown",
   "id": "5a17030c",
   "metadata": {},
   "source": [
    "#### Quick Refresher: 2D Guassian Eq. -> Multi-dimensional\n",
    "\n",
    "The Gaussian func. can be extended to 2D. \n",
    "\n",
    "$$\n",
    "f(x,y) = \\dfrac{1}{2\\pi\\sigma_{x}\\sigma_{y}\\sqrt{1 - p^2}} \\cdot\n",
    "exp\\left(\n",
    "-\\dfrac{1}{2(1 - p^2)} \\cdot \n",
    "\\left[ \\dfrac{(x-\\mu_x)^2}{\\sigma_{x}^2} + \\dfrac{(y-\\mu_y)^2}{\\sigma_{y}^2} - \\dfrac{2p(x - \\mu_x)(y - \\mu_y)}{\\sigma_{x} \\sigma_{y}} \\right]\n",
    "\\right)\n",
    "$$\n",
    "\n",
    "* where $\\mu_x$ and $\\mu_y$ are the means of $x$ and $y$ respectively\n",
    "* $\\sigma_x$ and $\\sigma_y$ are the standard deviations of $x$ and $y$ respectively.\n",
    "* where $p$ is the correlation coefficient between $x$ and $y$\n",
    "\n",
    "Given a covariance matrix $\\Sigma$ for a two dimensional Guassian:\n",
    "$$\n",
    "\\Sigma = \n",
    "\\begin{bmatrix}\n",
    "\\sigma_{x}^2 & \\sigma_{xy} \\\\\n",
    "\\sigma_{xy} & \\sigma_{y}^2\n",
    "\\end{bmatrix}\n",
    "$$\n",
    "\n",
    "Where:\n",
    "\n",
    "* $\\sigma_{x}^2$ is the variance of $x$.\n",
    "* $\\sigma_{y}^2$ is the variance of $y$.\n",
    "* $\\sigma_{xy}$ is the covariance between $x$ and $y$.\n",
    "\n",
    "The relationship between the correlation coefficient $p$ and the covariance $\\sigma_{xy}$ is:\n",
    "\n",
    "$$\n",
    "p = \\dfrac{\\sigma_{xy}}{\\sigma_{x}\\sigma_{y}}\n",
    "$$\n",
    "\n",
    "Thus, using the covariance matrix, we can extend the Gaussian equation to be multi-dimensional:\n",
    "\n",
    "$$\n",
    "f(x,y) = \\dfrac{1}{2\\pi |\\Sigma|^{0.5}} \\cdot exp \\left(\n",
    "-\\dfrac{1}{2} \\left[ x - \\mu_x y - \\mu_y \\right] \\cdot \\Sigma^{-1}\n",
    "\\begin{bmatrix}\n",
    "x - \\mu_{x} \\\\\n",
    "y - \\mu_{y}\n",
    "\\end{bmatrix}\n",
    "\\right)\n",
    "$$\n",
    "\n",
    "** Note $|\\Sigma|$ references the determinate"
   ]
  },
  {
   "cell_type": "code",
   "execution_count": 48,
   "id": "5135c296",
   "metadata": {},
   "outputs": [],
   "source": [
    "def fill_rgb(fill_val=None, arr=None):\n",
    "    \"\"\"\n",
    "    Fills an 2 dimensional RGB (depth 3) with a fill_val\n",
    "    O(n^2)\n",
    "    \"\"\"\n",
    "    for row_idx in range(len(arr)):\n",
    "        for col_idx in range(len(arr[row_idx])):\n",
    "            arr[row_idx][col_idx] = fill_val\n",
    "            \n",
    "    return arr\n",
    "\n",
    "def determine_bin_edges(data, num_bins=None):\n",
    "    \"\"\"\n",
    "    Determine bin edges based on the given data array.\n",
    "    \"\"\"\n",
    "    if num_bins is None:\n",
    "        num_bins = int(np.sqrt(len(data)))     # If num_bins is not provided, use the square root rule\n",
    "    data_min, data_max = np.min(data), np.max(data)\n",
    "    bin_width = (data_max - data_min) / num_bins\n",
    "    bin_edges = np.linspace(data_min, data_max, num_bins+1)\n",
    "\n",
    "    return bin_edges\n",
    "\n",
    "\n",
    "def multi_dim_inner_term(x, y, mean, covariance_matrix):\n",
    "    \"\"\"\n",
    "    Calculates the multi-dimensional inner term of the Gaussian Eq.\n",
    "    \"\"\"\n",
    "    return (-0.5 * \n",
    "            np.dot(np.array([x - mean[0], y - mean[1]]),\n",
    "                   np.dot(np.linalg.inv(covariance_matrix), np.array([[x - mean[0]], [y - mean[1]]]))\n",
    "                  )\n",
    "           )\n",
    "\n",
    "def transform_pixels_gaussian(image=None, highest_rgb_val=None):\n",
    "    \"\"\"\n",
    "    Fills an 2 Dimensional RGB image that has pixel values that follow a normal distribution, uses multidim-gaus.\n",
    "    ** Assumes even square image, O(n^2)\n",
    "    \"\"\"\n",
    "    decay_val = 0\n",
    "    reference_val = highest_rgb_val\n",
    "    gauss_values = []\n",
    "    center = int(image.shape[0] / 2)\n",
    "    mean = [center, center]\n",
    "    covariance_matrix = [\n",
    "        [1, 0], \n",
    "        [0, 1]\n",
    "    ] \n",
    "    std_devs = np.sqrt(np.diag(covariance_matrix))\n",
    "    lead_term = (1 / (2 * np.pi * (np.linalg.det(covariance_matrix) ** 0.5)))     # Calculate the lead term for convinience\n",
    "    # peak_val = lead_term * np.exp(multi_dim_inner_term(mean[0], mean[1], mean, covariance_matrix))\n",
    "    \n",
    "    for row_idx in range(len(image)):\n",
    "        for col_idx in range(len(image[row_idx])):\n",
    "            x = row_idx + 1\n",
    "            y = col_idx + 1\n",
    "            inner_exp = multi_dim_inner_term(x, y, mean, covariance_matrix)\n",
    "            exp_term = np.exp(inner_exp)\n",
    "            gauss_output = lead_term * exp_term\n",
    "            gauss_values.append(gauss_output[0])\n",
    "    \n",
    "    bin_edges = determine_bin_edges(gauss_values, 100)\n",
    "    bin_indices = np.digitize(gauss_values, bin_edges)\n",
    "    \n",
    "    transformed_arr =  np.repeat(np.array(bin_indices), 3).reshape(image.shape[0], image.shape[0], 3)\n",
    "    unique_nums, unique_counts = np.unique(transformed_arr, return_counts=True)\n",
    "    \n",
    "    for num in reversed(unique_nums): # Assume the first num has the most value\n",
    "        num_arr = [num, num, num] # Assume RGB\n",
    "        mask = np.all(transformed_arr == num_arr, axis=-1)\n",
    "        reference_val = np.array(reference_val) / 1.1\n",
    "        transformed_arr[mask] = np.array(\n",
    "            (reference_val) \n",
    "        )\n",
    "        \n",
    "    return transformed_arr\n",
    "            "
   ]
  },
  {
   "cell_type": "code",
   "execution_count": 70,
   "id": "220703b9",
   "metadata": {},
   "outputs": [],
   "source": [
    "_template = np.empty([64, 64, 3], dtype=int)\n",
    "\n",
    "red_image = transform_pixels_gaussian(_template ,[255, 0, 0])\n",
    "green_image = transform_pixels_gaussian(_template ,[0, 255, 0])\n",
    "blue_image = transform_pixels_gaussian(_template ,[0, 0, 255])"
   ]
  },
  {
   "cell_type": "code",
   "execution_count": 71,
   "id": "2e2b1684",
   "metadata": {},
   "outputs": [
    {
     "data": {
      "image/png": "[encoded data removed]",
      "text/plain": [
       "<Figure size 640x480 with 1 Axes>"
      ]
     },
     "metadata": {},
     "output_type": "display_data"
    },
    {
     "data": {
      "image/png": "[encoded data removed]",
      "text/plain": [
       "<Figure size 640x480 with 1 Axes>"
      ]
     },
     "metadata": {},
     "output_type": "display_data"
    },
    {
     "data": {
      "image/png": "[encoded data removed]",
      "text/plain": [
       "<Figure size 640x480 with 1 Axes>"
      ]
     },
     "metadata": {},
     "output_type": "display_data"
    }
   ],
   "source": [
    "plt.imshow(red_image)\n",
    "plt.show()\n",
    "plt.imshow(green_image)\n",
    "plt.show()\n",
    "plt.imshow(blue_image)\n",
    "plt.show()"
   ]
  },
  {
   "cell_type": "markdown",
   "id": "efc96166",
   "metadata": {},
   "source": [
    "#### Adding some random noise to images"
   ]
  },
  {
   "cell_type": "code",
   "execution_count": 78,
   "id": "7de33f00",
   "metadata": {},
   "outputs": [],
   "source": [
    "def add_noise(image=None, rgb_val = None, n_times=None):\n",
    "    \"\"\"\n",
    "    Adds noise based on the position of the highest RGB value\n",
    "    \"\"\"\n",
    "    max_idx = np.argmax(rgb_val)\n",
    "    output_image = np.copy(image)\n",
    "    \n",
    "    for n in range(n_times):\n",
    "        rgb_val[max_idx] = np.random.randint(255) # 0-255 Val\n",
    "        rand_row = np.random.randint(output_image.shape[0] - 1)\n",
    "        rand_col = np.random.randint(output_image.shape[0] - 1)\n",
    "        output_image[rand_row][rand_col] = rgb_val\n",
    "    \n",
    "    return output_image\n",
    "\n",
    "def image_harness(\n",
    "    template_image = None, \n",
    "    rgb_val = None, \n",
    "    n_samples = None\n",
    "):\n",
    "    \"\"\"\n",
    "    Applies functions onto an image and appends the result in an array to be returned\n",
    "    \"\"\"\n",
    "    res = [];\n",
    "    for n in range(n_samples):\n",
    "        img = add_noise(template_image, rgb_val, 100)\n",
    "        res.append(img)\n",
    "        \n",
    "    return np.array(res)\n",
    "    "
   ]
  },
  {
   "cell_type": "markdown",
   "id": "b4a00d45",
   "metadata": {},
   "source": [
    "#### Create our Dataset"
   ]
  },
  {
   "cell_type": "code",
   "execution_count": 85,
   "id": "411ece9b",
   "metadata": {},
   "outputs": [],
   "source": [
    "red_images = image_harness(red_image, [255, 0, 0], 1000)\n",
    "green_images = image_harness(green_image, [0, 255, 0], 1000)\n",
    "blue_images = image_harness(blue_image, [0, 0, 255], 1000)"
   ]
  },
  {
   "cell_type": "code",
   "execution_count": 88,
   "id": "b47f9998",
   "metadata": {},
   "outputs": [
    {
     "data": {
      "text/plain": [
       "(3000, 64, 64, 3)"
      ]
     },
     "execution_count": 88,
     "metadata": {},
     "output_type": "execute_result"
    }
   ],
   "source": [
    "X_Data = np.concatenate((red_images, green_images, blue_images))\n",
    "X_Data.shape"
   ]
  },
  {
   "cell_type": "markdown",
   "id": "ab5e292f",
   "metadata": {},
   "source": [
    "# Images -> Hilbert Space: Bourgain Theorem"
   ]
  },
  {
   "cell_type": "markdown",
   "id": "38fe0483",
   "metadata": {},
   "source": [
    "#### Bourgain Theorem\n",
    "Recall that Bourgain's Theorem about metric embeddings follows:\n",
    "\n",
    "For every finite metric space, $X$, and every $\\epsilon > 0$, **there exists** an embedding such that $f: X \\rightarrow L^2$ (transformed onto a Hilbert Space) such that for all $x, y \\in X$.\n",
    "\n",
    "$$\n",
    "(1 - \\epsilon)d(x, y)^2 \\leq || f(x) - f(y) ||^2 \\leq (1 + \\epsilon) d(x,y)^2\n",
    "$$\n",
    "\n",
    "Where:\n",
    "* $d$ is a metric on $X$\n",
    "* $|| \\cdot ||$ is the $L^2$ norm"
   ]
  },
  {
   "cell_type": "markdown",
   "id": "1c76e011",
   "metadata": {},
   "source": [
    "#### Metric Spaces"
   ]
  },
  {
   "cell_type": "markdown",
   "id": "7ceee0c8",
   "metadata": {},
   "source": [
    "A metric space is defined by a set, together with a function called a metric (often denoted as $d$) that assigns a **non-negative real number** to each pair of elements in the set. This metric satisfies certain properties:\n",
    "\n",
    "* **Non-negativity**: $d(x,y) \\geq 0$ for all $x$,$y$, with equality if and only if $x=y$ - If $x$ and $y$ are ontop of each other (in a way). Then have no distance between them.\n",
    "* **Symmetry**: $d(x,y)=d(y,x)$ for all $x$,$y$ - Order doesn't matter on how you measure them\n",
    "* **Triangle Inequality**: $d(x,y) + d(y,z) \\geq d(x,z)$ for all $x,y,z$ \n",
    "\n",
    "In the Bourgain paper, they formally describe that for a Metric space:\n",
    "\n",
    "**Metric space** . A metric space is described by a pair $(M, d)$, where $M$ is a set and $d: M×M → R \\geq 0$ is a distance function such that $∀x, y, z ∈ M$, we have:\n",
    "* $d(x, y) = 0 ⇔ x = y$ \n",
    "\n",
    "* $d(x, y) = d(y, x)$\n",
    "\n",
    "* $d(x, z) ≤ d(x, y) + d(y, z)$ \n",
    "\n",
    "If $M$ is a finite set, then we call $(M, d)$ a finite metric space."
   ]
  },
  {
   "cell_type": "markdown",
   "id": "17d5293e",
   "metadata": {},
   "source": [
    "#### Posing the data"
   ]
  },
  {
   "cell_type": "markdown",
   "id": "49bb847d",
   "metadata": {},
   "source": [
    "The authors of the paper mention that provided with a multiset of data items denoted as:\n",
    "\n",
    "$$\n",
    "X = \\{x_i\\}^n_{i = 1}\n",
    "$$\n",
    "\n",
    "drawn independently from an unknown distribution $X$. They subsample $m(m < n)$ data uniformly from $X$. They denote this new multiset of data items subsampled as $Y$ where:\n",
    "\n",
    "$$\n",
    "Y \\subseteq X \n",
    "\\\\\n",
    "|Y| = m\n",
    "$$\n",
    "\n",
    "Where elements of $Y$ are embedded in $l_2$ space."
   ]
  },
  {
   "cell_type": "markdown",
   "id": "599000e4",
   "metadata": {},
   "source": [
    "# Distances"
   ]
  },
  {
   "cell_type": "markdown",
   "id": "e082dcc8",
   "metadata": {},
   "source": [
    "### L2 Distance (Euclidean Distance)"
   ]
  },
  {
   "cell_type": "markdown",
   "id": "2adc5e26",
   "metadata": {},
   "source": []
  },
  {
   "cell_type": "code",
   "execution_count": 93,
   "id": "bef4fe1d",
   "metadata": {},
   "outputs": [],
   "source": [
    "def calculate_l2_dist(img_1=None, img_2=None):\n",
    "    \"\"\"\n",
    "    Euclidean distance is the l2 norm. There is the connection of the norm \n",
    "    (in this case the Frobenius norm/2-norm which is the default for norm function) \n",
    "    the Euclidean distance.\n",
    "    \"\"\"\n",
    "    return np.linalg.norm(img_1-img_2)"
   ]
  },
  {
   "cell_type": "code",
   "execution_count": 95,
   "id": "8a02ca5c",
   "metadata": {},
   "outputs": [
    {
     "data": {
      "image/png": "[encoded data removed]",
      "text/plain": [
       "<Figure size 640x480 with 1 Axes>"
      ]
     },
     "metadata": {},
     "output_type": "display_data"
    },
    {
     "data": {
      "image/png": "[encoded data removed]",
      "text/plain": [
       "<Figure size 640x480 with 1 Axes>"
      ]
     },
     "metadata": {},
     "output_type": "display_data"
    },
    {
     "name": "stdout",
     "output_type": "stream",
     "text": [
      "Distance is: 1109.7242900829017\n"
     ]
    }
   ],
   "source": [
    "plt.imshow(red_images[0])\n",
    "plt.show()\n",
    "plt.imshow(red_images[1])\n",
    "plt.show()\n",
    "\n",
    "print(\"Distance is:\", calculate_l2_dist(red_images[0], red_images[1]))"
   ]
  },
  {
   "cell_type": "code",
   "execution_count": 100,
   "id": "6bc3e369",
   "metadata": {},
   "outputs": [
    {
     "data": {
      "image/png": "[encoded data removed]",
      "text/plain": [
       "<Figure size 640x480 with 1 Axes>"
      ]
     },
     "metadata": {},
     "output_type": "display_data"
    },
    {
     "data": {
      "image/png": "[encoded data removed]",
      "text/plain": [
       "<Figure size 640x480 with 1 Axes>"
      ]
     },
     "metadata": {},
     "output_type": "display_data"
    },
    {
     "name": "stdout",
     "output_type": "stream",
     "text": [
      "Distance is: 1064.3331245432512\n"
     ]
    }
   ],
   "source": [
    "plt.imshow(blue_images[0])\n",
    "plt.show()\n",
    "plt.imshow(blue_images[1])\n",
    "plt.show()\n",
    "\n",
    "print(\"Distance is:\", calculate_l2_dist(blue_images[0], blue_images[1]))"
   ]
  },
  {
   "cell_type": "code",
   "execution_count": 99,
   "id": "a14bf334",
   "metadata": {},
   "outputs": [
    {
     "data": {
      "image/png": "[encoded data removed]",
      "text/plain": [
       "<Figure size 640x480 with 1 Axes>"
      ]
     },
     "metadata": {},
     "output_type": "display_data"
    },
    {
     "data": {
      "image/png": "[encoded data removed]",
      "text/plain": [
       "<Figure size 640x480 with 1 Axes>"
      ]
     },
     "metadata": {},
     "output_type": "display_data"
    },
    {
     "name": "stdout",
     "output_type": "stream",
     "text": [
      "Distance is: 11862.04497546692\n"
     ]
    }
   ],
   "source": [
    "plt.imshow(red_images[0])\n",
    "plt.show()\n",
    "plt.imshow(green_images[1])\n",
    "plt.show()\n",
    "\n",
    "print(\"Distance is:\", calculate_l2_dist(red_images[0], green_images[1]))"
   ]
  },
  {
   "cell_type": "markdown",
   "id": "50becb27",
   "metadata": {},
   "source": [
    "### Wassertstein-1 distance (EMD) as d(x,y)\n",
    "Let us take a quick look of EMD distance between images so that we can later use this as our distance function for our metric embedding.\n",
    "\n",
    "As the authors note:\n",
    "\n",
    "Wasserstein-1 distance, also known as the Earth-Mover distance, is one of the distance measures to quantify the similarity of two distributions, defined as:\n",
    "\n",
    "$$\n",
    "W(P_a,P_b) = \\inf_{Γ∈Π(P_a,P_b)} E(x,y)∼Γ (|x−y|)\n",
    "$$\n",
    "\n",
    "where $P_a$ and $P_b$ are two distributions on real numbers, and $Π(Pa, Pb)$ is the set of all joint distributions $Γ(x, y)$ on two real numbers whose marginal distributions are $P_a$ and $P_b$, respectively."
   ]
  },
  {
   "cell_type": "markdown",
   "id": "6d8b50db",
   "metadata": {},
   "source": [
    "# Embedding (Bourgain's Theorem)"
   ]
  },
  {
   "cell_type": "markdown",
   "id": "fc198939",
   "metadata": {},
   "source": [
    "#### Creation of a Random Subset"
   ]
  },
  {
   "cell_type": "markdown",
   "id": "794181c6",
   "metadata": {},
   "source": []
  },
  {
   "cell_type": "code",
   "execution_count": null,
   "id": "dc2a6a6c",
   "metadata": {},
   "outputs": [],
   "source": []
  },
  {
   "cell_type": "code",
   "execution_count": null,
   "id": "8f309e65",
   "metadata": {},
   "outputs": [],
   "source": []
  },
  {
   "cell_type": "code",
   "execution_count": null,
   "id": "d5b146ff",
   "metadata": {},
   "outputs": [],
   "source": []
  },
  {
   "cell_type": "code",
   "execution_count": null,
   "id": "4ce3d30f",
   "metadata": {},
   "outputs": [],
   "source": []
  },
  {
   "cell_type": "code",
   "execution_count": null,
   "id": "9c689e7d",
   "metadata": {},
   "outputs": [],
   "source": []
  },
  {
   "cell_type": "code",
   "execution_count": null,
   "id": "905c2f09",
   "metadata": {},
   "outputs": [],
   "source": []
  },
  {
   "cell_type": "code",
   "execution_count": null,
   "id": "6e3cc4c2",
   "metadata": {},
   "outputs": [],
   "source": []
  }
 ],
 "metadata": {
  "kernelspec": {
   "display_name": "Python 3 (ipykernel)",
   "language": "python",
   "name": "python3"
  },
  "language_info": {
   "codemirror_mode": {
    "name": "ipython",
    "version": 3
   },
   "file_extension": ".py",
   "mimetype": "text/x-python",
   "name": "python",
   "nbconvert_exporter": "python",
   "pygments_lexer": "ipython3",
   "version": "3.10.9"
  }
 },
 "nbformat": 4,
 "nbformat_minor": 5
}
