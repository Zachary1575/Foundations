{
 "cells": [
  {
   "cell_type": "markdown",
   "id": "3a0372e5",
   "metadata": {},
   "source": [
    "# Motivation"
   ]
  },
  {
   "cell_type": "markdown",
   "id": "d4566ba6",
   "metadata": {},
   "source": [
    "The motivation of BourGAN from the authors is to embed data into a metric space (namely $l_2$) to which we can take advantage of the geometric properties the data may propose and draw vectors provided from a fitted GMM on the metric space. This inturn gives us a more structured latent mapping and helps prevent mode collapse. This paper hinges on Bourgain theory which argues that data can all be transformed onto an l2 space. That is:\n",
    "\n",
    "For any finite metric space $X$, there exists an embedding of $X$ into a Hilbert space $H$ (a complete inner-product space) such that the distances between points in $X$ are approximately preserved in $H$."
   ]
  },
  {
   "cell_type": "code",
   "execution_count": null,
   "id": "377da5b4",
   "metadata": {},
   "outputs": [],
   "source": []
  }
 ],
 "metadata": {
  "kernelspec": {
   "display_name": "Python 3 (ipykernel)",
   "language": "python",
   "name": "python3"
  },
  "language_info": {
   "codemirror_mode": {
    "name": "ipython",
    "version": 3
   },
   "file_extension": ".py",
   "mimetype": "text/x-python",
   "name": "python",
   "nbconvert_exporter": "python",
   "pygments_lexer": "ipython3",
   "version": "3.10.9"
  }
 },
 "nbformat": 4,
 "nbformat_minor": 5
}
