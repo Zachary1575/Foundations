{
 "cells": [
  {
   "cell_type": "code",
   "execution_count": 1,
   "id": "7b6b05b9",
   "metadata": {},
   "outputs": [
    {
     "name": "stderr",
     "output_type": "stream",
     "text": [
      "2023-03-16 19:34:43.665312: I tensorflow/core/platform/cpu_feature_guard.cc:193] This TensorFlow binary is optimized with oneAPI Deep Neural Network Library (oneDNN) to use the following CPU instructions in performance-critical operations:  SSE4.1 SSE4.2\n",
      "To enable them in other operations, rebuild TensorFlow with the appropriate compiler flags.\n"
     ]
    }
   ],
   "source": [
    "import tensorflow as tf\n",
    "import imageio\n",
    "\n",
    "import glob\n",
    "import matplotlib.pyplot as plt\n",
    "import numpy as np\n",
    "import os\n",
    "import PIL\n",
    "from tensorflow.keras import layers\n",
    "import time\n",
    "import inspect\n",
    "\n",
    "from IPython import display"
   ]
  },
  {
   "cell_type": "markdown",
   "id": "61957b5d",
   "metadata": {},
   "source": [
    "# Dataset MNIST"
   ]
  },
  {
   "cell_type": "code",
   "execution_count": 2,
   "id": "fb583ec3",
   "metadata": {},
   "outputs": [],
   "source": [
    "(train_images, train_labels), (_, _) = tf.keras.datasets.mnist.load_data()"
   ]
  },
  {
   "cell_type": "code",
   "execution_count": 3,
   "id": "4f6b90ec",
   "metadata": {},
   "outputs": [
    {
     "name": "stdout",
     "output_type": "stream",
     "text": [
      "Shape of Training data: (60000, 28, 28, 1)\n",
      "Shape of Training Images: (28, 28, 1)\n",
      "Peek at data\n"
     ]
    },
    {
     "data": {
      "image/png": "[encoded data removed]",
      "text/plain": [
       "<Figure size 640x480 with 1 Axes>"
      ]
     },
     "metadata": {},
     "output_type": "display_data"
    },
    {
     "name": "stderr",
     "output_type": "stream",
     "text": [
      "2023-03-16 19:34:49.817947: I tensorflow/core/platform/cpu_feature_guard.cc:193] This TensorFlow binary is optimized with oneAPI Deep Neural Network Library (oneDNN) to use the following CPU instructions in performance-critical operations:  SSE4.1 SSE4.2\n",
      "To enable them in other operations, rebuild TensorFlow with the appropriate compiler flags.\n"
     ]
    }
   ],
   "source": [
    "train_images = train_images.reshape(train_images.shape[0], 28, 28, 1).astype('float32')\n",
    "train_images = (train_images - 127.5) / 127.5  # Normalize the images to [-1, 1]\n",
    "\n",
    "# Take a peek from the training set\n",
    "# Seems like 60,000 images is needed for Handwriting generation\n",
    "print(\"Shape of Training data:\", train_images.shape);\n",
    "print(\"Shape of Training Images:\", train_images[0].shape);\n",
    "\n",
    "# Peek at the data\n",
    "print(\"Peek at data\");\n",
    "plt.imshow(train_images[0]);\n",
    "plt.show();\n",
    "\n",
    "# Data Params\n",
    "BUFFER_SIZE = 60000\n",
    "BATCH_SIZE = 256\n",
    "\n",
    "# Batch and shuffle the data\n",
    "train_dataset = tf.data.Dataset.from_tensor_slices(train_images).shuffle(BUFFER_SIZE).batch(BATCH_SIZE)"
   ]
  },
  {
   "cell_type": "markdown",
   "id": "8766fe28",
   "metadata": {},
   "source": [
    "# The Generator"
   ]
  },
  {
   "cell_type": "markdown",
   "id": "94c487e3",
   "metadata": {},
   "source": [
    "tf.keras.Sequential() => Sequential groups a linear stack of layers into a tf.keras.Model.\n",
    "\n",
    "==============================================================================================================\n",
    "\n",
    "model.add(layers.Dense(7*7*256, use_bias=False, input_shape=(100,))) => Just your regular densely-connected NN layer.\n",
    "<br>\n",
    "\n",
    "Dense implements the operation: output = activation(dot(input, kernel) + bias) where activation is the element-wise activation function passed as the activation argument, kernel is a weights matrix created by the layer, and bias is a bias vector created by the layer (only applicable if use_bias is True). These are all attributes of Dense.\n",
    "\n",
    "=============================================================================================================="
   ]
  },
  {
   "cell_type": "code",
   "execution_count": 4,
   "id": "5617f2d4",
   "metadata": {},
   "outputs": [],
   "source": [
    "def make_generator_model():\n",
    "    model = tf.keras.Sequential()\n",
    "    model.add(layers.Dense(7*7*256, use_bias=False, input_shape=(100,)))\n",
    "    model.add(layers.BatchNormalization())\n",
    "    model.add(layers.LeakyReLU())\n",
    "\n",
    "    model.add(layers.Reshape((7, 7, 256)))\n",
    "    assert model.output_shape == (None, 7, 7, 256)  # Note: None is the batch size\n",
    "\n",
    "    model.add(layers.Conv2DTranspose(128, (5, 5), strides=(1, 1), padding='same', use_bias=False))\n",
    "    assert model.output_shape == (None, 7, 7, 128)\n",
    "    model.add(layers.BatchNormalization())\n",
    "    model.add(layers.LeakyReLU())\n",
    "\n",
    "    model.add(layers.Conv2DTranspose(64, (5, 5), strides=(2, 2), padding='same', use_bias=False))\n",
    "    assert model.output_shape == (None, 14, 14, 64)\n",
    "    model.add(layers.BatchNormalization())\n",
    "    model.add(layers.LeakyReLU())\n",
    "\n",
    "    model.add(layers.Conv2DTranspose(1, (5, 5), strides=(2, 2), padding='same', use_bias=False, activation='tanh'))\n",
    "    assert model.output_shape == (None, 28, 28, 1)\n",
    "\n",
    "    return model"
   ]
  },
  {
   "cell_type": "markdown",
   "id": "152fd1b2",
   "metadata": {},
   "source": [
    "Keras Model Params:\n",
    "\n",
    "inputs: The input(s) of the model: a keras.Input object or a combination of keras.Input objects in a dict, list or tuple.\n",
    "<br>\n",
    "<br>\n",
    "outputs: The output(s) of the model: a tensor that originated from keras.Input objects or a combination of such tensors in a dict, list or tuple. See Functional API example below.\n",
    "<br>\n",
    "<br>\n",
    "name: String, the name of the model.\n"
   ]
  },
  {
   "cell_type": "code",
   "execution_count": 5,
   "id": "a2f690b0",
   "metadata": {},
   "outputs": [
    {
     "name": "stdout",
     "output_type": "stream",
     "text": [
      "FullArgSpec(args=[], varargs='args', varkw='kwargs', defaults=None, kwonlyargs=[], kwonlydefaults=None, annotations={})\n"
     ]
    },
    {
     "data": {
      "image/png": "[encoded data removed]",
      "text/plain": [
       "<Figure size 640x480 with 1 Axes>"
      ]
     },
     "metadata": {},
     "output_type": "display_data"
    }
   ],
   "source": [
    "# Run the Untrained generator\n",
    "# Untrained at this point...\n",
    "generator = make_generator_model() # This instantiates the keras.Sequential Class, comes with the Model Arguements\n",
    "\n",
    "# Lets see the params of this generator\n",
    "# FullArgSpec(args=[], varargs='args', varkw='kwargs', \n",
    "# defaults=None, kwonlyargs=[], kwonlydefaults=None, annotations={})\n",
    "\n",
    "print(inspect.getfullargspec(generator));\n",
    "\n",
    "# Why do we need this?\n",
    "noise = tf.random.normal([1, 100])\n",
    "\n",
    "generated_image = generator(noise, training=False)\n",
    "\n",
    "plt.imshow(generated_image[0, :, :, 0], cmap='gray')\n",
    "plt.show();"
   ]
  },
  {
   "cell_type": "markdown",
   "id": "f3826a80",
   "metadata": {},
   "source": [
    "# The Discriminator"
   ]
  },
  {
   "cell_type": "code",
   "execution_count": 6,
   "id": "ef7c4073",
   "metadata": {},
   "outputs": [],
   "source": [
    "def make_discriminator_model():\n",
    "    model = tf.keras.Sequential()\n",
    "    model.add(layers.Conv2D(64, (5, 5), strides=(2, 2), padding='same',\n",
    "                                     input_shape=[28, 28, 1]))\n",
    "    model.add(layers.LeakyReLU())\n",
    "    model.add(layers.Dropout(0.3))\n",
    "\n",
    "    model.add(layers.Conv2D(128, (5, 5), strides=(2, 2), padding='same'))\n",
    "    model.add(layers.LeakyReLU())\n",
    "    model.add(layers.Dropout(0.3))\n",
    "\n",
    "    model.add(layers.Flatten())\n",
    "    model.add(layers.Dense(1))\n",
    "\n",
    "    return model"
   ]
  },
  {
   "cell_type": "code",
   "execution_count": 8,
   "id": "16801706",
   "metadata": {},
   "outputs": [
    {
     "name": "stdout",
     "output_type": "stream",
     "text": [
      "tf.Tensor([[-0.00078055]], shape=(1, 1), dtype=float32)\n"
     ]
    }
   ],
   "source": [
    "# Demo test of the discrminator\n",
    "# Untrained at this point...\n",
    "discriminator = make_discriminator_model()\n",
    "decision = discriminator(generated_image)\n",
    "print(decision)\n"
   ]
  },
  {
   "cell_type": "markdown",
   "id": "494ad97d",
   "metadata": {},
   "source": [
    "# Define the loss and optimizers (IMPORTANT)"
   ]
  },
  {
   "cell_type": "code",
   "execution_count": 9,
   "id": "41e92279",
   "metadata": {},
   "outputs": [],
   "source": [
    "# This method returns a helper function to compute cross entropy loss\n",
    "cross_entropy = tf.keras.losses.BinaryCrossentropy(from_logits=True);"
   ]
  },
  {
   "cell_type": "code",
   "execution_count": 10,
   "id": "258750cb",
   "metadata": {},
   "outputs": [],
   "source": [
    "\"\"\"\n",
    "Discriminator loss:\n",
    "This method quantifies how well the discriminator is able to distinguish real images from fakes. \n",
    "It compares the discriminator's predictions on real images to an array of 1s, \n",
    "and the discriminator's predictions on fake (generated) images to an array of 0s.\n",
    "\"\"\"\n",
    "\n",
    "def discriminator_loss(real_output, fake_output):\n",
    "    real_loss = cross_entropy(tf.ones_like(real_output), real_output)\n",
    "    fake_loss = cross_entropy(tf.zeros_like(fake_output), fake_output)\n",
    "    total_loss = real_loss + fake_loss\n",
    "    return total_loss"
   ]
  },
  {
   "cell_type": "code",
   "execution_count": 11,
   "id": "746f92bb",
   "metadata": {},
   "outputs": [],
   "source": [
    "\"\"\"\n",
    "Generator loss:\n",
    "The generator's loss quantifies how well it was able to trick the discriminator. \n",
    "Intuitively, if the generator is performing well, the discriminator will classify the fake images as real (or 1). \n",
    "Here, compare the discriminators decisions on the generated images to an array of 1s.\n",
    "\"\"\"\n",
    "\n",
    "def generator_loss(fake_output):\n",
    "    return cross_entropy(tf.ones_like(fake_output), fake_output);"
   ]
  },
  {
   "cell_type": "markdown",
   "id": "68e946b5",
   "metadata": {},
   "source": [
    "Since we train both models differently, we have two optimizers instead of one."
   ]
  },
  {
   "cell_type": "code",
   "execution_count": 12,
   "id": "cdd9a899",
   "metadata": {},
   "outputs": [],
   "source": [
    "generator_optimizer = tf.keras.optimizers.Adam(1e-4); # Default Learning Rate\n",
    "discriminator_optimizer = tf.keras.optimizers.Adam(1e-4); # Default Learning Rate"
   ]
  },
  {
   "cell_type": "markdown",
   "id": "1fcfca41",
   "metadata": {},
   "source": [
    "# Save checkpoints (Optional)"
   ]
  },
  {
   "cell_type": "markdown",
   "id": "3732665b",
   "metadata": {},
   "source": [
    "This notebook also demonstrates how to save and restore models, which can be helpful in case a long running training task is interrupted."
   ]
  },
  {
   "cell_type": "code",
   "execution_count": 13,
   "id": "fbb5f160",
   "metadata": {},
   "outputs": [],
   "source": [
    "checkpoint_dir = './training_checkpoints'\n",
    "checkpoint_prefix = os.path.join(checkpoint_dir, \"ckpt\")\n",
    "checkpoint = tf.train.Checkpoint(generator_optimizer=generator_optimizer,\n",
    "                                 discriminator_optimizer=discriminator_optimizer,\n",
    "                                 generator=generator,\n",
    "                                 discriminator=discriminator)"
   ]
  },
  {
   "cell_type": "markdown",
   "id": "70e72689",
   "metadata": {},
   "source": [
    "# Training"
   ]
  },
  {
   "cell_type": "markdown",
   "id": "cd51ae8b",
   "metadata": {},
   "source": [
    "The training loop begins with generator receiving a random seed as input. That seed is used to produce an image. The discriminator is then used to classify real images (drawn from the training set) and fakes images (produced by the generator). The loss is calculated for each of these models, and the gradients are used to update the generator and discriminator."
   ]
  },
  {
   "cell_type": "code",
   "execution_count": 14,
   "id": "4e5699e5",
   "metadata": {},
   "outputs": [],
   "source": [
    "# Training Parameters\n",
    "EPOCHS = 50\n",
    "noise_dim = 100\n",
    "num_examples_to_generate = 16\n",
    "\n",
    "# You will reuse this seed overtime (so it's easier)\n",
    "# to visualize progress in the animated GIF)\n",
    "seed = tf.random.normal([num_examples_to_generate, noise_dim]);"
   ]
  },
  {
   "cell_type": "code",
   "execution_count": 15,
   "id": "7d4939f8",
   "metadata": {},
   "outputs": [],
   "source": [
    "# Notice the use of `tf.function`\n",
    "# This annotation causes the function to be \"compiled\".\n",
    "\n",
    "# Takes the images as parameter...\n",
    "\n",
    "@tf.function\n",
    "def train_step(images):\n",
    "    noise = tf.random.normal([BATCH_SIZE, noise_dim])     # Why do we need this noise??????\n",
    "    \n",
    "    \"\"\"\n",
    "    Gradient tapes use memory to store intermediate results, \n",
    "    including inputs and outputs, for use during the backwards pass. \n",
    "    For efficiency, some ops (like ReLU ) don't need to keep their intermediate results \n",
    "    and they are pruned during the forward pass.\n",
    "    \"\"\"\n",
    "    with tf.GradientTape() as gen_tape, tf.GradientTape() as disc_tape:\n",
    "        generated_images = generator(noise, training=True) # This trains the generator of creating the images\n",
    "\n",
    "        real_output = discriminator(images, training=True) # Discriminator trains on real images to know what a real output is... \n",
    "        fake_output = discriminator(generated_images, training=True) # Discriminator trains on fake images to what a false output is...\n",
    "\n",
    "        gen_loss = generator_loss(fake_output) # Get the Loss of the discriminator fake model\n",
    "        \n",
    "        # Gets the loss on how well the discriminator is able to distinguish real images from fakes. \n",
    "        # It compares the discriminator's predictions on real images to an array of 1s, \n",
    "        # and the discriminator's predictions on fake (generated) images to an array of 0s.\n",
    "        disc_loss = discriminator_loss(real_output, fake_output) \n",
    "\n",
    "    \n",
    "    # idk whats going on down here...\n",
    "    gradients_of_generator = gen_tape.gradient(gen_loss, generator.trainable_variables)\n",
    "    gradients_of_discriminator = disc_tape.gradient(disc_loss, discriminator.trainable_variables)\n",
    "\n",
    "    generator_optimizer.apply_gradients(zip(gradients_of_generator, generator.trainable_variables))\n",
    "    discriminator_optimizer.apply_gradients(zip(gradients_of_discriminator, discriminator.trainable_variables))"
   ]
  },
  {
   "cell_type": "code",
   "execution_count": 20,
   "id": "e94f21b4",
   "metadata": {},
   "outputs": [],
   "source": [
    "def train(dataset, epochs):\n",
    "    \n",
    "    # For each epoch...\n",
    "    for epoch in range(epochs):\n",
    "        start = time.time()\n",
    "        \n",
    "        # For each training step\n",
    "        # For each batch in the dataset, train a step\n",
    "        for image_batch in dataset:\n",
    "            train_step(image_batch)\n",
    "\n",
    "        # Produce images for the GIF as you go\n",
    "        display.clear_output(wait=True)\n",
    "        generate_and_save_images(generator,\n",
    "                                 epoch + 1,\n",
    "                                 seed)\n",
    "\n",
    "        # Save the model every 15 epochs\n",
    "        if (epoch + 1) % 15 == 0:\n",
    "            checkpoint.save(file_prefix = checkpoint_prefix)\n",
    "\n",
    "        print ('Time for epoch {} is {} sec'.format(epoch + 1, time.time()-start))\n",
    "    \n",
    "    # Generate after the final epoch\n",
    "    display.clear_output(wait = True);\n",
    "    generate_and_save_images(generator, epochs,seed);"
   ]
  },
  {
   "cell_type": "markdown",
   "id": "9decb888",
   "metadata": {},
   "source": [
    "# Generation or Prediction of Images"
   ]
  },
  {
   "cell_type": "code",
   "execution_count": 21,
   "id": "f7fa5afa",
   "metadata": {},
   "outputs": [],
   "source": [
    "def generate_and_save_images(model, epoch, test_input):\n",
    "    # Notice `training` is set to False.\n",
    "    # This is so all layers run in inference mode (batchnorm).\n",
    "    predictions = model(test_input, training=False)\n",
    "\n",
    "    fig = plt.figure(figsize=(4, 4))\n",
    "\n",
    "    for i in range(predictions.shape[0]):\n",
    "        plt.subplot(4, 4, i+1)\n",
    "        plt.imshow(predictions[i, :, :, 0] * 127.5 + 127.5, cmap='gray')\n",
    "        plt.axis('off')\n",
    "        \n",
    "    plt.savefig('image_at_epoch_{:04d}.png'.format(epoch))\n",
    "    plt.show()\n",
    "\n"
   ]
  },
  {
   "cell_type": "markdown",
   "id": "1cad7a71",
   "metadata": {},
   "source": [
    "# Running the Model"
   ]
  },
  {
   "cell_type": "code",
   "execution_count": 22,
   "id": "7aa66bbe",
   "metadata": {},
   "outputs": [
    {
     "data": {
      "image/png": "[encoded data removed]",
      "text/plain": [
       "<Figure size 400x400 with 16 Axes>"
      ]
     },
     "metadata": {},
     "output_type": "display_data"
    }
   ],
   "source": [
    "print(\"Epochs to train:\", EPOCHS);\n",
    "print(\"Train_Dataset Peek:\", train_dataset);\n",
    "train(train_dataset, EPOCHS)"
   ]
  },
  {
   "cell_type": "code",
   "execution_count": null,
   "id": "37079d87",
   "metadata": {},
   "outputs": [],
   "source": [
    "# checkpoint.restore(tf.train.latest_checkpoint(checkpoint_dir))"
   ]
  },
  {
   "cell_type": "code",
   "execution_count": 23,
   "id": "3180c34c",
   "metadata": {},
   "outputs": [],
   "source": [
    "# Display a single image using the epoch number\n",
    "def display_image(epoch_no):\n",
    "    return PIL.Image.open('image_at_epoch_{:04d}.png'.format(epoch_no));\n",
    "\n",
    "display_image(EPOCHS);"
   ]
  },
  {
   "cell_type": "code",
   "execution_count": null,
   "id": "0c5a5a0b",
   "metadata": {},
   "outputs": [],
   "source": []
  },
  {
   "cell_type": "code",
   "execution_count": null,
   "id": "f8ed4b66",
   "metadata": {},
   "outputs": [],
   "source": []
  },
  {
   "cell_type": "code",
   "execution_count": null,
   "id": "b7a0656b",
   "metadata": {},
   "outputs": [],
   "source": []
  },
  {
   "cell_type": "code",
   "execution_count": null,
   "id": "59b59c28",
   "metadata": {},
   "outputs": [],
   "source": []
  },
  {
   "cell_type": "code",
   "execution_count": null,
   "id": "26f1226e",
   "metadata": {},
   "outputs": [],
   "source": []
  }
 ],
 "metadata": {
  "kernelspec": {
   "display_name": "Python 3 (ipykernel)",
   "language": "python",
   "name": "python3"
  },
  "language_info": {
   "codemirror_mode": {
    "name": "ipython",
    "version": 3
   },
   "file_extension": ".py",
   "mimetype": "text/x-python",
   "name": "python",
   "nbconvert_exporter": "python",
   "pygments_lexer": "ipython3",
   "version": "3.10.9"
  }
 },
 "nbformat": 4,
 "nbformat_minor": 5
}
