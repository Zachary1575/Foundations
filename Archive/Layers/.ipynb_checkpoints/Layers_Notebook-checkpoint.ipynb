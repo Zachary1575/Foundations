{
 "cells": [
  {
   "cell_type": "code",
   "execution_count": 1,
   "id": "fb63542f",
   "metadata": {},
   "outputs": [],
   "source": [
    "# Unrelated Packages\n",
    "import numpy as np\n",
    "import pandas as pd\n",
    "import plotly.express as px\n",
    "from matplotlib import pyplot as plt"
   ]
  },
  {
   "cell_type": "code",
   "execution_count": 20,
   "id": "d13a5459",
   "metadata": {},
   "outputs": [],
   "source": [
    "# Tensorflow Imports:\n",
    "import tensorflow as tf"
   ]
  },
  {
   "cell_type": "code",
   "execution_count": 21,
   "id": "bee19c4c",
   "metadata": {},
   "outputs": [],
   "source": [
    "# For Peformance Purposes to compare to Keras:\n",
    "import time"
   ]
  },
  {
   "cell_type": "markdown",
   "id": "42f7c103",
   "metadata": {},
   "source": [
    "# Sequential Model"
   ]
  },
  {
   "cell_type": "code",
   "execution_count": 22,
   "id": "3dce7320",
   "metadata": {},
   "outputs": [],
   "source": [
    "class Sequential(tf.Module):\n",
    "    def __init__(self,**kwargs):  \n",
    "        super().__init__(**kwargs)\n",
    "        self._layers = []\n",
    "        self._optimizer = None\n",
    "        self._loss_func = None\n",
    "        self.lr = None\n",
    "    \n",
    "    def add(self, layer):\n",
    "        self._layers.append(layer)\n",
    "    \n",
    "    def _compile(self, \n",
    "                 optimizer = None,\n",
    "                 loss = None\n",
    "                ):\n",
    "        self._optimizer = optimizer\n",
    "        self._loss_func = loss\n",
    "    \n",
    "    @tf.function\n",
    "    def fit(self, x, y, learning_rate,n_epochs):\n",
    "        for _epoch in range(n_epochs):\n",
    "            with tf.GradientTape(persistent=True) as t:\n",
    "                current_loss = loss_crsntrpy(y, self.predict(x))"
   ]
  },
  {
   "cell_type": "markdown",
   "id": "83234559",
   "metadata": {},
   "source": [
    "# Dense Layers"
   ]
  },
  {
   "cell_type": "markdown",
   "id": "61d78f70",
   "metadata": {},
   "source": [
    "### Weight Initialization (default): \n",
    "Xavier Initialization (or Globular Uniform)"
   ]
  },
  {
   "cell_type": "markdown",
   "id": "ce9cbe42",
   "metadata": {},
   "source": [
    "### Activation Function (default): \n",
    "Linear"
   ]
  },
  {
   "cell_type": "code",
   "execution_count": 4,
   "id": "059c4b68",
   "metadata": {},
   "outputs": [],
   "source": [
    "class Dense_Layer(tf.Module):\n",
    "    \"\"\"\n",
    "    Regular Dense Layer found in many regular Neural Networks\n",
    "    \"\"\"\n",
    "    def __init__(\n",
    "        self, \n",
    "        input_size, \n",
    "        output_size, \n",
    "        output_layer=False, \n",
    "        activation_function=\"linear\",\n",
    "        **kwargs\n",
    "    ):\n",
    "        super().__init__(**kwargs)\n",
    "        \n",
    "        self.input_size = input_size;\n",
    "        self.output_size = output_size;\n",
    "        self.output_layer = output_layer;\n",
    "        self.activation_function = activation_function;\n",
    "        \n",
    "        # Weight Scheme\n",
    "        self.w = tf.Variable(\n",
    "            tf.random.normal([input_size, output_size]) * tf.sqrt(2 / (input_size + output_size)),\n",
    "            name='w'\n",
    "        );\n",
    "        \n",
    "        # Bias Scheme\n",
    "        self.b = tf.Variable(0.0, name='b');\n",
    "        \n",
    "    def __call__(self, x):\n",
    "        \n",
    "        match self.activation_function:\n",
    "            case \"leaky_relu\":\n",
    "                result = tf.nn.leaky_relu(x @ self.w + self.b)\n",
    "            case \"relu\":\n",
    "                result = tf.nn.relu(x @ self.w + self.b)\n",
    "            case \"softmax\":\n",
    "                result = tf.nn.softmax(x @ self.w + self.b)\n",
    "            case \"sigmoid\":\n",
    "                result = tf.nn.sigmoid(x @ self.w + self.b)\n",
    "            case _:\n",
    "                result = (x @ self.w + self.b) # I believe this is just the linear result\n",
    "                \n",
    "        return result"
   ]
  },
  {
   "cell_type": "markdown",
   "id": "bbd1fac6",
   "metadata": {},
   "source": [
    "### Performance Measure"
   ]
  },
  {
   "cell_type": "markdown",
   "id": "6031b7b9",
   "metadata": {},
   "source": [
    "#### Gaussian Classification - Dataset"
   ]
  },
  {
   "cell_type": "markdown",
   "id": "cc29c025",
   "metadata": {},
   "source": [
    "Covariance Matrix for all seperation:\n",
    "$$\n",
    "\\begin{bmatrix}\n",
    "1 & 0\\\\\n",
    "0 & 1\n",
    "\\end{bmatrix}\n",
    "$$\n",
    "\n",
    "Covariance Matrix for all no clear seperation:\n",
    "$$\n",
    "\\begin{bmatrix}\n",
    "1 & 0\\\\\n",
    "0 & 30\n",
    "\\end{bmatrix}\n",
    "$$"
   ]
  },
  {
   "cell_type": "code",
   "execution_count": 5,
   "id": "85321c14",
   "metadata": {},
   "outputs": [],
   "source": [
    "cluster_amnt = 5000"
   ]
  },
  {
   "cell_type": "code",
   "execution_count": 6,
   "id": "e4d44da5",
   "metadata": {},
   "outputs": [],
   "source": [
    "# Easy Linear Seperation\n",
    "# cluster_1 = np.random.multivariate_normal([10, 10], [[1, 0], [0, 5]], cluster_amnt)\n",
    "# cluster_2 = np.random.multivariate_normal([-10, 10], [[1, 0], [0, 5]], cluster_amnt)\n",
    "# cluster_3 = np.random.multivariate_normal([10, -10], [[1, 0], [0, 5]], cluster_amnt)\n",
    "# cluster_4 = np.random.multivariate_normal([-10, -10], [[1, 0], [0, 5]], cluster_amnt)\n",
    "\n",
    "# No Clear Linear Seperation\n",
    "cluster_1 = np.random.multivariate_normal([10, 10], [[1, 0], [0, 30]], cluster_amnt)\n",
    "cluster_2 = np.random.multivariate_normal([-10, 10], [[1, 0], [0, 30]], cluster_amnt)\n",
    "cluster_3 = np.random.multivariate_normal([10, -10], [[1, 0], [0, 30]], cluster_amnt)\n",
    "cluster_4 = np.random.multivariate_normal([-10, -10], [[1, 0], [0, 30]], cluster_amnt)"
   ]
  },
  {
   "cell_type": "code",
   "execution_count": 7,
   "id": "66c01d01",
   "metadata": {},
   "outputs": [],
   "source": [
    "l1 = np.empty(cluster_amnt)\n",
    "l2 = np.empty(cluster_amnt)\n",
    "l3 = np.empty(cluster_amnt)\n",
    "l4 = np.empty(cluster_amnt)\n",
    "\n",
    "l1.fill(0)\n",
    "l2.fill(1)\n",
    "l3.fill(2)\n",
    "l4.fill(3)\n",
    "\n",
    "labels = np.concatenate((l1, l2, l3, l4), axis=0)"
   ]
  },
  {
   "cell_type": "code",
   "execution_count": 8,
   "id": "89433006",
   "metadata": {},
   "outputs": [],
   "source": [
    "x = np.concatenate((cluster_1.T[0], cluster_2.T[0], cluster_3.T[0], cluster_4.T[0]), axis=0)\n",
    "y = np.concatenate((cluster_1.T[1], cluster_2.T[1], cluster_3.T[1], cluster_4.T[1]), axis=0)"
   ]
  },
  {
   "cell_type": "code",
   "execution_count": 9,
   "id": "db9fc564",
   "metadata": {},
   "outputs": [
    {
     "name": "stdout",
     "output_type": "stream",
     "text": [
      "              f1         f2    Y\n",
      "0      11.373462  15.433401  0.0\n",
      "1       9.349892   8.742516  0.0\n",
      "2      10.379918  12.066540  0.0\n",
      "3      10.060272  15.713884  0.0\n",
      "4      11.306971  21.509264  0.0\n",
      "...          ...        ...  ...\n",
      "19995  -9.327633 -10.635272  3.0\n",
      "19996  -9.658135 -12.078286  3.0\n",
      "19997  -9.991897  -5.308991  3.0\n",
      "19998  -9.725534   3.714995  3.0\n",
      "19999  -8.106150  -6.803133  3.0\n",
      "\n",
      "[20000 rows x 3 columns]\n"
     ]
    }
   ],
   "source": [
    "data = {\n",
    "    \"f1\": x,\n",
    "    \"f2\": y,\n",
    "    \"Y\": labels\n",
    "}\n",
    "\n",
    "df = pd.DataFrame(data)\n",
    "print(df)"
   ]
  },
  {
   "cell_type": "code",
   "execution_count": 10,
   "id": "535220ff",
   "metadata": {},
   "outputs": [],
   "source": [
    "fig = px.scatter(x=x, y=y, color=labels)\n",
    "fig.show(renderer=\"browser\")"
   ]
  },
  {
   "cell_type": "code",
   "execution_count": 11,
   "id": "cb3a1e34",
   "metadata": {},
   "outputs": [],
   "source": [
    "df_X, df_Y = df.drop('Y', axis=1), df[['Y']]"
   ]
  },
  {
   "cell_type": "code",
   "execution_count": 12,
   "id": "07c6bc7f",
   "metadata": {},
   "outputs": [],
   "source": [
    "X = df_X.to_numpy()\n",
    "y = df_Y.to_numpy()"
   ]
  },
  {
   "cell_type": "code",
   "execution_count": 13,
   "id": "ab010bf7",
   "metadata": {},
   "outputs": [],
   "source": [
    "y = tf.keras.utils.to_categorical(y.flatten(), num_classes=4)"
   ]
  },
  {
   "cell_type": "code",
   "execution_count": 14,
   "id": "77c15680",
   "metadata": {},
   "outputs": [
    {
     "name": "stdout",
     "output_type": "stream",
     "text": [
      "X Shape: (20000, 2)\n",
      "a Shape: (20000, 4)\n"
     ]
    }
   ],
   "source": [
    "print(\"X Shape:\", X.shape)\n",
    "print(\"a Shape:\", y.shape)"
   ]
  },
  {
   "cell_type": "markdown",
   "id": "ec2dd588",
   "metadata": {},
   "source": [
    "#### Gaussian Classification - Keras"
   ]
  },
  {
   "cell_type": "code",
   "execution_count": 15,
   "id": "205edd25",
   "metadata": {},
   "outputs": [],
   "source": [
    "def keras_classifier():\n",
    "    model = tf.keras.Sequential() \n",
    "    \n",
    "    model.add(tf.keras.Input(shape=(2,)))\n",
    "    \n",
    "    model.add(tf.keras.layers.Dense(64))\n",
    "    model.add(tf.keras.layers.Dense(32))\n",
    "    model.add(tf.keras.layers.Dense(16))\n",
    "    model.add(tf.keras.layers.Dense(4, activation='softmax')) # Output layer\n",
    "    \n",
    "    opt = tf.keras.optimizers.Adam(learning_rate = 0.001)\n",
    "    model.compile(loss=\"categorical_crossentropy\", optimizer=opt)\n",
    "    \n",
    "    return model"
   ]
  },
  {
   "cell_type": "code",
   "execution_count": 16,
   "id": "e749b798",
   "metadata": {},
   "outputs": [
    {
     "name": "stdout",
     "output_type": "stream",
     "text": [
      "Model: \"sequential\"\n",
      "_________________________________________________________________\n",
      " Layer (type)                Output Shape              Param #   \n",
      "=================================================================\n",
      " dense (Dense)               (None, 64)                192       \n",
      "                                                                 \n",
      " dense_1 (Dense)             (None, 32)                2080      \n",
      "                                                                 \n",
      " dense_2 (Dense)             (None, 16)                528       \n",
      "                                                                 \n",
      " dense_3 (Dense)             (None, 4)                 68        \n",
      "                                                                 \n",
      "=================================================================\n",
      "Total params: 2,868\n",
      "Trainable params: 2,868\n",
      "Non-trainable params: 0\n",
      "_________________________________________________________________\n"
     ]
    },
    {
     "name": "stderr",
     "output_type": "stream",
     "text": [
      "2023-08-13 21:34:17.338562: I tensorflow/core/platform/cpu_feature_guard.cc:193] This TensorFlow binary is optimized with oneAPI Deep Neural Network Library (oneDNN) to use the following CPU instructions in performance-critical operations:  SSE4.1 SSE4.2\n",
      "To enable them in other operations, rebuild TensorFlow with the appropriate compiler flags.\n"
     ]
    }
   ],
   "source": [
    "keras_model = keras_classifier()\n",
    "keras_model.summary()"
   ]
  },
  {
   "cell_type": "code",
   "execution_count": 17,
   "id": "985aae3c",
   "metadata": {},
   "outputs": [
    {
     "name": "stdout",
     "output_type": "stream",
     "text": [
      "Epoch 1/100\n",
      "1250/1250 [==============================] - 1s 555us/step - loss: 0.1224\n",
      "Epoch 2/100\n",
      "1250/1250 [==============================] - 1s 529us/step - loss: 0.0944\n",
      "Epoch 3/100\n",
      "1250/1250 [==============================] - 1s 518us/step - loss: 0.0927\n",
      "Epoch 4/100\n",
      "1250/1250 [==============================] - 1s 518us/step - loss: 0.0914\n",
      "Epoch 5/100\n",
      "1250/1250 [==============================] - 1s 550us/step - loss: 0.0909\n",
      "Epoch 6/100\n",
      "1250/1250 [==============================] - 1s 532us/step - loss: 0.0907\n",
      "Epoch 7/100\n",
      "1250/1250 [==============================] - 1s 534us/step - loss: 0.0892\n",
      "Epoch 8/100\n",
      "1250/1250 [==============================] - 1s 534us/step - loss: 0.0908\n",
      "Epoch 9/100\n",
      "1250/1250 [==============================] - 1s 528us/step - loss: 0.0894\n",
      "Epoch 10/100\n",
      "1250/1250 [==============================] - 1s 526us/step - loss: 0.0896\n",
      "Epoch 11/100\n",
      "1250/1250 [==============================] - 1s 533us/step - loss: 0.0898\n",
      "Epoch 12/100\n",
      "1250/1250 [==============================] - 1s 537us/step - loss: 0.0886\n",
      "Epoch 13/100\n",
      "1250/1250 [==============================] - 1s 550us/step - loss: 0.0886\n",
      "Epoch 14/100\n",
      "1250/1250 [==============================] - 1s 534us/step - loss: 0.0885\n",
      "Epoch 15/100\n",
      "1250/1250 [==============================] - 1s 529us/step - loss: 0.0889\n",
      "Epoch 16/100\n",
      "1250/1250 [==============================] - 1s 527us/step - loss: 0.0889\n",
      "Epoch 17/100\n",
      "1250/1250 [==============================] - 1s 522us/step - loss: 0.0883\n",
      "Epoch 18/100\n",
      "1250/1250 [==============================] - 1s 525us/step - loss: 0.0889\n",
      "Epoch 19/100\n",
      "1250/1250 [==============================] - 1s 549us/step - loss: 0.0885\n",
      "Epoch 20/100\n",
      "1250/1250 [==============================] - 1s 581us/step - loss: 0.0884\n",
      "Epoch 21/100\n",
      "1250/1250 [==============================] - 1s 553us/step - loss: 0.0887\n",
      "Epoch 22/100\n",
      "1250/1250 [==============================] - 1s 532us/step - loss: 0.0892\n",
      "Epoch 23/100\n",
      "1250/1250 [==============================] - 1s 527us/step - loss: 0.0881\n",
      "Epoch 24/100\n",
      "1250/1250 [==============================] - 1s 528us/step - loss: 0.0882\n",
      "Epoch 25/100\n",
      "1250/1250 [==============================] - 1s 529us/step - loss: 0.0885\n",
      "Epoch 26/100\n",
      "1250/1250 [==============================] - 1s 529us/step - loss: 0.0883\n",
      "Epoch 27/100\n",
      "1250/1250 [==============================] - 1s 531us/step - loss: 0.0881\n",
      "Epoch 28/100\n",
      "1250/1250 [==============================] - 1s 533us/step - loss: 0.0882\n",
      "Epoch 29/100\n",
      "1250/1250 [==============================] - 1s 539us/step - loss: 0.0885\n",
      "Epoch 30/100\n",
      "1250/1250 [==============================] - 1s 557us/step - loss: 0.0882\n",
      "Epoch 31/100\n",
      "1250/1250 [==============================] - 1s 546us/step - loss: 0.0882\n",
      "Epoch 32/100\n",
      "1250/1250 [==============================] - 1s 539us/step - loss: 0.0882\n",
      "Epoch 33/100\n",
      "1250/1250 [==============================] - 1s 533us/step - loss: 0.0877\n",
      "Epoch 34/100\n",
      "1250/1250 [==============================] - 1s 534us/step - loss: 0.0884\n",
      "Epoch 35/100\n",
      "1250/1250 [==============================] - 1s 537us/step - loss: 0.0880\n",
      "Epoch 36/100\n",
      "1250/1250 [==============================] - 1s 535us/step - loss: 0.0881\n",
      "Epoch 37/100\n",
      "1250/1250 [==============================] - 1s 540us/step - loss: 0.0879\n",
      "Epoch 38/100\n",
      "1250/1250 [==============================] - 1s 552us/step - loss: 0.0880\n",
      "Epoch 39/100\n",
      "1250/1250 [==============================] - 1s 616us/step - loss: 0.0876\n",
      "Epoch 40/100\n",
      "1250/1250 [==============================] - 1s 533us/step - loss: 0.0874\n",
      "Epoch 41/100\n",
      "1250/1250 [==============================] - 1s 533us/step - loss: 0.0877\n",
      "Epoch 42/100\n",
      "1250/1250 [==============================] - 1s 562us/step - loss: 0.0880\n",
      "Epoch 43/100\n",
      "1250/1250 [==============================] - 1s 562us/step - loss: 0.0878\n",
      "Epoch 44/100\n",
      "1250/1250 [==============================] - 1s 606us/step - loss: 0.0879\n",
      "Epoch 45/100\n",
      "1250/1250 [==============================] - 1s 547us/step - loss: 0.0878\n",
      "Epoch 46/100\n",
      "1250/1250 [==============================] - 1s 542us/step - loss: 0.0880\n",
      "Epoch 47/100\n",
      "1250/1250 [==============================] - 1s 537us/step - loss: 0.0878\n",
      "Epoch 48/100\n",
      "1250/1250 [==============================] - 1s 534us/step - loss: 0.0876\n",
      "Epoch 49/100\n",
      "1250/1250 [==============================] - 1s 535us/step - loss: 0.0879\n",
      "Epoch 50/100\n",
      "1250/1250 [==============================] - 1s 534us/step - loss: 0.0878\n",
      "Epoch 51/100\n",
      "1250/1250 [==============================] - 1s 540us/step - loss: 0.0881\n",
      "Epoch 52/100\n",
      "1250/1250 [==============================] - 1s 534us/step - loss: 0.0878\n",
      "Epoch 53/100\n",
      "1250/1250 [==============================] - 1s 538us/step - loss: 0.0884\n",
      "Epoch 54/100\n",
      "1250/1250 [==============================] - 1s 531us/step - loss: 0.0878\n",
      "Epoch 55/100\n",
      "1250/1250 [==============================] - 1s 532us/step - loss: 0.0875\n",
      "Epoch 56/100\n",
      "1250/1250 [==============================] - 1s 532us/step - loss: 0.0874\n",
      "Epoch 57/100\n",
      "1250/1250 [==============================] - 1s 544us/step - loss: 0.0877\n",
      "Epoch 58/100\n",
      "1250/1250 [==============================] - 1s 539us/step - loss: 0.0877\n",
      "Epoch 59/100\n",
      "1250/1250 [==============================] - 1s 563us/step - loss: 0.0875\n",
      "Epoch 60/100\n",
      "1250/1250 [==============================] - 1s 540us/step - loss: 0.0879\n",
      "Epoch 61/100\n",
      "1250/1250 [==============================] - 1s 553us/step - loss: 0.0879\n",
      "Epoch 62/100\n",
      "1250/1250 [==============================] - 1s 537us/step - loss: 0.0878\n",
      "Epoch 63/100\n",
      "1250/1250 [==============================] - 1s 556us/step - loss: 0.0878\n",
      "Epoch 64/100\n",
      "1250/1250 [==============================] - 1s 539us/step - loss: 0.0878\n",
      "Epoch 65/100\n",
      "1250/1250 [==============================] - 1s 535us/step - loss: 0.0879\n",
      "Epoch 66/100\n",
      "1250/1250 [==============================] - 1s 666us/step - loss: 0.0875\n",
      "Epoch 67/100\n",
      "1250/1250 [==============================] - 1s 687us/step - loss: 0.0878\n",
      "Epoch 68/100\n",
      "1250/1250 [==============================] - 1s 552us/step - loss: 0.0878\n",
      "Epoch 69/100\n",
      "1250/1250 [==============================] - 1s 574us/step - loss: 0.0876\n",
      "Epoch 70/100\n",
      "1250/1250 [==============================] - 1s 554us/step - loss: 0.0876\n",
      "Epoch 71/100\n",
      "1250/1250 [==============================] - 1s 555us/step - loss: 0.0874\n",
      "Epoch 72/100\n",
      "1250/1250 [==============================] - 1s 547us/step - loss: 0.0877\n",
      "Epoch 73/100\n",
      "1250/1250 [==============================] - 1s 535us/step - loss: 0.0877\n",
      "Epoch 74/100\n",
      "1250/1250 [==============================] - 1s 541us/step - loss: 0.0874\n",
      "Epoch 75/100\n",
      "1250/1250 [==============================] - 1s 533us/step - loss: 0.0878\n",
      "Epoch 76/100\n",
      "1250/1250 [==============================] - 1s 539us/step - loss: 0.0873\n",
      "Epoch 77/100\n",
      "1250/1250 [==============================] - 1s 536us/step - loss: 0.0873\n",
      "Epoch 78/100\n",
      "1250/1250 [==============================] - 1s 534us/step - loss: 0.0877\n",
      "Epoch 79/100\n",
      "1250/1250 [==============================] - 1s 535us/step - loss: 0.0878\n",
      "Epoch 80/100\n",
      "1250/1250 [==============================] - 1s 575us/step - loss: 0.0879\n",
      "Epoch 81/100\n",
      "1250/1250 [==============================] - 1s 535us/step - loss: 0.0877\n",
      "Epoch 82/100\n",
      "1250/1250 [==============================] - 1s 551us/step - loss: 0.0873\n",
      "Epoch 83/100\n",
      "1250/1250 [==============================] - 1s 542us/step - loss: 0.0876\n",
      "Epoch 84/100\n",
      "1250/1250 [==============================] - 1s 552us/step - loss: 0.0879\n",
      "Epoch 85/100\n",
      "1250/1250 [==============================] - 1s 535us/step - loss: 0.0877\n",
      "Epoch 86/100\n",
      "1250/1250 [==============================] - 1s 560us/step - loss: 0.0878\n",
      "Epoch 87/100\n",
      "1250/1250 [==============================] - 1s 537us/step - loss: 0.0878\n",
      "Epoch 88/100\n",
      "1250/1250 [==============================] - 1s 537us/step - loss: 0.0878\n",
      "Epoch 89/100\n",
      "1250/1250 [==============================] - 1s 543us/step - loss: 0.0876\n",
      "Epoch 90/100\n",
      "1250/1250 [==============================] - 1s 576us/step - loss: 0.0876\n",
      "Epoch 91/100\n",
      "1250/1250 [==============================] - 1s 555us/step - loss: 0.0875\n",
      "Epoch 92/100\n",
      "1250/1250 [==============================] - 1s 539us/step - loss: 0.0875\n",
      "Epoch 93/100\n",
      "1250/1250 [==============================] - 1s 535us/step - loss: 0.0875\n",
      "Epoch 94/100\n",
      "1250/1250 [==============================] - 1s 536us/step - loss: 0.0874\n",
      "Epoch 95/100\n"
     ]
    },
    {
     "name": "stdout",
     "output_type": "stream",
     "text": [
      "1250/1250 [==============================] - 1s 534us/step - loss: 0.0876\n",
      "Epoch 96/100\n",
      "1250/1250 [==============================] - 1s 539us/step - loss: 0.0874\n",
      "Epoch 97/100\n",
      "1250/1250 [==============================] - 1s 535us/step - loss: 0.0877\n",
      "Epoch 98/100\n",
      "1250/1250 [==============================] - 1s 534us/step - loss: 0.0875\n",
      "Epoch 99/100\n",
      "1250/1250 [==============================] - 1s 538us/step - loss: 0.0878\n",
      "Epoch 100/100\n",
      "1250/1250 [==============================] - 1s 539us/step - loss: 0.0876\n",
      "\n",
      "Execution time (s): 69.31340527534485\n"
     ]
    }
   ],
   "source": [
    "start = time.time()\n",
    "\n",
    "history = keras_model.fit(\n",
    "    x=X,\n",
    "    y=y,\n",
    "    batch_size=16,\n",
    "    epochs=100,\n",
    "    verbose=\"auto\",\n",
    "#     callbacks=None,\n",
    "#     validation_split=0.0,\n",
    "#     validation_data=None,\n",
    "#     shuffle=True,\n",
    "#     class_weight=None,\n",
    "#     sample_weight=None,\n",
    "#     initial_epoch=0,\n",
    "#     steps_per_epoch=None,\n",
    "#     validation_steps=None,\n",
    "#     validation_batch_size=None,\n",
    "#     validation_freq=1,\n",
    "#     max_queue_size=10,\n",
    "#     workers=1,\n",
    "#     use_multiprocessing=False,\n",
    ")\n",
    "\n",
    "end = time.time()\n",
    "\n",
    "print()\n",
    "print(\"Execution time (s):\", end - start);\n",
    "\n"
   ]
  },
  {
   "cell_type": "code",
   "execution_count": 18,
   "id": "6289560a",
   "metadata": {},
   "outputs": [
    {
     "name": "stdout",
     "output_type": "stream",
     "text": [
      "dict_keys(['loss'])\n"
     ]
    },
    {
     "data": {
      "image/png": "[encoded data removed]",
      "text/plain": [
       "<Figure size 640x480 with 1 Axes>"
      ]
     },
     "metadata": {},
     "output_type": "display_data"
    }
   ],
   "source": [
    "print(history.history.keys())\n",
    "plt.plot(history.history['loss'])\n",
    "plt.title('model loss')\n",
    "plt.ylabel('loss')\n",
    "plt.xlabel('epoch')\n",
    "plt.legend(['train'], loc='upper left')\n",
    "plt.show()"
   ]
  },
  {
   "cell_type": "code",
   "execution_count": 19,
   "id": "95d79754",
   "metadata": {},
   "outputs": [
    {
     "name": "stdout",
     "output_type": "stream",
     "text": [
      "625/625 [==============================] - 0s 384us/step\n",
      "[[1. 0. 0. 0.]\n",
      " [1. 0. 0. 0.]\n",
      " [1. 0. 0. 0.]\n",
      " ...\n",
      " [0. 0. 0. 1.]\n",
      " [0. 1. 0. 0.]\n",
      " [0. 0. 0. 1.]]\n"
     ]
    }
   ],
   "source": [
    "predictions = keras_model.predict(X)\n",
    "b = np.zeros_like(predictions)\n",
    "b[np.arange(len(predictions)), predictions.argmax(1)] = 1\n",
    "print(b)"
   ]
  },
  {
   "cell_type": "markdown",
   "id": "451d8651",
   "metadata": {},
   "source": [
    "#### Gaussian Classification - Custom Dense Layers"
   ]
  },
  {
   "cell_type": "code",
   "execution_count": null,
   "id": "d13e221a",
   "metadata": {},
   "outputs": [],
   "source": []
  },
  {
   "cell_type": "code",
   "execution_count": null,
   "id": "8d854bd8",
   "metadata": {},
   "outputs": [],
   "source": []
  },
  {
   "cell_type": "code",
   "execution_count": null,
   "id": "eecaab6d",
   "metadata": {},
   "outputs": [],
   "source": []
  },
  {
   "cell_type": "code",
   "execution_count": null,
   "id": "c047dc8a",
   "metadata": {},
   "outputs": [],
   "source": []
  },
  {
   "cell_type": "code",
   "execution_count": null,
   "id": "221e5159",
   "metadata": {},
   "outputs": [],
   "source": []
  },
  {
   "cell_type": "code",
   "execution_count": null,
   "id": "5750a161",
   "metadata": {},
   "outputs": [],
   "source": []
  },
  {
   "cell_type": "code",
   "execution_count": null,
   "id": "8f9b0ed5",
   "metadata": {},
   "outputs": [],
   "source": []
  },
  {
   "cell_type": "code",
   "execution_count": null,
   "id": "3d0e3be3",
   "metadata": {},
   "outputs": [],
   "source": []
  },
  {
   "cell_type": "code",
   "execution_count": null,
   "id": "ccd91504",
   "metadata": {},
   "outputs": [],
   "source": []
  },
  {
   "cell_type": "code",
   "execution_count": null,
   "id": "ff61c736",
   "metadata": {},
   "outputs": [],
   "source": []
  },
  {
   "cell_type": "code",
   "execution_count": null,
   "id": "34f6327d",
   "metadata": {},
   "outputs": [],
   "source": []
  },
  {
   "cell_type": "code",
   "execution_count": null,
   "id": "5c34e6a1",
   "metadata": {},
   "outputs": [],
   "source": []
  }
 ],
 "metadata": {
  "kernelspec": {
   "display_name": "Python 3 (ipykernel)",
   "language": "python",
   "name": "python3"
  },
  "language_info": {
   "codemirror_mode": {
    "name": "ipython",
    "version": 3
   },
   "file_extension": ".py",
   "mimetype": "text/x-python",
   "name": "python",
   "nbconvert_exporter": "python",
   "pygments_lexer": "ipython3",
   "version": "3.10.9"
  }
 },
 "nbformat": 4,
 "nbformat_minor": 5
}
