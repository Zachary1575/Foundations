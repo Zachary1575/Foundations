{
 "cells": [
  {
   "cell_type": "markdown",
   "id": "55718ba3",
   "metadata": {},
   "source": [
    "# The XOR Problem."
   ]
  },
  {
   "cell_type": "markdown",
   "id": "bf9d79a6",
   "metadata": {},
   "source": [
    "The XOR problem comes from the issue that its hard to use one line or decision boundary to properly divide an XOR gate. Naturally, this means that the XOR gate is not **Linearly Seperable**. For example, take a notice of the graph below:"
   ]
  },
  {
   "attachments": {},
   "cell_type": "markdown",
   "id": "0002216a",
   "metadata": {},
   "source": [
    "<p align=\"center\">\n",
    "  <img src=\"https://miro.medium.com/v2/resize:fit:1400/1*Tc8UgR_fjI_h0p3y4H9MwA.png\" alt=\"XOR Problem Image\"/>\n",
    "</p>\n",
    "\n",
    "\n"
   ]
  },
  {
   "cell_type": "markdown",
   "id": "562f0407",
   "metadata": {},
   "source": [
    "Notice how we need two lines to properly seperate an XOR Gate and classify it correctly."
   ]
  },
  {
   "cell_type": "markdown",
   "id": "94491443",
   "metadata": {},
   "source": [
    "# Starting from Stratch: AND GATE"
   ]
  },
  {
   "cell_type": "markdown",
   "id": "fc1ddc2a",
   "metadata": {},
   "source": [
    "We are assuming T = 0 and that for a activation function with such a threshhold constant we see that:\n",
    "$$activation \\: function \\:(\\hat{y}) = \\begin{cases}\n",
    "  1 & \\text{Weighted sum of $w$ and $x$ is > $0$} \\\\\n",
    "  0 & \\text{otherwise}\n",
    "\\end{cases}$$\n",
    "\n",
    "Also note that we will be only looking at 2 inputs of \"x\" for our linear perceptron denoted as $x_1$ and $x_2$.\n",
    "\n",
    "Weights will also be contained as $w_0$ (bias), $w_1$, and $w_2$."
   ]
  },
  {
   "cell_type": "code",
   "execution_count": null,
   "id": "a2fe6d23",
   "metadata": {},
   "outputs": [],
   "source": []
  },
  {
   "cell_type": "code",
   "execution_count": null,
   "id": "725fedd3",
   "metadata": {},
   "outputs": [],
   "source": []
  },
  {
   "cell_type": "code",
   "execution_count": null,
   "id": "a62487ee",
   "metadata": {},
   "outputs": [],
   "source": []
  },
  {
   "cell_type": "code",
   "execution_count": null,
   "id": "98232f1f",
   "metadata": {},
   "outputs": [],
   "source": []
  },
  {
   "cell_type": "code",
   "execution_count": null,
   "id": "c0cc91d8",
   "metadata": {},
   "outputs": [],
   "source": []
  },
  {
   "cell_type": "code",
   "execution_count": null,
   "id": "cda832b9",
   "metadata": {},
   "outputs": [],
   "source": []
  }
 ],
 "metadata": {
  "kernelspec": {
   "display_name": "Python 3 (ipykernel)",
   "language": "python",
   "name": "python3"
  },
  "language_info": {
   "codemirror_mode": {
    "name": "ipython",
    "version": 3
   },
   "file_extension": ".py",
   "mimetype": "text/x-python",
   "name": "python",
   "nbconvert_exporter": "python",
   "pygments_lexer": "ipython3",
   "version": "3.10.9"
  }
 },
 "nbformat": 4,
 "nbformat_minor": 5
}
