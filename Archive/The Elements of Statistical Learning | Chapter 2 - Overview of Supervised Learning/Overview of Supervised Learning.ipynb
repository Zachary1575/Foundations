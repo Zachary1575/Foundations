{
 "cells": [
  {
   "cell_type": "code",
   "execution_count": 14,
   "id": "f2b433f9",
   "metadata": {},
   "outputs": [],
   "source": [
    "import pandas as pd\n",
    "import numpy as np"
   ]
  },
  {
   "cell_type": "markdown",
   "id": "917de1d8",
   "metadata": {},
   "source": [
    "## 2.3 Two Simple Approaches to Prediction: Least Squares and Nearest Neighbors"
   ]
  },
  {
   "cell_type": "markdown",
   "id": "8d628dfc",
   "metadata": {},
   "source": [
    "Notation Assumptions:\n",
    ">If X is a vector, its components are accessed by subscripts of $X_j$.\n",
    "\n",
    "> All vectors are assumed to be column vectors, the $ith$ row of $\\textbf{X}$ is $x_{i}^T$, the vector transpose of $x_i$."
   ]
  },
  {
   "cell_type": "markdown",
   "id": "fc0d40fa",
   "metadata": {},
   "source": [
    "The linear model has been a mainstay for about 30 years or more and remains of the most important tools amongst Machine Learning."
   ]
  },
  {
   "cell_type": "markdown",
   "id": "709c5576",
   "metadata": {},
   "source": [
    "Given a vector of inputs denoted as:\n",
    "$$\n",
    "X^T = (X_1, X_2, ..., X_{p})\n",
    "$$\n",
    "\n",
    "Where $X^T$ denotes vector or matrix transpose (X being a column vector).\n",
    "\n",
    "For example, if we had X as a column vector\n",
    "$$\n",
    "X = \n",
    "\\begin{bmatrix}\n",
    "1 \\\\\n",
    "2 \\\\\n",
    "3\n",
    "\\end{bmatrix}\n",
    "$$\n",
    "\n",
    "Then transposing it turns it into:\n",
    "\n",
    "$$\n",
    "X^T = \n",
    "\\begin{bmatrix}\n",
    "1 & 2 & 3\n",
    "\\end{bmatrix}\n",
    "$$\n",
    "\n",
    "We want to predict the output $Y$ via the model:\n",
    "\n",
    "$$\n",
    "\\hat{Y} = \\hat{\\beta}_0 + \\sum_{j=1}^{p} X_j \\cdot \\hat{\\beta}_j\n",
    "$$\n",
    "\n",
    "Where, $p$ is the number of vectors. $\\hat{\\beta}_j$ are the coefficients that best predict $Y$ and $\\hat{\\beta}_0$ is the bias. \n",
    "\n",
    "However, a trick can be done if we include the bias in the vector of coefficients by adding a constant variable 1 in $X$, $\\hat{\\beta}$, and then write the linear model in vector form as an **inner product**.\n",
    "\n",
    "$$\n",
    "\\hat{Y} = X^T \\cdot \\hat{\\beta}\n",
    "$$\n",
    "\n",
    "We can decompose this through the inner product such that:\n",
    "$$\n",
    "\\hat{Y} = X^T \\cdot \\hat{\\beta}\n",
    "\\\\\n",
    "\\hat{Y} = (X_1, X_2, ..., X_{p}) \\cdot \\hat{\\beta}\n",
    "\\\\\n",
    "\\hat{Y} = (X_1, X_2, ..., X_{p}) \\cdot\n",
    "\\begin{bmatrix}\n",
    "\\hat{\\beta}_1 & \\dots & K_1\\\\\n",
    "\\vdots & \\ddots & \\vdots \\\\\n",
    "\\hat{\\beta}_p & \\dots & K_p\n",
    "\\end{bmatrix}\n",
    "\\\\\n",
    "\\hat{Y} = (X_1, X_2, ..., X_{p}) \\cdot\n",
    "\\begin{bmatrix}\n",
    "\\hat{\\beta}_1 \\\\\n",
    "\\vdots \\\\\n",
    "\\hat{\\beta}_p\n",
    "\\end{bmatrix} \\dots \n",
    "(X_1, X_2, ..., X_{p}) \\cdot\n",
    "\\begin{bmatrix}\n",
    "K_1 \\\\\n",
    "\\vdots \\\\\n",
    "K_p\n",
    "\\end{bmatrix} \n",
    "$$\n",
    "\n",
    "Interestingly, this is basically similar to linear algebra in solving for $Ax = b$."
   ]
  },
  {
   "cell_type": "markdown",
   "id": "4b4cefda",
   "metadata": {},
   "source": [
    "### Fitting Least Squares"
   ]
  },
  {
   "cell_type": "markdown",
   "id": "33added2",
   "metadata": {},
   "source": [
    "The Method of least squares calls for minimizing the residual sum of squares denoted by:\n",
    "\n",
    "$$\n",
    "RSS(\\beta) = \\sum_{i=1}^{N} (y_i - x^T_i \\beta)^2\n",
    "$$\n",
    "\n",
    "Since $RSS(\\beta)$ is a quadratic function of parameters, then a **minimum** always exists but **may not** be unique.\n",
    "\n",
    "We can also write:\n",
    "\n",
    "$$\n",
    "RSS(\\beta) = (\\textbf{y} - \\textbf{X}\\beta)^T (\\textbf{y} - \\textbf{X}\\beta)\n",
    "$$\n",
    "\n",
    "Where $\\textbf{X}$ is an $N \\times p$ matrix with each row an input vector and $y$ is an N-vector of the outputs in the training sets.\n",
    "\n",
    "For example:\n",
    "\n",
    "Given that: $\\textbf{X} - [2 \\times 3]$\n",
    "\n",
    "$$\n",
    "\\textbf{X} = \n",
    "\\begin{bmatrix}\n",
    "1 & 2 & 3\\\\\n",
    "4 & 5 & 6 \n",
    "\\end{bmatrix}\n",
    "$$\n",
    "\n",
    "Given that: $\\textbf{y} - [2 \\times 1]$\n",
    "\n",
    "$$\n",
    "\\textbf{y} =\n",
    "\\begin{bmatrix}\n",
    "24 \\\\\n",
    "6\n",
    "\\end{bmatrix}\n",
    "$$\n",
    "\n"
   ]
  },
  {
   "cell_type": "code",
   "execution_count": 16,
   "id": "24774706",
   "metadata": {},
   "outputs": [
    {
     "data": {
      "text/html": [
       "<div>\n",
       "<style scoped>\n",
       "    .dataframe tbody tr th:only-of-type {\n",
       "        vertical-align: middle;\n",
       "    }\n",
       "\n",
       "    .dataframe tbody tr th {\n",
       "        vertical-align: top;\n",
       "    }\n",
       "\n",
       "    .dataframe thead th {\n",
       "        text-align: right;\n",
       "    }\n",
       "</style>\n",
       "<table border=\"1\" class=\"dataframe\">\n",
       "  <thead>\n",
       "    <tr style=\"text-align: right;\">\n",
       "      <th></th>\n",
       "      <th>a</th>\n",
       "      <th>b</th>\n",
       "      <th>c</th>\n",
       "    </tr>\n",
       "  </thead>\n",
       "  <tbody>\n",
       "    <tr>\n",
       "      <th>0</th>\n",
       "      <td>1</td>\n",
       "      <td>2</td>\n",
       "      <td>3</td>\n",
       "    </tr>\n",
       "    <tr>\n",
       "      <th>1</th>\n",
       "      <td>4</td>\n",
       "      <td>5</td>\n",
       "      <td>6</td>\n",
       "    </tr>\n",
       "  </tbody>\n",
       "</table>\n",
       "</div>"
      ],
      "text/plain": [
       "   a  b  c\n",
       "0  1  2  3\n",
       "1  4  5  6"
      ]
     },
     "execution_count": 16,
     "metadata": {},
     "output_type": "execute_result"
    }
   ],
   "source": [
    "#### Suppose we have feature a, b, c with 2 samples in our training data.\n",
    "X = np.array(\n",
    "    [\n",
    "        [1, 2, 3],\n",
    "        [4, 5, 6]\n",
    "    ]\n",
    ");\n",
    "df_x = {\n",
    "    'a': [1, 4],\n",
    "    'b': [2, 5],\n",
    "    'c': [3, 6]\n",
    "}\n",
    "\n",
    "X_df = pd.DataFrame(df_x);\n",
    "X_df"
   ]
  },
  {
   "cell_type": "code",
   "execution_count": 30,
   "id": "f2f6543f",
   "metadata": {},
   "outputs": [
    {
     "data": {
      "text/html": [
       "<div>\n",
       "<style scoped>\n",
       "    .dataframe tbody tr th:only-of-type {\n",
       "        vertical-align: middle;\n",
       "    }\n",
       "\n",
       "    .dataframe tbody tr th {\n",
       "        vertical-align: top;\n",
       "    }\n",
       "\n",
       "    .dataframe thead th {\n",
       "        text-align: right;\n",
       "    }\n",
       "</style>\n",
       "<table border=\"1\" class=\"dataframe\">\n",
       "  <thead>\n",
       "    <tr style=\"text-align: right;\">\n",
       "      <th></th>\n",
       "      <th>y</th>\n",
       "    </tr>\n",
       "  </thead>\n",
       "  <tbody>\n",
       "    <tr>\n",
       "      <th>0</th>\n",
       "      <td>6</td>\n",
       "    </tr>\n",
       "    <tr>\n",
       "      <th>1</th>\n",
       "      <td>15</td>\n",
       "    </tr>\n",
       "  </tbody>\n",
       "</table>\n",
       "</div>"
      ],
      "text/plain": [
       "    y\n",
       "0   6\n",
       "1  15"
      ]
     },
     "execution_count": 30,
     "metadata": {},
     "output_type": "execute_result"
    }
   ],
   "source": [
    "#### Our Labels.\n",
    "y = np.array([[6], [15]])\n",
    "df_y = {\n",
    "    'y': [6, 15]\n",
    "}\n",
    "\n",
    "Y_df = pd.DataFrame(df_y);\n",
    "Y_df"
   ]
  },
  {
   "cell_type": "markdown",
   "id": "19975f7a",
   "metadata": {},
   "source": [
    "Suppose that our coefficients that we choose are:\n",
    "\n",
    "$$\n",
    "\\beta = \n",
    "\\begin{bmatrix}\n",
    "1 \\\\\n",
    "1 \\\\\n",
    "1\n",
    "\\end{bmatrix}\n",
    "$$\n",
    "\n",
    "Theoretically, we will have an $RSS(\\beta) = 0$ as specified by:\n",
    "\n",
    "$$\n",
    "RSS(\\beta) = (\\textbf{y} - \\textbf{X}\\beta)^T (\\textbf{y} - \\textbf{X}\\beta)\n",
    "$$"
   ]
  },
  {
   "cell_type": "code",
   "execution_count": 31,
   "id": "dacfd84b",
   "metadata": {},
   "outputs": [
    {
     "name": "stdout",
     "output_type": "stream",
     "text": [
      "X Shape: (2, 3)\n",
      "y Shape: (2, 1)\n",
      "beta Shape: (3, 1)\n",
      "[[ 6]\n",
      " [15]]\n",
      "[[0 0]]\n",
      "[[0]\n",
      " [0]]\n"
     ]
    }
   ],
   "source": [
    "beta = np.array([[1], [1], [1]]);\n",
    "\n",
    "print(\"X Shape:\", X.shape)\n",
    "print(\"y Shape:\", y.shape)\n",
    "print(\"beta Shape:\", beta.shape)\n",
    "\n",
    "\n",
    "def calculateRSS(X, y, beta):\n",
    "    \n",
    "    print(np.matmul(X, beta))\n",
    "    m1 = (y - np.matmul(X, beta)).T;\n",
    "    m2 = (y - np.matmul(X, beta));\n",
    "    \n",
    "    print(m1)\n",
    "    print(m2)\n",
    "    \n",
    "calculateRSS(X, y, beta)"
   ]
  },
  {
   "cell_type": "code",
   "execution_count": null,
   "id": "3fef63a3",
   "metadata": {},
   "outputs": [],
   "source": []
  },
  {
   "cell_type": "code",
   "execution_count": null,
   "id": "9b676b6c",
   "metadata": {},
   "outputs": [],
   "source": []
  }
 ],
 "metadata": {
  "kernelspec": {
   "display_name": "Python 3 (ipykernel)",
   "language": "python",
   "name": "python3"
  },
  "language_info": {
   "codemirror_mode": {
    "name": "ipython",
    "version": 3
   },
   "file_extension": ".py",
   "mimetype": "text/x-python",
   "name": "python",
   "nbconvert_exporter": "python",
   "pygments_lexer": "ipython3",
   "version": "3.10.9"
  }
 },
 "nbformat": 4,
 "nbformat_minor": 5
}
