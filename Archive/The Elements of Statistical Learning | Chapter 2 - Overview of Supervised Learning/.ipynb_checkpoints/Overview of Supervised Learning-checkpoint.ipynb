{
 "cells": [
  {
   "cell_type": "markdown",
   "id": "bcf1a914",
   "metadata": {},
   "source": [
    "## 2.3 Two Simple Approaches to Prediction: Least Squares and Nearest Neighbors"
   ]
  },
  {
   "cell_type": "markdown",
   "id": "78be539e",
   "metadata": {},
   "source": [
    "Notation Assumptions:\n",
    ">If X is a vector, its components are accessed by subscripts of $X_j$.\n",
    "\n",
    "> All vectors are assumed to be column vectors, the $ith$ row of $\\textbf{X}$ is $x_{i}^T$, the vector transpose of $x_i$."
   ]
  },
  {
   "cell_type": "markdown",
   "id": "29ec2663",
   "metadata": {},
   "source": [
    "The linear model has been a mainstay for about 30 years or more and remains of the most important tools amongst Machine Learning."
   ]
  },
  {
   "cell_type": "markdown",
   "id": "f5bd76a0",
   "metadata": {},
   "source": [
    "Given a vector of inputs denoted as:\n",
    "$$\n",
    "X^T = (X_1, X_2, ..., X_{p})\n",
    "$$\n",
    "\n",
    "Where $X^T$ denotes vector or matrix transpose (X being a column vector).\n",
    "\n",
    "For example, if we had X as a column vector\n",
    "$$\n",
    "X = \n",
    "\\begin{bmatrix}\n",
    "1 \\\\\n",
    "2 \\\\\n",
    "3\n",
    "\\end{bmatrix}\n",
    "$$\n",
    "\n",
    "Then transposing it turns it into:\n",
    "\n",
    "$$\n",
    "X^T = \n",
    "\\begin{bmatrix}\n",
    "1 & 2 & 3\n",
    "\\end{bmatrix}\n",
    "$$\n",
    "\n",
    "We want to predict the output $Y$ via the model:\n",
    "\n",
    "$$\n",
    "\\hat{Y} = \\hat{\\beta}_0 + \\sum_{j=1}^{p} X_j \\cdot \\hat{\\beta}_j\n",
    "$$\n",
    "\n",
    "Where, $p$ is the number of vectors. $\\hat{\\beta}_j$ are the coefficients that best predict $Y$ and $\\hat{\\beta}_0$ is the bias. \n",
    "\n",
    "However, a trick can be done if we include the bias in the vector of coefficients by adding a constant variable 1 in $X$, $\\hat{\\beta}$, and then write the linear model in vector form as an **inner product**.\n",
    "\n",
    "$$\n",
    "\\hat{Y} = X^T \\cdot \\hat{\\beta}\n",
    "$$\n",
    "\n",
    "We can decompose this through the inner product such that:\n",
    "$$\n",
    "\\hat{Y} = X^T \\cdot \\hat{\\beta}\n",
    "\\\\\n",
    "\\hat{Y} = (X_1, X_2, ..., X_{p}) \\cdot \\hat{\\beta}\n",
    "\\\\\n",
    "\\hat{Y} = (X_1, X_2, ..., X_{p}) \\cdot\n",
    "\\begin{bmatrix}\n",
    "\\hat{\\beta}_1 & \\dots & K_1\\\\\n",
    "\\vdots & \\ddots & \\vdots \\\\\n",
    "\\hat{\\beta}_p & \\dots & K_p\n",
    "\\end{bmatrix}\n",
    "\\\\\n",
    "\\hat{Y} = (X_1, X_2, ..., X_{p}) \\cdot\n",
    "\\begin{bmatrix}\n",
    "\\hat{\\beta}_1 \\\\\n",
    "\\vdots \\\\\n",
    "\\hat{\\beta}_p\n",
    "\\end{bmatrix} \\dots \n",
    "(X_1, X_2, ..., X_{p}) \\cdot\n",
    "\\begin{bmatrix}\n",
    "K_1 \\\\\n",
    "\\vdots \\\\\n",
    "K_p\n",
    "\\end{bmatrix} \n",
    "$$\n",
    "\n",
    "Interestingly, this is basically similar to linear algebra in solving for $Ax = b$."
   ]
  },
  {
   "cell_type": "code",
   "execution_count": null,
   "id": "988ff4b5",
   "metadata": {},
   "outputs": [],
   "source": []
  },
  {
   "cell_type": "code",
   "execution_count": null,
   "id": "29150934",
   "metadata": {},
   "outputs": [],
   "source": []
  },
  {
   "cell_type": "code",
   "execution_count": null,
   "id": "0ca98d47",
   "metadata": {},
   "outputs": [],
   "source": []
  },
  {
   "cell_type": "code",
   "execution_count": null,
   "id": "7b47e73a",
   "metadata": {},
   "outputs": [],
   "source": []
  },
  {
   "cell_type": "code",
   "execution_count": null,
   "id": "9f128dda",
   "metadata": {},
   "outputs": [],
   "source": []
  },
  {
   "cell_type": "code",
   "execution_count": null,
   "id": "d4801aed",
   "metadata": {},
   "outputs": [],
   "source": []
  },
  {
   "cell_type": "code",
   "execution_count": null,
   "id": "48a51854",
   "metadata": {},
   "outputs": [],
   "source": []
  },
  {
   "cell_type": "code",
   "execution_count": null,
   "id": "11951cc6",
   "metadata": {},
   "outputs": [],
   "source": []
  }
 ],
 "metadata": {
  "kernelspec": {
   "display_name": "Python 3 (ipykernel)",
   "language": "python",
   "name": "python3"
  },
  "language_info": {
   "codemirror_mode": {
    "name": "ipython",
    "version": 3
   },
   "file_extension": ".py",
   "mimetype": "text/x-python",
   "name": "python",
   "nbconvert_exporter": "python",
   "pygments_lexer": "ipython3",
   "version": "3.10.9"
  }
 },
 "nbformat": 4,
 "nbformat_minor": 5
}
